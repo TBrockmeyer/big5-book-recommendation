{
  "nbformat": 4,
  "nbformat_minor": 0,
  "metadata": {
    "colab": {
      "name": "vectorizing_57k_books.ipynb",
      "provenance": []
    },
    "kernelspec": {
      "name": "python3",
      "display_name": "Python 3"
    },
    "language_info": {
      "name": "python"
    }
  },
  "cells": [
    {
      "cell_type": "markdown",
      "metadata": {
        "id": "bG_AVoUEj9vA"
      },
      "source": [
        "Codelab notebook for vectorizing Joe Dobrow's Dataset [\"57,000 Books with Metadata and 'Blurbs'\"](https://www.kaggle.com/jdobrow/57000-books-with-metadata-and-blurbs)"
      ]
    },
    {
      "cell_type": "code",
      "metadata": {
        "id": "t75SLn4gj8Mt"
      },
      "source": [
        ""
      ],
      "execution_count": null,
      "outputs": []
    }
  ]
}