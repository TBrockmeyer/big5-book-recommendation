{
  "nbformat": 4,
  "nbformat_minor": 0,
  "metadata": {
    "kernelspec": {
      "display_name": "Python 3",
      "language": "python",
      "name": "python3"
    },
    "language_info": {
      "codemirror_mode": {
        "name": "ipython",
        "version": 3
      },
      "file_extension": ".py",
      "mimetype": "text/x-python",
      "name": "python",
      "nbconvert_exporter": "python",
      "pygments_lexer": "ipython3",
      "version": "3.6.8"
    },
    "colab": {
      "name": "CLU02-NB01.ipynb",
      "provenance": []
    }
  },
  "cells": [
    {
      "cell_type": "markdown",
      "metadata": {
        "id": "OcYxElYy505c"
      },
      "source": [
        "# Nearest Neighbors"
      ]
    },
    {
      "cell_type": "markdown",
      "metadata": {
        "id": "iZn96Rk9505d"
      },
      "source": [
        "When exploring a large set of documents -- such as Wikipedia, news articles, StackOverflow, etc. -- it can be useful to get a list of related material. To find relevant documents we typically\n",
        "* Decide on a notion of similarity\n",
        "* Find the documents that are most similar \n",
        "\n",
        "In this notebook we will\n",
        "* Gain intuition for different notions of similarity and practice finding similar documents. \n",
        "* Explore the tradeoffs with representing documents using raw word counts and TF-IDF\n",
        "* Explore the behavior of different distance metrics by looking at the book recommendations from Joe Dobrow's Dataset [\"57,000 Books with Metadata and 'Blurbs'\"](https://www.kaggle.com/jdobrow/57000-books-with-metadata-and-blurbs) and their complementarity to answers to a \"Big 5 personality traits survey\"."
      ]
    },
    {
      "cell_type": "markdown",
      "metadata": {
        "id": "e6S09D3e505d"
      },
      "source": [
        "**Note to Amazon EC2 users**: To conserve memory, make sure to stop all the other notebooks before running this notebook."
      ]
    },
    {
      "cell_type": "markdown",
      "metadata": {
        "id": "tGDLSjUU6_At"
      },
      "source": [
        "## Download & unzip necessary data"
      ]
    },
    {
      "cell_type": "code",
      "metadata": {
        "colab": {
          "base_uri": "https://localhost:8080/"
        },
        "id": "FVzE3Z_S6qX1",
        "outputId": "ec2ba56c-46b1-40eb-af5d-8906af6a47e1"
      },
      "source": [
        "!wget -O \"people_wiki.sframe.zip\" \"https://d3c33hcgiwev3.cloudfront.net/i5zBDt4bEemhxxJUtZcQoA_7fb43aab245846f09a8c48977883f0b6_people_wiki.sframe.zip?Expires=1617753600&Signature=KKuh1yZT5fslj~6ALSez4KJIhayspaGyJ5~vMXxYsjF28RasYbUw6Hq4aYqObnYQ8J4Hzl1oJ5TY9FO0NIZYMWbaZCkNpjL5DWT01V~ENHhISWSTthQaZGnP7xYANqsnS0X3a4pVOCKHSqo2hzH9cQL0EpRxwA~HUvUbMZDc5ws_&Key-Pair-Id=APKAJLTNE6QMUY6HBC5A\""
      ],
      "execution_count": 2,
      "outputs": [
        {
          "output_type": "stream",
          "text": [
            "--2021-04-05 21:23:41--  https://d3c33hcgiwev3.cloudfront.net/i5zBDt4bEemhxxJUtZcQoA_7fb43aab245846f09a8c48977883f0b6_people_wiki.sframe.zip?Expires=1617753600&Signature=KKuh1yZT5fslj~6ALSez4KJIhayspaGyJ5~vMXxYsjF28RasYbUw6Hq4aYqObnYQ8J4Hzl1oJ5TY9FO0NIZYMWbaZCkNpjL5DWT01V~ENHhISWSTthQaZGnP7xYANqsnS0X3a4pVOCKHSqo2hzH9cQL0EpRxwA~HUvUbMZDc5ws_&Key-Pair-Id=APKAJLTNE6QMUY6HBC5A\n",
            "Resolving d3c33hcgiwev3.cloudfront.net (d3c33hcgiwev3.cloudfront.net)... 13.32.80.109, 13.32.80.173, 13.32.80.218, ...\n",
            "Connecting to d3c33hcgiwev3.cloudfront.net (d3c33hcgiwev3.cloudfront.net)|13.32.80.109|:443... connected.\n",
            "HTTP request sent, awaiting response... 200 OK\n",
            "Length: 58971371 (56M) [application/zip]\n",
            "Saving to: ‘people_wiki.sframe.zip’\n",
            "\n",
            "people_wiki.sframe. 100%[===================>]  56.24M  34.6MB/s    in 1.6s    \n",
            "\n",
            "2021-04-05 21:23:43 (34.6 MB/s) - ‘people_wiki.sframe.zip’ saved [58971371/58971371]\n",
            "\n"
          ],
          "name": "stdout"
        }
      ]
    },
    {
      "cell_type": "code",
      "metadata": {
        "colab": {
          "base_uri": "https://localhost:8080/"
        },
        "id": "K-f7tCW38nbE",
        "outputId": "f1d97ec7-dab1-487c-96bf-065037e751a9"
      },
      "source": [
        "!wget -O \"archive.zip\" \"https://github.com/TBrockmeyer/big5-book-recommendation/raw/main/archive.zip\""
      ],
      "execution_count": 9,
      "outputs": [
        {
          "output_type": "stream",
          "text": [
            "--2021-04-05 21:35:00--  https://github.com/TBrockmeyer/big5-book-recommendation/raw/main/archive.zip\n",
            "Resolving github.com (github.com)... 140.82.114.4\n",
            "Connecting to github.com (github.com)|140.82.114.4|:443... connected.\n",
            "HTTP request sent, awaiting response... 302 Found\n",
            "Location: https://raw.githubusercontent.com/TBrockmeyer/big5-book-recommendation/main/archive.zip [following]\n",
            "--2021-04-05 21:35:00--  https://raw.githubusercontent.com/TBrockmeyer/big5-book-recommendation/main/archive.zip\n",
            "Resolving raw.githubusercontent.com (raw.githubusercontent.com)... 185.199.108.133, 185.199.109.133, 185.199.111.133, ...\n",
            "Connecting to raw.githubusercontent.com (raw.githubusercontent.com)|185.199.108.133|:443... connected.\n",
            "HTTP request sent, awaiting response... 200 OK\n",
            "Length: 19256426 (18M) [application/zip]\n",
            "Saving to: ‘archive.zip’\n",
            "\n",
            "archive.zip         100%[===================>]  18.36M  43.7MB/s    in 0.4s    \n",
            "\n",
            "2021-04-05 21:35:01 (43.7 MB/s) - ‘archive.zip’ saved [19256426/19256426]\n",
            "\n"
          ],
          "name": "stdout"
        }
      ]
    },
    {
      "cell_type": "code",
      "metadata": {
        "colab": {
          "base_uri": "https://localhost:8080/"
        },
        "id": "Pth5kfLD9eAT",
        "outputId": "857bff74-b166-443b-cea2-f1c30a4f8025"
      },
      "source": [
        "!ls"
      ],
      "execution_count": 10,
      "outputs": [
        {
          "output_type": "stream",
          "text": [
            "archive.zip  __MACOSX  people_wiki.sframe  people_wiki.sframe.zip  sample_data\n"
          ],
          "name": "stdout"
        }
      ]
    },
    {
      "cell_type": "code",
      "metadata": {
        "colab": {
          "base_uri": "https://localhost:8080/"
        },
        "id": "y5USsPEE7zA1",
        "outputId": "a5c6f8af-679a-4314-f480-84d7b779d01a"
      },
      "source": [
        "!unzip people_wiki.sframe.zip"
      ],
      "execution_count": 6,
      "outputs": [
        {
          "output_type": "stream",
          "text": [
            "Archive:  people_wiki.sframe.zip\n",
            "   creating: people_wiki.sframe/\n",
            "  inflating: people_wiki.sframe/m_cf05efad0f89a530.frame_idx  \n",
            "   creating: __MACOSX/\n",
            "   creating: __MACOSX/people_wiki.sframe/\n",
            "  inflating: __MACOSX/people_wiki.sframe/._m_cf05efad0f89a530.frame_idx  \n",
            "  inflating: people_wiki.sframe/m_cf05efad0f89a530.0000  \n",
            "  inflating: __MACOSX/people_wiki.sframe/._m_cf05efad0f89a530.0000  \n",
            "  inflating: people_wiki.sframe/dir_archive.ini  \n",
            "  inflating: __MACOSX/people_wiki.sframe/._dir_archive.ini  \n",
            "  inflating: people_wiki.sframe/m_cf05efad0f89a530.sidx  \n",
            "  inflating: __MACOSX/people_wiki.sframe/._m_cf05efad0f89a530.sidx  \n",
            " extracting: people_wiki.sframe/objects.bin  \n",
            "  inflating: __MACOSX/people_wiki.sframe/._objects.bin  \n",
            "  inflating: __MACOSX/._people_wiki.sframe  \n"
          ],
          "name": "stdout"
        }
      ]
    },
    {
      "cell_type": "code",
      "metadata": {
        "colab": {
          "base_uri": "https://localhost:8080/"
        },
        "id": "LvpFc7_h9h25",
        "outputId": "323cf40a-4fc8-497f-f228-fb5e8817f896"
      },
      "source": [
        "!unzip archive.zip"
      ],
      "execution_count": 11,
      "outputs": [
        {
          "output_type": "stream",
          "text": [
            "Archive:  archive.zip\n",
            "  inflating: books_with_blurbs.csv   \n"
          ],
          "name": "stdout"
        }
      ]
    },
    {
      "cell_type": "markdown",
      "metadata": {
        "id": "r2IGaWI26mH_"
      },
      "source": [
        "## Install required packages"
      ]
    },
    {
      "cell_type": "code",
      "metadata": {
        "colab": {
          "base_uri": "https://localhost:8080/"
        },
        "id": "XRXrkphE7GAa",
        "outputId": "9e75901f-3f52-4d7e-d945-ec1eb82ee816"
      },
      "source": [
        "!pip install -U turicreate"
      ],
      "execution_count": 3,
      "outputs": [
        {
          "output_type": "stream",
          "text": [
            "Collecting turicreate\n",
            "\u001b[?25l  Downloading https://files.pythonhosted.org/packages/25/9f/a76acc465d873d217f05eac4846bd73d640b9db6d6f4a3c29ad92650fbbe/turicreate-6.4.1-cp37-cp37m-manylinux1_x86_64.whl (92.0MB)\n",
            "\u001b[K     |████████████████████████████████| 92.0MB 102kB/s \n",
            "\u001b[?25hRequirement already satisfied, skipping upgrade: numpy in /usr/local/lib/python3.7/dist-packages (from turicreate) (1.19.5)\n",
            "Requirement already satisfied, skipping upgrade: scipy>=1.1.0 in /usr/local/lib/python3.7/dist-packages (from turicreate) (1.4.1)\n",
            "Collecting numba<0.51.0\n",
            "\u001b[?25l  Downloading https://files.pythonhosted.org/packages/04/be/8c88cee3366de2a3a23a9ff1a8be34e79ad1eb1ceb0d0e33aca83655ac3c/numba-0.50.1-cp37-cp37m-manylinux2014_x86_64.whl (3.6MB)\n",
            "\u001b[K     |████████████████████████████████| 3.6MB 44.3MB/s \n",
            "\u001b[?25hRequirement already satisfied, skipping upgrade: pandas>=0.23.2 in /usr/local/lib/python3.7/dist-packages (from turicreate) (1.1.5)\n",
            "Requirement already satisfied, skipping upgrade: decorator>=4.0.9 in /usr/local/lib/python3.7/dist-packages (from turicreate) (4.4.2)\n",
            "Collecting resampy==0.2.1\n",
            "\u001b[?25l  Downloading https://files.pythonhosted.org/packages/14/b6/66a06d85474190b50aee1a6c09cdc95bb405ac47338b27e9b21409da1760/resampy-0.2.1.tar.gz (322kB)\n",
            "\u001b[K     |████████████████████████████████| 327kB 51.7MB/s \n",
            "\u001b[?25hCollecting prettytable==0.7.2\n",
            "  Downloading https://files.pythonhosted.org/packages/ef/30/4b0746848746ed5941f052479e7c23d2b56d174b82f4fd34a25e389831f5/prettytable-0.7.2.tar.bz2\n",
            "Collecting tensorflow<2.1.0,>=2.0.0\n",
            "\u001b[?25l  Downloading https://files.pythonhosted.org/packages/3c/b3/3eeae9bc44039ceadceac0c7ba1cc8b1482b172810b3d7624a1cad251437/tensorflow-2.0.4-cp37-cp37m-manylinux2010_x86_64.whl (86.4MB)\n",
            "\u001b[K     |████████████████████████████████| 86.4MB 96kB/s \n",
            "\u001b[?25hCollecting coremltools==3.3\n",
            "\u001b[?25l  Downloading https://files.pythonhosted.org/packages/1b/1d/b1a99beca7355b6a026ae61fd8d3d36136e5b36f13e92ec5f81aceffc7f1/coremltools-3.3-cp37-none-manylinux1_x86_64.whl (3.5MB)\n",
            "\u001b[K     |████████████████████████████████| 3.5MB 41.3MB/s \n",
            "\u001b[?25hRequirement already satisfied, skipping upgrade: pillow>=5.2.0 in /usr/local/lib/python3.7/dist-packages (from turicreate) (7.1.2)\n",
            "Requirement already satisfied, skipping upgrade: six>=1.10.0 in /usr/local/lib/python3.7/dist-packages (from turicreate) (1.15.0)\n",
            "Requirement already satisfied, skipping upgrade: requests>=2.9.1 in /usr/local/lib/python3.7/dist-packages (from turicreate) (2.23.0)\n",
            "Collecting llvmlite<0.34,>=0.33.0.dev0\n",
            "\u001b[?25l  Downloading https://files.pythonhosted.org/packages/0a/28/0a35b3c2685bf2ea327cef5577bdf91f387f0f4594417a2a05a1d42fb7c2/llvmlite-0.33.0-cp37-cp37m-manylinux1_x86_64.whl (18.3MB)\n",
            "\u001b[K     |████████████████████████████████| 18.3MB 258kB/s \n",
            "\u001b[?25hRequirement already satisfied, skipping upgrade: setuptools in /usr/local/lib/python3.7/dist-packages (from numba<0.51.0->turicreate) (54.2.0)\n",
            "Requirement already satisfied, skipping upgrade: python-dateutil>=2.7.3 in /usr/local/lib/python3.7/dist-packages (from pandas>=0.23.2->turicreate) (2.8.1)\n",
            "Requirement already satisfied, skipping upgrade: pytz>=2017.2 in /usr/local/lib/python3.7/dist-packages (from pandas>=0.23.2->turicreate) (2018.9)\n",
            "Requirement already satisfied, skipping upgrade: google-pasta>=0.1.6 in /usr/local/lib/python3.7/dist-packages (from tensorflow<2.1.0,>=2.0.0->turicreate) (0.2.0)\n",
            "Collecting tensorflow-estimator<2.1.0,>=2.0.0\n",
            "\u001b[?25l  Downloading https://files.pythonhosted.org/packages/fc/08/8b927337b7019c374719145d1dceba21a8bb909b93b1ad6f8fb7d22c1ca1/tensorflow_estimator-2.0.1-py2.py3-none-any.whl (449kB)\n",
            "\u001b[K     |████████████████████████████████| 450kB 44.9MB/s \n",
            "\u001b[?25hRequirement already satisfied, skipping upgrade: wrapt>=1.11.1 in /usr/local/lib/python3.7/dist-packages (from tensorflow<2.1.0,>=2.0.0->turicreate) (1.12.1)\n",
            "Collecting gast==0.2.2\n",
            "  Downloading https://files.pythonhosted.org/packages/4e/35/11749bf99b2d4e3cceb4d55ca22590b0d7c2c62b9de38ac4a4a7f4687421/gast-0.2.2.tar.gz\n",
            "Requirement already satisfied, skipping upgrade: astor>=0.6.0 in /usr/local/lib/python3.7/dist-packages (from tensorflow<2.1.0,>=2.0.0->turicreate) (0.8.1)\n",
            "Requirement already satisfied, skipping upgrade: opt-einsum>=2.3.2 in /usr/local/lib/python3.7/dist-packages (from tensorflow<2.1.0,>=2.0.0->turicreate) (3.3.0)\n",
            "Requirement already satisfied, skipping upgrade: termcolor>=1.1.0 in /usr/local/lib/python3.7/dist-packages (from tensorflow<2.1.0,>=2.0.0->turicreate) (1.1.0)\n",
            "Requirement already satisfied, skipping upgrade: h5py<=2.10.0 in /usr/local/lib/python3.7/dist-packages (from tensorflow<2.1.0,>=2.0.0->turicreate) (2.10.0)\n",
            "Requirement already satisfied, skipping upgrade: keras-preprocessing>=1.0.5 in /usr/local/lib/python3.7/dist-packages (from tensorflow<2.1.0,>=2.0.0->turicreate) (1.1.2)\n",
            "Requirement already satisfied, skipping upgrade: wheel>=0.26; python_version >= \"3\" in /usr/local/lib/python3.7/dist-packages (from tensorflow<2.1.0,>=2.0.0->turicreate) (0.36.2)\n",
            "Requirement already satisfied, skipping upgrade: absl-py>=0.7.0 in /usr/local/lib/python3.7/dist-packages (from tensorflow<2.1.0,>=2.0.0->turicreate) (0.12.0)\n",
            "Requirement already satisfied, skipping upgrade: protobuf>=3.6.1 in /usr/local/lib/python3.7/dist-packages (from tensorflow<2.1.0,>=2.0.0->turicreate) (3.12.4)\n",
            "Requirement already satisfied, skipping upgrade: grpcio>=1.8.6 in /usr/local/lib/python3.7/dist-packages (from tensorflow<2.1.0,>=2.0.0->turicreate) (1.32.0)\n",
            "Collecting tensorboard<2.1.0,>=2.0.0\n",
            "\u001b[?25l  Downloading https://files.pythonhosted.org/packages/76/54/99b9d5d52d5cb732f099baaaf7740403e83fe6b0cedde940fabd2b13d75a/tensorboard-2.0.2-py3-none-any.whl (3.8MB)\n",
            "\u001b[K     |████████████████████████████████| 3.8MB 45.3MB/s \n",
            "\u001b[?25hCollecting keras-applications>=1.0.8\n",
            "\u001b[?25l  Downloading https://files.pythonhosted.org/packages/71/e3/19762fdfc62877ae9102edf6342d71b28fbfd9dea3d2f96a882ce099b03f/Keras_Applications-1.0.8-py3-none-any.whl (50kB)\n",
            "\u001b[K     |████████████████████████████████| 51kB 5.4MB/s \n",
            "\u001b[?25hRequirement already satisfied, skipping upgrade: urllib3!=1.25.0,!=1.25.1,<1.26,>=1.21.1 in /usr/local/lib/python3.7/dist-packages (from requests>=2.9.1->turicreate) (1.24.3)\n",
            "Requirement already satisfied, skipping upgrade: idna<3,>=2.5 in /usr/local/lib/python3.7/dist-packages (from requests>=2.9.1->turicreate) (2.10)\n",
            "Requirement already satisfied, skipping upgrade: chardet<4,>=3.0.2 in /usr/local/lib/python3.7/dist-packages (from requests>=2.9.1->turicreate) (3.0.4)\n",
            "Requirement already satisfied, skipping upgrade: certifi>=2017.4.17 in /usr/local/lib/python3.7/dist-packages (from requests>=2.9.1->turicreate) (2020.12.5)\n",
            "Requirement already satisfied, skipping upgrade: werkzeug>=0.11.15 in /usr/local/lib/python3.7/dist-packages (from tensorboard<2.1.0,>=2.0.0->tensorflow<2.1.0,>=2.0.0->turicreate) (1.0.1)\n",
            "Requirement already satisfied, skipping upgrade: google-auth<2,>=1.6.3 in /usr/local/lib/python3.7/dist-packages (from tensorboard<2.1.0,>=2.0.0->tensorflow<2.1.0,>=2.0.0->turicreate) (1.28.0)\n",
            "Requirement already satisfied, skipping upgrade: google-auth-oauthlib<0.5,>=0.4.1 in /usr/local/lib/python3.7/dist-packages (from tensorboard<2.1.0,>=2.0.0->tensorflow<2.1.0,>=2.0.0->turicreate) (0.4.3)\n",
            "Requirement already satisfied, skipping upgrade: markdown>=2.6.8 in /usr/local/lib/python3.7/dist-packages (from tensorboard<2.1.0,>=2.0.0->tensorflow<2.1.0,>=2.0.0->turicreate) (3.3.4)\n",
            "Requirement already satisfied, skipping upgrade: cachetools<5.0,>=2.0.0 in /usr/local/lib/python3.7/dist-packages (from google-auth<2,>=1.6.3->tensorboard<2.1.0,>=2.0.0->tensorflow<2.1.0,>=2.0.0->turicreate) (4.2.1)\n",
            "Requirement already satisfied, skipping upgrade: rsa<5,>=3.1.4; python_version >= \"3.6\" in /usr/local/lib/python3.7/dist-packages (from google-auth<2,>=1.6.3->tensorboard<2.1.0,>=2.0.0->tensorflow<2.1.0,>=2.0.0->turicreate) (4.7.2)\n",
            "Requirement already satisfied, skipping upgrade: pyasn1-modules>=0.2.1 in /usr/local/lib/python3.7/dist-packages (from google-auth<2,>=1.6.3->tensorboard<2.1.0,>=2.0.0->tensorflow<2.1.0,>=2.0.0->turicreate) (0.2.8)\n",
            "Requirement already satisfied, skipping upgrade: requests-oauthlib>=0.7.0 in /usr/local/lib/python3.7/dist-packages (from google-auth-oauthlib<0.5,>=0.4.1->tensorboard<2.1.0,>=2.0.0->tensorflow<2.1.0,>=2.0.0->turicreate) (1.3.0)\n",
            "Requirement already satisfied, skipping upgrade: importlib-metadata; python_version < \"3.8\" in /usr/local/lib/python3.7/dist-packages (from markdown>=2.6.8->tensorboard<2.1.0,>=2.0.0->tensorflow<2.1.0,>=2.0.0->turicreate) (3.8.1)\n",
            "Requirement already satisfied, skipping upgrade: pyasn1>=0.1.3 in /usr/local/lib/python3.7/dist-packages (from rsa<5,>=3.1.4; python_version >= \"3.6\"->google-auth<2,>=1.6.3->tensorboard<2.1.0,>=2.0.0->tensorflow<2.1.0,>=2.0.0->turicreate) (0.4.8)\n",
            "Requirement already satisfied, skipping upgrade: oauthlib>=3.0.0 in /usr/local/lib/python3.7/dist-packages (from requests-oauthlib>=0.7.0->google-auth-oauthlib<0.5,>=0.4.1->tensorboard<2.1.0,>=2.0.0->tensorflow<2.1.0,>=2.0.0->turicreate) (3.1.0)\n",
            "Requirement already satisfied, skipping upgrade: zipp>=0.5 in /usr/local/lib/python3.7/dist-packages (from importlib-metadata; python_version < \"3.8\"->markdown>=2.6.8->tensorboard<2.1.0,>=2.0.0->tensorflow<2.1.0,>=2.0.0->turicreate) (3.4.1)\n",
            "Requirement already satisfied, skipping upgrade: typing-extensions>=3.6.4; python_version < \"3.8\" in /usr/local/lib/python3.7/dist-packages (from importlib-metadata; python_version < \"3.8\"->markdown>=2.6.8->tensorboard<2.1.0,>=2.0.0->tensorflow<2.1.0,>=2.0.0->turicreate) (3.7.4.3)\n",
            "Building wheels for collected packages: resampy, prettytable, gast\n",
            "  Building wheel for resampy (setup.py) ... \u001b[?25l\u001b[?25hdone\n",
            "  Created wheel for resampy: filename=resampy-0.2.1-cp37-none-any.whl size=320845 sha256=5715a42352b925a8991e6061f016e6092dfcf7d29c5c1d355f8215c7f4737cf4\n",
            "  Stored in directory: /root/.cache/pip/wheels/ff/4f/ed/2e6c676c23efe5394bb40ade50662e90eb46e29b48324c5f9b\n",
            "  Building wheel for prettytable (setup.py) ... \u001b[?25l\u001b[?25hdone\n",
            "  Created wheel for prettytable: filename=prettytable-0.7.2-cp37-none-any.whl size=13700 sha256=6957637666579a32883f8b3ad763ebfb247410c74b2ed60fafe8b3c8fc75e557\n",
            "  Stored in directory: /root/.cache/pip/wheels/80/34/1c/3967380d9676d162cb59513bd9dc862d0584e045a162095606\n",
            "  Building wheel for gast (setup.py) ... \u001b[?25l\u001b[?25hdone\n",
            "  Created wheel for gast: filename=gast-0.2.2-cp37-none-any.whl size=7540 sha256=306ef254b2a68ef67dd41df24c7ecf71cef60c7ab59e81c0ba86d193f08a730e\n",
            "  Stored in directory: /root/.cache/pip/wheels/5c/2e/7e/a1d4d4fcebe6c381f378ce7743a3ced3699feb89bcfbdadadd\n",
            "Successfully built resampy prettytable gast\n",
            "\u001b[31mERROR: tensorflow 2.0.4 has requirement numpy<1.19.0,>=1.16.0, but you'll have numpy 1.19.5 which is incompatible.\u001b[0m\n",
            "\u001b[31mERROR: tensorflow-probability 0.12.1 has requirement gast>=0.3.2, but you'll have gast 0.2.2 which is incompatible.\u001b[0m\n",
            "\u001b[31mERROR: librosa 0.8.0 has requirement resampy>=0.2.2, but you'll have resampy 0.2.1 which is incompatible.\u001b[0m\n",
            "Installing collected packages: llvmlite, numba, resampy, prettytable, tensorflow-estimator, gast, tensorboard, keras-applications, tensorflow, coremltools, turicreate\n",
            "  Found existing installation: llvmlite 0.34.0\n",
            "    Uninstalling llvmlite-0.34.0:\n",
            "      Successfully uninstalled llvmlite-0.34.0\n",
            "  Found existing installation: numba 0.51.2\n",
            "    Uninstalling numba-0.51.2:\n",
            "      Successfully uninstalled numba-0.51.2\n",
            "  Found existing installation: resampy 0.2.2\n",
            "    Uninstalling resampy-0.2.2:\n",
            "      Successfully uninstalled resampy-0.2.2\n",
            "  Found existing installation: prettytable 2.1.0\n",
            "    Uninstalling prettytable-2.1.0:\n",
            "      Successfully uninstalled prettytable-2.1.0\n",
            "  Found existing installation: tensorflow-estimator 2.4.0\n",
            "    Uninstalling tensorflow-estimator-2.4.0:\n",
            "      Successfully uninstalled tensorflow-estimator-2.4.0\n",
            "  Found existing installation: gast 0.3.3\n",
            "    Uninstalling gast-0.3.3:\n",
            "      Successfully uninstalled gast-0.3.3\n",
            "  Found existing installation: tensorboard 2.4.1\n",
            "    Uninstalling tensorboard-2.4.1:\n",
            "      Successfully uninstalled tensorboard-2.4.1\n",
            "  Found existing installation: tensorflow 2.4.1\n",
            "    Uninstalling tensorflow-2.4.1:\n",
            "      Successfully uninstalled tensorflow-2.4.1\n",
            "Successfully installed coremltools-3.3 gast-0.2.2 keras-applications-1.0.8 llvmlite-0.33.0 numba-0.50.1 prettytable-0.7.2 resampy-0.2.1 tensorboard-2.0.2 tensorflow-2.0.4 tensorflow-estimator-2.0.1 turicreate-6.4.1\n"
          ],
          "name": "stdout"
        }
      ]
    },
    {
      "cell_type": "markdown",
      "metadata": {
        "id": "7GHf6Ok7505e"
      },
      "source": [
        "## Import necessary packages"
      ]
    },
    {
      "cell_type": "markdown",
      "metadata": {
        "id": "QpWTDMzP505e"
      },
      "source": [
        "As usual we need to first import the Python packages that we will need."
      ]
    },
    {
      "cell_type": "code",
      "metadata": {
        "id": "1PMhOByS505f"
      },
      "source": [
        "from __future__ import print_function # to conform python 2.x print to python 3.x\n",
        "import turicreate\n",
        "import matplotlib.pyplot as plt\n",
        "import numpy as np\n",
        "%matplotlib inline"
      ],
      "execution_count": 4,
      "outputs": []
    },
    {
      "cell_type": "markdown",
      "metadata": {
        "id": "8DeleSXO505f"
      },
      "source": [
        "## Load Wikipedia dataset"
      ]
    },
    {
      "cell_type": "markdown",
      "metadata": {
        "id": "3adWk9Xd505f"
      },
      "source": [
        "We will be using the same dataset of Wikipedia pages that we used in the Machine Learning Foundations course (Course 1). Each element of the dataset consists of a link to the wikipedia article, the name of the person, and the text of the article (in lowercase).  "
      ]
    },
    {
      "cell_type": "code",
      "metadata": {
        "id": "XN428Ka8505f"
      },
      "source": [
        "wiki = turicreate.SFrame('people_wiki.sframe')"
      ],
      "execution_count": 7,
      "outputs": []
    },
    {
      "cell_type": "code",
      "metadata": {
        "colab": {
          "base_uri": "https://localhost:8080/",
          "height": 1000
        },
        "id": "dI_tCXAk9nbQ",
        "outputId": "24b85c11-b7d9-4248-d6ea-d99dfc16d83c"
      },
      "source": [
        "books = turicreate.SFrame('books_with_blurbs.csv')"
      ],
      "execution_count": 124,
      "outputs": [
        {
          "output_type": "display_data",
          "data": {
            "text/html": [
              "<pre>Unexpected characters after last column. \"The World's Stupidest Signs\"\n",
              "Parse failed at token ending at: \n",
              "\tf his own strength.\"\n",
              "1854795554,The World's Stupidest Signs,\u001b[1;31m^\u001b[0mMichael O'Mara,2000,Michael O'Mara Books,\"A biza\n",
              "Successfully parsed 6 tokens: \n",
              "\t0: 140292918\n",
              "\t1: Of Mice an ... ssentials\"\n",
              "\t2: John Steinbeck\n",
              "\t3: 2001\n",
              "\t4: Penguin Books Ltd\n",
              "\t5: As drifter ...  strength.</pre>"
            ],
            "text/plain": [
              "Unexpected characters after last column. \"The World's Stupidest Signs\"\n",
              "Parse failed at token ending at: \n",
              "\tf his own strength.\"\n",
              "1854795554,The World's Stupidest Signs,\u001b[1;31m^\u001b[0mMichael O'Mara,2000,Michael O'Mara Books,\"A biza\n",
              "Successfully parsed 6 tokens: \n",
              "\t0: 140292918\n",
              "\t1: Of Mice an ... ssentials\"\n",
              "\t2: John Steinbeck\n",
              "\t3: 2001\n",
              "\t4: Penguin Books Ltd\n",
              "\t5: As drifter ...  strength."
            ]
          },
          "metadata": {
            "tags": []
          }
        },
        {
          "output_type": "display_data",
          "data": {
            "text/html": [
              "<pre>Unexpected characters after last column. \"\"\n",
              "Parse failed at token ending at: \n",
              "\t revisits the territory covered in his young adult novel, ,,\u001b[1;31m^\u001b[0m which was likewise set in the hardscrabble worl\n",
              "Successfully parsed 6 tokens: \n",
              "\t0: \n",
              "\t1: Much of\n",
              "\t2: -- winner  ... ng novella\n",
              "\t3: \n",
              "\t4: \n",
              "\t5:</pre>"
            ],
            "text/plain": [
              "Unexpected characters after last column. \"\"\n",
              "Parse failed at token ending at: \n",
              "\t revisits the territory covered in his young adult novel, ,,\u001b[1;31m^\u001b[0m which was likewise set in the hardscrabble worl\n",
              "Successfully parsed 6 tokens: \n",
              "\t0: \n",
              "\t1: Much of\n",
              "\t2: -- winner  ... ng novella\n",
              "\t3: \n",
              "\t4: \n",
              "\t5:"
            ]
          },
          "metadata": {
            "tags": []
          }
        },
        {
          "output_type": "display_data",
          "data": {
            "text/html": [
              "<pre>Unexpected characters after last column. \"Kushiel's Avatar (Kushiel's Legacy)\"\n",
              "Parse failed at token ending at: \n",
              "\tman nature.\"\n",
              "0765347539,Kushiel's Avatar (Kushiel's Legacy),\u001b[1;31m^\u001b[0mJacqueline Carey,2004,Tor Fantasy,\"The land of T\n",
              "Successfully parsed 6 tokens: \n",
              "\t0: 449003787\n",
              "\t1: \\O\"\n",
              "\t2: SUE GRAFTON\n",
              "\t3: 2001\n",
              "\t4: Ballantine Books\n",
              "\t5: Through fo ... an nature.</pre>"
            ],
            "text/plain": [
              "Unexpected characters after last column. \"Kushiel's Avatar (Kushiel's Legacy)\"\n",
              "Parse failed at token ending at: \n",
              "\tman nature.\"\n",
              "0765347539,Kushiel's Avatar (Kushiel's Legacy),\u001b[1;31m^\u001b[0mJacqueline Carey,2004,Tor Fantasy,\"The land of T\n",
              "Successfully parsed 6 tokens: \n",
              "\t0: 449003787\n",
              "\t1: \\O\"\n",
              "\t2: SUE GRAFTON\n",
              "\t3: 2001\n",
              "\t4: Ballantine Books\n",
              "\t5: Through fo ... an nature."
            ]
          },
          "metadata": {
            "tags": []
          }
        },
        {
          "output_type": "display_data",
          "data": {
            "text/html": [
              "<pre>Unexpected characters after last column. \"The Strong-Willed Child: Birth Through Adolescence\"\n",
              "Parse failed at token ending at: \n",
              "\t4236661X,The Strong-Willed Child: Birth Through Adolescence,\u001b[1;31m^\u001b[0mJames Dobson,1985,Tyndale House Publishers,\"Dr D\n",
              "Successfully parsed 6 tokens: \n",
              "\t0: 1558743669\n",
              "\t1: A Child Called \\It\"\n",
              "\t2: Dave Pelzer\n",
              "\t3: 1995\n",
              "\t4: Health Communications\n",
              "\t5:  ,This boo ... their son.</pre>"
            ],
            "text/plain": [
              "Unexpected characters after last column. \"The Strong-Willed Child: Birth Through Adolescence\"\n",
              "Parse failed at token ending at: \n",
              "\t4236661X,The Strong-Willed Child: Birth Through Adolescence,\u001b[1;31m^\u001b[0mJames Dobson,1985,Tyndale House Publishers,\"Dr D\n",
              "Successfully parsed 6 tokens: \n",
              "\t0: 1558743669\n",
              "\t1: A Child Called \\It\"\n",
              "\t2: Dave Pelzer\n",
              "\t3: 1995\n",
              "\t4: Health Communications\n",
              "\t5:  ,This boo ... their son."
            ]
          },
          "metadata": {
            "tags": []
          }
        },
        {
          "output_type": "display_data",
          "data": {
            "text/html": [
              "<pre>Unexpected characters after last column. \"and tapes of the complete plays.  \"\n",
              "Parse failed at token ending at: \n",
              "\tideotapes (VHS), records, and tapes of the complete plays.  \n",
              "Successfully parsed 6 tokens: \n",
              "\t0: Background ... dramaturgy\n",
              "\t1: C. W. Hodg ...  Playhouse\n",
              "\t2: a brief ac ...  his works\n",
              "\t3: and a bibliography\n",
              "\t4: lists of v ... apes (VHS)\n",
              "\t5: records</pre>"
            ],
            "text/plain": [
              "Unexpected characters after last column. \"and tapes of the complete plays.  \"\n",
              "Parse failed at token ending at: \n",
              "\tideotapes (VHS), records, and tapes of the complete plays.  \n",
              "Successfully parsed 6 tokens: \n",
              "\t0: Background ... dramaturgy\n",
              "\t1: C. W. Hodg ...  Playhouse\n",
              "\t2: a brief ac ...  his works\n",
              "\t3: and a bibliography\n",
              "\t4: lists of v ... apes (VHS)\n",
              "\t5: records"
            ]
          },
          "metadata": {
            "tags": []
          }
        },
        {
          "output_type": "display_data",
          "data": {
            "text/html": [
              "<pre>Successfully parsed 2 tokens: \n",
              "\t0: Students w ...  a theatre\n",
              "\t1: but rather ... uggesting.</pre>"
            ],
            "text/plain": [
              "Successfully parsed 2 tokens: \n",
              "\t0: Students w ...  a theatre\n",
              "\t1: but rather ... uggesting."
            ]
          },
          "metadata": {
            "tags": []
          }
        },
        {
          "output_type": "display_data",
          "data": {
            "text/html": [
              "<pre>Successfully parsed 2 tokens: \n",
              "\t0: Students c ... gh helpful\n",
              "\t1: detailed q ... er papers.</pre>"
            ],
            "text/plain": [
              "Successfully parsed 2 tokens: \n",
              "\t0: Students c ... gh helpful\n",
              "\t1: detailed q ... er papers."
            ]
          },
          "metadata": {
            "tags": []
          }
        },
        {
          "output_type": "display_data",
          "data": {
            "text/html": [
              "<pre>Unexpected characters after last column. \"began to order them from a small store in London\"\n",
              "Parse failed at token ending at: \n",
              "\tcommended, began to order them from a small store in London,\u001b[1;31m^\u001b[0m at 84, Charing Cross Road. Thus began a corresp\n",
              "Successfully parsed 6 tokens: \n",
              "\t0: \n",
              "014008936 ... uin Books,\n",
              "\t1: \n",
              "\t2: and of all ... bridge don\n",
              "\t3: Sir Arthur ... Q’s book\n",
              "\t4: and\n",
              "\t5: wanting to ... ecommended</pre>"
            ],
            "text/plain": [
              "Unexpected characters after last column. \"began to order them from a small store in London\"\n",
              "Parse failed at token ending at: \n",
              "\tcommended, began to order them from a small store in London,\u001b[1;31m^\u001b[0m at 84, Charing Cross Road. Thus began a corresp\n",
              "Successfully parsed 6 tokens: \n",
              "\t0: \n",
              "014008936 ... uin Books,\n",
              "\t1: \n",
              "\t2: and of all ... bridge don\n",
              "\t3: Sir Arthur ... Q’s book\n",
              "\t4: and\n",
              "\t5: wanting to ... ecommended"
            ]
          },
          "metadata": {
            "tags": []
          }
        },
        {
          "output_type": "display_data",
          "data": {
            "text/html": [
              "<pre>Successfully parsed 1 tokens: \n",
              "\t0: Format: Hardcover</pre>"
            ],
            "text/plain": [
              "Successfully parsed 1 tokens: \n",
              "\t0: Format: Hardcover"
            ]
          },
          "metadata": {
            "tags": []
          }
        },
        {
          "output_type": "display_data",
          "data": {
            "text/html": [
              "<pre>Successfully parsed 1 tokens: \n",
              "\t0: Publicatio ...  3/12/1957</pre>"
            ],
            "text/plain": [
              "Successfully parsed 1 tokens: \n",
              "\t0: Publicatio ...  3/12/1957"
            ]
          },
          "metadata": {
            "tags": []
          }
        },
        {
          "output_type": "display_data",
          "data": {
            "text/html": [
              "<pre>326 lines failed to parse correctly</pre>"
            ],
            "text/plain": [
              "326 lines failed to parse correctly"
            ]
          },
          "metadata": {
            "tags": []
          }
        },
        {
          "output_type": "display_data",
          "data": {
            "text/html": [
              "<pre>Finished parsing file /content/books_with_blurbs.csv</pre>"
            ],
            "text/plain": [
              "Finished parsing file /content/books_with_blurbs.csv"
            ]
          },
          "metadata": {
            "tags": []
          }
        },
        {
          "output_type": "display_data",
          "data": {
            "text/html": [
              "<pre>Parsing completed. Parsed 100 lines in 0.702813 secs.</pre>"
            ],
            "text/plain": [
              "Parsing completed. Parsed 100 lines in 0.702813 secs."
            ]
          },
          "metadata": {
            "tags": []
          }
        },
        {
          "output_type": "stream",
          "text": [
            "------------------------------------------------------\n",
            "Inferred types from first 100 line(s) of file as \n",
            "column_type_hints=[str,str,str,int,str,str]\n",
            "If parsing fails due to incorrect types, you can correct\n",
            "the inferred type list above and pass it to read_csv in\n",
            "the column_type_hints argument\n",
            "------------------------------------------------------\n"
          ],
          "name": "stdout"
        },
        {
          "output_type": "display_data",
          "data": {
            "text/html": [
              "<pre>Unexpected characters after last column. \"The World's Stupidest Signs\"\n",
              "Parse failed at token ending at: \n",
              "\tf his own strength.\"\n",
              "1854795554,The World's Stupidest Signs,\u001b[1;31m^\u001b[0mMichael O'Mara,2000,Michael O'Mara Books,\"A biza\n",
              "Successfully parsed 6 tokens: \n",
              "\t0: 0140292918\n",
              "\t1: Of Mice an ... ntials\"\")\"\n",
              "\t2: John Steinbeck\n",
              "\t3: 2001\n",
              "\t4: Penguin Books Ltd\n",
              "\t5: \"As drifte ... 1854795554</pre>"
            ],
            "text/plain": [
              "Unexpected characters after last column. \"The World's Stupidest Signs\"\n",
              "Parse failed at token ending at: \n",
              "\tf his own strength.\"\n",
              "1854795554,The World's Stupidest Signs,\u001b[1;31m^\u001b[0mMichael O'Mara,2000,Michael O'Mara Books,\"A biza\n",
              "Successfully parsed 6 tokens: \n",
              "\t0: 0140292918\n",
              "\t1: Of Mice an ... ntials\"\")\"\n",
              "\t2: John Steinbeck\n",
              "\t3: 2001\n",
              "\t4: Penguin Books Ltd\n",
              "\t5: \"As drifte ... 1854795554"
            ]
          },
          "metadata": {
            "tags": []
          }
        },
        {
          "output_type": "display_data",
          "data": {
            "text/html": [
              "<pre>Unable to interpret \"\"\"Mad Dog Summer\" as a integer\n",
              "Parse failed at token ending at: \n",
              "\tectly on his Stoker Award-winning novella, \"\"Mad Dog Summer,\u001b[1;31m^\u001b[0m\"\" and it revisits the territory covered in his \n",
              "Successfully parsed 3 tokens: \n",
              "\t0: \n",
              "\t1: Much of\n",
              "\t2: -- winner  ... ng novella</pre>"
            ],
            "text/plain": [
              "Unable to interpret \"\"\"Mad Dog Summer\" as a integer\n",
              "Parse failed at token ending at: \n",
              "\tectly on his Stoker Award-winning novella, \"\"Mad Dog Summer,\u001b[1;31m^\u001b[0m\"\" and it revisits the territory covered in his \n",
              "Successfully parsed 3 tokens: \n",
              "\t0: \n",
              "\t1: Much of\n",
              "\t2: -- winner  ... ng novella"
            ]
          },
          "metadata": {
            "tags": []
          }
        },
        {
          "output_type": "display_data",
          "data": {
            "text/html": [
              "<pre>Unexpected characters after last column. \"Kushiel's Avatar (Kushiel's Legacy)\"\n",
              "Parse failed at token ending at: \n",
              "\tman nature.\"\n",
              "0765347539,Kushiel's Avatar (Kushiel's Legacy),\u001b[1;31m^\u001b[0mJacqueline Carey,2004,Tor Fantasy,\"The land of T\n",
              "Successfully parsed 6 tokens: \n",
              "\t0: 0449003787\n",
              "\t1: \\O\"\" Is for Outlaw\"\n",
              "\t2: SUE GRAFTON\n",
              "\t3: 2001\n",
              "\t4: Ballantine Books\n",
              "\t5: \"Through f ... 0765347539</pre>"
            ],
            "text/plain": [
              "Unexpected characters after last column. \"Kushiel's Avatar (Kushiel's Legacy)\"\n",
              "Parse failed at token ending at: \n",
              "\tman nature.\"\n",
              "0765347539,Kushiel's Avatar (Kushiel's Legacy),\u001b[1;31m^\u001b[0mJacqueline Carey,2004,Tor Fantasy,\"The land of T\n",
              "Successfully parsed 6 tokens: \n",
              "\t0: 0449003787\n",
              "\t1: \\O\"\" Is for Outlaw\"\n",
              "\t2: SUE GRAFTON\n",
              "\t3: 2001\n",
              "\t4: Ballantine Books\n",
              "\t5: \"Through f ... 0765347539"
            ]
          },
          "metadata": {
            "tags": []
          }
        },
        {
          "output_type": "display_data",
          "data": {
            "text/html": [
              "<pre>Unexpected characters after last column. \"The Strong-Willed Child: Birth Through Adolescence\"\n",
              "Parse failed at token ending at: \n",
              "\t4236661X,The Strong-Willed Child: Birth Through Adolescence,\u001b[1;31m^\u001b[0mJames Dobson,1985,Tyndale House Publishers,\"Dr D\n",
              "Successfully parsed 6 tokens: \n",
              "\t0: 1558743669\n",
              "\t1: A Child Ca ... o Survive\"\n",
              "\t2: Dave Pelzer\n",
              "\t3: 1995\n",
              "\t4: Health Communications\n",
              "\t5: \" ,This bo ... 084236661X</pre>"
            ],
            "text/plain": [
              "Unexpected characters after last column. \"The Strong-Willed Child: Birth Through Adolescence\"\n",
              "Parse failed at token ending at: \n",
              "\t4236661X,The Strong-Willed Child: Birth Through Adolescence,\u001b[1;31m^\u001b[0mJames Dobson,1985,Tyndale House Publishers,\"Dr D\n",
              "Successfully parsed 6 tokens: \n",
              "\t0: 1558743669\n",
              "\t1: A Child Ca ... o Survive\"\n",
              "\t2: Dave Pelzer\n",
              "\t3: 1995\n",
              "\t4: Health Communications\n",
              "\t5: \" ,This bo ... 084236661X"
            ]
          },
          "metadata": {
            "tags": []
          }
        },
        {
          "output_type": "display_data",
          "data": {
            "text/html": [
              "<pre>Unable to interpret \"and a bibliography\" as a integer\n",
              "Parse failed at token ending at: \n",
              "\tnd a chronological listing of his works, and a bibliography,\u001b[1;31m^\u001b[0m lists of videotapes (VHS), records, and tapes o\n",
              "Successfully parsed 3 tokens: \n",
              "\t0: Background ... dramaturgy\n",
              "\t1: C. W. Hodg ...  Playhouse\n",
              "\t2: a brief ac ...  his works</pre>"
            ],
            "text/plain": [
              "Unable to interpret \"and a bibliography\" as a integer\n",
              "Parse failed at token ending at: \n",
              "\tnd a chronological listing of his works, and a bibliography,\u001b[1;31m^\u001b[0m lists of videotapes (VHS), records, and tapes o\n",
              "Successfully parsed 3 tokens: \n",
              "\t0: Background ... dramaturgy\n",
              "\t1: C. W. Hodg ...  Playhouse\n",
              "\t2: a brief ac ...  his works"
            ]
          },
          "metadata": {
            "tags": []
          }
        },
        {
          "output_type": "display_data",
          "data": {
            "text/html": [
              "<pre>Successfully parsed 2 tokens: \n",
              "\t0: Students w ...  a theatre\n",
              "\t1: but rather ... uggesting.</pre>"
            ],
            "text/plain": [
              "Successfully parsed 2 tokens: \n",
              "\t0: Students w ...  a theatre\n",
              "\t1: but rather ... uggesting."
            ]
          },
          "metadata": {
            "tags": []
          }
        },
        {
          "output_type": "display_data",
          "data": {
            "text/html": [
              "<pre>Successfully parsed 2 tokens: \n",
              "\t0: Students c ... gh helpful\n",
              "\t1: detailed q ... er papers.</pre>"
            ],
            "text/plain": [
              "Successfully parsed 2 tokens: \n",
              "\t0: Students c ... gh helpful\n",
              "\t1: detailed q ... er papers."
            ]
          },
          "metadata": {
            "tags": []
          }
        },
        {
          "output_type": "display_data",
          "data": {
            "text/html": [
              "<pre>Unable to interpret \"Sir Arthur Quiller-Couch. She devoured Q’s book\" as a integer\n",
              "Parse failed at token ending at: \n",
              "\tidge don, Sir Arthur Quiller-Couch. She devoured Q’s book,\u001b[1;31m^\u001b[0m and, wanting to read all the books he recommend\n",
              "Successfully parsed 3 tokens: \n",
              "\t0: \"\n",
              "01400893 ... e to write\n",
              "\t1: \n",
              "\t2: and of all ... bridge don</pre>"
            ],
            "text/plain": [
              "Unable to interpret \"Sir Arthur Quiller-Couch. She devoured Q’s book\" as a integer\n",
              "Parse failed at token ending at: \n",
              "\tidge don, Sir Arthur Quiller-Couch. She devoured Q’s book,\u001b[1;31m^\u001b[0m and, wanting to read all the books he recommend\n",
              "Successfully parsed 3 tokens: \n",
              "\t0: \"\n",
              "01400893 ... e to write\n",
              "\t1: \n",
              "\t2: and of all ... bridge don"
            ]
          },
          "metadata": {
            "tags": []
          }
        },
        {
          "output_type": "display_data",
          "data": {
            "text/html": [
              "<pre>Successfully parsed 1 tokens: \n",
              "\t0: Format: Hardcover</pre>"
            ],
            "text/plain": [
              "Successfully parsed 1 tokens: \n",
              "\t0: Format: Hardcover"
            ]
          },
          "metadata": {
            "tags": []
          }
        },
        {
          "output_type": "display_data",
          "data": {
            "text/html": [
              "<pre>Successfully parsed 1 tokens: \n",
              "\t0: Publicatio ...  3/12/1957</pre>"
            ],
            "text/plain": [
              "Successfully parsed 1 tokens: \n",
              "\t0: Publicatio ...  3/12/1957"
            ]
          },
          "metadata": {
            "tags": []
          }
        },
        {
          "output_type": "display_data",
          "data": {
            "text/html": [
              "<pre>327 lines failed to parse correctly</pre>"
            ],
            "text/plain": [
              "327 lines failed to parse correctly"
            ]
          },
          "metadata": {
            "tags": []
          }
        },
        {
          "output_type": "display_data",
          "data": {
            "text/html": [
              "<pre>Finished parsing file /content/books_with_blurbs.csv</pre>"
            ],
            "text/plain": [
              "Finished parsing file /content/books_with_blurbs.csv"
            ]
          },
          "metadata": {
            "tags": []
          }
        },
        {
          "output_type": "display_data",
          "data": {
            "text/html": [
              "<pre>Parsing completed. Parsed 25671 lines in 0.585621 secs.</pre>"
            ],
            "text/plain": [
              "Parsing completed. Parsed 25671 lines in 0.585621 secs."
            ]
          },
          "metadata": {
            "tags": []
          }
        }
      ]
    },
    {
      "cell_type": "code",
      "metadata": {
        "colab": {
          "base_uri": "https://localhost:8080/",
          "height": 449
        },
        "id": "7XSPS5Kj505f",
        "outputId": "db574d9a-e6d0-4990-bddc-82d39a989e93"
      },
      "source": [
        "wiki"
      ],
      "execution_count": 8,
      "outputs": [
        {
          "output_type": "execute_result",
          "data": {
            "text/html": [
              "<div style=\"max-height:1000px;max-width:1500px;overflow:auto;\"><table frame=\"box\" rules=\"cols\">\n",
              "    <tr>\n",
              "        <th style=\"padding-left: 1em; padding-right: 1em; text-align: center\">URI</th>\n",
              "        <th style=\"padding-left: 1em; padding-right: 1em; text-align: center\">name</th>\n",
              "        <th style=\"padding-left: 1em; padding-right: 1em; text-align: center\">text</th>\n",
              "    </tr>\n",
              "    <tr>\n",
              "        <td style=\"padding-left: 1em; padding-right: 1em; text-align: center; vertical-align: top\">&lt;http://dbpedia.org/resou<br>rce/Digby_Morrell&gt; ...</td>\n",
              "        <td style=\"padding-left: 1em; padding-right: 1em; text-align: center; vertical-align: top\">Digby Morrell</td>\n",
              "        <td style=\"padding-left: 1em; padding-right: 1em; text-align: center; vertical-align: top\">digby morrell born 10<br>october 1979 is a former ...</td>\n",
              "    </tr>\n",
              "    <tr>\n",
              "        <td style=\"padding-left: 1em; padding-right: 1em; text-align: center; vertical-align: top\">&lt;http://dbpedia.org/resou<br>rce/Alfred_J._Lewy&gt; ...</td>\n",
              "        <td style=\"padding-left: 1em; padding-right: 1em; text-align: center; vertical-align: top\">Alfred J. Lewy</td>\n",
              "        <td style=\"padding-left: 1em; padding-right: 1em; text-align: center; vertical-align: top\">alfred j lewy aka sandy<br>lewy graduated from ...</td>\n",
              "    </tr>\n",
              "    <tr>\n",
              "        <td style=\"padding-left: 1em; padding-right: 1em; text-align: center; vertical-align: top\">&lt;http://dbpedia.org/resou<br>rce/Harpdog_Brown&gt; ...</td>\n",
              "        <td style=\"padding-left: 1em; padding-right: 1em; text-align: center; vertical-align: top\">Harpdog Brown</td>\n",
              "        <td style=\"padding-left: 1em; padding-right: 1em; text-align: center; vertical-align: top\">harpdog brown is a singer<br>and harmonica player who ...</td>\n",
              "    </tr>\n",
              "    <tr>\n",
              "        <td style=\"padding-left: 1em; padding-right: 1em; text-align: center; vertical-align: top\">&lt;http://dbpedia.org/resou<br>rce/Franz_Rottensteiner&gt; ...</td>\n",
              "        <td style=\"padding-left: 1em; padding-right: 1em; text-align: center; vertical-align: top\">Franz Rottensteiner</td>\n",
              "        <td style=\"padding-left: 1em; padding-right: 1em; text-align: center; vertical-align: top\">franz rottensteiner born<br>in waidmannsfeld lower ...</td>\n",
              "    </tr>\n",
              "    <tr>\n",
              "        <td style=\"padding-left: 1em; padding-right: 1em; text-align: center; vertical-align: top\">&lt;http://dbpedia.org/resou<br>rce/G-Enka&gt; ...</td>\n",
              "        <td style=\"padding-left: 1em; padding-right: 1em; text-align: center; vertical-align: top\">G-Enka</td>\n",
              "        <td style=\"padding-left: 1em; padding-right: 1em; text-align: center; vertical-align: top\">henry krvits born 30<br>december 1974 in tallinn ...</td>\n",
              "    </tr>\n",
              "    <tr>\n",
              "        <td style=\"padding-left: 1em; padding-right: 1em; text-align: center; vertical-align: top\">&lt;http://dbpedia.org/resou<br>rce/Sam_Henderson&gt; ...</td>\n",
              "        <td style=\"padding-left: 1em; padding-right: 1em; text-align: center; vertical-align: top\">Sam Henderson</td>\n",
              "        <td style=\"padding-left: 1em; padding-right: 1em; text-align: center; vertical-align: top\">sam henderson born<br>october 18 1969 is an ...</td>\n",
              "    </tr>\n",
              "    <tr>\n",
              "        <td style=\"padding-left: 1em; padding-right: 1em; text-align: center; vertical-align: top\">&lt;http://dbpedia.org/resou<br>rce/Aaron_LaCrate&gt; ...</td>\n",
              "        <td style=\"padding-left: 1em; padding-right: 1em; text-align: center; vertical-align: top\">Aaron LaCrate</td>\n",
              "        <td style=\"padding-left: 1em; padding-right: 1em; text-align: center; vertical-align: top\">aaron lacrate is an<br>american music producer ...</td>\n",
              "    </tr>\n",
              "    <tr>\n",
              "        <td style=\"padding-left: 1em; padding-right: 1em; text-align: center; vertical-align: top\">&lt;http://dbpedia.org/resou<br>rce/Trevor_Ferguson&gt; ...</td>\n",
              "        <td style=\"padding-left: 1em; padding-right: 1em; text-align: center; vertical-align: top\">Trevor Ferguson</td>\n",
              "        <td style=\"padding-left: 1em; padding-right: 1em; text-align: center; vertical-align: top\">trevor ferguson aka john<br>farrow born 11 november ...</td>\n",
              "    </tr>\n",
              "    <tr>\n",
              "        <td style=\"padding-left: 1em; padding-right: 1em; text-align: center; vertical-align: top\">&lt;http://dbpedia.org/resou<br>rce/Grant_Nelson&gt; ...</td>\n",
              "        <td style=\"padding-left: 1em; padding-right: 1em; text-align: center; vertical-align: top\">Grant Nelson</td>\n",
              "        <td style=\"padding-left: 1em; padding-right: 1em; text-align: center; vertical-align: top\">grant nelson born 27<br>april 1971 in london  ...</td>\n",
              "    </tr>\n",
              "    <tr>\n",
              "        <td style=\"padding-left: 1em; padding-right: 1em; text-align: center; vertical-align: top\">&lt;http://dbpedia.org/resou<br>rce/Cathy_Caruth&gt; ...</td>\n",
              "        <td style=\"padding-left: 1em; padding-right: 1em; text-align: center; vertical-align: top\">Cathy Caruth</td>\n",
              "        <td style=\"padding-left: 1em; padding-right: 1em; text-align: center; vertical-align: top\">cathy caruth born 1955 is<br>frank h t rhodes ...</td>\n",
              "    </tr>\n",
              "</table>\n",
              "[59071 rows x 3 columns]<br/>Note: Only the head of the SFrame is printed.<br/>You can use print_rows(num_rows=m, num_columns=n) to print more rows and columns.\n",
              "</div>"
            ],
            "text/plain": [
              "Columns:\n",
              "\tURI\tstr\n",
              "\tname\tstr\n",
              "\ttext\tstr\n",
              "\n",
              "Rows: 59071\n",
              "\n",
              "Data:\n",
              "+-------------------------------+---------------------+\n",
              "|              URI              |         name        |\n",
              "+-------------------------------+---------------------+\n",
              "| <http://dbpedia.org/resour... |    Digby Morrell    |\n",
              "| <http://dbpedia.org/resour... |    Alfred J. Lewy   |\n",
              "| <http://dbpedia.org/resour... |    Harpdog Brown    |\n",
              "| <http://dbpedia.org/resour... | Franz Rottensteiner |\n",
              "| <http://dbpedia.org/resour... |        G-Enka       |\n",
              "| <http://dbpedia.org/resour... |    Sam Henderson    |\n",
              "| <http://dbpedia.org/resour... |    Aaron LaCrate    |\n",
              "| <http://dbpedia.org/resour... |   Trevor Ferguson   |\n",
              "| <http://dbpedia.org/resour... |     Grant Nelson    |\n",
              "| <http://dbpedia.org/resour... |     Cathy Caruth    |\n",
              "+-------------------------------+---------------------+\n",
              "+-------------------------------+\n",
              "|              text             |\n",
              "+-------------------------------+\n",
              "| digby morrell born 10 octo... |\n",
              "| alfred j lewy aka sandy le... |\n",
              "| harpdog brown is a singer ... |\n",
              "| franz rottensteiner born i... |\n",
              "| henry krvits born 30 decem... |\n",
              "| sam henderson born october... |\n",
              "| aaron lacrate is an americ... |\n",
              "| trevor ferguson aka john f... |\n",
              "| grant nelson born 27 april... |\n",
              "| cathy caruth born 1955 is ... |\n",
              "+-------------------------------+\n",
              "[59071 rows x 3 columns]\n",
              "Note: Only the head of the SFrame is printed.\n",
              "You can use print_rows(num_rows=m, num_columns=n) to print more rows and columns."
            ]
          },
          "metadata": {
            "tags": []
          },
          "execution_count": 8
        }
      ]
    },
    {
      "cell_type": "code",
      "metadata": {
        "colab": {
          "base_uri": "https://localhost:8080/",
          "height": 777
        },
        "id": "JCOy4Ucn9tgs",
        "outputId": "a2c9989f-d3bc-41fb-8d95-091516398117"
      },
      "source": [
        "books"
      ],
      "execution_count": 125,
      "outputs": [
        {
          "output_type": "execute_result",
          "data": {
            "text/html": [
              "<div style=\"max-height:1000px;max-width:1500px;overflow:auto;\"><table frame=\"box\" rules=\"cols\">\n",
              "    <tr>\n",
              "        <th style=\"padding-left: 1em; padding-right: 1em; text-align: center\">ISBN</th>\n",
              "        <th style=\"padding-left: 1em; padding-right: 1em; text-align: center\">Title</th>\n",
              "        <th style=\"padding-left: 1em; padding-right: 1em; text-align: center\">Author</th>\n",
              "        <th style=\"padding-left: 1em; padding-right: 1em; text-align: center\">Year</th>\n",
              "        <th style=\"padding-left: 1em; padding-right: 1em; text-align: center\">Publisher</th>\n",
              "    </tr>\n",
              "    <tr>\n",
              "        <td style=\"padding-left: 1em; padding-right: 1em; text-align: center; vertical-align: top\">0060973129</td>\n",
              "        <td style=\"padding-left: 1em; padding-right: 1em; text-align: center; vertical-align: top\">Decision in Normandy</td>\n",
              "        <td style=\"padding-left: 1em; padding-right: 1em; text-align: center; vertical-align: top\">Carlo D&#x27;Este</td>\n",
              "        <td style=\"padding-left: 1em; padding-right: 1em; text-align: center; vertical-align: top\">1991</td>\n",
              "        <td style=\"padding-left: 1em; padding-right: 1em; text-align: center; vertical-align: top\">HarperPerennial</td>\n",
              "    </tr>\n",
              "    <tr>\n",
              "        <td style=\"padding-left: 1em; padding-right: 1em; text-align: center; vertical-align: top\">0374157065</td>\n",
              "        <td style=\"padding-left: 1em; padding-right: 1em; text-align: center; vertical-align: top\">Flu: The Story of the<br>Great Influenza Pandemic ...</td>\n",
              "        <td style=\"padding-left: 1em; padding-right: 1em; text-align: center; vertical-align: top\">Gina Bari Kolata</td>\n",
              "        <td style=\"padding-left: 1em; padding-right: 1em; text-align: center; vertical-align: top\">1999</td>\n",
              "        <td style=\"padding-left: 1em; padding-right: 1em; text-align: center; vertical-align: top\">Farrar Straus Giroux</td>\n",
              "    </tr>\n",
              "    <tr>\n",
              "        <td style=\"padding-left: 1em; padding-right: 1em; text-align: center; vertical-align: top\">0399135782</td>\n",
              "        <td style=\"padding-left: 1em; padding-right: 1em; text-align: center; vertical-align: top\">The Kitchen God&#x27;s Wife</td>\n",
              "        <td style=\"padding-left: 1em; padding-right: 1em; text-align: center; vertical-align: top\">Amy Tan</td>\n",
              "        <td style=\"padding-left: 1em; padding-right: 1em; text-align: center; vertical-align: top\">1991</td>\n",
              "        <td style=\"padding-left: 1em; padding-right: 1em; text-align: center; vertical-align: top\">Putnam Pub Group</td>\n",
              "    </tr>\n",
              "    <tr>\n",
              "        <td style=\"padding-left: 1em; padding-right: 1em; text-align: center; vertical-align: top\">0425176428</td>\n",
              "        <td style=\"padding-left: 1em; padding-right: 1em; text-align: center; vertical-align: top\">What If?: The World&#x27;s<br>Foremost Military ...</td>\n",
              "        <td style=\"padding-left: 1em; padding-right: 1em; text-align: center; vertical-align: top\">Robert Cowley</td>\n",
              "        <td style=\"padding-left: 1em; padding-right: 1em; text-align: center; vertical-align: top\">2000</td>\n",
              "        <td style=\"padding-left: 1em; padding-right: 1em; text-align: center; vertical-align: top\">Berkley Publishing Group</td>\n",
              "    </tr>\n",
              "    <tr>\n",
              "        <td style=\"padding-left: 1em; padding-right: 1em; text-align: center; vertical-align: top\">1881320189</td>\n",
              "        <td style=\"padding-left: 1em; padding-right: 1em; text-align: center; vertical-align: top\">Goodbye to the Buttermilk<br>Sky ...</td>\n",
              "        <td style=\"padding-left: 1em; padding-right: 1em; text-align: center; vertical-align: top\">Julia Oliver</td>\n",
              "        <td style=\"padding-left: 1em; padding-right: 1em; text-align: center; vertical-align: top\">1994</td>\n",
              "        <td style=\"padding-left: 1em; padding-right: 1em; text-align: center; vertical-align: top\">River City Pub</td>\n",
              "    </tr>\n",
              "    <tr>\n",
              "        <td style=\"padding-left: 1em; padding-right: 1em; text-align: center; vertical-align: top\">0440234743</td>\n",
              "        <td style=\"padding-left: 1em; padding-right: 1em; text-align: center; vertical-align: top\">The Testament</td>\n",
              "        <td style=\"padding-left: 1em; padding-right: 1em; text-align: center; vertical-align: top\">John Grisham</td>\n",
              "        <td style=\"padding-left: 1em; padding-right: 1em; text-align: center; vertical-align: top\">1999</td>\n",
              "        <td style=\"padding-left: 1em; padding-right: 1em; text-align: center; vertical-align: top\">Dell</td>\n",
              "    </tr>\n",
              "    <tr>\n",
              "        <td style=\"padding-left: 1em; padding-right: 1em; text-align: center; vertical-align: top\">0452264464</td>\n",
              "        <td style=\"padding-left: 1em; padding-right: 1em; text-align: center; vertical-align: top\">Beloved (Plume<br>Contemporary Fiction) ...</td>\n",
              "        <td style=\"padding-left: 1em; padding-right: 1em; text-align: center; vertical-align: top\">Toni Morrison</td>\n",
              "        <td style=\"padding-left: 1em; padding-right: 1em; text-align: center; vertical-align: top\">1994</td>\n",
              "        <td style=\"padding-left: 1em; padding-right: 1em; text-align: center; vertical-align: top\">Plume</td>\n",
              "    </tr>\n",
              "    <tr>\n",
              "        <td style=\"padding-left: 1em; padding-right: 1em; text-align: center; vertical-align: top\">0609804618</td>\n",
              "        <td style=\"padding-left: 1em; padding-right: 1em; text-align: center; vertical-align: top\">Our Dumb Century: The<br>Onion Presents 100 Years ...</td>\n",
              "        <td style=\"padding-left: 1em; padding-right: 1em; text-align: center; vertical-align: top\">The Onion</td>\n",
              "        <td style=\"padding-left: 1em; padding-right: 1em; text-align: center; vertical-align: top\">1999</td>\n",
              "        <td style=\"padding-left: 1em; padding-right: 1em; text-align: center; vertical-align: top\">Three Rivers Press</td>\n",
              "    </tr>\n",
              "    <tr>\n",
              "        <td style=\"padding-left: 1em; padding-right: 1em; text-align: center; vertical-align: top\">1841721522</td>\n",
              "        <td style=\"padding-left: 1em; padding-right: 1em; text-align: center; vertical-align: top\">New Vegetarian: Bold and<br>Beautiful Recipes for ...</td>\n",
              "        <td style=\"padding-left: 1em; padding-right: 1em; text-align: center; vertical-align: top\">Celia Brooks Brown</td>\n",
              "        <td style=\"padding-left: 1em; padding-right: 1em; text-align: center; vertical-align: top\">2001</td>\n",
              "        <td style=\"padding-left: 1em; padding-right: 1em; text-align: center; vertical-align: top\">Ryland Peters &amp;amp; Small<br>Ltd ...</td>\n",
              "    </tr>\n",
              "    <tr>\n",
              "        <td style=\"padding-left: 1em; padding-right: 1em; text-align: center; vertical-align: top\">0439095026</td>\n",
              "        <td style=\"padding-left: 1em; padding-right: 1em; text-align: center; vertical-align: top\">Tell Me This Isn&#x27;t<br>Happening ...</td>\n",
              "        <td style=\"padding-left: 1em; padding-right: 1em; text-align: center; vertical-align: top\">Robynn Clairday</td>\n",
              "        <td style=\"padding-left: 1em; padding-right: 1em; text-align: center; vertical-align: top\">1999</td>\n",
              "        <td style=\"padding-left: 1em; padding-right: 1em; text-align: center; vertical-align: top\">Scholastic</td>\n",
              "    </tr>\n",
              "</table>\n",
              "<table frame=\"box\" rules=\"cols\">\n",
              "    <tr>\n",
              "        <th style=\"padding-left: 1em; padding-right: 1em; text-align: center\">Blurb</th>\n",
              "    </tr>\n",
              "    <tr>\n",
              "        <td style=\"padding-left: 1em; padding-right: 1em; text-align: center; vertical-align: top\">Here, for the first time<br>in paperback, is an ...</td>\n",
              "    </tr>\n",
              "    <tr>\n",
              "        <td style=\"padding-left: 1em; padding-right: 1em; text-align: center; vertical-align: top\">The fascinating, true<br>story of the world&#x27;s ...</td>\n",
              "    </tr>\n",
              "    <tr>\n",
              "        <td style=\"padding-left: 1em; padding-right: 1em; text-align: center; vertical-align: top\">Winnie and Helen have<br>kept each others worst ...</td>\n",
              "    </tr>\n",
              "    <tr>\n",
              "        <td style=\"padding-left: 1em; padding-right: 1em; text-align: center; vertical-align: top\">Historians and<br>inquisitive laymen alike ...</td>\n",
              "    </tr>\n",
              "    <tr>\n",
              "        <td style=\"padding-left: 1em; padding-right: 1em; text-align: center; vertical-align: top\">This highly praised first<br>novel by fiction writer ...</td>\n",
              "    </tr>\n",
              "    <tr>\n",
              "        <td style=\"padding-left: 1em; padding-right: 1em; text-align: center; vertical-align: top\">In a plush Virginia<br>office, a rich, angry ...</td>\n",
              "    </tr>\n",
              "    <tr>\n",
              "        <td style=\"padding-left: 1em; padding-right: 1em; text-align: center; vertical-align: top\">In the troubled years<br>following the Civil War, ...</td>\n",
              "    </tr>\n",
              "    <tr>\n",
              "        <td style=\"padding-left: 1em; padding-right: 1em; text-align: center; vertical-align: top\"> has quickly become the<br>world&#x27;s most popular ...</td>\n",
              "    </tr>\n",
              "    <tr>\n",
              "        <td style=\"padding-left: 1em; padding-right: 1em; text-align: center; vertical-align: top\">Filled with fresh and<br>eclectic recipes by C ...</td>\n",
              "    </tr>\n",
              "    <tr>\n",
              "        <td style=\"padding-left: 1em; padding-right: 1em; text-align: center; vertical-align: top\">Robynn Clairday<br>interviewed kids ...</td>\n",
              "    </tr>\n",
              "</table>\n",
              "[25671 rows x 6 columns]<br/>Note: Only the head of the SFrame is printed.<br/>You can use print_rows(num_rows=m, num_columns=n) to print more rows and columns.\n",
              "</div>"
            ],
            "text/plain": [
              "Columns:\n",
              "\tISBN\tstr\n",
              "\tTitle\tstr\n",
              "\tAuthor\tstr\n",
              "\tYear\tint\n",
              "\tPublisher\tstr\n",
              "\tBlurb\tstr\n",
              "\n",
              "Rows: 25671\n",
              "\n",
              "Data:\n",
              "+------------+-------------------------------+--------------------+------+\n",
              "|    ISBN    |             Title             |       Author       | Year |\n",
              "+------------+-------------------------------+--------------------+------+\n",
              "| 0060973129 |      Decision in Normandy     |    Carlo D'Este    | 1991 |\n",
              "| 0374157065 | Flu: The Story of the Grea... |  Gina Bari Kolata  | 1999 |\n",
              "| 0399135782 |     The Kitchen God's Wife    |      Amy Tan       | 1991 |\n",
              "| 0425176428 | What If?: The World's Fore... |   Robert Cowley    | 2000 |\n",
              "| 1881320189 | Goodbye to the Buttermilk Sky |    Julia Oliver    | 1994 |\n",
              "| 0440234743 |         The Testament         |    John Grisham    | 1999 |\n",
              "| 0452264464 | Beloved (Plume Contemporar... |   Toni Morrison    | 1994 |\n",
              "| 0609804618 | Our Dumb Century: The Onio... |     The Onion      | 1999 |\n",
              "| 1841721522 | New Vegetarian: Bold and B... | Celia Brooks Brown | 2001 |\n",
              "| 0439095026 |  Tell Me This Isn't Happening |  Robynn Clairday   | 1999 |\n",
              "+------------+-------------------------------+--------------------+------+\n",
              "+-------------------------------+-------------------------------+\n",
              "|           Publisher           |             Blurb             |\n",
              "+-------------------------------+-------------------------------+\n",
              "|        HarperPerennial        | Here, for the first time i... |\n",
              "|      Farrar Straus Giroux     | The fascinating, true stor... |\n",
              "|        Putnam Pub Group       | Winnie and Helen have kept... |\n",
              "|    Berkley Publishing Group   | Historians and inquisitive... |\n",
              "|         River City Pub        | This highly praised first ... |\n",
              "|              Dell             | In a plush Virginia office... |\n",
              "|             Plume             | In the troubled years foll... |\n",
              "|       Three Rivers Press      |  has quickly become the wo... |\n",
              "| Ryland Peters &amp; Small Ltd | Filled with fresh and ecle... |\n",
              "|           Scholastic          | Robynn Clairday interviewe... |\n",
              "+-------------------------------+-------------------------------+\n",
              "[25671 rows x 6 columns]\n",
              "Note: Only the head of the SFrame is printed.\n",
              "You can use print_rows(num_rows=m, num_columns=n) to print more rows and columns."
            ]
          },
          "metadata": {
            "tags": []
          },
          "execution_count": 125
        }
      ]
    },
    {
      "cell_type": "markdown",
      "metadata": {
        "id": "oA8TUM_AA695"
      },
      "source": [
        "Remove stopwords & then, empty rows:"
      ]
    },
    {
      "cell_type": "code",
      "metadata": {
        "id": "NjrjcVnVBZm9"
      },
      "source": [
        "books['Blurb'] = turicreate.text_analytics.drop_words(books['Blurb'], threshold=1, to_lower=True, delimiters=['\\r', '\\x0b', '\\n', '\\x0c', '\\t', ' ', '!', '#', '$', '%', '&', \"'\", '\"', '(', ')', '*', '+', ',', '-', '.', '/', ':', ';', '<', '=', '>', '?', '@', '[', '\\\\', ']', '^', '_', '`', '{', '|', '}', '~'], stop_words=turicreate.text_analytics.stop_words())"
      ],
      "execution_count": 126,
      "outputs": []
    },
    {
      "cell_type": "code",
      "metadata": {
        "id": "emvBGK5eBhvM"
      },
      "source": [
        "books = books.dropna()"
      ],
      "execution_count": 127,
      "outputs": []
    },
    {
      "cell_type": "code",
      "metadata": {
        "id": "mcW-8CYhJlpv",
        "outputId": "e60e000d-f30c-4de6-b569-c306b9c36992",
        "colab": {
          "base_uri": "https://localhost:8080/",
          "height": 777
        }
      },
      "source": [
        "books"
      ],
      "execution_count": 128,
      "outputs": [
        {
          "output_type": "execute_result",
          "data": {
            "text/html": [
              "<div style=\"max-height:1000px;max-width:1500px;overflow:auto;\"><table frame=\"box\" rules=\"cols\">\n",
              "    <tr>\n",
              "        <th style=\"padding-left: 1em; padding-right: 1em; text-align: center\">ISBN</th>\n",
              "        <th style=\"padding-left: 1em; padding-right: 1em; text-align: center\">Title</th>\n",
              "        <th style=\"padding-left: 1em; padding-right: 1em; text-align: center\">Author</th>\n",
              "        <th style=\"padding-left: 1em; padding-right: 1em; text-align: center\">Year</th>\n",
              "        <th style=\"padding-left: 1em; padding-right: 1em; text-align: center\">Publisher</th>\n",
              "    </tr>\n",
              "    <tr>\n",
              "        <td style=\"padding-left: 1em; padding-right: 1em; text-align: center; vertical-align: top\">0060973129</td>\n",
              "        <td style=\"padding-left: 1em; padding-right: 1em; text-align: center; vertical-align: top\">Decision in Normandy</td>\n",
              "        <td style=\"padding-left: 1em; padding-right: 1em; text-align: center; vertical-align: top\">Carlo D&#x27;Este</td>\n",
              "        <td style=\"padding-left: 1em; padding-right: 1em; text-align: center; vertical-align: top\">1991</td>\n",
              "        <td style=\"padding-left: 1em; padding-right: 1em; text-align: center; vertical-align: top\">HarperPerennial</td>\n",
              "    </tr>\n",
              "    <tr>\n",
              "        <td style=\"padding-left: 1em; padding-right: 1em; text-align: center; vertical-align: top\">0374157065</td>\n",
              "        <td style=\"padding-left: 1em; padding-right: 1em; text-align: center; vertical-align: top\">Flu: The Story of the<br>Great Influenza Pandemic ...</td>\n",
              "        <td style=\"padding-left: 1em; padding-right: 1em; text-align: center; vertical-align: top\">Gina Bari Kolata</td>\n",
              "        <td style=\"padding-left: 1em; padding-right: 1em; text-align: center; vertical-align: top\">1999</td>\n",
              "        <td style=\"padding-left: 1em; padding-right: 1em; text-align: center; vertical-align: top\">Farrar Straus Giroux</td>\n",
              "    </tr>\n",
              "    <tr>\n",
              "        <td style=\"padding-left: 1em; padding-right: 1em; text-align: center; vertical-align: top\">0399135782</td>\n",
              "        <td style=\"padding-left: 1em; padding-right: 1em; text-align: center; vertical-align: top\">The Kitchen God&#x27;s Wife</td>\n",
              "        <td style=\"padding-left: 1em; padding-right: 1em; text-align: center; vertical-align: top\">Amy Tan</td>\n",
              "        <td style=\"padding-left: 1em; padding-right: 1em; text-align: center; vertical-align: top\">1991</td>\n",
              "        <td style=\"padding-left: 1em; padding-right: 1em; text-align: center; vertical-align: top\">Putnam Pub Group</td>\n",
              "    </tr>\n",
              "    <tr>\n",
              "        <td style=\"padding-left: 1em; padding-right: 1em; text-align: center; vertical-align: top\">0425176428</td>\n",
              "        <td style=\"padding-left: 1em; padding-right: 1em; text-align: center; vertical-align: top\">What If?: The World&#x27;s<br>Foremost Military ...</td>\n",
              "        <td style=\"padding-left: 1em; padding-right: 1em; text-align: center; vertical-align: top\">Robert Cowley</td>\n",
              "        <td style=\"padding-left: 1em; padding-right: 1em; text-align: center; vertical-align: top\">2000</td>\n",
              "        <td style=\"padding-left: 1em; padding-right: 1em; text-align: center; vertical-align: top\">Berkley Publishing Group</td>\n",
              "    </tr>\n",
              "    <tr>\n",
              "        <td style=\"padding-left: 1em; padding-right: 1em; text-align: center; vertical-align: top\">1881320189</td>\n",
              "        <td style=\"padding-left: 1em; padding-right: 1em; text-align: center; vertical-align: top\">Goodbye to the Buttermilk<br>Sky ...</td>\n",
              "        <td style=\"padding-left: 1em; padding-right: 1em; text-align: center; vertical-align: top\">Julia Oliver</td>\n",
              "        <td style=\"padding-left: 1em; padding-right: 1em; text-align: center; vertical-align: top\">1994</td>\n",
              "        <td style=\"padding-left: 1em; padding-right: 1em; text-align: center; vertical-align: top\">River City Pub</td>\n",
              "    </tr>\n",
              "    <tr>\n",
              "        <td style=\"padding-left: 1em; padding-right: 1em; text-align: center; vertical-align: top\">0440234743</td>\n",
              "        <td style=\"padding-left: 1em; padding-right: 1em; text-align: center; vertical-align: top\">The Testament</td>\n",
              "        <td style=\"padding-left: 1em; padding-right: 1em; text-align: center; vertical-align: top\">John Grisham</td>\n",
              "        <td style=\"padding-left: 1em; padding-right: 1em; text-align: center; vertical-align: top\">1999</td>\n",
              "        <td style=\"padding-left: 1em; padding-right: 1em; text-align: center; vertical-align: top\">Dell</td>\n",
              "    </tr>\n",
              "    <tr>\n",
              "        <td style=\"padding-left: 1em; padding-right: 1em; text-align: center; vertical-align: top\">0452264464</td>\n",
              "        <td style=\"padding-left: 1em; padding-right: 1em; text-align: center; vertical-align: top\">Beloved (Plume<br>Contemporary Fiction) ...</td>\n",
              "        <td style=\"padding-left: 1em; padding-right: 1em; text-align: center; vertical-align: top\">Toni Morrison</td>\n",
              "        <td style=\"padding-left: 1em; padding-right: 1em; text-align: center; vertical-align: top\">1994</td>\n",
              "        <td style=\"padding-left: 1em; padding-right: 1em; text-align: center; vertical-align: top\">Plume</td>\n",
              "    </tr>\n",
              "    <tr>\n",
              "        <td style=\"padding-left: 1em; padding-right: 1em; text-align: center; vertical-align: top\">0609804618</td>\n",
              "        <td style=\"padding-left: 1em; padding-right: 1em; text-align: center; vertical-align: top\">Our Dumb Century: The<br>Onion Presents 100 Years ...</td>\n",
              "        <td style=\"padding-left: 1em; padding-right: 1em; text-align: center; vertical-align: top\">The Onion</td>\n",
              "        <td style=\"padding-left: 1em; padding-right: 1em; text-align: center; vertical-align: top\">1999</td>\n",
              "        <td style=\"padding-left: 1em; padding-right: 1em; text-align: center; vertical-align: top\">Three Rivers Press</td>\n",
              "    </tr>\n",
              "    <tr>\n",
              "        <td style=\"padding-left: 1em; padding-right: 1em; text-align: center; vertical-align: top\">1841721522</td>\n",
              "        <td style=\"padding-left: 1em; padding-right: 1em; text-align: center; vertical-align: top\">New Vegetarian: Bold and<br>Beautiful Recipes for ...</td>\n",
              "        <td style=\"padding-left: 1em; padding-right: 1em; text-align: center; vertical-align: top\">Celia Brooks Brown</td>\n",
              "        <td style=\"padding-left: 1em; padding-right: 1em; text-align: center; vertical-align: top\">2001</td>\n",
              "        <td style=\"padding-left: 1em; padding-right: 1em; text-align: center; vertical-align: top\">Ryland Peters &amp;amp; Small<br>Ltd ...</td>\n",
              "    </tr>\n",
              "    <tr>\n",
              "        <td style=\"padding-left: 1em; padding-right: 1em; text-align: center; vertical-align: top\">0439095026</td>\n",
              "        <td style=\"padding-left: 1em; padding-right: 1em; text-align: center; vertical-align: top\">Tell Me This Isn&#x27;t<br>Happening ...</td>\n",
              "        <td style=\"padding-left: 1em; padding-right: 1em; text-align: center; vertical-align: top\">Robynn Clairday</td>\n",
              "        <td style=\"padding-left: 1em; padding-right: 1em; text-align: center; vertical-align: top\">1999</td>\n",
              "        <td style=\"padding-left: 1em; padding-right: 1em; text-align: center; vertical-align: top\">Scholastic</td>\n",
              "    </tr>\n",
              "</table>\n",
              "<table frame=\"box\" rules=\"cols\">\n",
              "    <tr>\n",
              "        <th style=\"padding-left: 1em; padding-right: 1em; text-align: center\">Blurb</th>\n",
              "    </tr>\n",
              "    <tr>\n",
              "        <td style=\"padding-left: 1em; padding-right: 1em; text-align: center; vertical-align: top\">time paperback<br>outstanding military ...</td>\n",
              "    </tr>\n",
              "    <tr>\n",
              "        <td style=\"padding-left: 1em; padding-right: 1em; text-align: center; vertical-align: top\">fascinating true story<br>world deadliest disease ...</td>\n",
              "    </tr>\n",
              "    <tr>\n",
              "        <td style=\"padding-left: 1em; padding-right: 1em; text-align: center; vertical-align: top\">winnie helen worst<br>secrets fifty years ...</td>\n",
              "    </tr>\n",
              "    <tr>\n",
              "        <td style=\"padding-left: 1em; padding-right: 1em; text-align: center; vertical-align: top\">historians inquisitive<br>laymen alike love ponder ...</td>\n",
              "    </tr>\n",
              "    <tr>\n",
              "        <td style=\"padding-left: 1em; padding-right: 1em; text-align: center; vertical-align: top\">highly praised fiction<br>writer julia oliver s ...</td>\n",
              "    </tr>\n",
              "    <tr>\n",
              "        <td style=\"padding-left: 1em; padding-right: 1em; text-align: center; vertical-align: top\">plush virginia office<br>rich angry man furiously ...</td>\n",
              "    </tr>\n",
              "    <tr>\n",
              "        <td style=\"padding-left: 1em; padding-right: 1em; text-align: center; vertical-align: top\">troubled years civil war<br>spirit murdered child ...</td>\n",
              "    </tr>\n",
              "    <tr>\n",
              "        <td style=\"padding-left: 1em; padding-right: 1em; text-align: center; vertical-align: top\">quickly world popular<br>humor publication ...</td>\n",
              "    </tr>\n",
              "    <tr>\n",
              "        <td style=\"padding-left: 1em; padding-right: 1em; text-align: center; vertical-align: top\">filled fresh eclectic<br>recipes celia brooks ...</td>\n",
              "    </tr>\n",
              "    <tr>\n",
              "        <td style=\"padding-left: 1em; padding-right: 1em; text-align: center; vertical-align: top\">robynn clairday<br>interviewed kids america ...</td>\n",
              "    </tr>\n",
              "</table>\n",
              "[? rows x 6 columns]<br/>Note: Only the head of the SFrame is printed. This SFrame is lazily evaluated.<br/>You can use sf.materialize() to force materialization.\n",
              "</div>"
            ],
            "text/plain": [
              "Columns:\n",
              "\tISBN\tstr\n",
              "\tTitle\tstr\n",
              "\tAuthor\tstr\n",
              "\tYear\tint\n",
              "\tPublisher\tstr\n",
              "\tBlurb\tstr\n",
              "\n",
              "Rows: Unknown\n",
              "\n",
              "Data:\n",
              "+------------+-------------------------------+--------------------+------+\n",
              "|    ISBN    |             Title             |       Author       | Year |\n",
              "+------------+-------------------------------+--------------------+------+\n",
              "| 0060973129 |      Decision in Normandy     |    Carlo D'Este    | 1991 |\n",
              "| 0374157065 | Flu: The Story of the Grea... |  Gina Bari Kolata  | 1999 |\n",
              "| 0399135782 |     The Kitchen God's Wife    |      Amy Tan       | 1991 |\n",
              "| 0425176428 | What If?: The World's Fore... |   Robert Cowley    | 2000 |\n",
              "| 1881320189 | Goodbye to the Buttermilk Sky |    Julia Oliver    | 1994 |\n",
              "| 0440234743 |         The Testament         |    John Grisham    | 1999 |\n",
              "| 0452264464 | Beloved (Plume Contemporar... |   Toni Morrison    | 1994 |\n",
              "| 0609804618 | Our Dumb Century: The Onio... |     The Onion      | 1999 |\n",
              "| 1841721522 | New Vegetarian: Bold and B... | Celia Brooks Brown | 2001 |\n",
              "| 0439095026 |  Tell Me This Isn't Happening |  Robynn Clairday   | 1999 |\n",
              "+------------+-------------------------------+--------------------+------+\n",
              "+-------------------------------+-------------------------------+\n",
              "|           Publisher           |             Blurb             |\n",
              "+-------------------------------+-------------------------------+\n",
              "|        HarperPerennial        | time paperback outstanding... |\n",
              "|      Farrar Straus Giroux     | fascinating true story wor... |\n",
              "|        Putnam Pub Group       | winnie helen worst secrets... |\n",
              "|    Berkley Publishing Group   | historians inquisitive lay... |\n",
              "|         River City Pub        | highly praised fiction wri... |\n",
              "|              Dell             | plush virginia office rich... |\n",
              "|             Plume             | troubled years civil war s... |\n",
              "|       Three Rivers Press      | quickly world popular humo... |\n",
              "| Ryland Peters &amp; Small Ltd | filled fresh eclectic reci... |\n",
              "|           Scholastic          | robynn clairday interviewe... |\n",
              "+-------------------------------+-------------------------------+\n",
              "[? rows x 6 columns]\n",
              "Note: Only the head of the SFrame is printed. This SFrame is lazily evaluated.\n",
              "You can use sf.materialize() to force materialization."
            ]
          },
          "metadata": {
            "tags": []
          },
          "execution_count": 128
        }
      ]
    },
    {
      "cell_type": "markdown",
      "metadata": {
        "id": "NsZBFdM2505g"
      },
      "source": [
        "## Extract word count vectors"
      ]
    },
    {
      "cell_type": "markdown",
      "metadata": {
        "id": "hoJFa9nG505g"
      },
      "source": [
        "As we have seen in Course 1, we can extract word count vectors using a Turi Create utility function.  We add this as a column in `wiki` and in `books`."
      ]
    },
    {
      "cell_type": "code",
      "metadata": {
        "id": "qFH3On5s505g"
      },
      "source": [
        "wiki['word_count'] = turicreate.text_analytics.count_words(wiki['text'])"
      ],
      "execution_count": 15,
      "outputs": []
    },
    {
      "cell_type": "code",
      "metadata": {
        "id": "Mvd3Bkon93ut"
      },
      "source": [
        "books['word_count'] = turicreate.text_analytics.count_words(books['Blurb'])"
      ],
      "execution_count": 129,
      "outputs": []
    },
    {
      "cell_type": "code",
      "metadata": {
        "colab": {
          "base_uri": "https://localhost:8080/",
          "height": 449
        },
        "id": "e6-xdax6505g",
        "outputId": "dce3fc32-7cfb-44c5-82a7-01c72b2d8ef6"
      },
      "source": [
        "wiki"
      ],
      "execution_count": 16,
      "outputs": [
        {
          "output_type": "execute_result",
          "data": {
            "text/html": [
              "<div style=\"max-height:1000px;max-width:1500px;overflow:auto;\"><table frame=\"box\" rules=\"cols\">\n",
              "    <tr>\n",
              "        <th style=\"padding-left: 1em; padding-right: 1em; text-align: center\">URI</th>\n",
              "        <th style=\"padding-left: 1em; padding-right: 1em; text-align: center\">name</th>\n",
              "        <th style=\"padding-left: 1em; padding-right: 1em; text-align: center\">text</th>\n",
              "        <th style=\"padding-left: 1em; padding-right: 1em; text-align: center\">word_count</th>\n",
              "    </tr>\n",
              "    <tr>\n",
              "        <td style=\"padding-left: 1em; padding-right: 1em; text-align: center; vertical-align: top\">&lt;http://dbpedia.org/resou<br>rce/Digby_Morrell&gt; ...</td>\n",
              "        <td style=\"padding-left: 1em; padding-right: 1em; text-align: center; vertical-align: top\">Digby Morrell</td>\n",
              "        <td style=\"padding-left: 1em; padding-right: 1em; text-align: center; vertical-align: top\">digby morrell born 10<br>october 1979 is a former ...</td>\n",
              "        <td style=\"padding-left: 1em; padding-right: 1em; text-align: center; vertical-align: top\">{&#x27;melbourne&#x27;: 1.0,<br>&#x27;parade&#x27;: 1.0, ...</td>\n",
              "    </tr>\n",
              "    <tr>\n",
              "        <td style=\"padding-left: 1em; padding-right: 1em; text-align: center; vertical-align: top\">&lt;http://dbpedia.org/resou<br>rce/Alfred_J._Lewy&gt; ...</td>\n",
              "        <td style=\"padding-left: 1em; padding-right: 1em; text-align: center; vertical-align: top\">Alfred J. Lewy</td>\n",
              "        <td style=\"padding-left: 1em; padding-right: 1em; text-align: center; vertical-align: top\">alfred j lewy aka sandy<br>lewy graduated from ...</td>\n",
              "        <td style=\"padding-left: 1em; padding-right: 1em; text-align: center; vertical-align: top\">{&#x27;time&#x27;: 1.0, &#x27;each&#x27;:<br>1.0, &#x27;hour&#x27;: 1.0, ...</td>\n",
              "    </tr>\n",
              "    <tr>\n",
              "        <td style=\"padding-left: 1em; padding-right: 1em; text-align: center; vertical-align: top\">&lt;http://dbpedia.org/resou<br>rce/Harpdog_Brown&gt; ...</td>\n",
              "        <td style=\"padding-left: 1em; padding-right: 1em; text-align: center; vertical-align: top\">Harpdog Brown</td>\n",
              "        <td style=\"padding-left: 1em; padding-right: 1em; text-align: center; vertical-align: top\">harpdog brown is a singer<br>and harmonica player who ...</td>\n",
              "        <td style=\"padding-left: 1em; padding-right: 1em; text-align: center; vertical-align: top\">{&#x27;society&#x27;: 1.0,<br>&#x27;hamilton&#x27;: 1.0, &#x27;to&#x27;: ...</td>\n",
              "    </tr>\n",
              "    <tr>\n",
              "        <td style=\"padding-left: 1em; padding-right: 1em; text-align: center; vertical-align: top\">&lt;http://dbpedia.org/resou<br>rce/Franz_Rottensteiner&gt; ...</td>\n",
              "        <td style=\"padding-left: 1em; padding-right: 1em; text-align: center; vertical-align: top\">Franz Rottensteiner</td>\n",
              "        <td style=\"padding-left: 1em; padding-right: 1em; text-align: center; vertical-align: top\">franz rottensteiner born<br>in waidmannsfeld lower ...</td>\n",
              "        <td style=\"padding-left: 1em; padding-right: 1em; text-align: center; vertical-align: top\">{&#x27;kurdlawitzpreis&#x27;: 1.0,<br>&#x27;awarded&#x27;: 1.0, &#x27;2004&#x27;: ...</td>\n",
              "    </tr>\n",
              "    <tr>\n",
              "        <td style=\"padding-left: 1em; padding-right: 1em; text-align: center; vertical-align: top\">&lt;http://dbpedia.org/resou<br>rce/G-Enka&gt; ...</td>\n",
              "        <td style=\"padding-left: 1em; padding-right: 1em; text-align: center; vertical-align: top\">G-Enka</td>\n",
              "        <td style=\"padding-left: 1em; padding-right: 1em; text-align: center; vertical-align: top\">henry krvits born 30<br>december 1974 in tallinn ...</td>\n",
              "        <td style=\"padding-left: 1em; padding-right: 1em; text-align: center; vertical-align: top\">{&#x27;curtis&#x27;: 1.0, &#x27;2007&#x27;:<br>1.0, &#x27;cent&#x27;: 1.0, ...</td>\n",
              "    </tr>\n",
              "    <tr>\n",
              "        <td style=\"padding-left: 1em; padding-right: 1em; text-align: center; vertical-align: top\">&lt;http://dbpedia.org/resou<br>rce/Sam_Henderson&gt; ...</td>\n",
              "        <td style=\"padding-left: 1em; padding-right: 1em; text-align: center; vertical-align: top\">Sam Henderson</td>\n",
              "        <td style=\"padding-left: 1em; padding-right: 1em; text-align: center; vertical-align: top\">sam henderson born<br>october 18 1969 is an ...</td>\n",
              "        <td style=\"padding-left: 1em; padding-right: 1em; text-align: center; vertical-align: top\">{&#x27;asses&#x27;: 1.0, &#x27;sic&#x27;:<br>1.0, &#x27;toilets&#x27;: 1.0, ...</td>\n",
              "    </tr>\n",
              "    <tr>\n",
              "        <td style=\"padding-left: 1em; padding-right: 1em; text-align: center; vertical-align: top\">&lt;http://dbpedia.org/resou<br>rce/Aaron_LaCrate&gt; ...</td>\n",
              "        <td style=\"padding-left: 1em; padding-right: 1em; text-align: center; vertical-align: top\">Aaron LaCrate</td>\n",
              "        <td style=\"padding-left: 1em; padding-right: 1em; text-align: center; vertical-align: top\">aaron lacrate is an<br>american music producer ...</td>\n",
              "        <td style=\"padding-left: 1em; padding-right: 1em; text-align: center; vertical-align: top\">{&#x27;streamz&#x27;: 1.0,<br>&#x27;including&#x27;: 1.0, ...</td>\n",
              "    </tr>\n",
              "    <tr>\n",
              "        <td style=\"padding-left: 1em; padding-right: 1em; text-align: center; vertical-align: top\">&lt;http://dbpedia.org/resou<br>rce/Trevor_Ferguson&gt; ...</td>\n",
              "        <td style=\"padding-left: 1em; padding-right: 1em; text-align: center; vertical-align: top\">Trevor Ferguson</td>\n",
              "        <td style=\"padding-left: 1em; padding-right: 1em; text-align: center; vertical-align: top\">trevor ferguson aka john<br>farrow born 11 november ...</td>\n",
              "        <td style=\"padding-left: 1em; padding-right: 1em; text-align: center; vertical-align: top\">{&#x27;concordia&#x27;: 1.0,<br>&#x27;creative&#x27;: 1.0, ...</td>\n",
              "    </tr>\n",
              "    <tr>\n",
              "        <td style=\"padding-left: 1em; padding-right: 1em; text-align: center; vertical-align: top\">&lt;http://dbpedia.org/resou<br>rce/Grant_Nelson&gt; ...</td>\n",
              "        <td style=\"padding-left: 1em; padding-right: 1em; text-align: center; vertical-align: top\">Grant Nelson</td>\n",
              "        <td style=\"padding-left: 1em; padding-right: 1em; text-align: center; vertical-align: top\">grant nelson born 27<br>april 1971 in london  ...</td>\n",
              "        <td style=\"padding-left: 1em; padding-right: 1em; text-align: center; vertical-align: top\">{&#x27;heavies&#x27;: 1.0, &#x27;new&#x27;:<br>1.0, &#x27;brand&#x27;: 1.0, ...</td>\n",
              "    </tr>\n",
              "    <tr>\n",
              "        <td style=\"padding-left: 1em; padding-right: 1em; text-align: center; vertical-align: top\">&lt;http://dbpedia.org/resou<br>rce/Cathy_Caruth&gt; ...</td>\n",
              "        <td style=\"padding-left: 1em; padding-right: 1em; text-align: center; vertical-align: top\">Cathy Caruth</td>\n",
              "        <td style=\"padding-left: 1em; padding-right: 1em; text-align: center; vertical-align: top\">cathy caruth born 1955 is<br>frank h t rhodes ...</td>\n",
              "        <td style=\"padding-left: 1em; padding-right: 1em; text-align: center; vertical-align: top\">{&#x27;2002&#x27;: 1.0, &#x27;harvard&#x27;:<br>1.0, &#x27;twentieth&#x27;: 1.0, ...</td>\n",
              "    </tr>\n",
              "</table>\n",
              "[59071 rows x 4 columns]<br/>Note: Only the head of the SFrame is printed.<br/>You can use print_rows(num_rows=m, num_columns=n) to print more rows and columns.\n",
              "</div>"
            ],
            "text/plain": [
              "Columns:\n",
              "\tURI\tstr\n",
              "\tname\tstr\n",
              "\ttext\tstr\n",
              "\tword_count\tdict\n",
              "\n",
              "Rows: 59071\n",
              "\n",
              "Data:\n",
              "+-------------------------------+---------------------+\n",
              "|              URI              |         name        |\n",
              "+-------------------------------+---------------------+\n",
              "| <http://dbpedia.org/resour... |    Digby Morrell    |\n",
              "| <http://dbpedia.org/resour... |    Alfred J. Lewy   |\n",
              "| <http://dbpedia.org/resour... |    Harpdog Brown    |\n",
              "| <http://dbpedia.org/resour... | Franz Rottensteiner |\n",
              "| <http://dbpedia.org/resour... |        G-Enka       |\n",
              "| <http://dbpedia.org/resour... |    Sam Henderson    |\n",
              "| <http://dbpedia.org/resour... |    Aaron LaCrate    |\n",
              "| <http://dbpedia.org/resour... |   Trevor Ferguson   |\n",
              "| <http://dbpedia.org/resour... |     Grant Nelson    |\n",
              "| <http://dbpedia.org/resour... |     Cathy Caruth    |\n",
              "+-------------------------------+---------------------+\n",
              "+-------------------------------+-------------------------------+\n",
              "|              text             |           word_count          |\n",
              "+-------------------------------+-------------------------------+\n",
              "| digby morrell born 10 octo... | {'melbourne': 1.0, 'parade... |\n",
              "| alfred j lewy aka sandy le... | {'time': 1.0, 'each': 1.0,... |\n",
              "| harpdog brown is a singer ... | {'society': 1.0, 'hamilton... |\n",
              "| franz rottensteiner born i... | {'kurdlawitzpreis': 1.0, '... |\n",
              "| henry krvits born 30 decem... | {'curtis': 1.0, '2007': 1.... |\n",
              "| sam henderson born october... | {'asses': 1.0, 'sic': 1.0,... |\n",
              "| aaron lacrate is an americ... | {'streamz': 1.0, 'includin... |\n",
              "| trevor ferguson aka john f... | {'concordia': 1.0, 'creati... |\n",
              "| grant nelson born 27 april... | {'heavies': 1.0, 'new': 1.... |\n",
              "| cathy caruth born 1955 is ... | {'2002': 1.0, 'harvard': 1... |\n",
              "+-------------------------------+-------------------------------+\n",
              "[59071 rows x 4 columns]\n",
              "Note: Only the head of the SFrame is printed.\n",
              "You can use print_rows(num_rows=m, num_columns=n) to print more rows and columns."
            ]
          },
          "metadata": {
            "tags": []
          },
          "execution_count": 16
        }
      ]
    },
    {
      "cell_type": "code",
      "metadata": {
        "colab": {
          "base_uri": "https://localhost:8080/",
          "height": 777
        },
        "id": "yEDLCLHT-Cb_",
        "outputId": "ccd7731a-d28c-4afe-ce0c-b8528b267a75"
      },
      "source": [
        "books"
      ],
      "execution_count": 130,
      "outputs": [
        {
          "output_type": "execute_result",
          "data": {
            "text/html": [
              "<div style=\"max-height:1000px;max-width:1500px;overflow:auto;\"><table frame=\"box\" rules=\"cols\">\n",
              "    <tr>\n",
              "        <th style=\"padding-left: 1em; padding-right: 1em; text-align: center\">ISBN</th>\n",
              "        <th style=\"padding-left: 1em; padding-right: 1em; text-align: center\">Title</th>\n",
              "        <th style=\"padding-left: 1em; padding-right: 1em; text-align: center\">Author</th>\n",
              "        <th style=\"padding-left: 1em; padding-right: 1em; text-align: center\">Year</th>\n",
              "        <th style=\"padding-left: 1em; padding-right: 1em; text-align: center\">Publisher</th>\n",
              "    </tr>\n",
              "    <tr>\n",
              "        <td style=\"padding-left: 1em; padding-right: 1em; text-align: center; vertical-align: top\">0060973129</td>\n",
              "        <td style=\"padding-left: 1em; padding-right: 1em; text-align: center; vertical-align: top\">Decision in Normandy</td>\n",
              "        <td style=\"padding-left: 1em; padding-right: 1em; text-align: center; vertical-align: top\">Carlo D&#x27;Este</td>\n",
              "        <td style=\"padding-left: 1em; padding-right: 1em; text-align: center; vertical-align: top\">1991</td>\n",
              "        <td style=\"padding-left: 1em; padding-right: 1em; text-align: center; vertical-align: top\">HarperPerennial</td>\n",
              "    </tr>\n",
              "    <tr>\n",
              "        <td style=\"padding-left: 1em; padding-right: 1em; text-align: center; vertical-align: top\">0374157065</td>\n",
              "        <td style=\"padding-left: 1em; padding-right: 1em; text-align: center; vertical-align: top\">Flu: The Story of the<br>Great Influenza Pandemic ...</td>\n",
              "        <td style=\"padding-left: 1em; padding-right: 1em; text-align: center; vertical-align: top\">Gina Bari Kolata</td>\n",
              "        <td style=\"padding-left: 1em; padding-right: 1em; text-align: center; vertical-align: top\">1999</td>\n",
              "        <td style=\"padding-left: 1em; padding-right: 1em; text-align: center; vertical-align: top\">Farrar Straus Giroux</td>\n",
              "    </tr>\n",
              "    <tr>\n",
              "        <td style=\"padding-left: 1em; padding-right: 1em; text-align: center; vertical-align: top\">0399135782</td>\n",
              "        <td style=\"padding-left: 1em; padding-right: 1em; text-align: center; vertical-align: top\">The Kitchen God&#x27;s Wife</td>\n",
              "        <td style=\"padding-left: 1em; padding-right: 1em; text-align: center; vertical-align: top\">Amy Tan</td>\n",
              "        <td style=\"padding-left: 1em; padding-right: 1em; text-align: center; vertical-align: top\">1991</td>\n",
              "        <td style=\"padding-left: 1em; padding-right: 1em; text-align: center; vertical-align: top\">Putnam Pub Group</td>\n",
              "    </tr>\n",
              "    <tr>\n",
              "        <td style=\"padding-left: 1em; padding-right: 1em; text-align: center; vertical-align: top\">0425176428</td>\n",
              "        <td style=\"padding-left: 1em; padding-right: 1em; text-align: center; vertical-align: top\">What If?: The World&#x27;s<br>Foremost Military ...</td>\n",
              "        <td style=\"padding-left: 1em; padding-right: 1em; text-align: center; vertical-align: top\">Robert Cowley</td>\n",
              "        <td style=\"padding-left: 1em; padding-right: 1em; text-align: center; vertical-align: top\">2000</td>\n",
              "        <td style=\"padding-left: 1em; padding-right: 1em; text-align: center; vertical-align: top\">Berkley Publishing Group</td>\n",
              "    </tr>\n",
              "    <tr>\n",
              "        <td style=\"padding-left: 1em; padding-right: 1em; text-align: center; vertical-align: top\">1881320189</td>\n",
              "        <td style=\"padding-left: 1em; padding-right: 1em; text-align: center; vertical-align: top\">Goodbye to the Buttermilk<br>Sky ...</td>\n",
              "        <td style=\"padding-left: 1em; padding-right: 1em; text-align: center; vertical-align: top\">Julia Oliver</td>\n",
              "        <td style=\"padding-left: 1em; padding-right: 1em; text-align: center; vertical-align: top\">1994</td>\n",
              "        <td style=\"padding-left: 1em; padding-right: 1em; text-align: center; vertical-align: top\">River City Pub</td>\n",
              "    </tr>\n",
              "    <tr>\n",
              "        <td style=\"padding-left: 1em; padding-right: 1em; text-align: center; vertical-align: top\">0440234743</td>\n",
              "        <td style=\"padding-left: 1em; padding-right: 1em; text-align: center; vertical-align: top\">The Testament</td>\n",
              "        <td style=\"padding-left: 1em; padding-right: 1em; text-align: center; vertical-align: top\">John Grisham</td>\n",
              "        <td style=\"padding-left: 1em; padding-right: 1em; text-align: center; vertical-align: top\">1999</td>\n",
              "        <td style=\"padding-left: 1em; padding-right: 1em; text-align: center; vertical-align: top\">Dell</td>\n",
              "    </tr>\n",
              "    <tr>\n",
              "        <td style=\"padding-left: 1em; padding-right: 1em; text-align: center; vertical-align: top\">0452264464</td>\n",
              "        <td style=\"padding-left: 1em; padding-right: 1em; text-align: center; vertical-align: top\">Beloved (Plume<br>Contemporary Fiction) ...</td>\n",
              "        <td style=\"padding-left: 1em; padding-right: 1em; text-align: center; vertical-align: top\">Toni Morrison</td>\n",
              "        <td style=\"padding-left: 1em; padding-right: 1em; text-align: center; vertical-align: top\">1994</td>\n",
              "        <td style=\"padding-left: 1em; padding-right: 1em; text-align: center; vertical-align: top\">Plume</td>\n",
              "    </tr>\n",
              "    <tr>\n",
              "        <td style=\"padding-left: 1em; padding-right: 1em; text-align: center; vertical-align: top\">0609804618</td>\n",
              "        <td style=\"padding-left: 1em; padding-right: 1em; text-align: center; vertical-align: top\">Our Dumb Century: The<br>Onion Presents 100 Years ...</td>\n",
              "        <td style=\"padding-left: 1em; padding-right: 1em; text-align: center; vertical-align: top\">The Onion</td>\n",
              "        <td style=\"padding-left: 1em; padding-right: 1em; text-align: center; vertical-align: top\">1999</td>\n",
              "        <td style=\"padding-left: 1em; padding-right: 1em; text-align: center; vertical-align: top\">Three Rivers Press</td>\n",
              "    </tr>\n",
              "    <tr>\n",
              "        <td style=\"padding-left: 1em; padding-right: 1em; text-align: center; vertical-align: top\">1841721522</td>\n",
              "        <td style=\"padding-left: 1em; padding-right: 1em; text-align: center; vertical-align: top\">New Vegetarian: Bold and<br>Beautiful Recipes for ...</td>\n",
              "        <td style=\"padding-left: 1em; padding-right: 1em; text-align: center; vertical-align: top\">Celia Brooks Brown</td>\n",
              "        <td style=\"padding-left: 1em; padding-right: 1em; text-align: center; vertical-align: top\">2001</td>\n",
              "        <td style=\"padding-left: 1em; padding-right: 1em; text-align: center; vertical-align: top\">Ryland Peters &amp;amp; Small<br>Ltd ...</td>\n",
              "    </tr>\n",
              "    <tr>\n",
              "        <td style=\"padding-left: 1em; padding-right: 1em; text-align: center; vertical-align: top\">0439095026</td>\n",
              "        <td style=\"padding-left: 1em; padding-right: 1em; text-align: center; vertical-align: top\">Tell Me This Isn&#x27;t<br>Happening ...</td>\n",
              "        <td style=\"padding-left: 1em; padding-right: 1em; text-align: center; vertical-align: top\">Robynn Clairday</td>\n",
              "        <td style=\"padding-left: 1em; padding-right: 1em; text-align: center; vertical-align: top\">1999</td>\n",
              "        <td style=\"padding-left: 1em; padding-right: 1em; text-align: center; vertical-align: top\">Scholastic</td>\n",
              "    </tr>\n",
              "</table>\n",
              "<table frame=\"box\" rules=\"cols\">\n",
              "    <tr>\n",
              "        <th style=\"padding-left: 1em; padding-right: 1em; text-align: center\">Blurb</th>\n",
              "        <th style=\"padding-left: 1em; padding-right: 1em; text-align: center\">word_count</th>\n",
              "    </tr>\n",
              "    <tr>\n",
              "        <td style=\"padding-left: 1em; padding-right: 1em; text-align: center; vertical-align: top\">time paperback<br>outstanding military ...</td>\n",
              "        <td style=\"padding-left: 1em; padding-right: 1em; text-align: center; vertical-align: top\">{&#x27;normandy&#x27;: 1.0, &#x27;day&#x27;:<br>1.0, &#x27;began&#x27;: 1.0, ...</td>\n",
              "    </tr>\n",
              "    <tr>\n",
              "        <td style=\"padding-left: 1em; padding-right: 1em; text-align: center; vertical-align: top\">fascinating true story<br>world deadliest disease ...</td>\n",
              "        <td style=\"padding-left: 1em; padding-right: 1em; text-align: center; vertical-align: top\">{&#x27;recurring&#x27;: 1.0,<br>&#x27;addresses&#x27;: 1.0, ...</td>\n",
              "    </tr>\n",
              "    <tr>\n",
              "        <td style=\"padding-left: 1em; padding-right: 1em; text-align: center; vertical-align: top\">winnie helen worst<br>secrets fifty years ...</td>\n",
              "        <td style=\"padding-left: 1em; padding-right: 1em; text-align: center; vertical-align: top\">{&#x27;led&#x27;: 1.0, &#x27;america&#x27;:<br>1.0, &#x27;desperate&#x27;: 1.0, ...</td>\n",
              "    </tr>\n",
              "    <tr>\n",
              "        <td style=\"padding-left: 1em; padding-right: 1em; text-align: center; vertical-align: top\">historians inquisitive<br>laymen alike love ponder ...</td>\n",
              "        <td style=\"padding-left: 1em; padding-right: 1em; text-align: center; vertical-align: top\">{&#x27;frightening&#x27;: 1.0,<br>&#x27;surprising&#x27;: 1.0, ...</td>\n",
              "    </tr>\n",
              "    <tr>\n",
              "        <td style=\"padding-left: 1em; padding-right: 1em; text-align: center; vertical-align: top\">highly praised fiction<br>writer julia oliver s ...</td>\n",
              "        <td style=\"padding-left: 1em; padding-right: 1em; text-align: center; vertical-align: top\">{&#x27;word&#x27;: 1.0,<br>&#x27;captivates&#x27;: 1.0, ...</td>\n",
              "    </tr>\n",
              "    <tr>\n",
              "        <td style=\"padding-left: 1em; padding-right: 1em; text-align: center; vertical-align: top\">plush virginia office<br>rich angry man furiously ...</td>\n",
              "        <td style=\"padding-left: 1em; padding-right: 1em; text-align: center; vertical-align: top\">{&#x27;holds&#x27;: 1.0, &#x27;friends&#x27;:<br>1.0, &#x27;enemies&#x27;: 1.0, ...</td>\n",
              "    </tr>\n",
              "    <tr>\n",
              "        <td style=\"padding-left: 1em; padding-right: 1em; text-align: center; vertical-align: top\">troubled years civil war<br>spirit murdered child ...</td>\n",
              "        <td style=\"padding-left: 1em; padding-right: 1em; text-align: center; vertical-align: top\">{&#x27;wilber&#x27;: 1.0,<br>&#x27;measured&#x27;: 1.0, ...</td>\n",
              "    </tr>\n",
              "    <tr>\n",
              "        <td style=\"padding-left: 1em; padding-right: 1em; text-align: center; vertical-align: top\">quickly world popular<br>humor publication ...</td>\n",
              "        <td style=\"padding-left: 1em; padding-right: 1em; text-align: center; vertical-align: top\">{&#x27;ve&#x27;: 1.0, &#x27;century&#x27;:<br>1.0, &#x27;twentieth&#x27;: 1.0, ...</td>\n",
              "    </tr>\n",
              "    <tr>\n",
              "        <td style=\"padding-left: 1em; padding-right: 1em; text-align: center; vertical-align: top\">filled fresh eclectic<br>recipes celia brooks ...</td>\n",
              "        <td style=\"padding-left: 1em; padding-right: 1em; text-align: center; vertical-align: top\">{&#x27;tempt&#x27;: 1.0,<br>&#x27;enthusiasm&#x27;: 1.0, ...</td>\n",
              "    </tr>\n",
              "    <tr>\n",
              "        <td style=\"padding-left: 1em; padding-right: 1em; text-align: center; vertical-align: top\">robynn clairday<br>interviewed kids america ...</td>\n",
              "        <td style=\"padding-left: 1em; padding-right: 1em; text-align: center; vertical-align: top\">{&#x27;embarrassment&#x27;: 1.0,<br>&#x27;dealing&#x27;: 1.0, ...</td>\n",
              "    </tr>\n",
              "</table>\n",
              "[25671 rows x 7 columns]<br/>Note: Only the head of the SFrame is printed.<br/>You can use print_rows(num_rows=m, num_columns=n) to print more rows and columns.\n",
              "</div>"
            ],
            "text/plain": [
              "Columns:\n",
              "\tISBN\tstr\n",
              "\tTitle\tstr\n",
              "\tAuthor\tstr\n",
              "\tYear\tint\n",
              "\tPublisher\tstr\n",
              "\tBlurb\tstr\n",
              "\tword_count\tdict\n",
              "\n",
              "Rows: 25671\n",
              "\n",
              "Data:\n",
              "+------------+-------------------------------+--------------------+------+\n",
              "|    ISBN    |             Title             |       Author       | Year |\n",
              "+------------+-------------------------------+--------------------+------+\n",
              "| 0060973129 |      Decision in Normandy     |    Carlo D'Este    | 1991 |\n",
              "| 0374157065 | Flu: The Story of the Grea... |  Gina Bari Kolata  | 1999 |\n",
              "| 0399135782 |     The Kitchen God's Wife    |      Amy Tan       | 1991 |\n",
              "| 0425176428 | What If?: The World's Fore... |   Robert Cowley    | 2000 |\n",
              "| 1881320189 | Goodbye to the Buttermilk Sky |    Julia Oliver    | 1994 |\n",
              "| 0440234743 |         The Testament         |    John Grisham    | 1999 |\n",
              "| 0452264464 | Beloved (Plume Contemporar... |   Toni Morrison    | 1994 |\n",
              "| 0609804618 | Our Dumb Century: The Onio... |     The Onion      | 1999 |\n",
              "| 1841721522 | New Vegetarian: Bold and B... | Celia Brooks Brown | 2001 |\n",
              "| 0439095026 |  Tell Me This Isn't Happening |  Robynn Clairday   | 1999 |\n",
              "+------------+-------------------------------+--------------------+------+\n",
              "+-------------------------------+-------------------------------+\n",
              "|           Publisher           |             Blurb             |\n",
              "+-------------------------------+-------------------------------+\n",
              "|        HarperPerennial        | time paperback outstanding... |\n",
              "|      Farrar Straus Giroux     | fascinating true story wor... |\n",
              "|        Putnam Pub Group       | winnie helen worst secrets... |\n",
              "|    Berkley Publishing Group   | historians inquisitive lay... |\n",
              "|         River City Pub        | highly praised fiction wri... |\n",
              "|              Dell             | plush virginia office rich... |\n",
              "|             Plume             | troubled years civil war s... |\n",
              "|       Three Rivers Press      | quickly world popular humo... |\n",
              "| Ryland Peters &amp; Small Ltd | filled fresh eclectic reci... |\n",
              "|           Scholastic          | robynn clairday interviewe... |\n",
              "+-------------------------------+-------------------------------+\n",
              "+-------------------------------+\n",
              "|           word_count          |\n",
              "+-------------------------------+\n",
              "| {'normandy': 1.0, 'day': 1... |\n",
              "| {'recurring': 1.0, 'addres... |\n",
              "| {'led': 1.0, 'america': 1.... |\n",
              "| {'frightening': 1.0, 'surp... |\n",
              "| {'word': 1.0, 'captivates'... |\n",
              "| {'holds': 1.0, 'friends': ... |\n",
              "| {'wilber': 1.0, 'measured'... |\n",
              "| {'ve': 1.0, 'century': 1.0... |\n",
              "| {'tempt': 1.0, 'enthusiasm... |\n",
              "| {'embarrassment': 1.0, 'de... |\n",
              "+-------------------------------+\n",
              "[25671 rows x 7 columns]\n",
              "Note: Only the head of the SFrame is printed.\n",
              "You can use print_rows(num_rows=m, num_columns=n) to print more rows and columns."
            ]
          },
          "metadata": {
            "tags": []
          },
          "execution_count": 130
        }
      ]
    },
    {
      "cell_type": "markdown",
      "metadata": {
        "id": "SzWAZBBc505g"
      },
      "source": [
        "## Find nearest neighbors"
      ]
    },
    {
      "cell_type": "markdown",
      "metadata": {
        "id": "2B1NDQHY505g"
      },
      "source": [
        "Let's start by\n",
        "- finding the nearest neighbors of the Barack Obama page using the word count vectors to represent the articles and Euclidean distance to measure distance.\n",
        "- finding the nearest neighbors for a certain combination of \"Big 5\" personality traits, using the word count vectors to represent the book blurbs and Euclidean distance to measure distance.\n",
        "\n",
        "For this, again will we use a Turi Create implementation of nearest neighbor search."
      ]
    },
    {
      "cell_type": "code",
      "metadata": {
        "colab": {
          "base_uri": "https://localhost:8080/",
          "height": 104
        },
        "id": "zGeVKcfl505h",
        "outputId": "29db5fe4-6b1c-4464-ddcd-3ded57e0383a"
      },
      "source": [
        "model_wiki = turicreate.nearest_neighbors.create(wiki, label='name', features=['word_count'],\n",
        "                                            method='brute_force', distance='euclidean')"
      ],
      "execution_count": 18,
      "outputs": [
        {
          "output_type": "display_data",
          "data": {
            "text/html": [
              "<pre>Starting brute force nearest neighbors model training.</pre>"
            ],
            "text/plain": [
              "Starting brute force nearest neighbors model training."
            ]
          },
          "metadata": {
            "tags": []
          }
        },
        {
          "output_type": "display_data",
          "data": {
            "text/html": [
              "<pre>Validating distance components.</pre>"
            ],
            "text/plain": [
              "Validating distance components."
            ]
          },
          "metadata": {
            "tags": []
          }
        },
        {
          "output_type": "display_data",
          "data": {
            "text/html": [
              "<pre>Initializing model data.</pre>"
            ],
            "text/plain": [
              "Initializing model data."
            ]
          },
          "metadata": {
            "tags": []
          }
        },
        {
          "output_type": "display_data",
          "data": {
            "text/html": [
              "<pre>Initializing distances.</pre>"
            ],
            "text/plain": [
              "Initializing distances."
            ]
          },
          "metadata": {
            "tags": []
          }
        },
        {
          "output_type": "display_data",
          "data": {
            "text/html": [
              "<pre>Done.</pre>"
            ],
            "text/plain": [
              "Done."
            ]
          },
          "metadata": {
            "tags": []
          }
        }
      ]
    },
    {
      "cell_type": "code",
      "metadata": {
        "colab": {
          "base_uri": "https://localhost:8080/",
          "height": 104
        },
        "id": "50wd5-de-a-g",
        "outputId": "39c5c45c-0c5e-45b4-80ee-1c6a872a8105"
      },
      "source": [
        "model_books = turicreate.nearest_neighbors.create(books, label='Title', features=['word_count'],\n",
        "                                            method='brute_force', distance='cosine')"
      ],
      "execution_count": 112,
      "outputs": [
        {
          "output_type": "display_data",
          "data": {
            "text/html": [
              "<pre>Starting brute force nearest neighbors model training.</pre>"
            ],
            "text/plain": [
              "Starting brute force nearest neighbors model training."
            ]
          },
          "metadata": {
            "tags": []
          }
        },
        {
          "output_type": "display_data",
          "data": {
            "text/html": [
              "<pre>Validating distance components.</pre>"
            ],
            "text/plain": [
              "Validating distance components."
            ]
          },
          "metadata": {
            "tags": []
          }
        },
        {
          "output_type": "display_data",
          "data": {
            "text/html": [
              "<pre>Initializing model data.</pre>"
            ],
            "text/plain": [
              "Initializing model data."
            ]
          },
          "metadata": {
            "tags": []
          }
        },
        {
          "output_type": "display_data",
          "data": {
            "text/html": [
              "<pre>Initializing distances.</pre>"
            ],
            "text/plain": [
              "Initializing distances."
            ]
          },
          "metadata": {
            "tags": []
          }
        },
        {
          "output_type": "display_data",
          "data": {
            "text/html": [
              "<pre>Done.</pre>"
            ],
            "text/plain": [
              "Done."
            ]
          },
          "metadata": {
            "tags": []
          }
        }
      ]
    },
    {
      "cell_type": "markdown",
      "metadata": {
        "id": "7YG5E4Ce505h"
      },
      "source": [
        "Let's look at the top 10 nearest neighbors by performing the following query:"
      ]
    },
    {
      "cell_type": "code",
      "metadata": {
        "scrolled": false,
        "colab": {
          "base_uri": "https://localhost:8080/",
          "height": 380
        },
        "id": "zs228MbL505h",
        "outputId": "b01e6c39-ddd0-4f8f-bb94-aa5d938987da"
      },
      "source": [
        "model_wiki.query(wiki[wiki['name']=='Barack Obama'], label='name', k=10)"
      ],
      "execution_count": 19,
      "outputs": [
        {
          "output_type": "display_data",
          "data": {
            "text/html": [
              "<pre>Starting pairwise querying.</pre>"
            ],
            "text/plain": [
              "Starting pairwise querying."
            ]
          },
          "metadata": {
            "tags": []
          }
        },
        {
          "output_type": "display_data",
          "data": {
            "text/html": [
              "<pre>+--------------+---------+-------------+--------------+</pre>"
            ],
            "text/plain": [
              "+--------------+---------+-------------+--------------+"
            ]
          },
          "metadata": {
            "tags": []
          }
        },
        {
          "output_type": "display_data",
          "data": {
            "text/html": [
              "<pre>| Query points | # Pairs | % Complete. | Elapsed Time |</pre>"
            ],
            "text/plain": [
              "| Query points | # Pairs | % Complete. | Elapsed Time |"
            ]
          },
          "metadata": {
            "tags": []
          }
        },
        {
          "output_type": "display_data",
          "data": {
            "text/html": [
              "<pre>+--------------+---------+-------------+--------------+</pre>"
            ],
            "text/plain": [
              "+--------------+---------+-------------+--------------+"
            ]
          },
          "metadata": {
            "tags": []
          }
        },
        {
          "output_type": "display_data",
          "data": {
            "text/html": [
              "<pre>| 0            | 1       | 0.00169288  | 7.735ms      |</pre>"
            ],
            "text/plain": [
              "| 0            | 1       | 0.00169288  | 7.735ms      |"
            ]
          },
          "metadata": {
            "tags": []
          }
        },
        {
          "output_type": "display_data",
          "data": {
            "text/html": [
              "<pre>| Done         |         | 100         | 478.357ms    |</pre>"
            ],
            "text/plain": [
              "| Done         |         | 100         | 478.357ms    |"
            ]
          },
          "metadata": {
            "tags": []
          }
        },
        {
          "output_type": "display_data",
          "data": {
            "text/html": [
              "<pre>+--------------+---------+-------------+--------------+</pre>"
            ],
            "text/plain": [
              "+--------------+---------+-------------+--------------+"
            ]
          },
          "metadata": {
            "tags": []
          }
        },
        {
          "output_type": "execute_result",
          "data": {
            "text/html": [
              "<div style=\"max-height:1000px;max-width:1500px;overflow:auto;\"><table frame=\"box\" rules=\"cols\">\n",
              "    <tr>\n",
              "        <th style=\"padding-left: 1em; padding-right: 1em; text-align: center\">query_label</th>\n",
              "        <th style=\"padding-left: 1em; padding-right: 1em; text-align: center\">reference_label</th>\n",
              "        <th style=\"padding-left: 1em; padding-right: 1em; text-align: center\">distance</th>\n",
              "        <th style=\"padding-left: 1em; padding-right: 1em; text-align: center\">rank</th>\n",
              "    </tr>\n",
              "    <tr>\n",
              "        <td style=\"padding-left: 1em; padding-right: 1em; text-align: center; vertical-align: top\">Barack Obama</td>\n",
              "        <td style=\"padding-left: 1em; padding-right: 1em; text-align: center; vertical-align: top\">Barack Obama</td>\n",
              "        <td style=\"padding-left: 1em; padding-right: 1em; text-align: center; vertical-align: top\">0.0</td>\n",
              "        <td style=\"padding-left: 1em; padding-right: 1em; text-align: center; vertical-align: top\">1</td>\n",
              "    </tr>\n",
              "    <tr>\n",
              "        <td style=\"padding-left: 1em; padding-right: 1em; text-align: center; vertical-align: top\">Barack Obama</td>\n",
              "        <td style=\"padding-left: 1em; padding-right: 1em; text-align: center; vertical-align: top\">Joe Biden</td>\n",
              "        <td style=\"padding-left: 1em; padding-right: 1em; text-align: center; vertical-align: top\">33.075670817082454</td>\n",
              "        <td style=\"padding-left: 1em; padding-right: 1em; text-align: center; vertical-align: top\">2</td>\n",
              "    </tr>\n",
              "    <tr>\n",
              "        <td style=\"padding-left: 1em; padding-right: 1em; text-align: center; vertical-align: top\">Barack Obama</td>\n",
              "        <td style=\"padding-left: 1em; padding-right: 1em; text-align: center; vertical-align: top\">George W. Bush</td>\n",
              "        <td style=\"padding-left: 1em; padding-right: 1em; text-align: center; vertical-align: top\">34.39476704383968</td>\n",
              "        <td style=\"padding-left: 1em; padding-right: 1em; text-align: center; vertical-align: top\">3</td>\n",
              "    </tr>\n",
              "    <tr>\n",
              "        <td style=\"padding-left: 1em; padding-right: 1em; text-align: center; vertical-align: top\">Barack Obama</td>\n",
              "        <td style=\"padding-left: 1em; padding-right: 1em; text-align: center; vertical-align: top\">Lawrence Summers</td>\n",
              "        <td style=\"padding-left: 1em; padding-right: 1em; text-align: center; vertical-align: top\">36.15245496505044</td>\n",
              "        <td style=\"padding-left: 1em; padding-right: 1em; text-align: center; vertical-align: top\">4</td>\n",
              "    </tr>\n",
              "    <tr>\n",
              "        <td style=\"padding-left: 1em; padding-right: 1em; text-align: center; vertical-align: top\">Barack Obama</td>\n",
              "        <td style=\"padding-left: 1em; padding-right: 1em; text-align: center; vertical-align: top\">Mitt Romney</td>\n",
              "        <td style=\"padding-left: 1em; padding-right: 1em; text-align: center; vertical-align: top\">36.16628264005025</td>\n",
              "        <td style=\"padding-left: 1em; padding-right: 1em; text-align: center; vertical-align: top\">5</td>\n",
              "    </tr>\n",
              "    <tr>\n",
              "        <td style=\"padding-left: 1em; padding-right: 1em; text-align: center; vertical-align: top\">Barack Obama</td>\n",
              "        <td style=\"padding-left: 1em; padding-right: 1em; text-align: center; vertical-align: top\">Francisco Barrio</td>\n",
              "        <td style=\"padding-left: 1em; padding-right: 1em; text-align: center; vertical-align: top\">36.3318042491699</td>\n",
              "        <td style=\"padding-left: 1em; padding-right: 1em; text-align: center; vertical-align: top\">6</td>\n",
              "    </tr>\n",
              "    <tr>\n",
              "        <td style=\"padding-left: 1em; padding-right: 1em; text-align: center; vertical-align: top\">Barack Obama</td>\n",
              "        <td style=\"padding-left: 1em; padding-right: 1em; text-align: center; vertical-align: top\">Walter Mondale</td>\n",
              "        <td style=\"padding-left: 1em; padding-right: 1em; text-align: center; vertical-align: top\">36.40054944640259</td>\n",
              "        <td style=\"padding-left: 1em; padding-right: 1em; text-align: center; vertical-align: top\">7</td>\n",
              "    </tr>\n",
              "    <tr>\n",
              "        <td style=\"padding-left: 1em; padding-right: 1em; text-align: center; vertical-align: top\">Barack Obama</td>\n",
              "        <td style=\"padding-left: 1em; padding-right: 1em; text-align: center; vertical-align: top\">Wynn Normington Hugh-<br>Jones ...</td>\n",
              "        <td style=\"padding-left: 1em; padding-right: 1em; text-align: center; vertical-align: top\">36.49657518178932</td>\n",
              "        <td style=\"padding-left: 1em; padding-right: 1em; text-align: center; vertical-align: top\">8</td>\n",
              "    </tr>\n",
              "    <tr>\n",
              "        <td style=\"padding-left: 1em; padding-right: 1em; text-align: center; vertical-align: top\">Barack Obama</td>\n",
              "        <td style=\"padding-left: 1em; padding-right: 1em; text-align: center; vertical-align: top\">Don Bonker</td>\n",
              "        <td style=\"padding-left: 1em; padding-right: 1em; text-align: center; vertical-align: top\">36.6333181680284</td>\n",
              "        <td style=\"padding-left: 1em; padding-right: 1em; text-align: center; vertical-align: top\">9</td>\n",
              "    </tr>\n",
              "    <tr>\n",
              "        <td style=\"padding-left: 1em; padding-right: 1em; text-align: center; vertical-align: top\">Barack Obama</td>\n",
              "        <td style=\"padding-left: 1em; padding-right: 1em; text-align: center; vertical-align: top\">Andy Anstett</td>\n",
              "        <td style=\"padding-left: 1em; padding-right: 1em; text-align: center; vertical-align: top\">36.959437225152655</td>\n",
              "        <td style=\"padding-left: 1em; padding-right: 1em; text-align: center; vertical-align: top\">10</td>\n",
              "    </tr>\n",
              "</table>\n",
              "[10 rows x 4 columns]<br/>\n",
              "</div>"
            ],
            "text/plain": [
              "Columns:\n",
              "\tquery_label\tstr\n",
              "\treference_label\tstr\n",
              "\tdistance\tfloat\n",
              "\trank\tint\n",
              "\n",
              "Rows: 10\n",
              "\n",
              "Data:\n",
              "+--------------+----------------------------+--------------------+------+\n",
              "| query_label  |      reference_label       |      distance      | rank |\n",
              "+--------------+----------------------------+--------------------+------+\n",
              "| Barack Obama |        Barack Obama        |        0.0         |  1   |\n",
              "| Barack Obama |         Joe Biden          | 33.075670817082454 |  2   |\n",
              "| Barack Obama |       George W. Bush       | 34.39476704383968  |  3   |\n",
              "| Barack Obama |      Lawrence Summers      | 36.15245496505044  |  4   |\n",
              "| Barack Obama |        Mitt Romney         | 36.16628264005025  |  5   |\n",
              "| Barack Obama |      Francisco Barrio      |  36.3318042491699  |  6   |\n",
              "| Barack Obama |       Walter Mondale       | 36.40054944640259  |  7   |\n",
              "| Barack Obama | Wynn Normington Hugh-Jones | 36.49657518178932  |  8   |\n",
              "| Barack Obama |         Don Bonker         |  36.6333181680284  |  9   |\n",
              "| Barack Obama |        Andy Anstett        | 36.959437225152655 |  10  |\n",
              "+--------------+----------------------------+--------------------+------+\n",
              "[10 rows x 4 columns]"
            ]
          },
          "metadata": {
            "tags": []
          },
          "execution_count": 19
        }
      ]
    },
    {
      "cell_type": "code",
      "metadata": {
        "id": "8ad-ZErvJKm5",
        "outputId": "115495b0-26f8-49ad-ee98-0e7265bf755e",
        "colab": {
          "base_uri": "https://localhost:8080/",
          "height": 181
        }
      },
      "source": [
        "books[books['Title']=='The Testament']"
      ],
      "execution_count": 110,
      "outputs": [
        {
          "output_type": "execute_result",
          "data": {
            "text/html": [
              "<div style=\"max-height:1000px;max-width:1500px;overflow:auto;\"><table frame=\"box\" rules=\"cols\">\n",
              "    <tr>\n",
              "        <th style=\"padding-left: 1em; padding-right: 1em; text-align: center\">ISBN</th>\n",
              "        <th style=\"padding-left: 1em; padding-right: 1em; text-align: center\">Title</th>\n",
              "        <th style=\"padding-left: 1em; padding-right: 1em; text-align: center\">Author</th>\n",
              "        <th style=\"padding-left: 1em; padding-right: 1em; text-align: center\">Year</th>\n",
              "        <th style=\"padding-left: 1em; padding-right: 1em; text-align: center\">Publisher</th>\n",
              "        <th style=\"padding-left: 1em; padding-right: 1em; text-align: center\">Blurb</th>\n",
              "    </tr>\n",
              "    <tr>\n",
              "        <td style=\"padding-left: 1em; padding-right: 1em; text-align: center; vertical-align: top\">0440234743</td>\n",
              "        <td style=\"padding-left: 1em; padding-right: 1em; text-align: center; vertical-align: top\">The Testament</td>\n",
              "        <td style=\"padding-left: 1em; padding-right: 1em; text-align: center; vertical-align: top\">John Grisham</td>\n",
              "        <td style=\"padding-left: 1em; padding-right: 1em; text-align: center; vertical-align: top\">1999</td>\n",
              "        <td style=\"padding-left: 1em; padding-right: 1em; text-align: center; vertical-align: top\">Dell</td>\n",
              "        <td style=\"padding-left: 1em; padding-right: 1em; text-align: center; vertical-align: top\">plush virginia office<br>rich angry man furiously ...</td>\n",
              "    </tr>\n",
              "</table>\n",
              "<table frame=\"box\" rules=\"cols\">\n",
              "    <tr>\n",
              "        <th style=\"padding-left: 1em; padding-right: 1em; text-align: center\">word_count</th>\n",
              "    </tr>\n",
              "    <tr>\n",
              "        <td style=\"padding-left: 1em; padding-right: 1em; text-align: center; vertical-align: top\">{&#x27;holds&#x27;: 1.0, &#x27;friends&#x27;:<br>1.0, &#x27;enemies&#x27;: 1.0, ...</td>\n",
              "    </tr>\n",
              "</table>\n",
              "[? rows x 7 columns]<br/>Note: Only the head of the SFrame is printed. This SFrame is lazily evaluated.<br/>You can use sf.materialize() to force materialization.\n",
              "</div>"
            ],
            "text/plain": [
              "Columns:\n",
              "\tISBN\tstr\n",
              "\tTitle\tstr\n",
              "\tAuthor\tstr\n",
              "\tYear\tint\n",
              "\tPublisher\tstr\n",
              "\tBlurb\tstr\n",
              "\tword_count\tdict\n",
              "\n",
              "Rows: Unknown\n",
              "\n",
              "Data:\n",
              "+------------+---------------+--------------+------+-----------+\n",
              "|    ISBN    |     Title     |    Author    | Year | Publisher |\n",
              "+------------+---------------+--------------+------+-----------+\n",
              "| 0440234743 | The Testament | John Grisham | 1999 |    Dell   |\n",
              "+------------+---------------+--------------+------+-----------+\n",
              "+-------------------------------+-------------------------------+\n",
              "|             Blurb             |           word_count          |\n",
              "+-------------------------------+-------------------------------+\n",
              "| plush virginia office rich... | {'holds': 1.0, 'friends': ... |\n",
              "+-------------------------------+-------------------------------+\n",
              "[? rows x 7 columns]\n",
              "Note: Only the head of the SFrame is printed. This SFrame is lazily evaluated.\n",
              "You can use sf.materialize() to force materialization."
            ]
          },
          "metadata": {
            "tags": []
          },
          "execution_count": 110
        }
      ]
    },
    {
      "cell_type": "code",
      "metadata": {
        "colab": {
          "base_uri": "https://localhost:8080/",
          "height": 415
        },
        "id": "OJXqE5PJ-uz2",
        "outputId": "dba384cf-ab73-4eb0-8566-19d3721b15fc"
      },
      "source": [
        "model_books.query(books[books['Title']=='The Testament'], label='Title', k=10)"
      ],
      "execution_count": 113,
      "outputs": [
        {
          "output_type": "display_data",
          "data": {
            "text/html": [
              "<pre>Starting pairwise querying.</pre>"
            ],
            "text/plain": [
              "Starting pairwise querying."
            ]
          },
          "metadata": {
            "tags": []
          }
        },
        {
          "output_type": "display_data",
          "data": {
            "text/html": [
              "<pre>+--------------+---------+-------------+--------------+</pre>"
            ],
            "text/plain": [
              "+--------------+---------+-------------+--------------+"
            ]
          },
          "metadata": {
            "tags": []
          }
        },
        {
          "output_type": "display_data",
          "data": {
            "text/html": [
              "<pre>| Query points | # Pairs | % Complete. | Elapsed Time |</pre>"
            ],
            "text/plain": [
              "| Query points | # Pairs | % Complete. | Elapsed Time |"
            ]
          },
          "metadata": {
            "tags": []
          }
        },
        {
          "output_type": "display_data",
          "data": {
            "text/html": [
              "<pre>+--------------+---------+-------------+--------------+</pre>"
            ],
            "text/plain": [
              "+--------------+---------+-------------+--------------+"
            ]
          },
          "metadata": {
            "tags": []
          }
        },
        {
          "output_type": "display_data",
          "data": {
            "text/html": [
              "<pre>| 0            | 1       | 0.00389545  | 17.162ms     |</pre>"
            ],
            "text/plain": [
              "| 0            | 1       | 0.00389545  | 17.162ms     |"
            ]
          },
          "metadata": {
            "tags": []
          }
        },
        {
          "output_type": "display_data",
          "data": {
            "text/html": [
              "<pre>| Done         |         | 100         | 86.422ms     |</pre>"
            ],
            "text/plain": [
              "| Done         |         | 100         | 86.422ms     |"
            ]
          },
          "metadata": {
            "tags": []
          }
        },
        {
          "output_type": "display_data",
          "data": {
            "text/html": [
              "<pre>+--------------+---------+-------------+--------------+</pre>"
            ],
            "text/plain": [
              "+--------------+---------+-------------+--------------+"
            ]
          },
          "metadata": {
            "tags": []
          }
        },
        {
          "output_type": "execute_result",
          "data": {
            "text/html": [
              "<div style=\"max-height:1000px;max-width:1500px;overflow:auto;\"><table frame=\"box\" rules=\"cols\">\n",
              "    <tr>\n",
              "        <th style=\"padding-left: 1em; padding-right: 1em; text-align: center\">query_label</th>\n",
              "        <th style=\"padding-left: 1em; padding-right: 1em; text-align: center\">reference_label</th>\n",
              "        <th style=\"padding-left: 1em; padding-right: 1em; text-align: center\">distance</th>\n",
              "        <th style=\"padding-left: 1em; padding-right: 1em; text-align: center\">rank</th>\n",
              "    </tr>\n",
              "    <tr>\n",
              "        <td style=\"padding-left: 1em; padding-right: 1em; text-align: center; vertical-align: top\">The Testament</td>\n",
              "        <td style=\"padding-left: 1em; padding-right: 1em; text-align: center; vertical-align: top\">The Testament</td>\n",
              "        <td style=\"padding-left: 1em; padding-right: 1em; text-align: center; vertical-align: top\">-2.220446049250313e-16</td>\n",
              "        <td style=\"padding-left: 1em; padding-right: 1em; text-align: center; vertical-align: top\">1</td>\n",
              "    </tr>\n",
              "    <tr>\n",
              "        <td style=\"padding-left: 1em; padding-right: 1em; text-align: center; vertical-align: top\">The Testament</td>\n",
              "        <td style=\"padding-left: 1em; padding-right: 1em; text-align: center; vertical-align: top\">Writ of Execution</td>\n",
              "        <td style=\"padding-left: 1em; padding-right: 1em; text-align: center; vertical-align: top\">0.8229279382562928</td>\n",
              "        <td style=\"padding-left: 1em; padding-right: 1em; text-align: center; vertical-align: top\">2</td>\n",
              "    </tr>\n",
              "    <tr>\n",
              "        <td style=\"padding-left: 1em; padding-right: 1em; text-align: center; vertical-align: top\">The Testament</td>\n",
              "        <td style=\"padding-left: 1em; padding-right: 1em; text-align: center; vertical-align: top\">Looking for Rachel<br>Wallace ...</td>\n",
              "        <td style=\"padding-left: 1em; padding-right: 1em; text-align: center; vertical-align: top\">0.832284205186034</td>\n",
              "        <td style=\"padding-left: 1em; padding-right: 1em; text-align: center; vertical-align: top\">3</td>\n",
              "    </tr>\n",
              "    <tr>\n",
              "        <td style=\"padding-left: 1em; padding-right: 1em; text-align: center; vertical-align: top\">The Testament</td>\n",
              "        <td style=\"padding-left: 1em; padding-right: 1em; text-align: center; vertical-align: top\">GIFT OF STONES</td>\n",
              "        <td style=\"padding-left: 1em; padding-right: 1em; text-align: center; vertical-align: top\">0.8573045517536517</td>\n",
              "        <td style=\"padding-left: 1em; padding-right: 1em; text-align: center; vertical-align: top\">4</td>\n",
              "    </tr>\n",
              "    <tr>\n",
              "        <td style=\"padding-left: 1em; padding-right: 1em; text-align: center; vertical-align: top\">The Testament</td>\n",
              "        <td style=\"padding-left: 1em; padding-right: 1em; text-align: center; vertical-align: top\">Here&#x27;s to You, Rachel<br>Robinson ...</td>\n",
              "        <td style=\"padding-left: 1em; padding-right: 1em; text-align: center; vertical-align: top\">0.8582281565926204</td>\n",
              "        <td style=\"padding-left: 1em; padding-right: 1em; text-align: center; vertical-align: top\">5</td>\n",
              "    </tr>\n",
              "    <tr>\n",
              "        <td style=\"padding-left: 1em; padding-right: 1em; text-align: center; vertical-align: top\">The Testament</td>\n",
              "        <td style=\"padding-left: 1em; padding-right: 1em; text-align: center; vertical-align: top\">On a Pale Horse<br>(Incarnations of ...</td>\n",
              "        <td style=\"padding-left: 1em; padding-right: 1em; text-align: center; vertical-align: top\">0.8586832840702012</td>\n",
              "        <td style=\"padding-left: 1em; padding-right: 1em; text-align: center; vertical-align: top\">6</td>\n",
              "    </tr>\n",
              "    <tr>\n",
              "        <td style=\"padding-left: 1em; padding-right: 1em; text-align: center; vertical-align: top\">The Testament</td>\n",
              "        <td style=\"padding-left: 1em; padding-right: 1em; text-align: center; vertical-align: top\">Astrology: Woman to Woman</td>\n",
              "        <td style=\"padding-left: 1em; padding-right: 1em; text-align: center; vertical-align: top\">0.860846924537976</td>\n",
              "        <td style=\"padding-left: 1em; padding-right: 1em; text-align: center; vertical-align: top\">7</td>\n",
              "    </tr>\n",
              "    <tr>\n",
              "        <td style=\"padding-left: 1em; padding-right: 1em; text-align: center; vertical-align: top\">The Testament</td>\n",
              "        <td style=\"padding-left: 1em; padding-right: 1em; text-align: center; vertical-align: top\">DANIELS BRIDE</td>\n",
              "        <td style=\"padding-left: 1em; padding-right: 1em; text-align: center; vertical-align: top\">0.8613249509436927</td>\n",
              "        <td style=\"padding-left: 1em; padding-right: 1em; text-align: center; vertical-align: top\">8</td>\n",
              "    </tr>\n",
              "    <tr>\n",
              "        <td style=\"padding-left: 1em; padding-right: 1em; text-align: center; vertical-align: top\">The Testament</td>\n",
              "        <td style=\"padding-left: 1em; padding-right: 1em; text-align: center; vertical-align: top\">Atlas Shrugged</td>\n",
              "        <td style=\"padding-left: 1em; padding-right: 1em; text-align: center; vertical-align: top\">0.8627187054032712</td>\n",
              "        <td style=\"padding-left: 1em; padding-right: 1em; text-align: center; vertical-align: top\">9</td>\n",
              "    </tr>\n",
              "    <tr>\n",
              "        <td style=\"padding-left: 1em; padding-right: 1em; text-align: center; vertical-align: top\">The Testament</td>\n",
              "        <td style=\"padding-left: 1em; padding-right: 1em; text-align: center; vertical-align: top\">Time to Die</td>\n",
              "        <td style=\"padding-left: 1em; padding-right: 1em; text-align: center; vertical-align: top\">0.8650236188002458</td>\n",
              "        <td style=\"padding-left: 1em; padding-right: 1em; text-align: center; vertical-align: top\">10</td>\n",
              "    </tr>\n",
              "</table>\n",
              "[10 rows x 4 columns]<br/>\n",
              "</div>"
            ],
            "text/plain": [
              "Columns:\n",
              "\tquery_label\tstr\n",
              "\treference_label\tstr\n",
              "\tdistance\tfloat\n",
              "\trank\tint\n",
              "\n",
              "Rows: 10\n",
              "\n",
              "Data:\n",
              "+---------------+--------------------------------+------------------------+------+\n",
              "|  query_label  |        reference_label         |        distance        | rank |\n",
              "+---------------+--------------------------------+------------------------+------+\n",
              "| The Testament |         The Testament          | -2.220446049250313e-16 |  1   |\n",
              "| The Testament |       Writ of Execution        |   0.8229279382562928   |  2   |\n",
              "| The Testament |   Looking for Rachel Wallace   |   0.832284205186034    |  3   |\n",
              "| The Testament |         GIFT OF STONES         |   0.8573045517536517   |  4   |\n",
              "| The Testament | Here's to You, Rachel Robinson |   0.8582281565926204   |  5   |\n",
              "| The Testament | On a Pale Horse (Incarnati...  |   0.8586832840702012   |  6   |\n",
              "| The Testament |   Astrology: Woman to Woman    |   0.860846924537976    |  7   |\n",
              "| The Testament |         DANIELS BRIDE          |   0.8613249509436927   |  8   |\n",
              "| The Testament |         Atlas Shrugged         |   0.8627187054032712   |  9   |\n",
              "| The Testament |          Time to Die           |   0.8650236188002458   |  10  |\n",
              "+---------------+--------------------------------+------------------------+------+\n",
              "[10 rows x 4 columns]"
            ]
          },
          "metadata": {
            "tags": []
          },
          "execution_count": 113
        }
      ]
    },
    {
      "cell_type": "markdown",
      "metadata": {
        "id": "QCObYTH8505h"
      },
      "source": [
        "All of the 10 people are politicians, but about half of them have rather tenuous connections with Obama, other than the fact that they are politicians.\n",
        "\n",
        "* Francisco Barrio is a Mexican politician, and a former governor of Chihuahua.\n",
        "* Walter Mondale and Don Bonker are Democrats who made their career in late 1970s.\n",
        "* Wynn Normington Hugh-Jones is a former British diplomat and Liberal Party official.\n",
        "* Andy Anstett is a former politician in Manitoba, Canada.\n",
        "\n",
        "But none of the top 10 books are crime or legal novels.\n",
        "\n",
        "Nearest neighbors with raw word counts got some things right, showing all politicians in the query result, but missed similarity for the books.\n",
        "\n",
        "For instance, let's find out why Francisco Barrio was considered a close neighbor of Obama; and why \"Teach Yourself Russian\" was considered near to \"The Testament\". To do this, let's look at the most frequently used words in each:"
      ]
    },
    {
      "cell_type": "code",
      "metadata": {
        "id": "3yV63PoZ505h"
      },
      "source": [
        "def top_words(dataset, query_column, query_term):\n",
        "    \"\"\"\n",
        "    Get a table of the most frequent words in the given person's wikipedia page.\n",
        "    \"\"\"\n",
        "    row = dataset[dataset[query_column] == query_term]\n",
        "    print(row)\n",
        "    word_count_table = row[['word_count']].stack('word_count', new_column_name=['word','count'])\n",
        "    return word_count_table.sort('count', ascending=False)"
      ],
      "execution_count": 114,
      "outputs": []
    },
    {
      "cell_type": "code",
      "metadata": {
        "colab": {
          "base_uri": "https://localhost:8080/",
          "height": 276
        },
        "id": "yOXj3YBR505i",
        "outputId": "db496423-61d2-4a8d-b98c-c1d54dbfaae0"
      },
      "source": [
        "obama_words = top_words(wiki, 'name', 'Barack Obama')\n",
        "obama_words"
      ],
      "execution_count": 26,
      "outputs": [
        {
          "output_type": "execute_result",
          "data": {
            "text/html": [
              "<div style=\"max-height:1000px;max-width:1500px;overflow:auto;\"><table frame=\"box\" rules=\"cols\">\n",
              "    <tr>\n",
              "        <th style=\"padding-left: 1em; padding-right: 1em; text-align: center\">word</th>\n",
              "        <th style=\"padding-left: 1em; padding-right: 1em; text-align: center\">count</th>\n",
              "    </tr>\n",
              "    <tr>\n",
              "        <td style=\"padding-left: 1em; padding-right: 1em; text-align: center; vertical-align: top\">the</td>\n",
              "        <td style=\"padding-left: 1em; padding-right: 1em; text-align: center; vertical-align: top\">40.0</td>\n",
              "    </tr>\n",
              "    <tr>\n",
              "        <td style=\"padding-left: 1em; padding-right: 1em; text-align: center; vertical-align: top\">in</td>\n",
              "        <td style=\"padding-left: 1em; padding-right: 1em; text-align: center; vertical-align: top\">30.0</td>\n",
              "    </tr>\n",
              "    <tr>\n",
              "        <td style=\"padding-left: 1em; padding-right: 1em; text-align: center; vertical-align: top\">and</td>\n",
              "        <td style=\"padding-left: 1em; padding-right: 1em; text-align: center; vertical-align: top\">21.0</td>\n",
              "    </tr>\n",
              "    <tr>\n",
              "        <td style=\"padding-left: 1em; padding-right: 1em; text-align: center; vertical-align: top\">of</td>\n",
              "        <td style=\"padding-left: 1em; padding-right: 1em; text-align: center; vertical-align: top\">18.0</td>\n",
              "    </tr>\n",
              "    <tr>\n",
              "        <td style=\"padding-left: 1em; padding-right: 1em; text-align: center; vertical-align: top\">to</td>\n",
              "        <td style=\"padding-left: 1em; padding-right: 1em; text-align: center; vertical-align: top\">14.0</td>\n",
              "    </tr>\n",
              "    <tr>\n",
              "        <td style=\"padding-left: 1em; padding-right: 1em; text-align: center; vertical-align: top\">his</td>\n",
              "        <td style=\"padding-left: 1em; padding-right: 1em; text-align: center; vertical-align: top\">11.0</td>\n",
              "    </tr>\n",
              "    <tr>\n",
              "        <td style=\"padding-left: 1em; padding-right: 1em; text-align: center; vertical-align: top\">obama</td>\n",
              "        <td style=\"padding-left: 1em; padding-right: 1em; text-align: center; vertical-align: top\">9.0</td>\n",
              "    </tr>\n",
              "    <tr>\n",
              "        <td style=\"padding-left: 1em; padding-right: 1em; text-align: center; vertical-align: top\">act</td>\n",
              "        <td style=\"padding-left: 1em; padding-right: 1em; text-align: center; vertical-align: top\">8.0</td>\n",
              "    </tr>\n",
              "    <tr>\n",
              "        <td style=\"padding-left: 1em; padding-right: 1em; text-align: center; vertical-align: top\">a</td>\n",
              "        <td style=\"padding-left: 1em; padding-right: 1em; text-align: center; vertical-align: top\">7.0</td>\n",
              "    </tr>\n",
              "    <tr>\n",
              "        <td style=\"padding-left: 1em; padding-right: 1em; text-align: center; vertical-align: top\">he</td>\n",
              "        <td style=\"padding-left: 1em; padding-right: 1em; text-align: center; vertical-align: top\">7.0</td>\n",
              "    </tr>\n",
              "</table>\n",
              "[273 rows x 2 columns]<br/>Note: Only the head of the SFrame is printed.<br/>You can use print_rows(num_rows=m, num_columns=n) to print more rows and columns.\n",
              "</div>"
            ],
            "text/plain": [
              "Columns:\n",
              "\tword\tstr\n",
              "\tcount\tfloat\n",
              "\n",
              "Rows: 273\n",
              "\n",
              "Data:\n",
              "+-------+-------+\n",
              "|  word | count |\n",
              "+-------+-------+\n",
              "|  the  |  40.0 |\n",
              "|   in  |  30.0 |\n",
              "|  and  |  21.0 |\n",
              "|   of  |  18.0 |\n",
              "|   to  |  14.0 |\n",
              "|  his  |  11.0 |\n",
              "| obama |  9.0  |\n",
              "|  act  |  8.0  |\n",
              "|   a   |  7.0  |\n",
              "|   he  |  7.0  |\n",
              "+-------+-------+\n",
              "[273 rows x 2 columns]\n",
              "Note: Only the head of the SFrame is printed.\n",
              "You can use print_rows(num_rows=m, num_columns=n) to print more rows and columns."
            ]
          },
          "metadata": {
            "tags": []
          },
          "execution_count": 26
        }
      ]
    },
    {
      "cell_type": "code",
      "metadata": {
        "colab": {
          "base_uri": "https://localhost:8080/",
          "height": 276
        },
        "id": "bVV7o7Hq505i",
        "outputId": "28a348aa-b25c-4274-9855-c87974b98c50"
      },
      "source": [
        "barrio_words = top_words(wiki, 'name', 'Francisco Barrio')\n",
        "barrio_words"
      ],
      "execution_count": 27,
      "outputs": [
        {
          "output_type": "execute_result",
          "data": {
            "text/html": [
              "<div style=\"max-height:1000px;max-width:1500px;overflow:auto;\"><table frame=\"box\" rules=\"cols\">\n",
              "    <tr>\n",
              "        <th style=\"padding-left: 1em; padding-right: 1em; text-align: center\">word</th>\n",
              "        <th style=\"padding-left: 1em; padding-right: 1em; text-align: center\">count</th>\n",
              "    </tr>\n",
              "    <tr>\n",
              "        <td style=\"padding-left: 1em; padding-right: 1em; text-align: center; vertical-align: top\">the</td>\n",
              "        <td style=\"padding-left: 1em; padding-right: 1em; text-align: center; vertical-align: top\">36.0</td>\n",
              "    </tr>\n",
              "    <tr>\n",
              "        <td style=\"padding-left: 1em; padding-right: 1em; text-align: center; vertical-align: top\">of</td>\n",
              "        <td style=\"padding-left: 1em; padding-right: 1em; text-align: center; vertical-align: top\">24.0</td>\n",
              "    </tr>\n",
              "    <tr>\n",
              "        <td style=\"padding-left: 1em; padding-right: 1em; text-align: center; vertical-align: top\">and</td>\n",
              "        <td style=\"padding-left: 1em; padding-right: 1em; text-align: center; vertical-align: top\">18.0</td>\n",
              "    </tr>\n",
              "    <tr>\n",
              "        <td style=\"padding-left: 1em; padding-right: 1em; text-align: center; vertical-align: top\">in</td>\n",
              "        <td style=\"padding-left: 1em; padding-right: 1em; text-align: center; vertical-align: top\">17.0</td>\n",
              "    </tr>\n",
              "    <tr>\n",
              "        <td style=\"padding-left: 1em; padding-right: 1em; text-align: center; vertical-align: top\">he</td>\n",
              "        <td style=\"padding-left: 1em; padding-right: 1em; text-align: center; vertical-align: top\">10.0</td>\n",
              "    </tr>\n",
              "    <tr>\n",
              "        <td style=\"padding-left: 1em; padding-right: 1em; text-align: center; vertical-align: top\">to</td>\n",
              "        <td style=\"padding-left: 1em; padding-right: 1em; text-align: center; vertical-align: top\">9.0</td>\n",
              "    </tr>\n",
              "    <tr>\n",
              "        <td style=\"padding-left: 1em; padding-right: 1em; text-align: center; vertical-align: top\">chihuahua</td>\n",
              "        <td style=\"padding-left: 1em; padding-right: 1em; text-align: center; vertical-align: top\">7.0</td>\n",
              "    </tr>\n",
              "    <tr>\n",
              "        <td style=\"padding-left: 1em; padding-right: 1em; text-align: center; vertical-align: top\">a</td>\n",
              "        <td style=\"padding-left: 1em; padding-right: 1em; text-align: center; vertical-align: top\">6.0</td>\n",
              "    </tr>\n",
              "    <tr>\n",
              "        <td style=\"padding-left: 1em; padding-right: 1em; text-align: center; vertical-align: top\">governor</td>\n",
              "        <td style=\"padding-left: 1em; padding-right: 1em; text-align: center; vertical-align: top\">6.0</td>\n",
              "    </tr>\n",
              "    <tr>\n",
              "        <td style=\"padding-left: 1em; padding-right: 1em; text-align: center; vertical-align: top\">his</td>\n",
              "        <td style=\"padding-left: 1em; padding-right: 1em; text-align: center; vertical-align: top\">5.0</td>\n",
              "    </tr>\n",
              "</table>\n",
              "[225 rows x 2 columns]<br/>Note: Only the head of the SFrame is printed.<br/>You can use print_rows(num_rows=m, num_columns=n) to print more rows and columns.\n",
              "</div>"
            ],
            "text/plain": [
              "Columns:\n",
              "\tword\tstr\n",
              "\tcount\tfloat\n",
              "\n",
              "Rows: 225\n",
              "\n",
              "Data:\n",
              "+-----------+-------+\n",
              "|    word   | count |\n",
              "+-----------+-------+\n",
              "|    the    |  36.0 |\n",
              "|     of    |  24.0 |\n",
              "|    and    |  18.0 |\n",
              "|     in    |  17.0 |\n",
              "|     he    |  10.0 |\n",
              "|     to    |  9.0  |\n",
              "| chihuahua |  7.0  |\n",
              "|     a     |  6.0  |\n",
              "|  governor |  6.0  |\n",
              "|    his    |  5.0  |\n",
              "+-----------+-------+\n",
              "[225 rows x 2 columns]\n",
              "Note: Only the head of the SFrame is printed.\n",
              "You can use print_rows(num_rows=m, num_columns=n) to print more rows and columns."
            ]
          },
          "metadata": {
            "tags": []
          },
          "execution_count": 27
        }
      ]
    },
    {
      "cell_type": "code",
      "metadata": {
        "colab": {
          "base_uri": "https://localhost:8080/",
          "height": 501
        },
        "id": "VZ4n_CPeAi1L",
        "outputId": "21e8103b-99e6-4955-e9b9-55850823d551"
      },
      "source": [
        "thetestament_words = top_words(books, 'Title', 'The Testament')\n",
        "thetestament_words"
      ],
      "execution_count": 115,
      "outputs": [
        {
          "output_type": "stream",
          "text": [
            "+------------+---------------+--------------+------+-----------+\n",
            "|    ISBN    |     Title     |    Author    | Year | Publisher |\n",
            "+------------+---------------+--------------+------+-----------+\n",
            "| 0440234743 | The Testament | John Grisham | 1999 |    Dell   |\n",
            "+------------+---------------+--------------+------+-----------+\n",
            "+-------------------------------+-------------------------------+\n",
            "|             Blurb             |           word_count          |\n",
            "+-------------------------------+-------------------------------+\n",
            "| plush virginia office rich... | {'holds': 1.0, 'friends': ... |\n",
            "+-------------------------------+-------------------------------+\n",
            "[? rows x 7 columns]\n",
            "Note: Only the head of the SFrame is printed. This SFrame is lazily evaluated.\n",
            "You can use sf.materialize() to force materialization.\n"
          ],
          "name": "stdout"
        },
        {
          "output_type": "execute_result",
          "data": {
            "text/html": [
              "<div style=\"max-height:1000px;max-width:1500px;overflow:auto;\"><table frame=\"box\" rules=\"cols\">\n",
              "    <tr>\n",
              "        <th style=\"padding-left: 1em; padding-right: 1em; text-align: center\">word</th>\n",
              "        <th style=\"padding-left: 1em; padding-right: 1em; text-align: center\">count</th>\n",
              "    </tr>\n",
              "    <tr>\n",
              "        <td style=\"padding-left: 1em; padding-right: 1em; text-align: center; vertical-align: top\">phelan</td>\n",
              "        <td style=\"padding-left: 1em; padding-right: 1em; text-align: center; vertical-align: top\">3.0</td>\n",
              "    </tr>\n",
              "    <tr>\n",
              "        <td style=\"padding-left: 1em; padding-right: 1em; text-align: center; vertical-align: top\">nate</td>\n",
              "        <td style=\"padding-left: 1em; padding-right: 1em; text-align: center; vertical-align: top\">2.0</td>\n",
              "    </tr>\n",
              "    <tr>\n",
              "        <td style=\"padding-left: 1em; padding-right: 1em; text-align: center; vertical-align: top\">surprise</td>\n",
              "        <td style=\"padding-left: 1em; padding-right: 1em; text-align: center; vertical-align: top\">2.0</td>\n",
              "    </tr>\n",
              "    <tr>\n",
              "        <td style=\"padding-left: 1em; padding-right: 1em; text-align: center; vertical-align: top\">death</td>\n",
              "        <td style=\"padding-left: 1em; padding-right: 1em; text-align: center; vertical-align: top\">2.0</td>\n",
              "    </tr>\n",
              "    <tr>\n",
              "        <td style=\"padding-left: 1em; padding-right: 1em; text-align: center; vertical-align: top\">message</td>\n",
              "        <td style=\"padding-left: 1em; padding-right: 1em; text-align: center; vertical-align: top\">2.0</td>\n",
              "    </tr>\n",
              "    <tr>\n",
              "        <td style=\"padding-left: 1em; padding-right: 1em; text-align: center; vertical-align: top\">rachel</td>\n",
              "        <td style=\"padding-left: 1em; padding-right: 1em; text-align: center; vertical-align: top\">2.0</td>\n",
              "    </tr>\n",
              "    <tr>\n",
              "        <td style=\"padding-left: 1em; padding-right: 1em; text-align: center; vertical-align: top\">lane</td>\n",
              "        <td style=\"padding-left: 1em; padding-right: 1em; text-align: center; vertical-align: top\">2.0</td>\n",
              "    </tr>\n",
              "    <tr>\n",
              "        <td style=\"padding-left: 1em; padding-right: 1em; text-align: center; vertical-align: top\">troy</td>\n",
              "        <td style=\"padding-left: 1em; padding-right: 1em; text-align: center; vertical-align: top\">2.0</td>\n",
              "    </tr>\n",
              "    <tr>\n",
              "        <td style=\"padding-left: 1em; padding-right: 1em; text-align: center; vertical-align: top\">woman</td>\n",
              "        <td style=\"padding-left: 1em; padding-right: 1em; text-align: center; vertical-align: top\">2.0</td>\n",
              "    </tr>\n",
              "    <tr>\n",
              "        <td style=\"padding-left: 1em; padding-right: 1em; text-align: center; vertical-align: top\">man</td>\n",
              "        <td style=\"padding-left: 1em; padding-right: 1em; text-align: center; vertical-align: top\">1.0</td>\n",
              "    </tr>\n",
              "</table>\n",
              "[72 rows x 2 columns]<br/>Note: Only the head of the SFrame is printed.<br/>You can use print_rows(num_rows=m, num_columns=n) to print more rows and columns.\n",
              "</div>"
            ],
            "text/plain": [
              "Columns:\n",
              "\tword\tstr\n",
              "\tcount\tfloat\n",
              "\n",
              "Rows: 72\n",
              "\n",
              "Data:\n",
              "+----------+-------+\n",
              "|   word   | count |\n",
              "+----------+-------+\n",
              "|  phelan  |  3.0  |\n",
              "|   nate   |  2.0  |\n",
              "| surprise |  2.0  |\n",
              "|  death   |  2.0  |\n",
              "| message  |  2.0  |\n",
              "|  rachel  |  2.0  |\n",
              "|   lane   |  2.0  |\n",
              "|   troy   |  2.0  |\n",
              "|  woman   |  2.0  |\n",
              "|   man    |  1.0  |\n",
              "+----------+-------+\n",
              "[72 rows x 2 columns]\n",
              "Note: Only the head of the SFrame is printed.\n",
              "You can use print_rows(num_rows=m, num_columns=n) to print more rows and columns."
            ]
          },
          "metadata": {
            "tags": []
          },
          "execution_count": 115
        }
      ]
    },
    {
      "cell_type": "code",
      "metadata": {
        "colab": {
          "base_uri": "https://localhost:8080/",
          "height": 536
        },
        "id": "FPavMmQoAqph",
        "outputId": "3d269fff-4169-4a29-fa88-047d5f7e2219"
      },
      "source": [
        "atlasshrugged_words = top_words(books, 'Title', 'Atlas Shrugged')\n",
        "atlasshrugged_words"
      ],
      "execution_count": 116,
      "outputs": [
        {
          "output_type": "stream",
          "text": [
            "+------------+----------------+----------+------+-------------+\n",
            "|    ISBN    |     Title      |  Author  | Year |  Publisher  |\n",
            "+------------+----------------+----------+------+-------------+\n",
            "| 0451191145 | Atlas Shrugged | Ayn Rand | 1996 | Signet Book |\n",
            "| 0452011876 | Atlas Shrugged | Ayn Rand | 1999 | Plume Books |\n",
            "+------------+----------------+----------+------+-------------+\n",
            "+-------------------------------+-------------------------------+\n",
            "|             Blurb             |           word_count          |\n",
            "+-------------------------------+-------------------------------+\n",
            "| story man stop motor world... | {'rebirth': 1.0, 'body': 1... |\n",
            "| fight battle enemies neede... | {'impossible': 1.0, 'ruthl... |\n",
            "+-------------------------------+-------------------------------+\n",
            "[? rows x 7 columns]\n",
            "Note: Only the head of the SFrame is printed. This SFrame is lazily evaluated.\n",
            "You can use sf.materialize() to force materialization.\n"
          ],
          "name": "stdout"
        },
        {
          "output_type": "execute_result",
          "data": {
            "text/html": [
              "<div style=\"max-height:1000px;max-width:1500px;overflow:auto;\"><table frame=\"box\" rules=\"cols\">\n",
              "    <tr>\n",
              "        <th style=\"padding-left: 1em; padding-right: 1em; text-align: center\">word</th>\n",
              "        <th style=\"padding-left: 1em; padding-right: 1em; text-align: center\">count</th>\n",
              "    </tr>\n",
              "    <tr>\n",
              "        <td style=\"padding-left: 1em; padding-right: 1em; text-align: center; vertical-align: top\">—</td>\n",
              "        <td style=\"padding-left: 1em; padding-right: 1em; text-align: center; vertical-align: top\">9.0</td>\n",
              "    </tr>\n",
              "    <tr>\n",
              "        <td style=\"padding-left: 1em; padding-right: 1em; text-align: center; vertical-align: top\">man</td>\n",
              "        <td style=\"padding-left: 1em; padding-right: 1em; text-align: center; vertical-align: top\">4.0</td>\n",
              "    </tr>\n",
              "    <tr>\n",
              "        <td style=\"padding-left: 1em; padding-right: 1em; text-align: center; vertical-align: top\">story</td>\n",
              "        <td style=\"padding-left: 1em; padding-right: 1em; text-align: center; vertical-align: top\">3.0</td>\n",
              "    </tr>\n",
              "    <tr>\n",
              "        <td style=\"padding-left: 1em; padding-right: 1em; text-align: center; vertical-align: top\">world</td>\n",
              "        <td style=\"padding-left: 1em; padding-right: 1em; text-align: center; vertical-align: top\">2.0</td>\n",
              "    </tr>\n",
              "    <tr>\n",
              "        <td style=\"padding-left: 1em; padding-right: 1em; text-align: center; vertical-align: top\">story</td>\n",
              "        <td style=\"padding-left: 1em; padding-right: 1em; text-align: center; vertical-align: top\">2.0</td>\n",
              "    </tr>\n",
              "    <tr>\n",
              "        <td style=\"padding-left: 1em; padding-right: 1em; text-align: center; vertical-align: top\">motor</td>\n",
              "        <td style=\"padding-left: 1em; padding-right: 1em; text-align: center; vertical-align: top\">2.0</td>\n",
              "    </tr>\n",
              "    <tr>\n",
              "        <td style=\"padding-left: 1em; padding-right: 1em; text-align: center; vertical-align: top\">woman</td>\n",
              "        <td style=\"padding-left: 1em; padding-right: 1em; text-align: center; vertical-align: top\">2.0</td>\n",
              "    </tr>\n",
              "    <tr>\n",
              "        <td style=\"padding-left: 1em; padding-right: 1em; text-align: center; vertical-align: top\">battle</td>\n",
              "        <td style=\"padding-left: 1em; padding-right: 1em; text-align: center; vertical-align: top\">2.0</td>\n",
              "    </tr>\n",
              "    <tr>\n",
              "        <td style=\"padding-left: 1em; padding-right: 1em; text-align: center; vertical-align: top\">events</td>\n",
              "        <td style=\"padding-left: 1em; padding-right: 1em; text-align: center; vertical-align: top\">2.0</td>\n",
              "    </tr>\n",
              "    <tr>\n",
              "        <td style=\"padding-left: 1em; padding-right: 1em; text-align: center; vertical-align: top\">battle</td>\n",
              "        <td style=\"padding-left: 1em; padding-right: 1em; text-align: center; vertical-align: top\">2.0</td>\n",
              "    </tr>\n",
              "</table>\n",
              "[137 rows x 2 columns]<br/>Note: Only the head of the SFrame is printed.<br/>You can use print_rows(num_rows=m, num_columns=n) to print more rows and columns.\n",
              "</div>"
            ],
            "text/plain": [
              "Columns:\n",
              "\tword\tstr\n",
              "\tcount\tfloat\n",
              "\n",
              "Rows: 137\n",
              "\n",
              "Data:\n",
              "+--------+-------+\n",
              "|  word  | count |\n",
              "+--------+-------+\n",
              "|   —    |  9.0  |\n",
              "|  man   |  4.0  |\n",
              "| story  |  3.0  |\n",
              "| world  |  2.0  |\n",
              "| story  |  2.0  |\n",
              "| motor  |  2.0  |\n",
              "| woman  |  2.0  |\n",
              "| battle |  2.0  |\n",
              "| events |  2.0  |\n",
              "| battle |  2.0  |\n",
              "+--------+-------+\n",
              "[137 rows x 2 columns]\n",
              "Note: Only the head of the SFrame is printed.\n",
              "You can use print_rows(num_rows=m, num_columns=n) to print more rows and columns."
            ]
          },
          "metadata": {
            "tags": []
          },
          "execution_count": 116
        }
      ]
    },
    {
      "cell_type": "markdown",
      "metadata": {
        "id": "jdQJoPl-505i"
      },
      "source": [
        "Let's extract the list of most frequent words that appear in both Obama's and Barrio's documents. We've so far sorted all words from Obama and Barrio's articles by their word frequencies. We will now use a dataframe operation known as **join**. The **join** operation is very useful when it comes to playing around with data: it lets you combine the content of two tables using a shared column (in this case, the word column). See [the documentation](https://dato.com/products/create/docs/generated/graphlab.SFrame.join.html) for more details.\n",
        "\n",
        "For instance, running\n",
        "```\n",
        "obama_words.join(barrio_words, on='word')\n",
        "```\n",
        "will extract the rows from both tables that correspond to the common words."
      ]
    },
    {
      "cell_type": "code",
      "metadata": {
        "id": "05S1JWG2505i"
      },
      "source": [
        "combined_words = obama_words.join(barrio_words, on='word')\n",
        "combined_words"
      ],
      "execution_count": null,
      "outputs": []
    },
    {
      "cell_type": "markdown",
      "metadata": {
        "id": "cf9mRWgP505i"
      },
      "source": [
        "Since both tables contained the column named `count`, SFrame automatically renamed one of them to prevent confusion. Let's rename the columns to tell which one is for which. By inspection, we see that the first column (`count`) is for Obama and the second (`count.1`) for Barrio."
      ]
    },
    {
      "cell_type": "code",
      "metadata": {
        "id": "blBOSToq505i"
      },
      "source": [
        "combined_words = combined_words.rename({'count':'Obama', 'count.1':'Barrio'})\n",
        "combined_words"
      ],
      "execution_count": null,
      "outputs": []
    },
    {
      "cell_type": "markdown",
      "metadata": {
        "id": "wmyAd4eF505i"
      },
      "source": [
        "**Note**. The **join** operation does not enforce any particular ordering on the shared column. So to obtain, say, the five common words that appear most often in Obama's article, sort the combined table by the Obama column. Don't forget `ascending=False` to display largest counts first."
      ]
    },
    {
      "cell_type": "code",
      "metadata": {
        "id": "Oc8vD-eN505j"
      },
      "source": [
        "combined_words.sort('Obama', ascending=False)"
      ],
      "execution_count": null,
      "outputs": []
    },
    {
      "cell_type": "markdown",
      "metadata": {
        "id": "rYLQLsFg505j"
      },
      "source": [
        "**Quiz Question**. Among the words that appear in both Barack Obama and Francisco Barrio, take the 5 that appear most frequently in Obama. How many of the articles in the Wikipedia dataset contain all of those 5 words?\n",
        "\n",
        "Hint:\n",
        "* Refer to the previous paragraph for finding the words that appear in both articles. Sort the common words by their frequencies in Obama's article and take the largest five.\n",
        "* Each word count vector is a Python dictionary. For each word count vector in SFrame, you'd have to check if the set of the 5 common words is a subset of the keys of the word count vector. Complete the function `has_top_words` to accomplish the task.\n",
        "  - Convert the list of top 5 words into set using the syntax\n",
        "```\n",
        "set(common_words)\n",
        "```\n",
        "    where `common_words` is a Python list. See [this link](https://docs.python.org/2/library/stdtypes.html#set) if you're curious about Python sets.\n",
        "  - Extract the list of keys of the word count dictionary by calling the [`keys()` method](https://docs.python.org/2/library/stdtypes.html#dict.keys).\n",
        "  - Convert the list of keys into a set as well.\n",
        "  - Use [`issubset()` method](https://docs.python.org/2/library/stdtypes.html#set) to check if all 5 words are among the keys.\n",
        "* Now apply the `has_top_words` function on every row of the SFrame.\n",
        "* Compute the sum of the result column to obtain the number of articles containing all the 5 top words."
      ]
    },
    {
      "cell_type": "code",
      "metadata": {
        "id": "qUGoCGqr505j"
      },
      "source": [
        "common_words = ... # YOUR CODE HERE\n",
        "\n",
        "def has_top_words(word_count_vector):\n",
        "    # extract the keys of word_count_vector and convert it to a set\n",
        "    unique_words = ...   # YOUR CODE HERE\n",
        "    # return True if common_words is a subset of unique_words\n",
        "    # return False otherwise\n",
        "    return ...  # YOUR CODE HERE\n",
        "\n",
        "wiki['has_top_words'] = wiki['word_count'].apply(has_top_words)\n",
        "\n",
        "# use has_top_words column to answer the quiz question\n",
        "... # YOUR CODE HERE"
      ],
      "execution_count": null,
      "outputs": []
    },
    {
      "cell_type": "markdown",
      "metadata": {
        "id": "h_F-isZf505k"
      },
      "source": [
        "**Checkpoint**. Check your `has_top_words` function on two random articles:"
      ]
    },
    {
      "cell_type": "code",
      "metadata": {
        "id": "9N-6n9Bl505k"
      },
      "source": [
        "print('Output from your function:', has_top_words(wiki[32]['word_count']))\n",
        "print('Correct output: True')\n",
        "print('Also check the length of unique_words. It should be 167')\n",
        "print(len(wiki[32]['word_count']))"
      ],
      "execution_count": null,
      "outputs": []
    },
    {
      "cell_type": "code",
      "metadata": {
        "id": "RFV1LhiS505k"
      },
      "source": [
        "print('Output from your function:', has_top_words(wiki[33]['word_count']))\n",
        "print('Correct output: False')\n",
        "print('Also check the length of unique_words. It should be 188')\n",
        "print(len(wiki[33]['word_count']))"
      ],
      "execution_count": null,
      "outputs": []
    },
    {
      "cell_type": "markdown",
      "metadata": {
        "id": "uD6g71ot505k"
      },
      "source": [
        "**Quiz Question**. Measure the pairwise distance between the Wikipedia pages of Barack Obama, George W. Bush, and Joe Biden. Which of the three pairs has the smallest distance?\n",
        "\n",
        "Hints: \n",
        "* To compute the Euclidean distance between two dictionaries, use `turicreate.toolkits.distances.euclidean`. Refer to [this link](https://apple.github.io/turicreate/docs/api/generated/turicreate.toolkits.distances.euclidean.html) for usage.\n",
        "* When using Boolean filter in SFrame/SArray, take the index 0 to access the first match. (Round your answer to three decimal places.)"
      ]
    },
    {
      "cell_type": "code",
      "metadata": {
        "id": "XbrM0e3C505k"
      },
      "source": [
        ""
      ],
      "execution_count": null,
      "outputs": []
    },
    {
      "cell_type": "markdown",
      "metadata": {
        "id": "iv5Kz6FP505k"
      },
      "source": [
        "**Quiz Question**. Collect all words that appear both in Barack Obama and George W. Bush pages.  Out of those words, find the 10 words that show up most often in Obama's page."
      ]
    },
    {
      "cell_type": "code",
      "metadata": {
        "id": "GVndImYq505l"
      },
      "source": [
        ""
      ],
      "execution_count": null,
      "outputs": []
    },
    {
      "cell_type": "markdown",
      "metadata": {
        "id": "e9gOtV17505l"
      },
      "source": [
        "**Note.** Even though common words are swamping out important subtle differences, commonalities in rarer political words still matter on the margin. This is why politicians are being listed in the query result instead of musicians, for example. In the next subsection, we will introduce a different metric that will place greater emphasis on those rarer words."
      ]
    },
    {
      "cell_type": "markdown",
      "metadata": {
        "id": "iQ1UKm9m505l"
      },
      "source": [
        "## TF-IDF to the rescue"
      ]
    },
    {
      "cell_type": "markdown",
      "metadata": {
        "id": "-4QYkxNn505l"
      },
      "source": [
        "Much of the perceived commonalities between Obama and Barrio were due to occurrences of extremely frequent words, such as \"the\", \"and\", and \"his\". So nearest neighbors is recommending plausible results sometimes for the wrong reasons. \n",
        "\n",
        "To retrieve articles that are more relevant, we should focus more on rare words that don't happen in every article. **TF-IDF** (term frequency–inverse document frequency) is a feature representation that penalizes words that are too common.  Let's use Turi Create's implementation of TF-IDF and repeat the search for the 10 nearest neighbors of Barack Obama:"
      ]
    },
    {
      "cell_type": "code",
      "metadata": {
        "id": "d75YQ7q8505m"
      },
      "source": [
        "wiki['tf_idf'] = turicreate.text_analytics.tf_idf(wiki['word_count'])"
      ],
      "execution_count": 59,
      "outputs": []
    },
    {
      "cell_type": "code",
      "metadata": {
        "id": "TPDD13B1F_J2"
      },
      "source": [
        "books['tf_idf'] = turicreate.text_analytics.tf_idf(books['word_count'])"
      ],
      "execution_count": 152,
      "outputs": []
    },
    {
      "cell_type": "code",
      "metadata": {
        "id": "K0oRz-JFQoNq",
        "outputId": "2637947a-c854-4345-cd20-7e074c63fcd0",
        "colab": {
          "base_uri": "https://localhost:8080/"
        }
      },
      "source": [
        "turicreate.text_analytics.tf_idf(books['word_count']).vector_slice"
      ],
      "execution_count": 155,
      "outputs": [
        {
          "output_type": "execute_result",
          "data": {
            "text/plain": [
              "<bound method SArray.vector_slice of dtype: dict\n",
              "Rows: 25671\n",
              "[{'normandy': 7.668210579298164, 'day': 2.7439807851660363, 'began': 4.066342502173858, 'time': 1.9337911351800734, 'advertising': 5.862657787937773, 'beaches': 6.751919847424009, 'invasion': 5.653307558755899, 'dramatic': 4.403724243177911, 'offers': 3.288269451115304, 'history': 5.386404925690119, 'military': 9.336640591191019, 'nationa': 10.153117229086165, 'perspective': 4.922008612231578, 'paperback': 4.635664332621457, 'outstanding': 5.578406250582781, 'allied': 6.820912718910961, 'campaign': 5.43461835779107}, {'recurring': 6.975063398738219, 'addresses': 5.518388240856528, 'mortal': 5.489678134974097, 'detailing': 6.751919847424009, 'epidemics': 7.955892651749945, 'previous': 4.960160378195954, 'prospects': 6.751919847424009, 'history': 2.6932024628450595, 'science': 3.6885289253962035, 'delving': 7.3805285068463835, 'adventure': 3.4585551705650692, 'drama': 4.189537885467718, 'lethal': 5.218643295955473, 'mystery': 3.189927243215927, 'york': 3.0063450496335276, 'reporter': 4.815579149384846, 'warehouse': 8.073675687406329, 'tissue': 7.668210579298164, 'preserved': 6.368927595167904, 'high': 3.110831057146421, 'alaska': 5.963462487059739, 'virus': 12.403747021009474, 'shards': 7.955892651749945, 'rediscovered': 6.934241404217964, 'children': 2.953438883394992, 'raged': 7.108594791362742, 'died': 4.289486053488067, 'young': 2.1669523687534373, 'million': 4.02624804497198, 'living': 3.192769499984857, 'estimated': 7.850532136092119, 'sickened': 8.361357759858109, 'fascinating': 3.6885289253962035, 'gina': 7.7552219562877935, 'globe': 5.077943413852338, 'recently': 4.825241060296583, 'true': 2.9922713224218658, 'overnight': 6.439545162381857, 'forty': 4.685057087951034, 'orphaned': 5.537996712244905, 'story': 3.822828138712692, 'important': 3.6398871181738577, 'deadliest': 6.391917113392602, 'prevent': 5.277919905885013, 'acclaimed': 3.8233963235634683, 'wiped': 7.26274547119, 'disease': 9.844017224463157, 'understanding': 4.037225103603131, 'felled': 8.766822867966274, 'virtually': 5.4526368632937485, 'great': 8.156579540859088, 'times': 3.210960523386695, 'epidemic': 18.973427497791207, 'healthy': 5.162684642307428, '1918': 14.761057013692767, 'flu': 36.31372735595, 'soldiers': 5.21147480647686, 'families': 4.236915166478729, 'killed': 12.447690485938876, 'scraps': 7.668210579298164, 'battle': 3.7528597837773434, 'american': 2.663146330251364, 'latest': 4.184409669100798, 'war': 2.75188596467315, 'left': 3.2799533948736466, 'devastated': 5.771090594412283, 'area': 5.293304824724492, 'people': 2.4501095466069285, 'safe': 4.627664289954381, 'kolata': 18.91994009705244, 'eskimos': 8.361357759858109, 'remote': 4.631656311223918, 'unravels': 6.464237774972228, 'outposts': 8.543679316652064, 'frozen': 11.32896171870805, 'world': 3.291140829443465, 'scientists': 5.162684642307428, 'tundra': 7.668210579298164, 'numbers': 5.746397981821912, 'entire': 4.169180948398974, 'government': 4.436089527679943, 'villages': 6.719130024601018}, {'led': 4.318306492023559, 'america': 3.0110806543793616, 'desperate': 3.9345171093944353, 'traces': 5.03512341666941, 'ii': 4.493635013326544, 'war': 2.75188596467315, 'china': 5.103261221836627, 'places': 4.300914749311691, '1949': 6.751919847424009, '1920s': 6.201873510504737, 'angrily': 9.054504940418054, 'years': 2.0747391254596455, 'coming': 3.9940218405942316, 'daughter': 3.167475411446956, 'believes': 4.615782962067628, 'secrets': 3.3233234915737393, 'dying': 4.511210158148051, 'determines': 7.0176230131570145, 'events': 3.6473331689579362, 'worst': 4.627664289954381, 'fifty': 4.796530954414152, 'expose': 5.4526368632937485, 'helen': 16.70444925124678, 'winnie': 28.070492052628058, 'story': 1.911414069356346, 'pearl': 5.904621987036806, 'world': 1.6455704147217325, 'past—including': 10.153117229086165, 'terrible': 4.07547498573713, 'truth': 3.275821157588736, 'happy': 4.410114041276683, 'begins': 3.224579410921499, 'island': 3.907010463604602, 'life': 1.4248530675899866, 'small': 3.2167744932521147, 'shanghai': 7.26274547119}, {'frightening': 5.129236708239888, 'surprising': 4.723771600131724, 'laymen': 8.543679316652064, 'love': 1.9072079643120718, 'published': 3.3664002784810836, 'dramatic': 4.403724243177911, 'alike': 4.627664289954381, 'unfolded': 8.361357759858109, 'history': 5.386404925690119, 'questions': 3.656342238900302, 'twenty': 3.5290520012862707, 'made': 3.027834137575453, 'inquisitive': 7.319903885029948, 'historians': 6.391917113392602, 'ponder': 6.934241404217964, 'keenest': 9.054504940418054, 'minds': 4.938181471477179, 'entertaining': 4.231538809442349, 'essays': 4.706379857419854, 'time': 1.9337911351800734, 'big': 3.5641907515526454, 'answers': 3.991909907391088, 'tantalizing': 5.904621987036806, 'fortune': 4.34497473910572, 'real': 3.0875038654884475}, {'word': 4.253219875503673, 'captivates': 7.445067027983955, 'evocative': 5.425729410373824, 'unfulfilled': 7.850532136092119, 'gossip': 5.578406250582781, 'whispered': 6.391917113392602, 'ties': 5.285582778630582, 'threads': 6.2819162181782735, 'isolation': 5.876451110070109, 'physical': 4.573387403099942, 'long': 2.6156871924996556, 'mind': 3.4102365932942615, 'reader’s': 8.073675687406329, 'family': 2.226153684223186, 'live': 3.382327805177185, 'characters': 3.267607559051347, 'drawn': 3.930540961014796, 'richly': 5.059367028279402, 'enthralling': 5.978729959190527, 'access': 5.3824326046205, 'readers': 2.662029635551289, 'book’s': 8.361357759858109, 'university': 4.787141214064313, 'series': 2.963949490665842, 'books': 3.2324457248374814, 'south': 4.052798277066101, 'book': 3.6153236018484733, 'bittersweet': 5.919010724488905, 'line': 3.9689683381486813, 'tatum': 8.766822867966274, 'vows': 5.21147480647686, 'hear': 5.1559049553220495, 'jars': 7.668210579298164, 'summer': 3.9325270589864254, 'developed': 5.218643295955473, 'reach': 4.719395225531925, 'ball': 5.734276621289567, 'marriage': 3.3440779230431854, 'class': 4.073184033990574, 'reader': 7.340019755257932, 'make': 2.489709564192685, '1938': 7.062074775727848, 'finished': 6.201873510504737, 'praised': 5.746397981821912, 'fully': 4.768622166297075, 'moments': 4.830107249947757, 'hopes': 4.672478305744173, 'boll': 9.45997004852622, 'turned': 3.9898024250515234, 'increasingly': 5.122679307693729, 'breaks': 5.3995270379798, 'creates': 4.815579149384846, 'extraordinary': 3.4389466991766926, 'featured': 5.822383888799833, 'story': 5.734242208069038, 'struggle': 3.9445272029895357, 'beautifully': 4.737016826881744, 'weave': 5.978729959190527, 'julia': 5.746397981821912, 'events': 3.6473331689579362, 'considerable': 5.978729959190527, 'woman': 2.2833333265560185, 'sky': 15.54991178853049, 'confidant': 6.975063398738219, 'table': 5.142481934989909, 'weevil': 10.153117229086165, 'extend': 6.8950206910646825, 'buttermilk': 28.37991014557866, 'depression': 10.232329253345071, 'time': 1.9337911351800734, 'clicks': 10.153117229086165, 'talent': 4.588596821763471, 'oliver': 11.69810427176399, 'love': 1.9072079643120718, 'feel': 4.189537885467718, 'fidelity': 7.26274547119, 'rural': 9.931462846490819, 'inclusion': 7.445067027983955, 'writer': 3.359651096506155, 'identity': 4.292331005620299, 'adult': 4.965731423245409, 'kitchen': 5.22586354392896, 'press': 4.885259070022836, 'era': 4.514762559752419, 'offering': 5.053250801261966, 'deep': 3.620782936863815, 'young': 4.333904737506875, 'result': 4.38792612630132, '20': 4.954620197820339, 'alabama': 20.802724212653892, 'party': 4.324171611475958, 'place': 2.933475188955429, 'narrated': 6.302969627376106, 'cloth': 6.626756704470003, 'attention': 4.436089527679943, 'goodbye': 14.314769911064348, 'secrets': 3.3233234915737393, 'passion': 3.3019323015924216, 'callie': 15.028119798941812, 'experiences': 4.1921118894628915, 'paperback': 4.635664332621457, 'desire': 3.880240222539997, 'portrays': 5.710465972595848, 'wife’s': 7.850532136092119, 'highly': 4.171703017831684, 'stunning': 4.218223033466577, 'quality': 5.0968714237378565, 'powerful': 3.02702995578704, 'dangerous': 3.4487028741220573, 'emotional': 4.347982260169676, 'decision': 5.011453672583505, 'cinematic': 6.934241404217964, 'tragedy': 4.070898318709719, 'precision': 6.182825315534043, 'nationally': 6.597769167596751, 'palpable': 7.7552219562877935, 'dust': 5.588769037618328, 'suspense': 3.9485594665174744, 'rules': 4.607939784606602, 'infidelity': 6.820912718910961, 'housekeeper': 6.164133182521891, 'southern': 4.569620920304465, 'canning': 9.45997004852622, 'life': 2.8497061351799733, 'year': 2.5034246053746503, 'society’s': 8.543679316652064, 'race': 4.024067019025619, 'chain': 5.547947043098073, 'fiction': 3.2645447695208016, 'lead': 4.052798277066101, 'dreams': 3.5197987958057877, 'woman’s': 6.597769167596751, 'future': 3.3147120282388207, '1994': 5.904621987036806, 'originally': 4.900843801039534, 'club': 4.5658685706859155, 'published': 3.3664002784810836, 'received': 5.301086965166547, 'selection': 4.938181471477179}, {'holds': 4.5658685706859155, 'friends': 3.0367230849926994, 'enemies': 4.483236306105645, 'misstep': 8.543679316652064, 'means': 4.2050822399055185, 'money': 3.924606225494981, 'entering': 6.324475832597069, 'jungle': 5.60982244681616, 'brazilian': 7.588167871624628, 'vultures': 8.766822867966274, 'circles': 6.241094223658019, 'crashing': 6.857280363081835, 'family': 2.226153684223186, 'cost': 4.815579149384846, 'find': 2.3034034714812948, 'attorney': 4.880117670522417, 'corporate': 5.270315306499794, 'disgraced': 7.108594791362742, 'rehab': 8.073675687406329, 'handpicked': 7.588167871624628, 'fresh': 4.286649172152868, 'legal': 5.0968714237378565, 'alike': 4.627664289954381, 'battle': 3.7528597837773434, 'names': 4.830107249947757, 'pursued': 5.771090594412283, 'touch': 4.472944620069097, 'minions': 7.208678249919724, 'wives': 5.547947043098073, 'stunning': 4.218223033466577, 'send': 5.21147480647686, 'vicious': 5.270315306499794, 'troy': 13.571642798199381, 'woman': 4.566666653112037, 'transform': 5.293304824724492, 'plush': 8.073675687406329, 'office': 4.452673655695478, 'phelan': 27.16351482125416, 'fortune': 4.34497473910572, 'angry': 5.390943294288409, 'eleven': 5.17638348666559, 'man': 1.9772882203715678, 'nate': 15.336421158596329, 'rich': 3.5015453554964373, 'rewriting': 9.054504940418054, 'children': 2.953438883394992, 'message': 9.650482120593166, 'furiously': 7.668210579298164, 'virginia': 4.916675266256215, 'lawyers': 6.261296930975538, 'hours': 4.34497473910572, 'dozens': 5.197290171484903, 'lives': 2.6140901732621695, 'world': 1.6455704147217325, 'mysterious': 3.3254879945833125, 'surprise': 9.328359005858957, 'death': 5.1725774997556675, 'heir': 5.270315306499794, 'sole': 6.110065961251614, 'billion': 6.221291596361839, 'brazil': 6.857280363081835, 'dollar': 5.499156878928641, 'named': 3.795274962578065, 'rachel': 11.241035471865818, 'lane': 11.867219047820116, 'living': 3.192769499984857, 'missionary': 7.26274547119, 'deep': 3.620782936863815, 'job': 3.6623936945836575, 'jungles': 6.597769167596751, 'enter': 4.787141214064313, 'riley': 6.7858213990996905}, {'wilber': 8.543679316652064, 'measured': 7.3805285068463835, 'america': 3.0110806543793616, 'defining': 6.489555582956518, 'conclusion': 5.129236708239888, 'daughter': 3.167475411446956, 'young': 2.1669523687534373, 'present': 3.8504982533412595, 'narrative': 4.226191203115754, 'meets': 3.87647373974452, 'horrifying': 5.1833039295101635, 'secrets': 3.3233234915737393, 'complex': 3.975173115035564, 'dense': 6.7858213990996905, 'law': 3.9587118379814923, 'takes': 2.92545473035751, 'comments': 6.221291596361839, 'rafters': 9.45997004852622, 'packed': 4.777838821402, 'ain': 7.850532136092119, 'builds': 5.835629115549854, 'country': 3.3574114539126505, 'house': 3.1125808388702088, 'fact': 4.0823795010836745, 'powerful': 3.02702995578704, 'ordinary': 4.292331005620299, 'broken': 4.596289167386627, 'happen': 4.764045499269663, 'shape': 4.796530954414152, 'stopping': 5.664480859354025, 'couldn': 4.737016826881744, 'place': 2.933475188955429, 'close': 3.9445272029895357, 'loft': 8.207207080030852, 'yields': 7.319903885029948, 'watching': 5.103261221836627, 'alix': 7.7552219562877935, 'evocative': 5.425729410373824, 'recalls': 6.058772666864064, 'overheated': 8.766822867966274, 'lyrical': 5.332835663481128, 'wildness': 8.207207080030852, 'sense': 3.7662379097235195, 'soothe': 7.445067027983955, 'treated': 5.963462487059739, 'letting': 6.302969627376106, 'mouth': 5.809311807232481, 'overemotional': 10.153117229086165, 'corners': 5.904621987036806, 'goose': 6.820912718910961, 'mother': 2.874488286765482, 'rubbed': 8.207207080030852, 'days': 3.5080262595805207, 'wearer': 8.361357759858109, 'age': 3.253394121801292, 'deprives': 9.054504940418054, 'device': 6.934241404217964, 'circumstances': 4.976967496512335, 'morrison': 25.211878509504423, 'importantly': 6.201873510504737, 'slaves': 5.933609523910058, 'central': 4.719395225531925, 'beloved': 18.497461150967364, 'secret': 2.9167778863318206, 'dead': 12.2554962962346, 'headgear': 10.153117229086165, 'comforting': 7.0176230131570145, 'haunting': 4.504142990924958, 'family': 2.226153684223186, 'bluest': 9.45997004852622, 'sethe': 45.27252470209027, 'nobel': 5.698769932832657, 'characters': 3.267607559051347, 'concerns': 5.301086965166547, 'pulitzer': 5.0968714237378565, 'difficult': 4.45602374258076, 'history': 2.6932024628450595, 'symbol': 5.919010724488905, 'child': 6.502760044859181, 'speech': 6.025982844041073, 'breaks': 5.3995270379798, 'makes': 3.479819261318511, 'fine': 4.697796113728463, 'ohio': 6.302969627376106, 'murders': 4.854799862538128, 'make': 2.489709564192685, 'destructive': 5.783669376619143, 'prize': 4.20769662047959, 'named': 3.795274962578065, 'render': 7.208678249919724, 'belong': 6.1277655383510155, 'mirrors': 6.464237774972228, 'death': 2.5862887498778337, 'civil': 4.5809631969083995, 'winning': 3.6593633892344783, 'language': 3.8916255447651222, 'baby': 11.95680221459347, 'years': 2.0747391254596455, 'hiding': 5.149170923140705, 'terrible': 8.15094997147426, 'inexorably': 6.391917113392602, 'thought': 7.3584530654677796, 'haunts': 5.963462487059739, 'lucky': 5.518388240856528, 'grief': 5.077943413852338, 'supernatural': 5.3995270379798, 'slave': 15.57081779647877, 'cake': 6.346454739315845, 'murdered': 3.979331125184228, 'angry': 5.390943294288409, 'generally': 6.346454739315845, 'tongue': 5.933609523910058, 'oddly': 6.687381326286438, 'ghost': 9.53724433259415, 'including': 3.1610208016702765, 'war': 2.75188596467315, 'mysterious': 3.3254879945833125, 'fingerprints': 7.668210579298164, 'runaway': 5.631328652037125, 'toni': 7.0176230131570145, 'icing': 8.543679316652064, 'fat': 5.293304824724492, 'detail': 4.483236306105645, 'add': 5.308930142627573, 'finds': 2.8306067950887703, 'laureate': 7.208678249919724, 'written': 3.0071327613717767, 'novels': 3.6578516731491564, 'song': 5.1833039295101635, 'terrifying': 8.31831160355919, 'solomon': 6.934241404217964, 'slavery': 17.166901290728553, 'eye': 8.096647993342359, 'paradise': 5.301086965166547, 'precisely': 6.261296930975538, 'arguably': 7.062074775727848, 'modern': 3.2364022087325557, 'visited': 5.904621987036806, 'readers': 2.662029635551289, 'recalcitrant': 8.766822867966274, 'negro': 7.3805285068463835, 'antebellum': 7.3805285068463835, 'subject': 4.446006964337289, 'master': 3.6222396013602793, 'memories': 4.363157058188911, 'telling': 4.768622166297075, 'leaves': 4.410114041276683, 'bit': 4.900843801039534, 'familiar': 4.550998408206464, 'woman': 4.566666653112037, 'impossible': 4.619727740358645, 'individual': 4.839911250044377, 'rapes': 7.668210579298164, 'home': 2.558232841869645, 'horrors': 5.568149750415593, 'clichéd': 10.153117229086165, 'spirit': 7.549382090869155, 'melodramatic': 8.766822867966274, 'mutilations': 8.766822867966274, 'piece': 4.754954527568412, 'painful': 4.922008612231578, 'husband': 3.2003885844612965, 'apt': 8.361357759858109, 'manages': 5.849052135881995, 'recounted': 6.626756704470003, 'past': 2.77410910145786, 'drawn': 3.930540961014796, 'beatings': 7.668210579298164, 'tragedy': 4.070898318709719, 'remains': 4.369292046756427, 'sufferer': 8.543679316652064, 'deeper': 4.880117670522417, 'punishing': 8.361357759858109, 'life': 2.8497061351799733, 'discipline': 6.042243364912853, 'encapsulate': 9.45997004852622, 'start': 4.12725125526085, 'troubled': 4.787141214064313, 'cruelties': 14.639807770059896}, {'ve': 4.09633321585754, 'century': 2.9549336519842213, 'twentieth': 4.5809631969083995, 'present': 3.8504982533412595, 'staff': 5.6872091104315805, 'writing': 3.5935019915929223, 'winning': 3.6593633892344783, 'award': 3.623698390823939, 'dikkers': 10.153117229086165, 'chief': 4.536346131419593, 'editor': 4.976967496512335, 'march': 5.675780414607958, 'misinforming': 10.153117229086165, 'scott': 5.059367028279402, 'half': 3.924606225494981, 'publication': 4.514762559752419, 'office': 4.452673655695478, 'witness': 4.906093156925678, 'week': 4.834997235241948, 'social': 3.713766857986066, 'popular': 3.5424211843684055, 'million': 4.02624804497198, 'world': 1.6455704147217325, 'kind': 3.795274962578065, 'remote': 4.631656311223918, 'print': 4.737016826881744, 'history': 2.6932024628450595, 'newsstands': 9.45997004852622, 'satire': 5.470986001961945, 'nationwide': 6.464237774972228, 'humor': 3.7578556309707154, 'online': 6.092674218539745, 'readers': 2.662029635551289, 'quickly': 4.410114041276683, 'madison': 6.687381326286438, 'wisconsin': 6.569598290630054}, {'tempt': 7.319903885029948, 'enthusiasm': 6.415447610802796, 'vegetable': 6.975063398738219, 'glazed': 9.45997004852622, 'confirmed': 6.391917113392602, 'flavor': 6.751919847424009, 'burritos': 10.153117229086165, 'webb': 7.319903885029948, 'philip': 5.425729410373824, 'photographed': 7.3805285068463835, 'treats': 5.978729959190527, 'salads': 7.108594791362742, 'party': 4.324171611475958, 'quick': 4.869913500348176, 'ranging': 5.149170923140705, 'stylish': 6.302969627376106, 'original': 3.327657192830858, 'assertive': 8.207207080030852, 'innovative': 5.537996712244905, 'hill': 5.1559049553220495, 'bookshop': 8.361357759858109, 'choosing': 5.698769932832657, 'london': 3.7058113665449515, 'carnivore': 9.45997004852622, 'world': 1.6455704147217325, 'famous': 3.6149774053184944, 'books': 3.2324457248374814, 'imagination': 4.1492301619796255, 'vegetarian': 19.969829002859054, 'skewers': 7.26274547119, 'filled': 3.6684819934509125, 'breakfasts': 8.073675687406329, 'longer': 4.504142990924958, 'eclectic': 6.857280363081835, 'restaurant': 5.480288394624258, 'notting': 7.668210579298164, 'recipes': 9.247376283149482, 'celia': 21.788236413569997, 'brooks': 6.656609667619684, 'barbecue': 7.588167871624628, 'appreciated': 7.445067027983955, 'brown': 4.900843801039534, 'presents': 7.954499917960807, 'bursting': 7.157384955532174, 'cooking': 5.43461835779107, 'foods': 5.835629115549854, 'talented': 5.084213026865933, 'cooks': 6.54219931644194, 'team': 4.255963361449424, 'approach': 4.676653677154654, 'exclusive': 5.308930142627573, 'major': 3.7729946921863995, 'free': 3.809236794959834, 'domain': 7.062074775727848, 'sweet': 4.607939784606602, '50': 4.976967496512335, 'thai': 7.850532136092119, 'vegetarians': 7.955892651749945, 'meat': 6.1277655383510155, 'bright': 4.745945457626045, 'food': 4.061807347008466, 'marvelous': 5.809311807232481, 'flavors': 7.157384955532174, 'make': 2.489709564192685, 'colors': 6.058772666864064, 'easy': 3.6193283911528207, 'advice': 4.108111915050153, 'chefs': 7.108594791362742, 'convenience': 6.2819162181782735, 'preparing': 5.698769932832657, 'fresh': 8.573298344305735, 'ingredients': 5.758668074413726}, {'embarrassment': 7.26274547119, 'dealing': 5.293304824724492, 'accompanied': 5.277919905885013, 'stories': 2.737340253670771, 'pressure': 5.620517735932909, 'painful': 4.922008612231578, 'poignant': 4.588596821763471, 'hilarious': 4.0394350492539335, 'advice': 4.108111915050153, 'robynn': 10.153117229086165, 'america': 3.0110806543793616, 'clairday': 10.153117229086165, 'grace': 4.631656311223918, 'interviewed': 6.7858213990996905, 'real': 3.0875038654884475, 'awkward': 6.751919847424009, 'kids': 4.267013197636009, 'collect': 6.464237774972228, 'finding': 4.381676105956148, 'tales': 3.7696105942021587, 'situations': 5.599240337485623}, {'dreams': 3.5197987958057877, 'helping': 5.169510607377828, 'bent': 5.60982244681616, 'young': 2.1669523687534373, 'enigmatic': 4.938181471477179, 'woman': 2.2833333265560185, 'teams': 5.994234145726493, 'realize': 4.764045499269663, 'newly': 4.573387403099942, 'graduated': 7.208678249919724, 'wilderness': 4.960160378195954, 'sam': 5.077943413852338, 'altman': 8.073675687406329, 'gripped': 6.820912718910961, 'inexplicable': 5.994234145726493, 'urge': 6.2819162181782735, 'college': 4.139402073043363, 'lose': 4.834997235241948}, {'back': 2.5378188892603495, 'landmark': 5.664480859354025, 'interest': 4.573387403099942, 'compelling': 3.8935357650212414, 'midair': 8.361357759858109, 'extraordinary': 3.4389466991766926, 'mind': 3.4102365932942615, 'skies': 6.145784043853694, 'manages': 5.849052135881995, 'reading': 3.8916255447651222, 'moment': 4.0416498895834865, 'plane': 5.340932873713747, 'mixture': 6.324475832597069, 'lethal': 5.218643295955473, 'denver': 6.687381326286438, 'bound': 4.655949003792963, 'suspense': 3.9485594665174744, 'frantic': 6.391917113392602, 'land': 3.4462548924834175, 'passengers': 6.182825315534043, 'cover': 3.83414911533973, 'investigation': 4.1998738947983805, 'injured': 6.092674218539745, 'subject': 4.446006964337289, 'destroyed': 4.777838821402, 'issue': 5.783669376619143, 'pilot': 5.489678134974097, 'death': 2.5862887498778337, 'safety': 5.090522196059197, 'cabin': 5.876451110070109, 'fifty': 4.796530954414152, 'information': 3.6006093420515746, 'public': 3.9876993748547447, 'jet': 6.2819162181782735, 'strain': 6.626756704470003, 'paramount': 7.3805285068463835, 'interior': 5.698769932832657, 'triggers': 6.975063398738219, 'disaster': 4.643728892458188, 'andromeda': 8.361357759858109, 'virtually': 5.4526368632937485, 'twin': 5.053250801261966, 'aboard': 5.508726329944792, 'airframe': 9.054504940418054, 'commercial': 5.9484246096951985, 'airliner': 8.543679316652064, 'hong': 6.719130024601018, 'kong': 6.656609667619684, 'crichton': 7.062074775727848, 'pressured': 7.850532136092119, 'nonstop': 6.751919847424009, 'dead': 3.06387407405865, 'super': 5.408185100722914, 'authentic': 5.340932873713747}, {'ago': 3.5836358086718687, 'years': 2.0747391254596455, 'swiftly': 6.751919847424009, 'site': 5.349096184352908, 'secretive': 6.346454739315845, 'halfway': 6.626756704470003, 'cremated': 8.543679316652064, 'dead': 6.1277481481173, 'men': 2.960183007870365, 'suddenly': 3.6369241530432004, 'hours': 4.34497473910572, 'medieval': 5.13583739227124, 'associates': 6.626756704470003, 'technology': 4.660055785745616, 'body': 3.3473946756691793, 'shocking': 4.073184033990574, 'fighting': 4.639688482921183, 'daze': 8.361357759858109, 'world': 1.6455704147217325, 'arizona': 6.058772666864064, 'twenty': 3.5290520012862707, 'living': 3.192769499984857, 'desert': 4.834997235241948, 'discovery': 4.176766319788231, 'wanders': 6.7858213990996905, 'corporation': 6.302969627376106, 'archaeologists': 7.157384955532174, 'words': 3.8287582667048534, 'swept': 5.129236708239888, 'make': 4.97941912838537, 'speaking': 5.698769932832657, 'man': 1.9772882203715678, 'sense': 3.7662379097235195, 'multinational': 7.445067027983955, 'headquarters': 6.391917113392602, 'developed': 5.218643295955473, '–': 5.0291532496829054, 'astounding': 6.042243364912853, 'group': 3.863401658177167, 'hundred': 4.303792449139305, 'chance': 3.84138241993325, 'study': 4.210317853959464, 'past': 2.77410910145786, 'enter': 4.787141214064313, 'history': 2.6932024628450595, 'opened': 5.508726329944792, 'present': 3.8504982533412595, 'awakened': 6.009982502694632, 'women': 2.816831569064867, 'survival': 4.372373713293835, 'find': 2.3034034714812948}, {'earth': 3.452386119538354, 'similar': 5.43461835779107, 'distinct': 6.719130024601018, 'finds': 2.8306067950887703, 'dr': 7.45974053110529, 'abducted': 6.145784043853694, 'planet': 4.14430404364357, 'megalomaniacal': 8.543679316652064, 'malacandra': 18.91994009705244, 'mars': 6.182825315534043, 'ransom': 12.255531076702031, 'physicist': 6.391917113392602, 'space': 4.077771197997481, 'ship': 4.479793961914672}, {'history': 2.6932024628450595, 'rush': 6.009982502694632, 'inspiration': 5.065520893853781, 'american': 2.663146330251364, 'fortune': 4.34497473910572, 'generation': 4.236915166478729, 'lost': 6.690364570772477, 'scope': 5.664480859354025, 'prague': 7.3805285068463835, 'find': 2.3034034714812948, 'intentionally': 9.45997004852622, 'depicts': 6.164133182521891, 'budapest': 7.668210579298164, 'vague': 7.445067027983955, 'startling': 4.806009698368696, 'making': 3.6092053835213727, 'early': 3.718570710298711, 'gold': 4.573387403099942, '1990s': 6.2819162181782735, 'expats': 10.153117229086165, 'ambition': 5.090522196059197, 'harbor': 5.978729959190527, 'seek': 4.875002569855647, 'counterparts': 7.445067027983955, 'hope': 3.6222396013602793, 'suspicion': 5.547947043098073, 'adventure': 3.4585551705650692}, {'news': 4.372373713293835, 'wonderful': 4.2477553810315944, 'rare': 4.295184074602705, 'emotional': 4.347982260169676, 'ear': 6.164133182521891, 'style': 3.975173115035564, 'credit': 6.145784043853694, 'deserves': 6.54219931644194, 'petersburg': 6.975063398738219, 'crisp': 6.626756704470003, 'st': 4.432805452478753, 'disillusion': 8.073675687406329, 'poignancy': 6.934241404217964, 'wit': 4.186970489962472, 'cynical': 6.261296930975538, 'moments': 4.830107249947757, 'mountain': 4.693531714942005, 'enormously': 6.415447610802796, 'grown': 4.8498123210270885, 'type': 5.23313630325804, 'voice': 4.035020031044817, 'review': 4.664179502929478, 'mood': 5.963462487059739, 'book': 3.6153236018484733, 'acclaimed': 3.8233963235634683, 'entertaining': 4.231538809442349, 'willy': 7.108594791362742, 'underscored': 9.054504940418054, 'offers': 3.288269451115304, 'times': 6.42192104677339, 'idea': 4.403724243177911, 'empty': 5.43461835779107, 'counted': 6.626756704470003, 'christ': 5.6872091104315805, 'scholar': 5.255277429135253, 'jesus': 10.851458820747649, 'salvation': 5.620517735932909, 'honesty': 5.518388240856528, 'crusade': 6.597769167596751, 'proclaimed': 6.464237774972228, 'funny': 11.199366902817065, 'chocolate': 17.42793542169744, 'corbet': 10.153117229086165, 'author': 2.3387175952816777, 'calories': 7.157384955532174, 'vegetarian': 6.656609667619684, 'heartbreaking': 5.21147480647686, 'york': 3.0063450496335276, 'extinct': 6.857280363081835, 'jaramillo': 20.30623445817233, 'deliciously': 6.058772666864064, 'postal': 8.207207080030852, 'apprentice': 5.978729959190527, 'lifetime': 4.660055785745616, 'messiah': 6.975063398738219, 'consists': 6.934241404217964, 'impressive': 6.221291596361839, 'dead': 3.06387407405865, 'introduces': 4.777838821402, 'sydney': 6.54219931644194, 'semisweet': 10.153117229086165, 'candies': 9.45997004852622, 'distinctive': 5.890437352044849, 'easter': 12.928475549944457, 'promotion': 6.751919847424009, 'jfk': 7.445067027983955, 'turn': 3.5080262595805207, 'bea': 8.361357759858109, 'zealots': 7.955892651749945, 'honest': 4.906093156925678, 'things': 3.284102778420458, 'kings': 5.904621987036806, 'reverberating': 8.766822867966274, 'company': 4.30667845402844, 'bunny': 6.597769167596751, 'rocky': 5.978729959190527, 'capture': 4.938181471477179, 'compete': 6.820912718910961, 'king': 3.7412989613762675, 'dialogue': 5.653307558755899, 'domingo': 9.45997004852622, 'haunting': 4.504142990924958, 'assassination': 5.904621987036806, 'reverend': 6.5155310693597785, 'fitness': 6.368927595167904, 'gather': 5.835629115549854, 'graven': 9.45997004852622, 'image': 4.988331255162651}, {'work': 2.5096343220089636, 'provocative': 4.754954527568412, 'remarkable': 3.7201771363469853, 'reason': 4.607939784606602, 'faith': 4.154180667139482, 'intersection': 7.108594791362742, 'perilous': 5.190272598826257, 'drawn': 3.930540961014796, 'women': 2.816831569064867, 'portrait': 3.979331125184228, 'realized': 5.277919905885013, 'empathy': 6.687381326286438, 'giving': 4.754954527568412, 'cloister': 8.361357759858109, 'world': 1.6455704147217325, 'mysterious': 3.3254879945833125, 'brings': 3.578041388486544, 'selling': 4.28382031595239, 'author': 2.3387175952816777, 'imagination': 4.1492301619796255, 'religious': 4.550998408206464, 'dexterity': 8.543679316652064, 'astonishing': 4.5658685706859155, 'spare': 5.978729959190527, 'salzman': 17.087358633304127, 'woman': 2.2833333265560185, 'mark': 8.939074923494966, 'visions': 16.224555302168742, 'powerful': 3.02702995578704, 'searching': 4.810782977121353, 'headaches': 7.588167871624628, 'date': 4.372373713293835, 'cure': 5.425729410373824, 'spent': 4.532716363369015, 'cross': 4.511210158148051, 'john': 6.657487118086157, 'present': 3.8504982533412595, 'virtually': 5.4526368632937485, 'years': 2.0747391254596455, 'centuries': 4.292331005620299, 'day': 2.7439807851660363, 'rigors': 7.26274547119, 'brilliantly': 4.569620920304465, 'angeles': 4.768622166297075, 'los': 3.87647373974452, 'life': 4.27455920276996, 'ancient': 3.4548491749707515, 'experiences': 4.1921118894628915, 'devastating': 4.719395225531925, 'sister': 7.3677338245807835, 'power': 2.8573821563368824, 'manner': 5.599240337485623, 'looked': 5.547947043098073, 'soul': 3.8074808682575685, 'master': 3.6222396013602793, 'changed': 4.236915166478729, 'insight': 4.22352808569627, 'spiritual': 8.187988067008735, 'heart': 2.630176311013794, 'accompanied': 5.277919905885013, 'extraordinary': 3.4389466991766926, 'reveals': 3.979331125184228, 'dry': 6.009982502694632, 'dangerous': 3.4487028741220573, 'gifts': 5.1833039295101635, 'dazzling': 4.619727740358645, 'doctor': 4.469537461747483, 'today': 3.3973483071019093, 'faces': 4.7150379201629695, 'choice': 4.357059478320792, 'trial': 4.890427040181279, 'end': 3.300874660034286, 'symptoms': 6.415447610802796, 'god': 3.854167982230222, 'illness': 5.218643295955473, 'service': 4.702078775520464, 'monastery': 6.54219931644194, 'grace': 4.631656311223918, 'carmelite': 10.153117229086165, 'dilemma': 6.025982844041073}, {'literature': 3.86525866892438, 'american': 2.663146330251364, 'today': 3.3973483071019093, 'book': 1.8076618009242367, 'lee': 4.982633234048013, 'harper': 6.182825315534043, 'claims': 5.0291532496829054, 'regional': 6.975063398738219, 'translated': 5.301086965166547, 'print': 4.737016826881744, 'languages': 5.547947043098073, 'made': 3.027834137575453, 'pulitzer': 5.0968714237378565, 'million': 4.02624804497198, 'forty': 4.685057087951034, '18': 5.919010724488905, 'prize': 4.20769662047959, 'hatred': 5.631328652037125, 'copies': 4.764045499269663, '1960': 6.368927595167904, 'film': 4.2477553810315944, 'appeal': 5.129236708239888, 'young': 2.1669523687534373, 'critical': 4.741471177231125, 'bestseller': 3.918706503367793, 'considered': 4.741471177231125, 'southern': 4.569620920304465, 'instant': 5.240462343350113, 'sleepy': 5.994234145726493, 'childhood': 3.843198950859648, 'kill': 8.522946034520787, '1961': 6.820912718910961, 'published': 3.3664002784810836, 'universal': 5.065520893853781, 'success': 4.037225103603131, 'masterpiece': 4.562130248575308, 'conscience': 5.771090594412283, 'rocked': 6.597769167596751, 'award': 3.623698390823939, 'moving': 3.7282482051807766, 'regarded': 5.746397981821912, 'town': 3.0875038654884475, 'mockingbird': 15.91178530349989, 'winning': 3.6593633892344783, 'classic': 3.0118721067356735, 'story': 3.822828138712692, 'compassionate': 5.557997378951574, 'dramatic': 4.403724243177911, 'kindness': 6.110065961251614, 'academy': 5.809311807232481, 'crisis': 5.090522196059197, 'deeply': 4.210317853959464, 'woman': 2.2833333265560185, 'unforgettable': 3.901213345920276, 'pathos': 6.54219931644194, 'takes': 2.92545473035751, 'readers': 2.662029635551289, 'simple': 3.5836358086718687, 'alabama': 6.934241404217964, 'behavior': 4.8012590956100984, 'love': 3.8144159286241437, 'roots': 5.2627681008644105, 'human': 2.8359048207263253, 'win': 4.466141872746345, 'innocence': 4.864850198391629, 'cruelty': 5.822383888799833, 'experience': 3.57664766003794, 'humor': 3.7578556309707154}, {'race': 4.024067019025619, 'horse': 5.011453672583505, 'life': 1.4248530675899866, 'proves': 4.806009698368696, 'underdog': 7.850532136092119, 'millionaire': 5.408185100722914, 'western': 4.511210158148051, 'racehorse': 7.7552219562877935, 'hired': 10.168426053731865, 'bicycle': 6.8950206910646825, 'onetime': 7.445067027983955, 'story': 1.911414069356346, 'fortunes': 5.978729959190527, 'charles': 4.42301744611259, 'men': 2.960183007870365, 'smith': 10.046437028326181, 'fortune': 4.34497473910572, 'tail': 6.439545162381857, 'racing': 5.758668074413726, 'blind': 5.2478424506477355, 'states': 4.20769662047959, 'changed': 4.236915166478729, 'biggest': 4.960160378195954, 'single': 3.9526080550434743, 'repairman': 8.073675687406329, 'world': 1.6455704147217325, 'surprise': 4.664179502929478, 'mysterious': 3.3254879945833125, 'laura': 5.293304824724492, 'hillenbrand': 9.45997004852622, 'newsmaker': 9.45997004852622, 'attractions': 6.626756704470003, 'electrifying': 5.771090594412283, 'establishment': 6.182825315534043, 'united': 4.194692536056382, 'ralph': 5.876451110070109, '1938': 7.062074775727848, 'conspiracy': 4.875002569855647, 'receiving': 6.597769167596751, 'seabiscuit’s': 9.45997004852622, 'needed': 4.631656311223918, 'severe': 6.489555582956518, 'fdr': 8.207207080030852, 'sad': 5.470986001961945, 'buy': 5.2627681008644105, 'bad': 3.9898024250515234, 'racehorses': 8.361357759858109, 'tom': 4.635664332621457, 'written': 3.0071327613717767, 'breaker': 7.955892651749945, 'hitler': 5.963462487059739, 'success': 4.037225103603131, 'survived': 5.084213026865933, 'mussolini': 8.207207080030852, 'quoting': 7.850532136092119, 'boxer': 7.108594791362742, 'overnight': 6.439545162381857, 'automobile': 7.0176230131570145, 'introduced': 5.090522196059197, 'coverage': 5.44358702777383, 'crippled': 6.626756704470003, 'crooked': 6.7858213990996905, 'trainer': 6.597769167596751, 'waldo': 7.3805285068463835, 'mustang': 8.073675687406329, 'partners': 6.042243364912853, 'phenomenal': 6.164133182521891, 'colorado': 5.734276621289567, 'plains': 6.058772666864064, 'legged': 6.820912718910961, 'urged': 7.668210579298164, 'ran': 5.809311807232481, 'bargain': 6.324475832597069, 'run': 3.870850482190158, 'pathologically': 8.766822867966274, 'universal': 5.065520893853781, 'basement': 6.2819162181782735, 'history': 2.6932024628450595, 'price': 4.384796233292392, 'injury': 6.934241404217964, 'years': 2.0747391254596455, 'indolent': 9.45997004852622, 'jockey': 6.820912718910961, 'red': 4.171703017831684, 'howard': 11.671258231099708, 'popular': 3.5424211843684055, 'failed': 5.255277429135253, 'emerson': 6.464237774972228, 'eye': 4.048323996671179, 'author': 2.3387175952816777, 'half': 3.924606225494981, 'pollard': 8.543679316652064, 'prone': 6.857280363081835, 'passages': 6.164133182521891, 'sports': 10.747987471949271, 'transform': 5.293304824724492, 'neurotic': 7.208678249919724, 'american': 2.663146330251364, 'icon': 6.075579785180445, 'seabiscuit': 28.37991014557866, 'brilliantly': 4.569620920304465, 'creates': 4.815579149384846}, {'man': 1.9772882203715678, 'leads': 3.859697950239683, 'belief': 5.22586354392896, 'sugar': 6.324475832597069, 'oklahoma': 6.415447610802796, 'barbie': 7.062074775727848, 'year': 2.5034246053746503, 'accident': 4.3540245746256385, 'cast': 4.381676105956148, 'jax': 9.054504940418054, 'annawake': 10.153117229086165, 'bean': 7.0176230131570145, 'alice': 5.0968714237378565, 'turtle': 13.438260049202036, 'fourkiller': 10.153117229086165, 'trees': 5.758668074413726, 'taylor': 5.349096184352908, 'brings': 3.578041388486544, 'boss': 5.240462343350113, 'witnesses': 5.588769037618328, 'hoover': 7.668210579298164, 'rescue': 4.536346131419593, 'dam': 7.668210579298164, 'insistence': 7.108594791362742, 'freak': 6.5155310693597785, 'mother': 2.874488286765482}, {'mystery': 3.189927243215927, 'bottom': 5.557997378951574, 'letter': 4.938181471477179, 'victim': 4.122431968824901, 'finish': 5.978729959190527, 'library': 4.604041144190945, 'asked': 9.822740428053045, 'miss': 4.479793961914672, 'doll': 6.302969627376106, 'clutching': 9.054504940418054, 'day': 2.7439807851660363, 'heart': 2.630176311013794, 'stabbed': 6.2819162181782735, 'cataloging': 8.766822867966274, 'plummer': 9.054504940418054, 'murder': 2.8385643967620844, 'center': 8.596090613767474, 'found': 2.9017722457139508, 'dated': 7.3805285068463835, 'middle': 3.878355207844226, 'helma': 9.45997004852622, 'landed': 6.302969627376106, 'died': 4.289486053488067, 'barbie': 7.062074775727848, 'scene': 4.419775952188419, 'stanley': 6.261296930975538, 'zukas': 18.91994009705244, 'cataloguing': 9.054504940418054, 'unusual': 4.7150379201629695, 'bellehaven': 10.153117229086165, 'collection': 3.152782768810934, 'native': 4.446006964337289, 'american': 2.663146330251364, 'books': 3.2324457248374814, 'death': 2.5862887498778337, 'cultural': 4.452673655695478, 'body': 3.3473946756691793, 'ladies': 5.568149750415593, 'room': 4.20769662047959}, {'alter': 5.599240337485623, 'people': 2.4501095466069285, 'unforgettable': 3.901213345920276, 'introduces': 4.777838821402, 'events': 3.6473331689579362, 'downtown': 6.464237774972228, 'job': 3.6623936945836575, 'rise': 4.664179502929478, 'magazine': 4.810782977121353, 'city': 6.230422531277965, 'making': 3.6092053835213727, 'propels': 6.8950206910646825, 'country': 3.3574114539126505, 'savannah': 6.820912718910961, 'career': 3.5641907515526454, 'writer': 3.359651096506155, 'freedom': 4.239614223447894, 'innocence': 4.864850198391629, 'smoky': 7.26274547119, 'center': 4.298045306883737, 'woman': 2.2833333265560185, '1966': 7.0176230131570145, 'possibility': 5.518388240856528, 'time': 1.9337911351800734, 'donnell': 8.207207080030852, 'childhood': 3.843198950859648, 'heart': 2.630176311013794, 'momentous': 6.569598290630054, 'year': 2.5034246053746503, 'changing': 4.655949003792963, 'irrevocably': 6.164133182521891, 'world': 3.291140829443465, 'airless': 9.45997004852622, 'arrives': 4.635664332621457, 'dazzled': 7.588167871624628, 'atlanta': 12.69290947863169, 'chastened': 9.054504940418054, 'young': 2.1669523687534373, 'hectic': 6.975063398738219}, {'chill': 6.626756704470003, 'home': 2.558232841869645, 'cold': 4.064072353639318, 'shades': 7.26274547119, 'murder': 2.8385643967620844, 'night': 3.157351072781314, 'grave': 5.204357338707997, 'endless': 5.349096184352908, 'blooded': 5.461769346857021, 'death': 2.5862887498778337, 'numbing': 7.445067027983955, 'freeze': 7.7552219562877935, 'arctic': 6.391917113392602, 'arrives': 4.635664332621457, 'screams': 7.208678249919724, 'white': 3.5518871103572884, 'fear': 4.021890739603024, 'throat': 6.391917113392602}, {'deadly': 3.713766857986066, 'finds': 2.8306067950887703, 'arizona': 6.058772666864064, 'connecticut': 6.042243364912853, 'troubles': 5.963462487059739, 'face': 3.2799533948736466, 'loved': 3.907010463604602, 'speed': 5.620517735932909, 'hospital': 4.697796113728463, 'staring': 7.157384955532174, 'dead': 3.06387407405865, 'double': 4.8498123210270885, 'york': 9.019035148900583, 'sees': 4.486690540973732, 'months': 4.315386781920225, 'meghan': 42.718396583260315, 'lookalike': 8.766822867966274, 'faked': 8.073675687406329, 'reporter': 4.815579149384846, 'collins': 5.876451110070109, 'truth': 6.551642315177472, 'experience': 3.57664766003794, 'bridge': 5.722300430242851, 'death': 2.5862887498778337, 'murdered': 3.979331125184228, 'corpse': 5.240462343350113, 'father': 5.586026512194025, 'frightening': 5.129236708239888, 'car': 8.833089863213946, 'wrapped': 6.489555582956518, 'spun': 6.7858213990996905, 'bizarre': 4.483236306105645, 'sheet': 6.975063398738219, 'investigators': 6.626756704470003, 'trace': 5.568149750415593, 'feels': 4.592435598070637, 'river': 4.702078775520464, 'suspect': 4.446006964337289, 'find': 2.3034034714812948, 'woman': 2.2833333265560185, 'links': 5.994234145726493, 'start': 4.12725125526085, 'determined': 3.5211154516905347, 'mystery': 3.189927243215927, 'danger': 3.8486684266641835, 'nightmare': 4.446006964337289, 'journey': 3.285142820115872, 'ago': 3.5836358086718687, 'city': 3.1152112656389823, 'spiraling': 7.319903885029948}, {'adventure': 3.4585551705650692, 'high': 3.110831057146421, 'suspense': 3.9485594665174744, 'stopping': 5.664480859354025, 'heart': 2.630176311013794, 'unusual': 4.7150379201629695, 'results': 5.03512341666941, 'agree': 6.075579785180445, 'day': 5.4879615703320725, 'person': 7.873022256002599, 'born': 7.775632032696909, 'career': 3.5641907515526454, 'thousand': 4.745945457626045, 'beautiful': 2.8292866628838476, 'blinded': 7.3805285068463835, 'unknowable': 7.3805285068463835, 'change': 3.476033767839029, 'false': 5.904621987036806, 'emotionally': 5.3995270379798, 'create': 3.9587118379814923, 'terror': 8.539589681195771, 'bartholomew': 23.867677955249835, 'characters': 3.267607559051347, 'cast': 4.381676105956148, 'beauty': 3.543767985918784, 'dean': 5.568149750415593, 'sight': 4.954620197820339, 'brings': 3.578041388486544, 'story': 1.911414069356346, 'thrilling': 4.93276140400784, 'birth': 4.381676105956148, 'themes': 4.916675266256215, 'acclaimed': 3.8233963235634683, 'compelling': 3.8935357650212414, 'surgeons': 7.668210579298164, 'unforgettable': 3.901213345920276, 'mark': 4.469537461747483, 'koontz': 7.062074775727848, 'stalks': 6.415447610802796, 'miles': 4.754954527568412, 'named': 3.795274962578065, 'unfolds': 5.480288394624258, 'sees': 4.486690540973732, 'lampion': 18.10900988083611, 'man': 3.9545764407431356, 'search': 7.01345342847687, 'deepest': 5.129236708239888, 'world': 1.6455704147217325, 'rape': 5.919010724488905, 'proves': 4.806009698368696, 'family': 2.226153684223186, 'dreams': 3.5197987958057877, 'destiny': 4.2753814473065255, 'heels': 6.092674218539745, 'save': 3.6063318183256405, 'powerful': 3.02702995578704, 'find': 2.3034034714812948, '1': 3.885916680544802, 'ruthless': 4.639688482921183, 'learns': 4.117635796561408, 'mortal': 5.489678134974097, 'enemy': 8.490068581834468, 'critically': 5.499156878928641, 'embarks': 5.390943294288409, 'relentless': 5.270315306499794, 'consume': 6.687381326286438, 'eyes': 7.383298105464894, 'brutal': 4.394215455208884, 'barty': 18.10900988083611, 'mysteriously': 5.197290171484903, 'marked': 5.218643295955473, 'life': 4.27455920276996, 'linked': 5.3995270379798, 'journey': 3.285142820115872, 'mother': 2.874488286765482, 'remove': 7.0176230131570145, 'fast': 4.122431968824901, 'age': 3.253394121801292, 'cancer': 5.43461835779107, 'blindness': 7.319903885029948, 'bestseller': 3.918706503367793, 'prodigy': 7.108594791362742, 'counsels': 8.361357759858109, 'tragedy': 8.141796637419437, 'things': 3.284102778420458, 'work': 2.5096343220089636, 'happen': 4.764045499269663, 'forever': 3.6838669122903918, 'reason': 4.607939784606602, 'effect': 5.22586354392896, 'entwines': 8.766822867966274, 'memory': 4.2050822399055185, 'spreading': 6.719130024601018, 'ways': 3.704227834939307, 'thirteen': 5.116164626672536, 'girl': 3.1160896143998884, 'regains': 23.551596408276357, 'amazing': 4.825241060296583, 'copes': 7.955892651749945, 'breathtaking': 4.834997235241948, 'courage': 4.084691640842054}, {'romp': 6.346454739315845, 'darkly': 5.5281444158018935, 'pitch': 6.324475832597069, 'versa': 8.543679316652064, 'responds': 6.934241404217964, 'breaks': 5.3995270379798, 'speed': 5.620517735932909, 'tangier': 8.207207080030852, 'speeders': 9.054504940418054, 'chaos': 4.710699518564371, 'comic': 4.286649172152868, 'perfect': 3.493823309402527, 'fourteen': 5.218643295955473, 'warns': 6.415447610802796, 'streets': 4.321234751802648, 'monitoring': 7.7552219562877935, 'aircraft': 6.934241404217964, 'state': 12.111675310809392, 'governor': 6.261296930975538, 'virginia': 14.750025798768645, 'orders': 5.537996712244905, 'vice': 6.164133182521891, 'overhead': 7.7552219562877935, 'public': 3.9876993748547447, 'loose': 5.324803491783864, 'andy': 6.025982844041073, 'painted': 6.075579785180445, 'miles': 4.754954527568412, 'traps': 6.569598290630054, 'coast': 4.639688482921183, 'chesapeake': 7.668210579298164, 'bay': 5.518388240856528, 'eccentric': 4.759489682733803, 'newly': 4.573387403099942, 'declaring': 7.955892651749945, 'confidant': 6.975063398738219, 'highways': 7.208678249919724, 'war': 2.75188596467315, 'judy': 6.164133182521891, 'island': 3.907010463604602, 'flying': 5.3824326046205, 'hammer': 13.790041382129365, 'end': 3.300874660034286, 'superintendent': 6.261296930975538, 'hand': 4.043869646321799, 'brazil': 6.857280363081835, 'installed': 7.7552219562877935, 'find': 2.3034034714812948, 'police': 3.721786147152686, 'protect': 4.330071333603146, 'caught': 4.101028060161748, 'trooper': 7.588167871624628, 'politicians': 5.835629115549854, 'wits': 5.809311807232481}, {'machine': 5.3995270379798, 'virus': 6.201873510504737, 'face': 3.2799533948736466, 'answers': 3.991909907391088, 'racking': 7.955892651749945, 'starts': 4.7150379201629695, 'circumstances': 4.976967496512335, 'identical': 6.241094223658019, 'baseball': 5.588769037618328, 'finally': 3.629554922936652, 'worse': 4.635664332621457, 'bizarre': 4.483236306105645, 'apartment': 5.277919905885013, 'fired': 6.2819162181782735, 'brain': 10.131041787707561, 'headache': 8.207207080030852, 'spread': 5.425729410373824, 'courage': 4.084691640842054, 'louie': 22.542179698412717, 'impossible': 4.619727740358645, 'cogburn': 10.153117229086165, 'stunner': 9.054504940418054, 'detective': 3.802231512371425, 'spikes': 9.054504940418054, 'opened': 5.508726329944792, 'unbearable': 6.54219931644194, 'investigation': 4.1998738947983805, 'spent': 4.532716363369015, 'holed': 9.054504940418054, 'picked': 6.261296930975538, 'staring': 7.157384955532174, 'explain': 5.21147480647686, 'rage': 5.255277429135253, 'screen': 11.115994757903149, 'dallas': 6.241094223658019, 'door': 8.788430910417768, 'computer': 13.906992997864371, 'felt': 4.596289167386627, 'left': 3.2799533948736466, 'knocked': 7.26274547119, 'days': 3.5080262595805207, 'pounding': 6.464237774972228, 'bat': 6.975063398738219, 'cop': 4.859812404361672, 'scene': 4.419775952188419, 'died': 4.289486053488067, 'swinging': 7.668210579298164, 'instantly': 5.9484246096951985, 'man': 5.9318646611147035, 'eve': 10.168426053731865, 'sudden': 4.93276140400784, 'death': 2.5862887498778337, 'clue': 5.357326683489424, 'message': 4.825241060296583, 'drilling': 8.361357759858109, 'started': 4.764045499269663, 'dies': 4.759489682733803}, {'life': 1.4248530675899866, 'forever': 3.6838669122903918, 'season': 4.728167211604762, 'enters': 5.489678134974097, 'grown': 4.8498123210270885, 'year': 2.5034246053746503, 'title': 4.472944620069097, 'approaches': 5.631328652037125, 'stunning': 4.218223033466577, 'binchy': 7.7552219562877935, 'maeve': 7.26274547119, 'collection': 3.152782768810934, 'affair': 4.452673655695478, 'point': 4.289486053488067, 'story': 1.911414069356346, 'fifteen': 4.890427040181279, 'charm': 4.900843801039534, 'daughter': 3.167475411446956, 'friends': 3.0367230849926994, 'filled': 3.6684819934509125, 'author': 2.3387175952816777, 'christmas': 13.754318175975204, 'eve': 5.084213026865933, 'turning': 4.577168125939848, 'times': 3.210960523386695, 'bestselling': 3.2294886009477373, 'complacent': 7.850532136092119, 'storytelling': 4.773219875545705, 'york': 3.0063450496335276, 'woman': 2.2833333265560185, 'trademark': 5.664480859354025, 'pulling': 6.597769167596751, 'sheer': 5.919010724488905, 'circle': 4.982633234048013, 'glass': 5.425729410373824, 'ireland': 5.1833039295101635, 'wit': 4.186970489962472, 'stories': 2.737340253670771, 'lake': 5.011453672583505, 'genius': 4.68084655541469, 'unexpected': 4.184409669100798, 'typical': 6.1277655383510155, 'irish': 4.976967496512335, 'grieving': 6.324475832597069, 'sees': 4.486690540973732, 'widower': 6.656609667619684, 'children': 2.953438883394992, 'evening': 5.349096184352908, 'holiday': 4.988331255162651, 'destination': 6.346454739315845, 'alter': 5.599240337485623, 'man': 1.9772882203715678, 'class': 4.073184033990574, 'heads': 5.129236708239888, 'finds': 2.8306067950887703, 'father': 2.7930132560970127, 'crisis': 5.090522196059197, 'teacher': 4.397375015499252, 'twenties': 6.857280363081835, 'husband': 3.2003885844612965, 'married': 4.08007269498576}, {'begun': 5.053250801261966, 'seats': 7.208678249919724, 'mysteriously': 5.197290171484903, 'left': 3.2799533948736466, 'disappear': 5.876451110070109, 'headed': 5.3739937359746355, 'london': 3.7058113665449515, 'spread': 5.425729410373824, 'continue': 5.03512341666941, 'warning': 5.425729410373824, 'passengers': 6.182825315534043, 'boeing': 8.543679316652064, 'apocalypse': 6.597769167596751, 'airborne': 7.3805285068463835, 'terror': 4.269794840597886, 'chaos': 4.710699518564371, '747': 8.543679316652064, 'slowly': 4.954620197820339, 'plane': 5.340932873713747, 'unusual': 4.7150379201629695, 'worldwide': 4.943631076244744, 'events': 3.6473331689579362, 'unfold': 6.145784043853694}, {'dangerous': 3.4487028741220573, 'bitter': 4.885259070022836, 'partners': 6.042243364912853, 'lives': 2.6140901732621695, 'hands': 3.985600738197823, 'file': 6.464237774972228, 'confidential': 7.3805285068463835, 'drake': 6.5155310693597785, 'depths': 5.2627681008644105, 'takes': 2.92545473035751, 'homeless': 6.201873510504737, 'conscience': 5.771090594412283, 'big': 3.5641907515526454, 'lived': 4.197279859621333, 'sweeney': 15.91178530349989, 'brock': 15.336421158596329, 'instant': 5.240462343350113, 'top': 3.8878160163484545, 'rediscovering': 7.850532136092119, 'law': 3.9587118379814923, 'conspiracy': 4.875002569855647, 'michael': 37.29873639279213, 'man': 5.9318646611147035, 'offices': 6.656609667619684, 'making': 3.6092053835213727, 'brake': 9.45997004852622, 'secret': 2.9167778863318206, 'undone': 7.514059899470906, 'relentlessly': 6.110065961251614, 'hostage': 6.025982844041073, 'firm': 10.45172708785792, 'money': 3.924606225494981, 'society': 3.613531273468495, 'plush': 8.073675687406329, 'blood': 3.9365111280012997, 'attacker': 7.7552219562877935, 'splattered': 8.073675687406329, 'face': 3.2799533948736466, 'make': 2.489709564192685, 'streets': 8.642469503605296, 'lawyers': 6.261296930975538, 'hours': 4.34497473910572, 'rushing': 7.445067027983955, 'suddenly': 3.6369241530432004, 'unthinkable': 5.933609523910058, 'billing': 9.054504940418054, 'leaving': 4.41332431690693, 'lost': 3.3451822853862385, 'time': 1.9337911351800734, 'advocate': 6.569598290630054, 'step': 4.024067019025619, 'long': 2.6156871924996556, 'floated': 8.766822867966274, 'ago': 3.5836358086718687, 'giant': 5.084213026865933, 'powerless': 6.751919847424009, 'partnership': 6.489555582956518, 'justice': 4.363157058188911, 'enemies': 4.483236306105645, 'break': 4.375464905863508}, {'association': 5.809311807232481, 'bacame': 10.153117229086165, 'holistic': 7.108594791362742, 'potential': 5.071712864101702, 'make': 2.489709564192685, 'led': 4.318306492023559, 'experience': 3.57664766003794, 'healing': 9.184871196141273, 'change': 3.476033767839029, 'aware': 5.537996712244905, 'personal': 3.231459044935036, 'confrontation': 5.537996712244905, 'therapeutic': 7.588167871624628, 'safe': 4.627664289954381, 'loving': 4.338986697261098, 'carefrontation': 10.153117229086165, 'form': 3.956673101291644, 'ecap': 10.153117229086165, 'siegal': 9.45997004852622, 'siegel': 15.91178530349989, 'read': 3.304050946452707, 'advice': 4.108111915050153, 'happening': 5.698769932832657, 'influence': 5.03512341666941, '1978': 6.464237774972228, 'skeptic': 7.7552219562877935, 'medical': 4.504142990924958, 'president': 4.529099722898826, 'exceptional': 11.444600860485702, 'patient': 5.44358702777383, 'american': 2.663146330251364, 'precious': 5.053250801261966, 'therapy': 5.978729959190527, 'university': 4.787141214064313, 'healthier': 7.208678249919724, 'miracles': 11.618623614464962, 'courage': 4.084691640842054, 'stay': 4.286649172152868, 'cancer': 5.43461835779107, 'recovery': 5.919010724488905, 'haven': 5.508726329944792, 'specialized': 7.108594791362742, 'participate': 7.062074775727848, 'patients': 16.27718823112147, 'wonderful': 4.2477553810315944, 'based': 3.784930042735672, 'found': 2.9017722457139508, 'desire': 3.880240222539997, 'day': 2.7439807851660363, 'anatomy': 6.7858213990996905, 'started': 4.764045499269663, 'doctors': 5.508726329944792, 'younger': 4.900843801039534, 'norman': 5.7964084023965725, 'years': 2.0747391254596455, 'group': 3.863401658177167, 'bernie': 22.542179698412717, 'pages': 3.8671191345772997, 'humanity': 4.514762559752419, '1988': 6.1277655383510155, 'health': 4.33600606912296, 'book': 3.6153236018484733, 'shelf': 6.626756704470003, 'physician': 5.876451110070109, 'illness': 5.218643295955473, 'god': 3.854167982230222, 'blessing': 6.626756704470003, 'facilitates': 9.054504940418054, 'love': 1.9072079643120718, 'medicine': 5.142481934989909, 'wok': 9.054504940418054, 'deserves': 6.54219931644194, 'individual': 4.839911250044377, 'secret': 2.9167778863318206, 'cousin': 4.84484953168496, 'practices': 5.489678134974097, 'surgery': 6.221291596361839, 'teaches': 5.109692112166918, 'follow': 3.9587118379814923, 'yale': 6.975063398738219}, {'lust': 5.285582778630582, 'success': 4.037225103603131, 'corrupted': 7.445067027983955, '1930s': 5.963462487059739, 'famous': 3.6149774053184944, 'harcourt': 8.766822867966274, 'prize': 4.20769662047959, 'american': 2.663146330251364, 'publication': 4.514762559752419, 'winner': 4.436089527679943, 'fame': 5.053250801261966, 'warren': 6.368927595167904, 'fiction': 3.2645447695208016, 'read': 3.304050946452707, 'catapulted': 6.857280363081835, 'robert': 4.120031007287363, 'service': 4.702078775520464, 'people': 2.4501095466069285, '1947': 6.7858213990996905, 'original': 3.327657192830858, 'resembles': 7.157384955532174, 'men': 2.960183007870365, 'dreams': 3.5197987958057877, 'king': 3.7412989613762675, 'penn': 7.7552219562877935, 'pulitzer': 5.0968714237378565, 'traces': 5.03512341666941, 'works': 3.6458395167011526, 'politician': 6.415447610802796, 'author': 2.3387175952816777, 'idealistic': 6.415447610802796, 'long': 2.6156871924996556, 'bestseller': 3.918706503367793, 'southern': 4.569620920304465, 'begins': 3.224579410921499, 'seasons': 5.978729959190527, 'louisiana': 5.978729959190527, 'widely': 4.988331255162651, 'set': 2.822056923867532, 'made': 3.027834137575453, 'rise': 4.664179502929478, 'caught': 4.101028060161748, 'fall': 4.00038453438206, 'willie': 7.208678249919724, 'demagogue': 9.45997004852622, 'real': 3.0875038654884475, 'fictional': 5.162684642307428, 'life': 1.4248530675899866, 'huey': 9.45997004852622, 'kingfish': 10.153117229086165, 'power': 2.8573821563368824, 'career': 3.5641907515526454, 'stark': 11.542181188824566, 'man': 1.9772882203715678}, {'worker': 5.978729959190527, 'factory': 6.201873510504737, 'illiterate': 7.7552219562877935, 'existence': 4.446006964337289, 'tragedies': 6.182825315534043, 'triumphs': 5.620517735932909, 'roman': 4.689285424060555, 'world': 1.6455704147217325, 'student': 4.286649172152868, 'breaks': 5.3995270379798, 'carefree': 6.569598290630054, 'recounts': 4.988331255162651, 'years': 2.0747391254596455, 'torn': 4.68084655541469, 'life': 1.4248530675899866, 'war': 2.75188596467315, 'fifty': 4.796530954414152}, {'cover': 3.83414911533973, 'dream': 3.87459580492032, 'weep': 8.361357759858109, 'dramatic': 4.403724243177911, 'richly': 5.059367028279402, 'settlers': 6.415447610802796, 'ladies': 5.568149750415593, 'whores': 7.850532136092119, 'heroes': 4.84484953168496, 'assortment': 6.687381326286438, 'make': 2.489709564192685, 'meet': 3.7429423471199974, 'town': 3.0875038654884475, 'unforgettable': 3.901213345920276, 'texas': 4.596289167386627, 'winning': 3.6593633892344783, 'indians': 5.734276621289567, 'epic': 4.1492301619796255, 'pulitzer': 5.0968714237378565, 'larry': 5.822383888799833, 'outlaws': 6.656609667619684, 'tetralogy': 9.054504940418054, 'remember': 4.768622166297075, 'frontier': 5.277919905885013, 'laugh': 4.895621857058383, 'adventure': 3.4585551705650692, 'authentic': 5.340932873713747, 'love': 1.9072079643120718, 'classic': 3.0118721067356735, 'prize—': 10.153117229086165, 'journey': 3.285142820115872, 'dove': 28.434379165450967, 'back': 2.5378188892603495, 'mcmurtry’s': 10.153117229086165, 'lonesome': 30.056239597883625, 'book': 3.6153236018484733, 'written': 6.014265522743553, 'story': 1.911414069356346, 'grandest': 7.514059899470906, 'dusty': 6.110065961251614, 'defiant': 6.221291596361839, 'wilderness': 4.960160378195954, 'beautifully': 4.737016826881744, 'america': 3.0110806543793616}, {'dreamed': 5.204357338707997, 'sacrifice': 5.408185100722914, 'listen': 5.60982244681616, 'called': 3.3743323314009874, 'sister': 3.6838669122903918, 'older': 4.588596821763471, 'uphold': 7.668210579298164, 'marriage': 3.3440779230431854, 'ruins': 5.904621987036806, 'landowner': 7.3805285068463835, 'wealthy': 4.378565683541757, 'encounter': 4.573387403099942, 'honor—or': 10.153117229086165, 'willed': 6.391917113392602, 'powerful': 3.02702995578704, 'sons': 5.23313630325804, 'plans': 4.341976236109464, 'strong': 4.2477553810315944, 'family': 2.226153684223186, 'cholistan': 10.153117229086165, 'forbidden': 5.053250801261966, 'stirrings': 7.955892651749945, 'young': 2.1669523687534373, 'cruel': 5.077943413852338, 'desert': 4.834997235241948, 'freedoms': 7.7552219562877935, 'life': 1.4248530675899866, 'family’s': 6.7858213990996905, 'home': 2.558232841869645, 'shabanu': 18.91994009705244, 'girls': 4.318306492023559, 'heart': 2.630176311013794, 'pakistan': 7.7552219562877935, 'sweet': 4.607939784606602, 'daughter': 3.167475411446956, 'she’s': 10.681865747427494, 'tragic': 4.278186498234134, 'allowed': 5.60982244681616, 'windswept': 7.0176230131570145, 'muslim': 6.626756704470003}, {'union': 5.1559049553220495, 'falls': 4.179307617216903, 'omar': 7.850532136092119, 'lahore': 9.054504940418054, 'city': 3.1152112656389823, 'visit': 4.55469527008779, 'spite': 5.904621987036806, 'uncertain': 5.919010724488905, 'daughter': 3.167475411446956, 'plans': 4.341976236109464, 'household': 5.324803491783864, 'husband': 3.2003885844612965, 'pakistani': 7.850532136092119, 'world': 1.6455704147217325, 'love': 1.9072079643120718, 'young': 4.333904737506875, 'education': 5.0291532496829054, 'vividly': 5.17638348666559, 'struggle': 3.9445272029895357, 'custom': 6.857280363081835, 'traditions': 5.103261221836627, 'home': 2.558232841869645, 'shabanu': 28.37991014557866, 'haveli': 10.153117229086165, 'law': 3.9587118379814923, 'heartbreaking': 5.21147480647686, 'forbid': 8.073675687406329, 'woman': 2.2833333265560185, 'honor': 4.600157644164547, 'ancient': 3.4548491749707515, 'mother': 2.874488286765482, 'book': 1.8076618009242367, 'tyranny': 6.719130024601018, 'challenges': 4.558405849484325, 'future': 3.3147120282388207, 'created': 4.021890739603024, '18': 5.919010724488905, 'daily': 4.432805452478753, 'newbery': 6.092674218539745, 'faces': 4.7150379201629695, 'position': 5.0968714237378565}, {'times': 3.210960523386695, 'yesterday': 6.820912718910961, 'ago': 3.5836358086718687, 'years': 2.0747391254596455, 'billion': 6.221291596361839, 'day': 2.7439807851660363, 'big': 3.5641907515526454, 'delight': 4.787141214064313, 'history': 2.6932024628450595, 'york': 3.0063450496335276, 'recent': 4.521905447264799, 'startling': 4.806009698368696, 'bang': 6.719130024601018, 'vivid': 4.2753814473065255, 'adventure': 3.4585551705650692, 'dr': 3.729870265552645, 'amazing': 4.825241060296583, 'sagan': 7.3805285068463835, 'great': 2.718859846953029, 'intelligence': 4.472944620069097, 'carl': 5.664480859354025, 'links': 5.994234145726493, 'man': 1.9772882203715678, 'fifteen': 4.890427040181279, 'offering': 5.053250801261966, 'brain': 10.131041787707561, 'reading': 3.8916255447651222, 'takes': 2.92545473035751, 'beast': 5.783669376619143, 'origin': 5.978729959190527, 'discoveries': 5.620517735932909, 'human': 5.671809641452651, 'function': 6.719130024601018, 'insight': 4.22352808569627, 'legends': 5.285582778630582, 'haunting': 4.504142990924958}, {'1989': 6.164133182521891, 'literature': 3.86525866892438, 'prize': 4.20769662047959, 'pulitzer': 5.0968714237378565, 'captured': 4.885259070022836, 'reunite': 6.464237774972228, 'miles': 4.754954527568412, 'wasted': 7.26274547119, 'suit': 5.620517735932909, '90': 6.368927595167904, 'book': 1.8076618009242367, 'maggie': 22.889201720971403, 'meddler': 9.054504940418054, 'long': 2.6156871924996556, 'view': 4.3662198477194565, 'hatches': 7.850532136092119, 'contemplates': 8.361357759858109, 'son': 3.0497951665600525, 'loves': 4.22352808569627, 'moran': 7.445067027983955, 'changing': 4.655949003792963, 'mission': 4.043869646321799, 'connect': 6.489555582956518, 'unite': 6.009982502694632, 'people': 4.900219093213857, 'life': 1.4248530675899866, 'drive': 4.84484953168496, 'united': 4.194692536056382, 'friend': 3.130249143003523, 'fighting': 4.639688482921183, 'husband': 3.2003885844612965, 'ira': 19.793307502790253, 'thinks': 4.5658685706859155, 'proves': 4.806009698368696, 'estranged': 5.599240337485623, 'wife': 3.062207407006181, 'resignation': 7.850532136092119, 'jesse': 6.857280363081835, 'baby': 3.985600738197823, 'starts': 4.7150379201629695, 'things': 3.284102778420458, 'criticizes': 8.766822867966274, 'beauty': 3.543767985918784, 'funeral': 5.722300430242851, 'ordinary': 4.292331005620299, 'explains': 4.518327625916915, 'ability': 4.5436454339012045, 'potential': 5.071712864101702, 'ultimately': 4.347982260169676, 'traffic': 6.719130024601018, 'plan': 4.077771197997481, 'fear': 4.021890739603024}, {'complexity': 5.9484246096951985, 'readers': 2.662029635551289, 'enticing': 6.656609667619684, 'astute': 6.934241404217964, 'ties': 5.285582778630582, 'tightening': 7.850532136092119, 'inextricable': 8.543679316652064, 'feel': 4.189537885467718, 'roll': 5.771090594412283, 'immerse': 7.445067027983955, 'despair': 5.43461835779107, 'entwined': 6.597769167596751, 'unravel': 5.43461835779107, 'secrets': 3.3233234915737393, 'reveals': 3.979331125184228, 'woman': 2.2833333265560185, 'matriarchal': 10.153117229086165, 'connection': 4.949110542009369, 'deep': 3.620782936863815, 'tender': 5.03512341666941, 'examines': 4.906093156925678, 'tan': 11.752902220140218, 'mahjong': 8.766822867966274, 'irrelevant': 7.7552219562877935, 'left': 3.2799533948736466, 'boast': 8.766822867966274, 'chinese': 4.976967496512335, 'daughters': 29.43655894155407, 'lives': 5.228180346524339, 'meet': 3.7429423471199974, 'san': 4.462757774762104, 'mothers': 26.78663341744712, '1949': 6.751919847424009, 'stories': 8.212020761012313, 'women': 2.816831569064867, 'weekly': 5.149170923140705, 'winds': 5.6422577225693145, 'shift': 6.182825315534043, 'families': 4.236915166478729, 'amy': 5.758668074413726, 'depending': 7.319903885029948, 'telling': 4.768622166297075, 'francisco': 4.7150379201629695, 'advice': 4.108111915050153, 'truth': 3.275821157588736, 'china': 5.103261221836627, 'inherited': 5.890437352044849, 'eyes': 3.691649052732447, 'painful': 4.922008612231578, 'recent': 4.521905447264799, 'united': 4.194692536056382, 'life': 1.4248530675899866, 'hope': 3.6222396013602793, 'futures': 6.656609667619684, 'call': 3.9485594665174744, 'strings': 7.062074775727848, 'club': 4.5658685706859155, 'mystery': 3.189927243215927, 'joy': 4.391065846305988, 'tangled': 6.009982502694632, 'luck': 5.116164626672536, 'heard': 5.071712864101702, 'modern': 3.2364022087325557, 'american': 2.663146330251364, 'play': 3.938509130663973, 'reveal': 4.500628048817514, 'crises': 6.656609667619684, 'storyteller': 4.825241060296583, 'unknowingly': 7.955892651749945, 'immigrants': 6.626756704470003, 'histories': 5.7964084023965725, 've': 4.09633321585754, '–': 5.0291532496829054, 'pasts': 7.0176230131570145, 'wit': 4.186970489962472, 'loss': 4.258714394821314, 'sensitivity': 6.1277655383510155}, {'age': 3.253394121801292, 'inhabits': 7.668210579298164, 'victorian': 5.1559049553220495, 'rural': 4.965731423245409, 'mores': 6.7858213990996905, 'tess': 13.139196581260109, 'world': 1.6455704147217325, 'critics': 5.071712864101702, 'immoral': 8.361357759858109, 'pure': 5.1559049553220495, 'durbeyfield': 8.543679316652064, 'story': 1.911414069356346, 'tells': 3.3574114539126505, 'condemned': 6.597769167596751, '1891': 8.207207080030852, 'learns': 4.117635796561408, 'set': 2.822056923867532, 'struggle': 3.9445272029895357, 'respectability': 7.445067027983955, 'hardy': 6.075579785180445, 'assumes': 6.8950206910646825, 'book': 1.8076618009242367, 'pessimistic': 8.766822867966274, 'search': 3.506726714238435, 'published': 3.3664002784810836, 'wessex': 7.668210579298164, 'title': 4.472944620069097, 'moving': 3.7282482051807766, 'standards': 5.822383888799833, 'double': 4.8498123210270885, 'woman': 2.2833333265560185, 'fluctuate': 10.153117229086165, 'infuriated': 8.073675687406329, 'villager': 9.45997004852622, 'hypocrisy': 13.71456072616367, 'challenging': 5.197290171484903, 'daughter': 3.167475411446956, 'social': 3.713766857986066, 'greek': 5.557997378951574, 'dissipated': 8.766822867966274, 'relationships': 4.272584242685464, 'descended': 6.934241404217964, 'family': 2.226153684223186, 'urbeville': 10.153117229086165, 'ancient': 3.4548491749707515, 'fortunes': 5.978729959190527, 'poor': 4.668320295595509, 'proportions': 6.261296930975538, 'wildly': 5.43461835779107, 'tragedy': 4.070898318709719, 'explores': 3.9898024250515234, 'men': 2.960183007870365}, {'happy': 4.410114041276683, 'perfect': 3.493823309402527, 'sexy': 9.131737141371831, 'funny': 3.733122300939022, 'personable': 8.766822867966274, 'temptress': 7.588167871624628, 'temple': 5.994234145726493, 'velvet': 6.820912718910961, 'coaxed': 8.766822867966274, 'afterward': 7.0176230131570145, 'olympus': 9.45997004852622, 'dates': 6.164133182521891, 'beginning': 3.895449641203526, 'find': 2.3034034714812948, '120': 6.820912718910961, 'entire': 4.169180948398974, 'main': 4.895621857058383, 'smart': 4.79182506337674, 'great': 5.437719693906058, 'sad': 5.470986001961945, 'love': 1.9072079643120718, 'venus': 6.934241404217964, 'man': 1.9772882203715678, 'listening': 6.261296930975538, 'lapsed': 8.361357759858109, 'stacy': 50.16814655914865, 'male': 4.864850198391629, 'lingerie': 7.514059899470906, 'affairs': 10.29834184628141, 'didn': 4.286649172152868, 'case': 3.3857741038207725, 'year': 2.5034246053746503, 'pink': 6.54219931644194, 'promising': 5.783669376619143, 'haven': 11.017452659889583, 'eligible': 6.569598290630054, 'state': 4.037225103603131, 've': 4.09633321585754, 'mt': 7.445067027983955, 'working': 3.901213345920276, 'hard': 3.6222396013602793, 'thongs': 10.153117229086165, 'concocting': 9.054504940418054, 'bustier': 9.45997004852622, 'put': 3.633969941145769, 'mood': 5.963462487059739, 'don': 3.7545222945509567, 'hunting': 5.270315306499794, 'goddess': 5.746397981821912, 'thong': 10.153117229086165, 'days': 3.5080262595805207}, {'teachings': 5.978729959190527, 'journey': 3.285142820115872, 'charming': 4.375464905863508, 'beloved': 3.699492230193473, 'simple': 3.5836358086718687, 'graybeards': 10.153117229086165, 'immortals': 7.445067027983955, 'familiar': 4.550998408206464, 'step': 4.024067019025619, 'great': 2.718859846953029, 'library': 4.604041144190945, 'provoking': 5.557997378951574, 'masters': 5.116164626672536, 'wisdom': 4.159155801779595, 'pooh': 26.626438670478738, 'timeless': 4.643728892458188, 'illuminated': 6.751919847424009, 'journal': 4.93276140400784, 'winnie': 7.0176230131570145, 'teddy': 6.5155310693597785, 'taoist': 7.850532136092119, 'corner': 5.23313630325804, 'venerable': 7.0176230131570145, 'bear': 4.745945457626045, 'delicious': 5.169510607377828, 'tao': 7.514059899470906, 'thought': 3.6792265327338898, 'effortless': 7.588167871624628, 'joyous': 6.241094223658019}, {'race': 4.024067019025619, 'horse': 5.011453672583505, 'life': 1.4248530675899866, 'proves': 4.806009698368696, 'underdog': 7.850532136092119, 'millionaire': 5.408185100722914, 'western': 4.511210158148051, 'racehorse': 7.7552219562877935, 'hired': 10.168426053731865, 'bicycle': 6.8950206910646825, 'onetime': 7.445067027983955, 'story': 1.911414069356346, 'fortunes': 5.978729959190527, 'charles': 4.42301744611259, 'men': 2.960183007870365, 'smith': 10.046437028326181, 'fortune': 4.34497473910572, 'tail': 6.439545162381857, 'racing': 5.758668074413726, 'blind': 5.2478424506477355, 'states': 4.20769662047959, 'changed': 4.236915166478729, 'biggest': 4.960160378195954, 'single': 3.9526080550434743, 'repairman': 8.073675687406329, 'world': 1.6455704147217325, 'surprise': 4.664179502929478, 'mysterious': 3.3254879945833125, 'laura': 5.293304824724492, 'hillenbrand': 9.45997004852622, 'newsmaker': 9.45997004852622, 'attractions': 6.626756704470003, 'electrifying': 5.771090594412283, 'establishment': 6.182825315534043, 'united': 4.194692536056382, 'ralph': 5.876451110070109, '1938': 7.062074775727848, 'conspiracy': 4.875002569855647, 'receiving': 6.597769167596751, 'seabiscuit’s': 9.45997004852622, 'needed': 4.631656311223918, 'severe': 6.489555582956518, 'fdr': 8.207207080030852, 'sad': 5.470986001961945, 'buy': 5.2627681008644105, 'bad': 3.9898024250515234, 'racehorses': 8.361357759858109, 'tom': 4.635664332621457, 'written': 3.0071327613717767, 'breaker': 7.955892651749945, 'hitler': 5.963462487059739, 'success': 4.037225103603131, 'survived': 5.084213026865933, 'mussolini': 8.207207080030852, 'quoting': 7.850532136092119, 'boxer': 7.108594791362742, 'overnight': 6.439545162381857, 'automobile': 7.0176230131570145, 'introduced': 5.090522196059197, 'coverage': 5.44358702777383, 'crippled': 6.626756704470003, 'crooked': 6.7858213990996905, 'trainer': 6.597769167596751, 'waldo': 7.3805285068463835, 'mustang': 8.073675687406329, 'partners': 6.042243364912853, 'phenomenal': 6.164133182521891, 'colorado': 5.734276621289567, 'plains': 6.058772666864064, 'legged': 6.820912718910961, 'urged': 7.668210579298164, 'ran': 5.809311807232481, 'bargain': 6.324475832597069, 'run': 3.870850482190158, 'pathologically': 8.766822867966274, 'universal': 5.065520893853781, 'basement': 6.2819162181782735, 'history': 2.6932024628450595, 'price': 4.384796233292392, 'injury': 6.934241404217964, 'years': 2.0747391254596455, 'indolent': 9.45997004852622, 'jockey': 6.820912718910961, 'red': 4.171703017831684, 'howard': 11.671258231099708, 'popular': 3.5424211843684055, 'failed': 5.255277429135253, 'emerson': 6.464237774972228, 'eye': 4.048323996671179, 'author': 2.3387175952816777, 'half': 3.924606225494981, 'pollard': 8.543679316652064, 'prone': 6.857280363081835, 'passages': 6.164133182521891, 'sports': 10.747987471949271, 'transform': 5.293304824724492, 'neurotic': 7.208678249919724, 'american': 2.663146330251364, 'icon': 6.075579785180445, 'seabiscuit': 28.37991014557866, 'brilliantly': 4.569620920304465, 'creates': 4.815579149384846}, {'alarming': 6.751919847424009, 'mankind’s': 8.361357759858109, 'terran': 7.850532136092119, 'infantry': 7.445067027983955, 'boot': 7.26274547119, 'toughest': 6.368927595167904, 'future': 3.3147120282388207, 'mobile': 6.751919847424009, 'battle': 3.7528597837773434, 'bestsellers': 5.60982244681616, 'controversial': 5.023218514163091, '“the': 5.631328652037125, 'fits': 6.439545162381857, 'interstellar': 5.994234145726493, 'patrols': 8.543679316652064, 'fourth': 4.994061929871635, 'camp': 5.21147480647686, 'war': 11.0075438586926, 'universe—and': 9.45997004852622, 'call': 7.897118933034949, 'settle': 5.461769346857021, 'historians': 6.391917113392602, 'space': 4.077771197997481, 'actions': 5.547947043098073, 'heinlein’s': 10.153117229086165, 'incidents': 6.324475832597069, 'recruit': 7.208678249919724, 'police': 3.721786147152686, 'dead': 3.06387407405865, 'farm': 4.732582229813879, 'buy': 10.525536201728821, 'enemy': 4.245034290917234, 'declared': 5.978729959190527, 'bug': 6.719130024601018, 'incident': 5.734276621289567, 'can’t': 5.758668074413726, 'robert': 4.120031007287363}, {'smoke': 6.221291596361839, 'ruby': 6.54219931644194, 'secret': 2.9167778863318206, 'pistol': 7.7552219562877935, 'fend': 7.3805285068463835, 'shoot': 6.164133182521891, 'military': 4.668320295595509, 'music': 4.272584242685464, 'pretty': 4.954620197820339, 'smoky': 7.26274547119, 'sally': 18.605620531514212, 'existent': 10.153117229086165, 'grounding': 8.361357759858109, 'knowledge': 4.139402073043363, 'french': 4.3540245746256385, 'ride': 4.754954527568412, 'mystery': 3.189927243215927, 'business': 3.6518275585457753, 'south': 4.052798277066101, 'circumstances': 4.976967496512335, 'uncommonly': 7.955892651749945, 'tactics': 6.302969627376106, 'sixteen': 4.999825634588386, 'danger': 7.697336853328367, 'art': 3.4848889806687615, 'english': 3.555971527199513, 'run': 3.870850482190158, 'literature': 3.86525866892438, 'terrible': 4.07547498573713, 'straight': 4.787141214064313, 'drowned': 6.464237774972228, 'orphan': 5.3995270379798, 'dear': 5.23313630325804, 'china': 5.103261221836627, 'sea': 4.024067019025619, 'left': 3.2799533948736466, 'london': 3.7058113665449515, 'father': 2.7930132560970127, 'doesn': 3.8323489348355824, 'deepen': 7.445067027983955, 'rotten': 7.0176230131570145, 'cossack': 8.543679316652064, 'heart': 2.630176311013794, 'fog': 6.751919847424009, 'lies': 4.013232676859909, 'history': 2.6932024628450595, 'suspicious': 5.2627681008644105, 'victorian': 5.1559049553220495, 'deadly': 3.713766857986066}, {'ondaatje’s': 9.45997004852622, 'spellbinder–michael': 9.45997004852622, 'ancient': 3.4548491749707515, 'lanka’s': 9.45997004852622, 'unfolding': 6.201873510504737, 'riveting': 4.702078775520464, 'quest': 3.985600738197823, 'identity': 4.292331005620299, 'mystery': 3.189927243215927, 'family': 2.226153684223186, 'love': 1.9072079643120718, 'story': 3.822828138712692, 'landscape': 4.558405849484325, 'island': 3.907010463604602, 'murder': 2.8385643967620844, 'organized': 5.22586354392896, 'powerful': 3.02702995578704, 'discover': 3.368660166448521, 'country': 3.3574114539126505, 'hallmarks': 6.975063398738219, 'lanka': 16.722715519716218, 'ravages': 7.445067027983955, 'engulfing': 8.073675687406329, 'writing': 3.5935019915929223, 'internationally': 5.6872091104315805, 'group': 3.863401658177167, 'civil': 4.5809631969083995, 'richness': 6.182825315534043, 'literary': 3.800487832766598, 'late': 3.9485594665174744, 'piercing': 6.5155310693597785, 'language': 3.8916255447651222, 'transports': 6.415447610802796, 'source': 4.573387403099942, 'young': 2.1669523687534373, 'imagery': 6.439545162381857, 'forensic': 5.746397981821912, 'prize—winning': 9.45997004852622, 'author': 2.3387175952816777, 'steps': 4.93276140400784, 'ondaatje': 7.955892651749945, 'rights': 4.949110542009369, 'human': 2.8359048207263253, 'homeland': 5.9484246096951985, 'steeped': 6.368927595167904, 'michael': 4.14430404364357, 'booker': 6.626756704470003, 'emotional': 4.347982260169676, 'born': 3.8878160163484545, 'work': 2.5096343220089636, 'anil': 9.45997004852622, 'civilization': 4.988331255162651, 'displaying': 7.588167871624628, 'sri': 25.084073279574326, 'unknown': 4.655949003792963, 'acclaimed': 3.8233963235634683, 'centuries': 4.292331005620299, 'tradition': 4.300914749311691, 'england': 3.786646781354727, 'war': 2.75188596467315, 'forced': 3.918706503367793, 'propelled': 6.489555582956518, 'america': 3.0110806543793616, 'anthropologist': 6.489555582956518, 'deeply': 4.210317853959464, 'hidden': 3.938509130663973, 'unlock': 5.822383888799833, 'twentieth': 4.5809631969083995, 'campaigns': 6.7858213990996905, 'educated': 6.075579785180445, 'century': 2.9549336519842213, 'maelstrom': 6.751919847424009, 'evocative': 5.425729410373824, 'enemy': 4.245034290917234, 'tissera': 9.45997004852622, 'background': 4.820398435820795, 'woman': 2.2833333265560185, 'past–a': 9.45997004852622, 'truth': 3.275821157588736, 'returns': 3.9465413023612372, 'international': 4.073184033990574}, {'rude': 7.108594791362742, 'survive': 4.236915166478729, 'makes': 3.479819261318511, 'latest': 4.184409669100798, 'fashions': 7.208678249919724, 'presumption': 9.45997004852622, 'churlishness': 10.153117229086165, 'vulgarity': 8.543679316652064, 'date': 4.372373713293835, 'death': 2.5862887498778337, 'habits': 5.698769932832657, 'invisible': 5.722300430242851, 'range': 4.226191203115754, 'world': 3.291140829443465, 'cultural': 4.452673655695478, 'barbarous': 8.543679316652064, 'rules': 4.607939784606602, 'living': 3.192769499984857, 'attention': 4.436089527679943, 'wonderful': 4.2477553810315944, 'manners': 23.793698438780794, 'bland': 8.361357759858109, 'awkwardness': 8.543679316652064, 'rourke': 14.639807770059896, 'calling': 5.44358702777383, 'contemporary': 3.826967755931065, 'good': 2.95868037798583, 'entertaining': 4.231538809442349, 'rulebook': 9.45997004852622, 'irreverent': 5.698769932832657, 'guru': 6.719130024601018, 'reading': 3.8916255447651222, 'accessory': 7.955892651749945, 'forms': 5.13583739227124, 'offers': 3.288269451115304, 'traditionally': 7.062074775727848, 'essential': 4.518327625916915, 'distinguish': 6.7858213990996905, 'special': 3.6807709345852637, 'stupidity': 15.176335743249256, 'today': 3.3973483071019093, 'advice': 4.108111915050153, 'easier': 6.009982502694632, 'sex': 3.9689683381486813, 'pointed': 6.324475832597069, 'premium': 8.766822867966274, 'style': 3.975173115035564, 'modern': 6.472804417465111, 'man': 1.9772882203715678, 'outrageous': 5.142481934989909, 'time': 1.9337911351800734, 'bizarre': 4.483236306105645, 'woman': 2.2833333265560185, 'wanting': 6.009982502694632, 'fine': 4.697796113728463, 'hilarious': 4.0394350492539335, 'guide': 3.170254477617222, 'discourtesy': 10.153117229086165, 'anti': 5.547947043098073, 'display': 5.9484246096951985, 'means': 4.2050822399055185, 'etiquette': 6.489555582956518, 'avoiding': 6.439545162381857, 'topics': 4.854799862538128}, {'author': 2.3387175952816777, 'lowell': 7.319903885029948, 'poet': 4.600157644164547, 'legendary': 4.215581024003738, 'famous': 3.6149774053184944, 'member': 4.815579149384846, 'family': 2.226153684223186, 'brahmin': 7.850532136092119, 'ability': 4.5436454339012045, 'sarah': 5.197290171484903, 'undervalued': 9.45997004852622, 'novelist': 4.596289167386627, 'times': 3.210960523386695, 'angst': 6.569598290630054, 'cousin': 4.84484953168496, 'ridden': 6.464237774972228, 'talents': 5.090522196059197, 'funny': 3.733122300939022, 'boston': 4.880117670522417, 'art': 3.4848889806687615, 'payne': 7.588167871624628, 'memoir': 4.569620920304465, 'acclaimed': 3.8233963235634683, 'hilarious': 4.0394350492539335, 'removed': 6.751919847424009, 'personal': 3.231459044935036, 'abundance': 6.656609667619684, 'glorious': 5.218643295955473, 'robert': 4.120031007287363, 'stuart': 6.164133182521891, 'extraordinary': 3.4389466991766926, 'display': 5.9484246096951985, 'sad': 5.470986001961945}, {'begins': 3.224579410921499, 'lists': 5.255277429135253, 'book': 1.8076618009242367, 'couple': 4.532716363369015, 'narrates': 7.445067027983955, 'adolescent': 6.110065961251614, 'today': 3.3973483071019093, 'synonymous': 7.3805285068463835, 'school': 3.2544026947561764, 'cynical': 6.261296930975538, 'caulfield': 7.850532136092119, 'holden': 14.314769911064348, '1951': 6.975063398738219, 'sixteen': 4.999825634588386, 'debut': 4.403724243177911, 'year': 2.5034246053746503, 'days': 3.5080262595805207, 'life': 1.4248530675899866, 'expelled': 7.514059899470906, 'prep': 6.857280363081835, 'slang': 7.157384955532174, 'story': 1.911414069356346, 'sounds': 5.470986001961945, 'edgy': 6.8950206910646825, 'banned': 7.3805285068463835}, {'mal': 6.2819162181782735, 'destino': 6.820912718910961, 'grieta': 10.153117229086165, 'para': 9.64079687164159, 'mordor': 7.955892651749945, 'dominio': 8.543679316652064, 'perseguido': 9.45997004852622, 'viaje': 6.391917113392602, 'dispuesto': 8.361357759858109, 'anillo': 9.45997004852622, 'del': 8.550762894613051, 'el': 16.666660895206906, 'se': 3.9050743545777356, 'destrucción': 8.543679316652064, 'huestes': 10.153117229086165, 'adormecida': 10.153117229086165, 'custodiar': 10.153117229086165, 'enanos': 9.054504940418054, 'las': 8.91204748516152, 'la': 9.94735324320172, 'su': 8.77585225260264, 'Único': 10.153117229086165, 'señor': 7.955892651749945, 'emprender': 9.054504940418054, 'idílica': 10.153117229086165, 'comarca': 9.45997004852622, 'media': 4.706379857419854, 'hobbit': 6.857280363081835, 'joven': 6.075579785180445, 'encargo': 7.850532136092119, 'creación': 8.207207080030852, 'recibe': 7.514059899470906, 'por': 9.184871196141273, 'magos': 8.766822867966274, 'elfos': 9.054504940418054, 'en': 10.734124165459633, 'atravesará': 10.153117229086165, 'tierra': 7.108594791362742, 'hombres': 6.8950206910646825, 'internará': 9.45997004852622, 'acompañado': 8.361357759858109, 'sombras': 9.45997004852622, 'de': 6.023744213471347, 'definitivo': 9.054504940418054, 'siempre': 6.391917113392602, 'sauron': 7.588167871624628, 'oscuro': 8.207207080030852, 'recuperar': 7.668210579298164, 'establecer': 10.153117229086165}, {'mal': 6.2819162181782735, 'señor': 7.955892651749945, 'batalla': 8.766822867966274, 'su': 4.38792612630132, 'viaje': 6.391917113392602, 'solos': 8.766822867966274, 'frodo': 7.588167871624628, 'por': 4.592435598070637, 'preparan': 10.153117229086165, 'separados': 10.153117229086165, 'ha': 5.23313630325804, 'caminos': 8.543679316652064, 'cover': 3.83414911533973, 'integrantes': 9.45997004852622, 'del': 17.101525789226102, 'alternative': 5.620517735932909, 'la': 13.263137657602293, 'sus': 4.982633234048013, 'emprenden': 9.45997004852622, 'compañía': 8.207207080030852, 'sombra': 8.543679316652064, 'ambiciona': 9.45997004852622, 'sam': 5.077943413852338, 'enanos': 9.054504940418054, 'las': 4.45602374258076, 'se': 7.810148709155471, 'disuelto': 10.153117229086165, 'mientras': 6.934241404217964, 'río': 8.361357759858109, 'lo': 5.149170923140705, 'de': 3.0118721067356735, 'anduin': 9.45997004852622, 'largo': 6.8950206910646825, 'edition': 3.2935023254319624, 'misteriosa': 7.3805285068463835, 'contra': 6.751919847424009, 'anillo': 9.45997004852622, 'continúan': 10.153117229086165, 'ser': 5.862657787937773, 'para': 4.820398435820795, 'extraño': 8.361357759858109, 'también': 6.182825315534043, 'elfos': 9.054504940418054, 'hombres': 6.8950206910646825, 'perseguidos': 9.45997004852622, 'posesión': 8.766822867966274, 'final': 3.9445272029895357, 'fuerzas': 8.766822867966274}, {'veinte': 8.073675687406329, 'pleno': 8.543679316652064, 'creada': 9.45997004852622, 'autenticidad': 9.054504940418054, 'mitologia': 10.153117229086165, 'universal': 5.065520893853781, 'difundida': 10.153117229086165, 'nueva': 6.656609667619684, 'una': 8.490068581834468, 'la': 3.3157844144005733, 'obra': 6.075579785180445, 'edition': 3.2935023254319624, 'ejemplares': 8.361357759858109, 'millones': 8.073675687406329, 'cover': 3.83414911533973, 'de': 21.083104747149715, 'docenas': 10.153117229086165, 'coherente': 10.153117229086165, 'alternate': 5.508726329944792, 'traducida': 9.054504940418054, 'lenguas': 10.153117229086165, 'inspiradora': 10.153117229086165, 'york': 3.0063450496335276, 'en': 10.734124165459633, 'slogans': 8.361357759858109, 'aires': 8.543679316652064, 'pintados': 10.153117229086165, 'siglo': 6.241094223658019, 'las': 4.45602374258076, 'tolkien': 6.261296930975538, 'buenos': 7.955892651749945, 'paredes': 9.45997004852622}, {'classic': 3.0118721067356735, 'portrait': 3.979331125184228, 'engaging': 4.764045499269663, 'masterfully': 5.822383888799833, 'reading': 3.8916255447651222, 'seductive': 5.017318792035903, 'sublime': 6.324475832597069, 'thrive': 6.597769167596751, 'hostilities': 7.7552219562877935, 'alliances': 7.26274547119, 'revealing': 4.764045499269663, 'greek': 5.557997378951574, 'act': 4.327117121705714, 'savannahians': 9.45997004852622, 'graveyard': 6.719130024601018, 'magic': 3.5518871103572884, 'minerva': 8.543679316652064, 'ball': 5.734276621289567, 'debutante': 7.108594791362742, 'minuet': 8.766822867966274, 'modern': 3.2364022087325557, 'intrigues': 6.075579785180445, 'dancing': 5.771090594412283, 'con': 4.250483895684798, 'sweet': 4.607939784606602, 'entertaining': 4.231538809442349, 'mansion': 5.218643295955473, 'brilliantly': 4.569620920304465, 'works': 3.6458395167011526, '\\xa0berendt': 10.153117229086165, 'engrossing': 5.771090594412283, 'turns': 3.4597935608162156, 'redneck': 8.207207080030852, 'enormously': 6.415447610802796, 'queen': 4.3540245746256385, 'reads': 5.783669376619143, 'work': 2.5096343220089636, '2': 4.479793961914672, 'society': 3.613531273468495, 'witty': 4.539989122698095, 'beguiling': 6.145784043853694, 'suspenseful': 5.21147480647686, 'sharply': 6.464237774972228, 'card': 5.489678134974097, 'story': 1.911414069356346, 'nonfiction': 6.075579785180445, 'defense': 5.116164626672536, 'city': 6.230422531277965, 'unpredictable': 5.6872091104315805, '1981': 6.346454739315845, 'priestess': 6.857280363081835, 'skillfully': 6.391917113392602, 'blacks': 7.0176230131570145, 'berendt': 18.10900988083611, 'twists': 5.425729410373824, 'interweaves': 6.934241404217964, 'hugely': 6.302969627376106, 'narrative': 4.226191203115754, 'moss': 6.934241404217964, 'shaded': 7.850532136092119, 'morning': 4.500628048817514, 'person': 3.9365111280012997, 'piano': 6.751919847424009, 'misty': 6.8950206910646825, 'chorus': 6.820912718910961, 'acerbic': 7.319903885029948, 'belle': 5.9484246096951985, 'man': 1.9772882203715678, 'voodoo': 6.857280363081835, 'early': 3.718570710298711, 'dealer': 5.675780414607958, 'grandest': 7.514059899470906, '\\xa0john': 10.153117229086165, '\\xa0was': 9.054504940418054, 'oaks': 7.850532136092119, 'rang': 7.955892651749945, 'hapless': 6.54219931644194, 'observed': 5.994234145726493, 'shooting': 5.876451110070109, 'antiques': 6.346454739315845, 'reverberated': 8.766822867966274, 'hours': 4.34497473910572, '\\xa0for': 10.153117229086165, 'conceived': 5.994234145726493, 'beautiful': 2.8292866628838476, 'hauntingly': 6.719130024601018, 'aftermath': 5.7964084023965725, 'town': 3.0875038654884475, 'decade': 4.773219875545705, 'shots': 6.719130024601018, 'isolated': 5.149170923140705, 'written': 3.0071327613717767, 'black': 6.863383056591042, 'remnant': 8.766822867966274, 'south': 4.052798277066101, 'case': 3.3857741038207725, 'savannah': 13.641825437821922, 'landmark': 5.664480859354025, 'spellbinding': 5.13583739227124, 'club': 4.5658685706859155, 'peopled': 6.391917113392602, 'young': 4.333904737506875, 'gallery': 6.042243364912853, 'remarkable': 3.7201771363469853, 'bred': 6.415447610802796, 'playing': 4.773219875545705, 'characters': 3.267607559051347, 'squares': 7.850532136092119, 'ladies': 5.568149750415593, 'married': 4.08007269498576, 'account': 3.771301211680066, 'woman': 4.566666653112037, 'uproariously': 8.543679316652064, 'funny': 3.733122300939022, 'midnight': 5.390943294288409, 'hung': 6.626756704470003, 'murder': 5.677128793524169, 'turbulent': 5.365625486304118, 'gigolo': 9.45997004852622, 'recluse': 6.8950206910646825, 'owns': 6.5155310693597785, 'bottle': 6.201873510504737, 'poison': 6.145784043853694, 'child': 3.2513800224295903, 'kill': 4.261473017260394, 'arrogant': 5.7964084023965725, 'aging': 5.470986001961945, 'profane': 7.445067027983955, 'life': 1.4248530675899866, 'southern': 9.13924184060893, 'absorption': 7.668210579298164, 'artist': 4.220872041638154, 'talking': 5.0056227522727115, 'soul': 3.8074808682575685, 'powerful': 3.02702995578704, 'pampered': 6.7858213990996905, 'experience': 3.57664766003794, 'drag': 6.8950206910646825}, {'uncover': 4.764045499269663, 'determined': 3.5211154516905347, 'york': 3.0063450496335276, 'heads': 5.129236708239888, 'journal': 4.93276140400784, 'clues': 4.672478305744173, 'armed': 5.2478424506477355, 'traced': 6.934241404217964, 'strain': 6.626756704470003, 'date—until': 10.153117229086165, 'makes': 3.479819261318511, 'begins': 3.224579410921499, 'she’s': 5.340932873713747, 'tentatively': 8.073675687406329, 'who’s': 6.489555582956518, 'host': 5.162684642307428, 'radio': 5.053250801261966, 'meets': 3.87647373974452, 'trial': 4.890427040181279, 'brought': 3.9226357815076827, 'killer': 6.72603998714452, 'identity': 4.292331005620299, 'luxurious': 6.719130024601018, 'deaths': 5.340932873713747, 'real': 3.0875038654884475, 'convinced': 5.122679307693729, 'scene': 4.419775952188419, 'estate': 4.562130248575308, 'back': 2.5378188892603495, 'star': 3.805728019430154, 'courage': 4.084691640842054, 'mary': 4.226191203115754, 'rising': 5.332835663481128, 'fake': 6.8950206910646825, 'words': 3.8287582667048534, 'discovers': 3.5628161808894783, 'area': 5.293304824724492, 'talk': 4.558405849484325, 'tom': 4.635664332621457, 'manhattan': 4.960160378195954, 'casualty': 8.073675687406329, 'murder—and': 8.766822867966274, 'assume': 6.391917113392602, 'op': 6.8950206910646825, 'higgins': 6.489555582956518, 'sends': 5.293304824724492, 'witness': 9.812186313851356, 'day': 2.7439807851660363, 'lynch': 7.062074775727848, 'program': 4.655949003792963, 'story': 1.911414069356346, 'chills': 7.062074775727848, 'clark': 5.783669376619143, 'lacey': 35.54297395681371, 'farrell': 7.514059899470906, 'deception': 5.308930142627573, 'showing': 5.425729410373824, 'spines': 8.766822867966274, 'skyline': 8.766822867966274, 'victim': 4.122431968824901, 'fatal': 5.270315306499794, 'dying': 9.022420316296103, 'readers’': 8.073675687406329, 'live': 3.382327805177185, 'woman': 2.2833333265560185, 'women—before': 10.153117229086165, 'attacker': 7.7552219562877935, 'dead': 3.06387407405865, 'daughter’s': 8.207207080030852, 'journal—which': 10.153117229086165, 'police': 3.721786147152686, 'it’s': 5.071712864101702, 'copy': 5.7964084023965725, 'break': 4.375464905863508, 'impulse': 6.820912718910961, 'show': 3.738020269914569, 'protection': 5.653307558755899, 'proves': 4.806009698368696, 'making': 3.6092053835213727, 'minneapolis': 14.217189582725483}, {'manage': 5.904621987036806, 'easy': 3.6193283911528207, 'potential': 5.071712864101702, 'agency': 5.599240337485623, 'shabby': 7.319903885029948, 'job': 3.6623936945836575, 'find': 2.3034034714812948, 'detective': 7.60446302474285, 'murder': 2.8385643967620844, 'determined': 3.5211154516905347, 'falling': 4.815579149384846, 'meets': 3.87647373974452, 'love': 1.9072079643120718, 'trouble': 4.194692536056382, 'boss': 5.240462343350113, 'divorcee': 8.073675687406329, 'luck': 5.116164626672536, 'dysart': 10.153117229086165, 'divorce': 5.2627681008644105, 'weighed': 8.766822867966274, 'inexplicable': 5.994234145726493, 'lots': 5.710465972595848, 'finagles': 10.153117229086165, 'loss': 4.258714394821314, 'nell': 13.503839694848018, 'dominate': 6.687381326286438, 'appetite': 6.221291596361839, 'sleepwalking': 8.207207080030852, 'life': 1.4248530675899866, 'friend': 3.130249143003523}, {'heart': 2.630176311013794, 'won': 3.8727213901259696, 'share': 4.055042946919924, 'sharing': 5.508726329944792, 'll': 3.6885289253962035, 'boss': 5.240462343350113, 'guy': 4.916675266256215, 'transform': 5.293304824724492, 'thinks': 4.5658685706859155, 'toughest': 6.368927595167904, 'america': 6.022161308758723, 'fortune': 4.34497473910572, 'cover': 3.83414911533973, 'issue': 5.783669376619143, 'husband': 3.2003885844612965, 'sensitive': 5.285582778630582, 'teaches': 5.109692112166918, 'devoted': 9.631158298769693, 'women': 2.816831569064867, 'sees': 4.486690540973732, 'friends': 3.0367230849926994, 'supportive': 7.319903885029948, 'incapable': 7.445067027983955, 'twist': 5.588769037618328, 'beast': 5.783669376619143, 'talk': 4.558405849484325, 'feelings': 9.404157551040928, 'dawns': 8.073675687406329, 'modern': 3.2364022087325557, 'sensitivity': 6.1277655383510155, 'successful': 3.9689683381486813, 'macho': 7.588167871624628, 'splashed': 7.7552219562877935, 'brock': 7.668210579298164, 'life': 1.4248530675899866, 'answer': 4.360103620702021, 'fair': 5.425729410373824, 'lady': 3.975173115035564, 'tame': 6.597769167596751, 'learns': 4.117635796561408, 'failed': 5.255277429135253, 'training': 4.999825634588386, 'top': 3.8878160163484545, 'back': 5.075637778520699, 'males': 7.588167871624628, 'betrayal': 4.518327625916915, 'alpha': 7.26274547119, 'linguist': 8.073675687406329, 'hubby': 8.073675687406329, 'brandon': 7.26274547119, 'practice': 4.79182506337674, 'isn': 4.2050822399055185, 'tabloids': 7.26274547119, 'admit': 6.391917113392602, 'ruins': 5.904621987036806, 'bosses': 6.751919847424009, 'specialist': 6.241094223658019, 'career': 3.5641907515526454, 'expert': 4.639688482921183, 'claw': 8.543679316652064, 'male': 9.729700396783258, 'wyman': 10.153117229086165, 'female': 4.406914038546011, 'grand': 4.45602374258076, 'relationships': 4.272584242685464, 'lynn': 18.783890792926613, 'straying': 8.207207080030852, 'impossibly': 7.319903885029948}, {'home': 2.558232841869645, 'community': 4.061807347008466, 'village': 4.228861431671633, 'etruscan': 8.361357759858109, 'make': 2.489709564192685, 'small': 3.2167744932521147, 'hailed': 5.22586354392896, 'york': 3.0063450496335276, 'discovers': 3.5628161808894783, 'charm': 4.900843801039534, 'quirkiness': 8.766822867966274, 'city': 3.1152112656389823, 'wife': 3.062207407006181, 'book': 1.8076618009242367, 'baby': 3.985600738197823, 'tells': 3.3574114539126505, 'story': 1.911414069356346, 'feel': 4.189537885467718, 'eccentrics': 7.108594791362742, 'runs': 5.0968714237378565, 'lawyer': 4.806009698368696}, {'impossible': 4.619727740358645, 'thriller': 4.171703017831684, 'love': 1.9072079643120718, 'loss': 4.258714394821314, 'meaning': 4.318306492023559, 'authenticity': 6.54219931644194, 'wrestles': 7.26274547119, 'tease': 7.668210579298164, 'christianity': 6.092674218539745, 'newman': 6.8950206910646825, 'put': 3.633969941145769, 'redemption': 5.316835322134686, 'book': 1.8076618009242367, 'leo': 6.182825315534043, 'father': 2.7930132560970127, 'complete': 3.729870265552645, 'scroll': 7.850532136092119, 'suspense': 3.9485594665174744, 'rome': 5.557997378951574, 'brought': 3.9226357815076827, 'gospel': 6.597769167596751, 'priest': 5.301086965166547, 'document': 5.783669376619143, 'american': 2.663146330251364, 'appears': 4.5809631969083995, 'interpretation': 6.110065961251614, 'decipher': 6.975063398738219, 'brink': 5.5281444158018935, 'possibility': 5.518388240856528, 'story': 3.822828138712692, 'written': 3.0071327613717767, 'view': 4.3662198477194565, 'literary': 3.800487832766598, 'ancient': 3.4548491749707515, 'christ': 5.6872091104315805, 'profound': 4.529099722898826, 'revelations': 5.508726329944792, 'crucifixion': 8.073675687406329, 'bible': 4.971333678794079, 'faith': 8.308361334278963, 'handed': 6.569598290630054, 'affair': 4.452673655695478, 'crisis': 5.090522196059197, 'judas': 7.850532136092119, 'beset': 6.5155310693597785, 'sexual': 4.255963361449424}, {'challenge': 4.330071333603146, 'rich': 3.5015453554964373, 'system': 4.397375015499252, 'high': 3.110831057146421, 'teach': 14.080595144826017, 'earn': 6.025982844041073, 'benefit': 6.201873510504737, 'book': 1.8076618009242367, 'house': 3.1125808388702088, 'explode': 6.324475832597069, 'ways': 3.704227834939307, 'assett': 20.30623445817233, 'income': 6.7858213990996905, 'define': 5.963462487059739, 'belief': 5.22586354392896, 'show': 3.738020269914569, 'myth': 4.732582229813879, 'rely': 6.324475832597069, 'school': 3.2544026947561764, 'kids': 8.534026395272019, 'money': 7.849212450989962, 'parents': 3.5724780918012153, 'liability': 7.850532136092119}, {'fierce': 4.875002569855647, 'epic': 4.1492301619796255, 'story': 1.911414069356346, 'sensuous': 5.60982244681616, 'casts': 6.221291596361839, 'forest': 5.065520893853781, 'woman': 2.2833333265560185, 'ellen': 5.710465972595848, 'stone': 4.777838821402, 'cathedral': 6.820912718910961, 'magnificent': 4.619727740358645, 'kingsbridge': 20.30623445817233, 'civil': 4.5809631969083995, 'passionate': 4.098677882816794, 'shines': 6.597769167596751, 'famine': 6.569598290630054, 'age': 3.253394121801292, 'jack': 4.278186498234134, 'artist': 4.220872041638154, 'enduring': 4.916675266256215, 'entwine': 8.543679316652064, 'prior': 6.368927595167904, 'tom': 4.635664332621457, 'rises': 6.145784043853694, 'religious': 4.550998408206464, 'spirit': 3.7746910454345777, 'love': 1.9072079643120718, 'noblewoman': 7.955892651749945, 'aliena': 10.153117229086165, 'strife': 6.7858213990996905, 'time': 1.9337911351800734, 'curse': 5.631328652037125, 'backdrop': 5.332835663481128, 'philip': 5.425729410373824, 'lives': 2.6140901732621695, 'war': 2.75188596467315, 'master': 3.6222396013602793, 'builder': 7.208678249919724}, {'inside': 3.901213345920276, 'great': 2.718859846953029, 'irresistible': 4.660055785745616, 'offers': 3.288269451115304, 'filled': 3.6684819934509125, 'american': 2.663146330251364, 'informative': 5.3995270379798, 'inspiring': 4.660055785745616, 'goods': 6.719130024601018, 'recyclable': 10.153117229086165, 'moving': 3.7282482051807766, 'products': 5.783669376619143, 'launching': 6.975063398738219, 'food': 4.061807347008466, 'health': 4.33600606912296, 'marketplace': 6.975063398738219, 'pulse': 6.7858213990996905, 'fingers': 6.569598290630054, 'saga': 4.511210158148051, 'error': 6.857280363081835, 'remarkable': 3.7201771363469853, 'packaging': 8.073675687406329, 'ingenuity': 6.751919847424009, 'instinct': 6.025982844041073, 'real': 3.0875038654884475, 'growth': 5.277919905885013, 'times': 3.210960523386695, 'environmentally': 7.7552219562877935, 'tough': 4.676653677154654, 'astonish': 7.668210579298164, 'worldwide': 4.943631076244744, 'mcdonald’s': 47.299850242631095, 'fans': 4.171703017831684, 'senior': 5.537996712244905, 'trial': 4.890427040181279, 'adults': 5.22586354392896, 'dozens': 5.197290171484903, 'evolved': 6.368927595167904, 'entire': 4.169180948398974, 'proved': 6.025982844041073, 'premier': 5.758668074413726, 'citizens': 5.2478424506477355, 'physically': 6.346454739315845, 'entrepreneurial': 7.668210579298164, 'life': 1.4248530675899866, 'stories': 2.737340253670771, 'financial': 5.084213026865933, 'world’s': 6.164133182521891, 'story': 1.911414069356346, 'gut': 6.439545162381857, 'trendsetter': 10.153117229086165, 'success': 8.074450207206262, 'perfect': 3.493823309402527, 'program': 4.655949003792963, 'keys': 5.919010724488905, 'safe': 4.627664289954381, 'franchisees': 9.45997004852622, 'service': 4.702078775520464, 'challenged': 5.60982244681616, 'business': 7.303655117091551, 'world': 1.6455704147217325, 'founder': 6.075579785180445, 'focusing': 6.058772666864064, 'building': 4.676653677154654, 'advertising': 5.862657787937773, 'revolution': 4.697796113728463, 'disabled': 6.975063398738219, 'successfully': 5.890437352044849, 'admire': 7.3805285068463835, 'mcjobs': 10.153117229086165, 'scenes': 4.702078775520464, 'continues': 4.372373713293835, 'demographics': 9.45997004852622, 'created': 4.021890739603024, 'employs': 6.975063398738219, 'mentally': 6.7858213990996905}, {'liability': 7.850532136092119, 'assets': 7.208678249919724, 'insulating': 10.153117229086165, 'touch': 4.472944620069097, 'secret': 2.9167778863318206, 'numismatics': 10.153117229086165, 'mortgages': 9.45997004852622, 'lawyers': 6.261296930975538, 'profits': 6.934241404217964, 'pilot': 5.489678134974097, 'path': 4.452673655695478, 'automatic': 8.073675687406329, 'start': 4.12725125526085, 'principles': 5.149170923140705, 'investments': 7.850532136092119, 'midas': 8.207207080030852, 'real': 3.0875038654884475, 'estate': 4.562130248575308, 'integrating': 7.588167871624628, 'plan': 4.077771197997481, 'liquid': 7.7552219562877935, 'create': 7.917423675962985, 'thousands': 4.5658685706859155, 'books': 3.2324457248374814, 'helped': 4.859812404361672, 'book': 1.8076618009242367, 'ready': 4.3662198477194565, 'keyed': 8.207207080030852, 'innovative': 5.537996712244905, 'risk': 4.521905447264799, 'publication': 4.514762559752419, 'chance': 3.84138241993325, 'discounted': 9.45997004852622, 'phenomenon': 5.620517735932909, 'national': 4.006787971417267, 'allen': 16.9599226762677, 'reliance': 7.514059899470906, 'print': 4.737016826881744, 'date': 4.372373713293835, 'copies': 4.764045499269663, 'discover': 3.368660166448521, 'thinking': 4.627664289954381, 'poor': 4.668320295595509, 'robert': 4.120031007287363, 'generating': 7.588167871624628, 'version': 4.741471177231125, 'disqualify': 10.153117229086165, 'description': 5.270315306499794, 'good': 2.95868037798583, 'april': 5.599240337485623, 'principle': 6.5155310693597785, '22': 5.862657787937773, '1986': 6.439545162381857, 'million': 4.02624804497198, 'revised': 4.436089527679943, 'edition': 3.2935023254319624, 'creating': 9.631158298769693, 'enormous': 5.277919905885013, 'wealth': 17.91917584765869, 'stop': 3.786646781354727, 'll': 3.6885289253962035, 'financial': 10.168426053731865, 'taking': 4.08007269498576, 'success': 4.037225103603131, 'debt': 5.904621987036806, 'investment': 6.042243364912853, 'big': 3.5641907515526454, 'programmed': 7.668210579298164, 'strategies': 5.340932873713747, 'bad': 3.9898024250515234, 'saving': 5.301086965166547, 'money': 7.849212450989962, 'pour': 4.631656311223918, 'step': 4.024067019025619}, {'make': 2.489709564192685, 'facts': 4.689285424060555, 'levels': 5.408185100722914, 'corelli’s': 10.153117229086165, 'perspectives': 6.009982502694632, 'tale': 2.9283638233181937, 'history': 5.386404925690119, 'interested': 4.960160378195954, 'imaginative': 4.960160378195954, 'wildly': 5.43461835779107, 'dolphins—would': 10.153117229086165, 'characters': 3.267607559051347, 'secondary': 7.319903885029948, 'possession': 5.758668074413726, 'darkening': 7.850532136092119, 'author': 2.3387175952816777, 'troublesome': 7.208678249919724, 'mandolin': 17.53364573593255, 'books': 3.2324457248374814, 'accompanied': 5.277919905885013, 'hitler”': 10.153117229086165, 'greek': 5.557997378951574, 'nether': 8.543679316652064, '“heil': 20.30623445817233, 'world': 1.6455704147217325, 'emmanuel': 9.45997004852622, 'greeting': 7.3805285068463835, 'side': 3.843198950859648, 'antonio': 6.569598290630054, 'parts': 5.03512341666941, 'garrison': 7.157384955532174, 'bad—at': 10.153117229086165, 'increasingly': 5.122679307693729, 'war': 11.0075438586926, 'dissecting': 8.207207080030852, 'engagement': 5.978729959190527, 'italian': 5.293304824724492, 'island—the': 10.153117229086165, 'corelli': 27.16351482125416, 'life': 1.4248530675899866, 'determines': 7.0176230131570145, 'wartime': 6.324475832597069, 'fictions': 7.062074775727848, 'invaded': 6.439545162381857, 'american': 2.663146330251364, 'drunken': 6.464237774972228, 'daughter': 3.167475411446956, 'nature': 3.6578516731491564, 'medicine': 5.142481934989909, 'allegiances': 7.7552219562877935, 'cultured': 8.073675687406329, 'long': 2.6156871924996556, 'practices': 5.489678134974097, 'nazi': 5.357326683489424, 'precious': 5.053250801261966, 'friends': 3.0367230849926994, 'vivo': 8.766822867966274, 'political': 3.8468419421381492, 'home': 2.558232841869645, 'strongman': 8.766822867966274, 'invade': 6.975063398738219, 'forays': 7.668210579298164, 'señor': 7.955892651749945, 'set': 2.822056923867532, 'tells': 3.3574114539126505, 'lovers': 4.33600606912296, 'minimum': 7.108594791362742, 'captain': 8.763352211912297, 'early': 3.718570710298711, 'responds': 6.934241404217964, 'iannis': 10.153117229086165, 'island': 3.907010463604602, 'cephalonia': 10.153117229086165, 'imparts': 7.668210579298164, 'officer': 4.859812404361672, 'art': 3.4848889806687615, 'love': 3.8144159286241437, 'populates': 9.45997004852622, 'pelagia': 30.459351687258497, 'mussolini': 8.207207080030852, 'deconstruction': 8.543679316652064, 'atrocities': 7.514059899470906, 'mount': 5.771090594412283, 'enemies': 4.483236306105645, 'lord': 4.129669636125132, 'healing': 4.592435598070637, 'priest': 5.301086965166547, 'command': 5.4526368632937485, 'involved': 4.592435598070637, 'british': 4.169180948398974, 'novels': 3.6578516731491564, 'negotiate': 6.687381326286438, 'isn': 4.2050822399055185, 'don': 3.7545222945509567, 'dr': 3.729870265552645, 'heated': 6.656609667619684, 'puccini”': 10.153117229086165, 'affair': 4.452673655695478, 'partisans': 9.054504940418054, 'swims': 8.073675687406329, 'young': 2.1669523687534373, 'story': 3.822828138712692, 'fisherman': 12.563832436356547, 'works': 3.6458395167011526, 'days': 3.5080262595805207, 'italians': 8.207207080030852, 'mandras': 10.153117229086165, 'join': 4.439384423576795, 'realism': 5.849052135881995, 'ugliness': 8.073675687406329, 'complicated': 5.197290171484903, 'coca': 8.207207080030852, 'isn’t': 6.164133182521891, 'difficult': 4.45602374258076, 'minefield': 7.668210579298164, 'personal': 3.231459044935036, 'latin': 5.963462487059739, 'infects': 9.054504940418054, 'touches': 5.734276621289567, 'louis': 5.162684642307428, 'de': 6.023744213471347, 'benito': 8.543679316652064, 'bernières': 20.30623445817233, 'magical': 4.035020031044817, 'offspring': 6.8950206910646825, 'cardinal': 7.062074775727848, 'greece': 6.1277655383510155, 'guzman': 10.153117229086165}, {'answer': 4.360103620702021, 'idea': 4.403724243177911, 'unexpected': 4.184409669100798, 'explores': 3.9898024250515234, 'bestseller': 3.918706503367793, 'question': 4.1998738947983805, 'eternal': 5.365625486304118, 'save': 3.6063318183256405, 'birthday': 5.240462343350113, 'fixing': 7.208678249919724, 'accident': 4.3540245746256385, 'awakes': 7.7552219562877935, 'wounded': 5.3824326046205, 'mind': 3.4102365932942615, 'war': 2.75188596467315, 'eddie': 13.313219335239369, 'tragic': 4.278186498234134, 'life': 4.27455920276996, 'girl': 3.1160896143998884, 'amusement': 6.719130024601018, '83rd': 9.45997004852622, 'rides': 6.261296930975538, 'knew': 3.7010682746489385, 'man': 1.9772882203715678, 'afterlife': 6.8950206910646825, 'uninspired': 8.766822867966274, 'destination': 6.346454739315845, 'kills': 5.822383888799833, 'soldier': 5.071712864101702, 'lived': 4.197279859621333, 'falling': 4.815579149384846, 'seaside': 6.241094223658019, 'cart': 7.850532136092119, 'learns': 4.117635796561408, 'job': 3.6623936945836575, 'place': 5.866950377910858, 'mysteries': 4.4295321271337835, 'age': 3.253394121801292, 'explained': 6.164133182521891, 'people': 4.900219093213857, 'park': 5.109692112166918, 'strangers': 5.489678134974097, 'author': 2.3387175952816777, 'illuminating': 5.499156878928641, 'childhood': 3.843198950859648, 'revisit': 7.319903885029948, 'heaven': 10.586609649448985, 'connections': 11.177538075236656, 'revealing': 4.764045499269663, 'earth': 3.452386119538354, 'veteran': 5.44358702777383, 'meaningless': 7.668210579298164, 'haunting': 4.504142990924958, 'secret': 2.9167778863318206}, {'work': 2.5096343220089636, 'pulled': 5.835629115549854, 'recognizes': 6.54219931644194, 'world': 3.291140829443465, 'lost': 3.3451822853862385, 'find': 2.3034034714812948, 'boards': 6.820912718910961, 'montgomery': 6.110065961251614, 'constructed': 6.221291596361839, 'transporter': 8.361357759858109, 'dyson': 17.087358633304127, 'artificially': 8.207207080030852, 'scott': 10.118734056558804, 'legend': 4.400544590260531, 'trapped': 4.754954527568412, 'passed': 5.218643295955473, 'monstrous': 5.9484246096951985, 'discovers': 3.5628161808894783, 'starship': 5.978729959190527, 'forge': 5.876451110070109, 'lt': 6.820912718910961, 'sphere': 13.950126797476438, 'engineering': 6.221291596361839, 'preserved': 6.368927595167904, 'enterprise': 22.703121658431833, 'built': 4.943631076244744, 'finds': 2.8306067950887703, 'barely': 5.1559049553220495, 'pattern': 5.890437352044849, 'rescue': 4.536346131419593, 'surface': 4.906093156925678, 'habitat': 6.8950206910646825, 'star': 7.611456038860308, 'geordi': 10.153117229086165, 'mr': 4.286649172152868, 'wreckage': 7.208678249919724, 'weak': 6.569598290630054, 'scotty': 16.414414160061703, 'la': 3.3157844144005733, 'starfleet': 6.569598290630054}, {'unknown': 4.655949003792963, 'amond': 10.153117229086165, 'souls': 5.255277429135253, 'meet': 3.7429423471199974, 'lives': 2.6140901732621695, 'evil': 3.596338872928122, 'illusion': 6.042243364912853, 'calling': 16.33076108332149, 'sensors': 9.45997004852622, 'computer': 4.635664332621457, 'invisible': 5.722300430242851, 'space': 4.077771197997481, 'quell': 7.668210579298164, 'clash': 5.876451110070109, 'band': 4.728167211604762, 'collision': 6.489555582956518, 'races': 5.518388240856528, 'venture': 6.075579785180445, 'chief': 4.536346131419593, 'security': 4.885259070022836, 'explode': 6.324475832597069, 'troubles': 5.963462487059739, 'cultures': 5.1559049553220495, '5': 9.612019396737391, 'troubled': 4.787141214064313, 'kosh': 10.153117229086165, 'skills': 4.5658685706859155, 'twisting': 6.489555582956518, 'designed': 4.592435598070637, 'passions': 4.728167211604762, 'peace': 4.169180948398974, 'long': 5.231374384999311, 'violence': 4.129669636125132, 'place': 2.933475188955429, 'million': 4.02624804497198, 'find': 2.3034034714812948, 'universe': 4.446006964337289, 'stars': 4.588596821763471, 'rioting': 9.054504940418054, 'visiting': 5.771090594412283, 'escalate': 7.208678249919724, 'terrifying': 4.159155801779595, 'nightmares': 5.5281444158018935, 'ambassador': 6.7858213990996905, 'board': 5.365625486304118, 'remains': 4.369292046756427, 'babylon': 14.035246026314029, 'vorlon': 10.153117229086165, 'plague': 5.557997378951574, 'captain': 8.763352211912297, 'life': 1.4248530675899866, 'light': 3.8468419421381492, 'sheridan': 13.641825437821922, 'force': 7.607956475412733, 'touching': 5.270315306499794, 'alien': 4.607939784606602, 'risking': 6.54219931644194, 'god': 3.854167982230222, 'presence': 4.965731423245409, 'appears': 4.5809631969083995, 'garibaldi': 18.91994009705244, 'green': 4.483236306105645, 'miles': 4.754954527568412, 'stretches': 6.464237774972228, 'erupted': 7.850532136092119, 'darkness': 4.710699518564371}, {'possibly': 5.23313630325804, 'discover': 3.368660166448521, 'vengeance': 4.988331255162651, 'oath': 7.062074775727848, 'tormentors': 7.850532136092119, 'blood': 3.9365111280012997, 'hunter': 4.976967496512335, 'hunted': 5.849052135881995, 'turn': 3.5080262595805207, 'loves': 4.22352808569627, 'woman': 2.2833333265560185, 'alive': 4.120031007287363, 'houston': 6.489555582956518, 'stumbled': 6.464237774972228, 'cemetary': 10.153117229086165, 'labyrinth': 6.1277655383510155, 'miles': 4.754954527568412, 'truth': 3.275821157588736, 'home': 2.558232841869645, 'yearning': 5.933609523910058, 'knew': 3.7010682746489385, 'france': 4.764045499269663, 'hero': 4.024067019025619, 'enver': 10.153117229086165, 'wanted': 8.338361896797949, 'war': 2.75188596467315, 'destroy': 4.2477553810315944, 'make': 2.489709564192685, 'shadowy': 5.489678134974097, 'europe': 4.459385090283465, 'peter': 4.269794840597886, 'imagine': 5.03512341666941, 'military': 4.668320295595509, 'deadly': 3.713766857986066, 'peace': 4.169180948398974, 'long': 2.6156871924996556, 'plunge': 6.092674218539745, 'thousands': 4.5658685706859155, 'tracking': 5.9484246096951985, 'father': 2.7930132560970127, 'past': 2.77410910145786, 'survival': 4.372373713293835, 'find': 2.3034034714812948, 'swearing': 7.955892651749945, 'assassins': 6.145784043853694, 'dreamed': 5.204357338707997, 'unearth': 6.751919847424009, 'hunt': 4.68084655541469, 'underworld': 5.876451110070109, 'pilgrimage': 6.751919847424009, 'draw': 5.316835322134686, 'private': 4.037225103603131, 'secret': 2.9167778863318206, 'intrigue': 4.42301744611259, 'decades': 4.324171611475958, 'murder': 5.677128793524169, 'stay': 4.286649172152868, 'fighting': 4.639688482921183, 'ruthless': 9.279376965842365, 'cities': 5.365625486304118, 'grave': 5.204357338707997, 'll': 11.06558677618861, 'struggle': 3.9445272029895357}, {'back': 2.5378188892603495, 'perfect': 3.493823309402527, 'set': 2.822056923867532, 'question': 4.1998738947983805, 'dilemma': 6.025982844041073, 'moral': 4.647785693153802, 'shatter': 6.439545162381857, 'high': 3.110831057146421, 'rocks': 6.164133182521891, 'powerful': 3.02702995578704, 'sensational': 6.058772666864064, 'turns': 6.919587121632431, 'suspense': 3.9485594665174744, 'triumphs': 5.620517735932909, 'city': 6.230422531277965, 'real': 3.0875038654884475, 'incomparable': 5.933609523910058, 'ambitions': 6.009982502694632, 'charleston': 7.0176230131570145, 'haunting': 4.504142990924958, 'murder': 2.8385643967620844, 'bestselling': 3.2294886009477373, 'sandra': 6.368927595167904, 'brown': 4.900843801039534, 'citizens': 5.2478424506477355, 'mysterious': 3.3254879945833125, 'faces': 4.7150379201629695, 'estate': 4.562130248575308, 'voltage': 8.361357759858109, 'lute': 10.153117229086165, 'people': 2.4501095466069285, 'tycoon': 6.656609667619684, 'prime': 5.1833039295101635, 'pettijohn': 20.30623445817233, 'woman': 2.2833333265560185, 'delivers': 4.976967496512335, 'ambitious': 4.787141214064313, 'alibi': 7.319903885029948, '1': 3.885916680544802, 'prosecutor': 6.261296930975538, 'suspect': 4.446006964337289, 'chance': 3.84138241993325, 'cross': 4.511210158148051, 'fresh': 4.286649172152868, 'district': 5.963462487059739, 'attorney': 4.880117670522417, 'wins': 6.042243364912853, 'case': 3.3857741038207725, 'secret': 2.9167778863318206, 'dead': 3.06387407405865, 'cover': 3.83414911533973, 'blockbuster': 6.368927595167904, 'hammond': 15.701064272184238, 'investigation': 4.1998738947983805, 'shortage': 7.955892651749945, 'latest': 4.184409669100798, 'wanted': 4.169180948398974, 'holds': 4.5658685706859155}, {'page': 3.9050743545777356, 'school': 3.2544026947561764, 'lesson': 5.43461835779107, 'astonishing': 4.5658685706859155, 'cops': 5.588769037618328, 'parking': 6.857280363081835, 'cheering': 7.7552219562877935, 'peter': 8.539589681195771, 'billionaires': 8.207207080030852, 'beat': 5.255277429135253, 'servant': 5.664480859354025, 'plan': 4.077771197997481, 'law': 7.917423675962985, 'accident': 4.3540245746256385, 'brother': 3.5518871103572884, 'justice': 4.363157058188911, 'elite': 5.332835663481128, 'satisfying': 5.408185100722914, 'student': 4.286649172152868, 'unlimited': 6.820912718910961, 'found': 2.9017722457139508, 'driven': 4.825241060296583, 'learning': 4.400544590260531, 'system': 4.397375015499252, 'rich': 3.5015453554964373, 'mullen': 8.361357759858109, 'money': 3.924606225494981, 'jack': 12.8345594947024, 'cars': 5.904621987036806, 'hamptons': 7.850532136092119, 'body': 3.3473946756691793, 'bought': 6.092674218539745, 'intimate': 4.479793961914672, 'beach': 4.965731423245409, 'reeling': 6.719130024601018, 'judges': 7.108594791362742, 'drowning': 6.391917113392602, 'power': 2.8573821563368824}, {'regret': 6.439545162381857, 'filled': 3.6684819934509125, 'life': 1.4248530675899866, 'chapman': 7.26274547119, 'grant': 11.156812501165563, 'risks': 5.698769932832657, 'years': 4.149478250919291, 'ten': 7.897118933034949, 'single': 3.9526080550434743, 'congressional': 7.3805285068463835, 'change': 3.476033767839029, 'past': 5.54821820291572, 'returned': 4.710699518564371, 'back': 5.075637778520699, 'aide': 6.934241404217964, 'dangerous': 3.4487028741220573, 'secretly': 5.277919905885013, 'leaving': 8.82664863381386, 'browning': 14.52549094238, 'accusation': 7.850532136092119, 'student': 4.286649172152868, 'marriage': 6.688155846086371, 'man': 3.9545764407431356, 'disastrous': 12.019965005389263, 'shared': 4.949110542009369, 'college': 8.278804146086726, 'rest': 4.363157058188911, 'washington': 4.363157058188911, 'unplanned': 8.207207080030852, 'stunning': 4.218223033466577, 'shelley': 27.42912145232734, 'degree': 12.365650631068085, 'ago': 3.5836358086718687, 'stint': 7.062074775727848, 'face': 13.119813579494586, 'kiss': 5.425729410373824, 'haunts': 5.963462487059739, 'choose': 4.759489682733803, 'scorching': 7.0176230131570145, 'dreams': 3.5197987958057877, 'teaching': 4.895621857058383, 'impropriety': 8.543679316652064, 'irresistible': 4.660055785745616, 'spend': 5.017318792035903, 'sees': 4.486690540973732, 'longs': 5.734276621289567, 'unforgettable': 7.802426691840552, 'isn': 8.410164479811037, 'shelly': 7.445067027983955}, {'landing': 6.058772666864064, 'arrives': 4.635664332621457, 'london': 3.7058113665449515, 'betrayal': 4.518327625916915, 'unknown': 4.655949003792963, 'odd': 5.357326683489424, '\\xa0': 9.344956611488346, 'client': 10.437286591910945, 'services': 5.822383888799833, 'affectionate': 6.597769167596751, 'lovers': 4.33600606912296, 'murders': 4.854799862538128, 'hang': 5.835629115549854, 'mission': 4.043869646321799, 'barrington': 8.361357759858109, 'shadows': 5.03512341666941, 'stone': 9.555677642804, 'unflappable': 7.3805285068463835, 'doesn’t': 5.890437352044849, 'possibly': 5.23313630325804, 'lies—and': 10.153117229086165, 'previously': 5.357326683489424, 'hired': 5.084213026865933, 'feel': 4.189537885467718, 'bumpy': 7.850532136092119, 'attentions': 6.719130024601018, 'involved': 4.592435598070637, 'sting': 7.26274547119, 'understands': 6.092674218539745, 'hope': 3.6222396013602793, 'wrapped': 6.489555582956518, 'life': 1.4248530675899866, 'territory': 5.270315306499794, 'depth': 4.810782977121353, 'lives': 2.6140901732621695, 'baffled': 6.626756704470003, 'quarry': 6.687381326286438, 'wild': 3.8486684266641835, 'stone’s': 9.45997004852622, 'complicated': 5.197290171484903, 'thinks': 4.5658685706859155, 'behavior': 4.8012590956100984, 'intelligence': 4.472944620069097, 'finds': 2.8306067950887703, 'countries': 5.6872091104315805, 'face': 6.559906789747293, 'men': 2.960183007870365, 'forget': 4.573387403099942, 'ride': 4.754954527568412}, {'assassin': 5.537996712244905, 'unseen': 6.110065961251614, 'past': 2.77410910145786, 'checkered': 8.207207080030852, 'problem': 4.521905447264799, 'quietly': 5.862657787937773, 'it’s': 5.071712864101702, 'safe': 9.255328579908761, 'business': 3.6518275585457753, 'covert': 6.201873510504737, 'morgan': 5.698769932832657, 'protect': 4.330071333603146, 'bodyguard': 6.489555582956518, 'assigns': 8.073675687406329, 'protecting': 6.182825315534043, 'logan': 13.438260049202036, 'john': 3.3287435590430783, 'financier': 7.668210579298164, 'man': 1.9772882203715678, 'source': 4.573387403099942, 'escaping': 6.626756704470003, 'improbable': 6.934241404217964, 'barely': 5.1559049553220495, 'brutal': 4.394215455208884, 'silenced': 7.445067027983955, 'ally': 6.042243364912853, 'graham': 11.542181188824566, 'relentless': 5.270315306499794, 'attempt': 4.639688482921183, 'death': 2.5862887498778337, 'reasons': 10.540630612999587, 'witnesses': 5.588769037618328, 'heartbreaking': 5.21147480647686, 'arapahoe': 10.153117229086165, 'unspeakable': 5.771090594412283, 'team': 4.255963361449424, 'celebrated': 4.723771600131724, 'allies': 5.809311807232481, 'vast': 4.483236306105645, 'truth': 3.275821157588736, 'maximum': 6.751919847424009, 'infamous': 5.365625486304118, 'official': 5.6422577225693145, 'final': 3.9445272029895357, 'pair': 5.047171755185584, 'ending': 5.332835663481128, 'iris': 7.208678249919724, 'hiding': 5.149170923140705, 'terrible': 4.07547498573713, 'page': 3.9050743545777356, 'thriller': 4.171703017831684, 'eye': 4.048323996671179, 'stun': 8.207207080030852, 'killer': 3.36301999357226, 'bestselling': 3.2294886009477373, 'mud': 6.687381326286438, 'dangerous': 6.897405748244115, 'killed': 4.1492301619796255, 'returns': 3.9465413023612372, 'focused': 6.346454739315845, 'pushes': 6.8950206910646825, 'step': 4.024067019025619, 'latest': 4.184409669100798, 'electrifying': 5.771090594412283, 'forced': 3.918706503367793, 'johansen': 15.91178530349989, 'connections': 5.588769037618328, 'suspense': 3.9485594665174744, 'junction': 7.850532136092119, 'killers': 5.340932873713747, '1': 3.885916680544802, 'survivors': 5.461769346857021, 'photojournalist': 7.955892651749945, 'terror': 4.269794840597886, 'risk': 4.521905447264799, 'frightening': 5.129236708239888, 'tense': 6.164133182521891, 'opening': 5.090522196059197, 'nation': 4.234223374813018, 'reporter': 9.631158298769693, 'influences': 6.439545162381857, 'billionaire': 6.415447610802796, 'threatens': 4.693531714942005, 'lets': 6.145784043853694, 'scene': 4.419775952188419, 'line': 3.9689683381486813, 'tragedy': 4.070898318709719, 'explosive': 4.916675266256215, 'left': 3.2799533948736466, 'human': 2.8359048207263253, 'pictures—she': 10.153117229086165, 'act': 4.327117121705714, 'terror—and': 10.153117229086165, 'camera': 6.346454739315845, 'digging': 6.324475832597069, 'assignment': 5.316835322134686, 'report': 5.822383888799833, 'recorded': 5.876451110070109, 'tragic': 4.278186498234134, 'swift': 6.182825315534043, 'catastrophes': 7.7552219562877935, 'instant': 5.240462343350113, 'knockout': 7.7552219562877935, 'natural': 4.181855389295702, 'doesn’t': 5.890437352044849, 'delivers': 4.976967496512335, 'disasters': 6.241094223658019, 'acts': 5.308930142627573, 'reveal': 4.500628048817514, 'experiences': 4.1921118894628915, 'commando': 7.7552219562877935, 'alex': 37.217847254942804, 'author': 2.3387175952816777, 'forever': 7.3677338245807835, 'shovel': 8.207207080030852, 'cover': 3.83414911533973, 'life': 1.4248530675899866, 'level': 4.689285424060555, 'marked': 5.218643295955473, 'made': 3.027834137575453, 'side': 3.843198950859648, 'dam': 7.668210579298164, 'breaks': 5.3995270379798, 'witness': 4.906093156925678, 'colorado': 5.734276621289567, 'target': 10.284963869979817, 'site': 5.349096184352908, 'snapping': 8.073675687406329, 'judd': 14.417356499839448, 'expose': 5.4526368632937485, 'story': 3.822828138712692, 'dogs': 5.1833039295101635, 'all—but': 10.153117229086165, 'plausible': 7.514059899470906, 'finds': 5.661213590177541, 'bargained': 6.857280363081835, 'conspiracy': 4.875002569855647, 'unthinkable': 5.933609523910058}, {'forgotten': 4.79182506337674, 'earth': 3.452386119538354, 'secretive': 6.346454739315845, 'cathedrals': 8.361357759858109, 'catacombs': 8.361357759858109, 'dangerous': 3.4487028741220573, 'crypts': 9.054504940418054, 'sealed': 6.391917113392602, 'murdered': 3.979331125184228, 'alternate': 5.508726329944792, 'vault': 7.588167871624628, 'frantic': 6.391917113392602, 'analyze': 6.934241404217964, 'vatican': 6.857280363081835, 'embark': 5.783669376619143, 'physicist': 6.391917113392602, 'seared': 8.073675687406329, 'facility': 6.489555582956518, 'discovers': 3.5628161808894783, 'robert': 4.120031007287363, 'langdon': 15.336421158596329, 'scientist': 4.971333678794079, 'edition': 3.2935023254319624, 'hunt': 4.68084655541469, 'unimaginable': 6.058772666864064, 'summoned': 5.978729959190527, 'swiss': 6.857280363081835, 'symbol': 5.919010724488905, 'symbologist': 8.766822867966274, 'deserted': 5.6872091104315805, 'cryptic': 6.261296930975538, 'cover': 3.83414911533973, 'vetra': 9.45997004852622, 'deadly': 3.713766857986066, 'research': 4.084691640842054, 'vendetta': 7.668210579298164, 'chest': 6.439545162381857, 'organization': 5.390943294288409, 'church': 4.732582229813879, 'centuries': 4.292331005620299, 'lair': 7.108594791362742, 'joins': 5.13583739227124, 'forces': 3.9050743545777356, 'underground': 5.2627681008644105, 'long': 2.6156871924996556, 'catholic': 5.599240337485623, 'illuminati': 17.53364573593255, 'desperate': 3.9345171093944353, 'powerful': 3.02702995578704, 'save': 3.6063318183256405, 'vittoria': 9.45997004852622, 'time': 1.9337911351800734, 'bomb': 5.904621987036806, 'harvard': 5.809311807232481, 'rome': 5.557997378951574, 'renowned': 4.676653677154654, 'beautiful': 2.8292866628838476, 'world': 1.6455704147217325, 'mysterious': 3.3254879945833125}, {'emotions': 4.859812404361672, 'loss': 4.258714394821314, 'jealousy': 5.809311807232481, 'bestselling': 3.2294886009477373, 'gripping': 4.676653677154654, 'anita': 6.597769167596751, 'characters': 3.267607559051347, 'grace': 4.631656311223918, 'tale': 2.9283638233181937, 'novels': 3.6578516731491564, 'intelligence': 4.472944620069097, 'desire': 3.880240222539997, 'written': 3.0071327613717767, 'unforgettable': 3.901213345920276, 'secrets': 3.3233234915737393, 'man': 1.9772882203715678, 'husband': 3.2003885844612965, 'doomed': 5.416918780691669, 'meeting': 4.84484953168496, 'shreve': 8.361357759858109, 'etna': 18.91994009705244, 'bring': 3.676144866196482, 'late': 3.9485594665174744, 'stories': 2.737340253670771, 'escape': 3.9814166316752493, 'obsession': 4.820398435820795, 'intersecting': 8.766822867966274, 'restaurant': 5.480288394624258, 'young': 2.1669523687534373, 'peopled': 6.391917113392602, 'hallmarks': 6.975063398738219, 'realization': 6.042243364912853, 'marriage': 6.688155846086371, 'wife': 3.062207407006181, 'betrayal': 4.518327625916915, 'begins': 3.224579410921499, 'helps': 4.607939784606602, 'real': 3.0875038654884475, 'bliss': 6.368927595167904, 'companions': 5.365625486304118, 'moment': 4.0416498895834865, 'fire': 4.202474676498437, 'hotel': 5.116164626672536, 'culminates': 6.934241404217964}, {'power': 2.8573821563368824, 'move': 4.363157058188911, 'monitor': 6.934241404217964, 'raced': 7.850532136092119, 'slain': 6.415447610802796, 'divorce': 5.2627681008644105, 'decade': 4.773219875545705, 'authorities': 5.470986001961945, 'terrorized': 7.157384955532174, 'link': 5.470986001961945, 'subjected': 7.445067027983955, 'bellush—a': 10.153117229086165, 'sheila': 41.850380392429315, 'compassion': 4.93276140400784, 'bellush—': 10.153117229086165, 'story': 1.911414069356346, 'vowed': 5.890437352044849, 'written': 6.014265522743553, 'blackthorne': 35.0672914718651, 'revenge': 4.391065846305988, 'shocking': 4.073184033990574, 'ann': 10.437286591910945, 'candor': 6.261296930975538, 'quest': 3.985600738197823, 'obsessive': 5.919010724488905, 'met': 4.14430404364357, 'quadruplets': 9.054504940418054, 'handsome': 3.856007909152229, 'culminated': 16.414414160061703, 'happily': 5.508726329944792, 'brutality': 12.403747021009474, 'true': 5.9845426448437316, 'book': 3.6153236018484733, 'chronicles': 4.815579149384846, 'untangles': 16.414414160061703, 'man': 1.9772882203715678, 'exacting': 7.319903885029948, 'allen': 5.653307558755899, 'home': 2.558232841869645, 'charmer—': 10.153117229086165, 'crime': 10.651588010690483, 'unthinkable': 5.933609523910058, 'unvarnished': 8.543679316652064, 'rule': 14.504991705725844, 'web': 9.001256097635029, 'murder': 5.677128793524169, 'woman': 2.2833333265560185, 'abuse': 5.43461835779107, 'request': 11.988468291452985, 'toddlers': 6.8950206910646825, 'victim': 8.244863937649802, 'detail': 4.483236306105645, 'ensconced': 7.850532136092119, 'loving': 4.338986697261098, 'marriage': 6.688155846086371, 'presence': 4.965731423245409, 'family': 2.226153684223186, 'multi': 5.862657787937773, 'escaped': 5.349096184352908, 'enslavement': 7.514059899470906, 'lies': 8.026465353719818, 'husband': 3.2003885844612965, 'millionaire': 5.408185100722914, 'violent': 4.234223374813018, 'controlling': 6.439545162381857, 'vicious': 5.270315306499794, 'sociopath': 7.445067027983955}, {'views': 5.588769037618328, 'personal': 3.231459044935036, 'lewis': 5.293304824724492, 'talent': 4.588596821763471, 'inimitable': 5.835629115549854, 'program': 4.655949003792963, 'book': 1.8076618009242367, 'subsequent': 6.092674218539745, 'bestselling': 3.2294886009477373, 'marriages': 5.7964084023965725, 'account': 3.771301211680066, 'bittersweet': 5.919010724488905, 'oil': 5.653307558755899, 'nights': 5.349096184352908, 'sunday': 5.734276621289567, 'grow': 4.710699518564371, 'refrigerator': 7.108594791362742, 'time': 1.9337911351800734, 'based': 3.784930042735672, 'bathroom': 6.975063398738219, 'endless': 5.349096184352908, 'spend': 5.017318792035903, 'women': 5.633663138129734, 'taught': 10.437286591910945, 'marriage': 3.3440779230431854, 'strange': 3.5808346863921567, 'things': 3.284102778420458, 'grizzard': 32.294702749625316, 'food': 4.061807347008466, 'humorous': 4.875002569855647, 'features': 4.011079823498808, 'left': 3.2799533948736466, 'divorces': 7.955892651749945, 'uncovered': 6.302969627376106, 'love': 1.9072079643120718, 'divorce': 5.2627681008644105, 'quart': 8.766822867966274, 'low': 4.960160378195954}, {'pages': 3.8671191345772997, 'includes': 3.4031860352975944, 'blooded': 5.461769346857021, 'sudden': 4.93276140400784, 'killer': 3.36301999357226, 'hoyt': 27.16351482125416, 'death': 2.5862887498778337, 'manner': 5.599240337485623, 'national': 4.006787971417267, 'photos': 4.4763634268178825, 'researcher': 6.489555582956518, 'years': 2.0747391254596455, 'waneta': 10.153117229086165, 'authorities': 5.470986001961945, 'infant': 5.631328652037125, 'proof': 5.698769932832657, 'hereditary': 8.207207080030852, 'cold': 4.064072353639318, 'family': 4.452307368446372, 'syndrome': 6.439545162381857, 'medical': 4.504142990924958, 'mother': 2.874488286765482, 'lost': 3.3451822853862385, 'prominence': 7.955892651749945, 'truth': 3.275821157588736, 'babies': 6.025982844041073, 'grieving': 6.324475832597069, 'discovered': 4.0416498895834865}, {'back': 2.5378188892603495, 'trees': 5.758668074413726, 'mangled': 7.955892651749945, 'animals': 4.573387403099942, 'slaughtered': 7.26274547119, 'cover': 3.83414911533973, 'protecting': 6.182825315534043, 'imagines': 6.368927595167904, 'fade': 6.751919847424009, 'reception': 6.975063398738219, 'pitcher': 8.361357759858109, 'relief': 5.978729959190527, 'hero': 4.024067019025619, 'gritty': 6.346454739315845, 'woods': 5.21147480647686, 'sox': 7.955892651749945, 'games': 5.017318792035903, 'catch': 5.065520893853781, 'tom': 9.271328665242914, 'wanders': 6.7858213990996905, 'divorced': 5.822383888799833, 'real': 3.0875038654884475, 'mother': 2.874488286765482, 'maine': 5.277919905885013, 'red': 4.171703017831684, 'brother': 3.5518871103572884, 'year': 2.5034246053746503, 'maze': 6.025982844041073, 'dark': 3.132926520774239, 'tires': 8.766822867966274, 'attempting': 6.302969627376106, 'enemy': 4.245034290917234, 'quickly': 4.410114041276683, 'courage': 4.084691640842054, 'left': 3.2799533948736466, 'hike': 7.514059899470906, 'bickering': 9.054504940418054, 'constant': 5.499156878928641, 'older': 4.588596821763471, 'baseball': 5.588769037618328, 'hampshire': 6.7858213990996905, 'begins': 3.224579410921499, 'branch': 6.464237774972228, 'pete': 6.687381326286438, 'appalachian': 6.7858213990996905, 'trail': 8.636612984047119, 'recently': 4.825241060296583, 'performances': 6.857280363081835, 'mcfarland': 8.361357759858109, 'trisha': 27.16351482125416, 'shortcut': 8.073675687406329, 'ingenuity': 6.751919847424009, 'wilderness': 4.960160378195954, 'tunes': 7.588167871624628, 'lost': 3.3451822853862385, 'full': 3.062207407006181, 'peril': 5.809311807232481, 'night': 3.157351072781314, 'mile': 5.994234145726493, 'mounting': 6.597769167596751, 'fears': 4.569620920304465, 'dense': 6.7858213990996905, 'gordon': 12.117545333728128, 'falls': 4.179307617216903, 'radio': 5.053250801261966, 'defense': 5.116164626672536, 'terror': 4.269794840597886, 'elements': 4.994061929871635, 'faith': 4.154180667139482, 'stand': 4.403724243177911, 'solace': 6.110065961251614, 'walkman': 9.054504940418054, 'broadcasts': 7.588167871624628, 'boston': 4.880117670522417}, {'violent': 4.234223374813018, 'investigators': 6.626756704470003, 'private': 4.037225103603131, 'vegas': 6.221291596361839, 'corporate': 5.270315306499794, 'underworld': 5.876451110070109, 'seedy': 6.261296930975538, 'launches': 6.54219931644194, 'formidable': 5.537996712244905, 'brings': 3.578041388486544, 'success': 4.037225103603131, 'owners': 5.620517735932909, 'million': 4.02624804497198, 'casinos': 7.7552219562877935, 'brightest': 6.719130024601018, 'meets': 3.87647373974452, 'sophisticated': 5.204357338707997, 'students': 8.60758489827861, 'inside': 3.901213345920276, 'dollars': 5.508726329944792, 'pack': 5.758668074413726, 'guidance': 5.758668074413726, 'robin': 5.60982244681616, 'gambling': 6.261296930975538, 'national': 4.006787971417267, 'bestseller': 3.918706503367793, 'lived': 4.197279859621333, '’s': 14.124149551455696, 'winning': 3.6593633892344783, 'heavies': 9.45997004852622, 'years': 2.0747391254596455, 'major': 3.7729946921863995, 'cards': 5.499156878928641, '—the': 7.208678249919724, 'motion': 5.059367028279402, 'picture': 4.406914038546011, 'campus': 6.182825315534043, 'develops': 6.201873510504737, 'eccentric': 4.759489682733803, 'card': 5.489678134974097, 'beat': 5.255277429135253, 'ring': 10.45172708785792, 'ire': 8.207207080030852, '1': 3.885916680544802, 'big': 3.5641907515526454, 'hood': 6.346454739315845, 'rat': 6.415447610802796, 'amazing': 4.825241060296583, 'story': 1.911414069356346, 'math': 6.597769167596751, 'engineers': 7.26274547119, 'system': 8.794750030998504, 'blackjack': 16.147351374812658, 'mastermind': 6.7858213990996905, 'small': 3.2167744932521147, 'club': 4.5658685706859155, 'vegas—and': 10.153117229086165, 'large': 4.497125418266312, 'experiment': 5.5281444158018935, 'playing': 4.773219875545705, 'counting': 6.5155310693597785, 'casino': 6.934241404217964, 'savants': 8.543679316652064, 'world’s': 6.164133182521891}, {'work': 2.5096343220089636, 'peace': 4.169180948398974, 'middle': 3.878355207844226, 'ground': 4.750439847213885, 'prepares': 5.849052135881995, 'order': 3.9445272029895357, 'plan': 4.077771197997481, 'world': 1.6455704147217325, 'questions': 3.656342238900302, 'eastern': 5.218643295955473, 'changing': 4.655949003792963, 'save': 3.6063318183256405, 'united': 4.194692536056382, 'states': 4.20769662047959, 'thought': 3.6792265327338898, 'greatest': 3.5724780918012153, 'president': 9.058199445797651, 'jack': 4.278186498234134, 'incompetent': 7.26274547119, 'deal': 4.469537461747483, 'ryan': 5.876451110070109, 'crisis': 5.090522196059197}, {'commitment': 5.568149750415593, 'wedding': 4.611853683927738, 'bittersweet': 5.919010724488905, 'rehab': 8.073675687406329, 'room': 4.20769662047959, 'emergency': 5.890437352044849, 'fear': 4.021890739603024, 'ultimate': 4.117635796561408, 'facing': 4.927370555372963, 'marriage': 3.3440779230431854, 'story': 1.911414069356346, 'chapter': 4.676653677154654, 'moments': 4.830107249947757, 'reeves': 7.955892651749945, 'profound': 4.529099722898826, 'im': 5.065520893853781, 'neck': 6.092674218539745, 'broke': 5.588769037618328, 'hard': 3.6222396013602793, 'happen': 4.764045499269663, 'won': 3.8727213901259696, 'fans': 4.171703017831684, 'community': 4.061807347008466, 'gesture': 7.7552219562877935, 'beautiful': 2.8292866628838476, 'cat': 4.333034298733803, 'psychotherapy': 7.3805285068463835, 'ways': 3.704227834939307, 'introduction': 3.826967755931065, 'reeve': 23.551596408276357, 'drawings': 4.93276140400784, 'offer': 4.300914749311691, 'tapes': 7.850532136092119, 'light': 3.8468419421381492, 'jokes': 6.201873510504737, 'overcoming': 6.464237774972228, 'face': 3.2799533948736466, 'lead': 4.052798277066101, 'hope': 14.488958405441117, 'books': 3.2324457248374814, 'de': 3.0118721067356735, 'talismans': 8.073675687406329, 'lsd': 9.45997004852622, 'icon': 6.075579785180445, 'hepburn': 7.850532136092119, 'inspiring': 4.660055785745616, 'religious': 4.550998408206464, 'hardship': 6.597769167596751, 'thousand': 4.745945457626045, 'touching': 5.270315306499794, 'effect': 5.22586354392896, 'tokens': 9.45997004852622, 'hollywood': 4.514762559752419, 'reply': 8.361357759858109, 'painful': 4.922008612231578, 'reaffirming': 9.054504940418054, 'family': 6.678461052669558, 'long': 5.231374384999311, 'listen': 5.60982244681616, 'christopher': 11.056288831603787, 'politicians': 5.835629115549854, 'hands': 3.985600738197823, 'endure': 5.904621987036806, 'surprising': 4.723771600131724, 'horse': 5.011453672583505, 'riding': 5.758668074413726, 'call': 3.9485594665174744, 'wrote': 4.573387403099942, 'stories': 5.474680507341542, 'fell': 5.255277429135253, 'everyday': 4.410114041276683, 'days': 3.5080262595805207, 'phoned': 9.45997004852622, 'simply': 4.643728892458188, 'accident': 4.3540245746256385, 'anniversary': 5.5281444158018935, 'robert': 4.120031007287363, 'paralyzed': 6.719130024601018, 'letter': 4.938181471477179, 'time': 1.9337911351800734, 'usa': 5.809311807232481, 'sympathy': 6.324475832597069, 'laugh': 4.895621857058383, 'flowers': 5.599240337485623, 'gifts': 10.366607859020327, 'world': 1.6455704147217325, 'advice': 4.108111915050153, 'overdue': 7.208678249919724, 'funny': 7.466244601878044, 'people': 2.4501095466069285, 'unforgettable': 3.901213345920276, 'visited': 5.904621987036806, 'joined': 5.425729410373824, 'gave': 4.880117670522417, 'heroes': 4.84484953168496, 'book': 1.8076618009242367, 'presidents': 6.54219931644194, 'made': 3.027834137575453, 'katharine': 6.975063398738219, '1995': 5.822383888799833, 'writers': 3.665433210601554, '27': 6.626756704470003, 'letters': 13.034924217317162, 'poured': 7.514059899470906, 'addressed': 6.975063398738219, 'jazz': 6.009982502694632, 'difficult': 4.45602374258076, 'white': 3.5518871103572884, 'superman': 8.073675687406329, 'astonishing': 4.5658685706859155, 'demonstration': 7.3805285068463835, 'support': 4.9113702140265225, 'man': 1.9772882203715678, 'american': 2.663146330251364, 'overwhelming': 5.588769037618328, 'dana': 13.641825437821922, 'wife': 3.062207407006181, 'strangers': 5.489678134974097, 'inspired': 4.446006964337289, 'deeply': 4.210317853959464, 'received': 5.301086965166547, 'thoughts': 4.943631076244744, 'periods': 6.489555582956518, 'fulfilling': 6.042243364912853, 'tales': 3.7696105942021587, 'faxed': 10.153117229086165, 'collected': 5.293304824724492, 'prayers': 6.145784043853694, 'stars': 4.588596821763471, 'golly': 10.153117229086165, 'mess': 5.994234145726493, 'niro': 9.45997004852622, 'prevailed': 8.361357759858109, 'test': 4.615782962067628, 'youngest': 5.675780414607958, 'adversity': 6.719130024601018, 'friends': 3.0367230849926994, 'prayed': 7.588167871624628, 'rich': 3.5015453554964373, 'greatest': 3.5724780918012153, 'lives': 2.6140901732621695}, {'continues': 4.372373713293835, 'commentary': 5.43461835779107, 'esteemed': 6.719130024601018, 'author': 2.3387175952816777, 'landmark': 5.664480859354025, 'small': 3.2167744932521147, 'unnerving': 7.157384955532174, 'unsaid”': 9.45997004852622, 'things': 6.568205556840916, '“big': 9.054504940418054, 'exposing': 6.626756704470003, 'lyrical': 5.332835663481128, 'intentional': 8.766822867966274, 'started': 4.764045499269663, 'winning': 3.6593633892344783, 'accidental': 6.241094223658019, 'drifting': 6.719130024601018, 'tragedies': 6.182825315534043, 'liaison': 6.751919847424009, 'piercing': 6.5155310693597785, 'loved': 3.907010463604602, 'cousin': 4.84484953168496, 'fiction': 3.2645447695208016, 'powerful': 3.02702995578704, 'worldwide': 4.943631076244744, 'award': 3.623698390823939, 'forever': 3.6838669122903918, 'read': 3.304050946452707, 'compared': 6.182825315534043, 'god': 3.854167982230222, 'family': 4.452307368446372, 'country': 3.3574114539126505, 'faulkner': 6.597769167596751, 'saga': 4.511210158148051, 'story': 3.822828138712692, '1969': 6.391917113392602, 'dangerously': 5.568149750415593, 'dickens': 5.862657787937773, 'arundhati': 8.543679316652064, 'love': 1.9072079643120718, 'drama': 4.189537885467718, 'young': 2.1669523687534373, 'equal': 5.734276621289567, 'shaken': 6.302969627376106, 'sophie': 6.164133182521891, 'debut': 4.403724243177911, 'affluent': 6.391917113392602, 'works': 3.6458395167011526, 'modern': 3.2364022087325557, 'unabated': 8.766822867966274, 'lurk': 7.0176230131570145, 'classic': 3.0118721067356735, 'event': 5.059367028279402, 'political': 7.6936838842762985, 'favorably': 9.054504940418054, 'indian': 4.635664332621457, 'changed': 4.236915166478729, 'unrest': 6.751919847424009, 'lead': 4.052798277066101, 'fateful': 5.547947043098073, 'day': 2.7439807851660363, 'lush': 5.308930142627573, 'year': 2.5034246053746503, 'twins': 5.599240337485623, 'parts': 5.03512341666941, 'rahel': 9.45997004852622, 'world': 1.6455704147217325, 'career': 3.5641907515526454, 'estha': 9.45997004852622, 'irrevokably': 9.45997004852622, 'roy’s': 9.054504940418054, 'forbidden': 5.053250801261966, 'arrival': 5.047171755185584, 'illicit': 6.569598290630054, 'beautiful': 2.8292866628838476}, {'hopelessly': 6.241094223658019, 'win': 4.466141872746345, 'refusal': 6.751919847424009, 'mistress': 5.308930142627573, 'heart': 2.630176311013794, 'asks': 5.053250801261966, 'coe': 8.361357759858109, 'appalled': 7.955892651749945, 'bone': 5.537996712244905, 'lecherous': 7.668210579298164, 'absolutely': 5.890437352044849, 'prose': 4.436089527679943, 'determined': 3.5211154516905347, 'hearts': 4.432805452478753, 'funny': 3.733122300939022, 'spurs': 8.207207080030852, 'tickles': 9.45997004852622, 'avery': 7.588167871624628, 'housekeeper': 6.164133182521891, 'lascivious': 8.543679316652064, 'laughter': 5.365625486304118, 'mysterious': 3.3254879945833125, 'disguising': 8.543679316652064, 'ashton': 7.3805285068463835, 'lady': 3.975173115035564, 'barbara': 5.169510607377828, 'mixes': 7.26274547119, 'metzger': 8.766822867966274, 'employment': 6.7858213990996905, 'melody': 7.3805285068463835, 'young': 2.1669523687534373, 'love': 3.8144159286241437, 'metzer': 10.153117229086165, 'including': 3.1610208016702765, 'annalise': 10.153117229086165, 'lord': 12.389008908375395, 'house': 3.1125808388702088, 'takes': 2.92545473035751, 'gardiner': 8.073675687406329, 'town': 3.0875038654884475, 'shocked': 5.316835322134686, 'deliciously': 6.058772666864064, 'grows': 4.8012590956100984, 'preoccupied': 7.514059899470906, 'green': 4.483236306105645}, {'art': 3.4848889806687615, 'truth': 3.275821157588736, 'unforgettable': 3.901213345920276, 'men': 2.960183007870365, 'birth': 4.381676105956148, 'strike': 5.071712864101702, 'women': 2.816831569064867, 'story': 1.911414069356346, 'fall': 4.00038453438206, 'rise': 4.664179502929478, 'tells': 3.3574114539126505, 'famous': 3.6149774053184944, 'garcí\\xada': 10.153117229086165, 'buendia': 10.153117229086165, 'finest': 4.768622166297075, 'work': 2.5096343220089636, 'fiction': 3.2645447695208016, 'márquez': 8.207207080030852, 'macondo': 9.054504940418054, 'alive': 4.120031007287363, 'masterpiece': 4.562130248575308, 'family': 2.226153684223186, 'understanding': 4.037225103603131, 'town': 3.0875038654884475, 'history': 2.6932024628450595, 'soul': 3.8074808682575685, 'inventive': 5.876451110070109, 'amusing': 5.822383888799833, 'magnetic': 6.857280363081835, 'death': 2.5862887498778337, 'mythical': 6.2819162181782735, 'sad': 5.470986001961945}, {'audiobooks': 8.766822867966274, 'reading': 3.8916255447651222, 'mere': 5.5281444158018935, 'woman': 2.2833333265560185, 'recording': 6.346454739315845, 'voice': 4.035020031044817, 'distinct': 6.719130024601018, 'rest': 4.363157058188911, 'show': 3.738020269914569, 'willetta': 9.45997004852622, 'inhabiting': 8.207207080030852, 'catholic': 5.599240337485623, 'sidda': 9.054504940418054, 'person': 3.9365111280012997, 'considerable': 5.978729959190527, 'good': 2.95868037798583, 'perform': 6.145784043853694, 'characters': 6.535215118102694, 'entertaining': 4.231538809442349, 'time': 1.9337911351800734, 'vivi': 8.543679316652064, 'spark': 6.145784043853694, 'nub': 10.153117229086165, 'acting': 5.653307558755899, 'shep': 8.766822867966274, 'popular': 3.5424211843684055, 'wear': 5.568149750415593, 'lively': 4.885259070022836, 'talent': 4.588596821763471, 'excellent': 5.60982244681616, 'author': 2.3387175952816777, 'rebecca': 6.042243364912853, 'hilt': 9.45997004852622, 'wells': 12.482188447316037, 'plays': 4.759489682733803, 'abridgment': 10.153117229086165, 'adding': 6.569598290630054}, {'twist': 5.588769037618328, 'deadly': 3.713766857986066, 'add': 5.308930142627573, 'shadows': 5.03512341666941, 'trickster': 7.514059899470906, 'lost': 3.3451822853862385, 'find': 2.3034034714812948, 'historical': 3.938509130663973, 'involves': 6.221291596361839, 'weave': 5.978729959190527, 'complex': 3.975173115035564, 'officer': 4.859812404361672, 'pinto': 9.45997004852622, 'suspect': 4.446006964337289, 'delbert': 10.153117229086165, 'named': 3.795274962578065, 'kill': 4.261473017260394, 'confounded': 8.361357759858109, 'leaphorn': 7.955892651749945, 'shaman': 6.820912718910961, 'surface': 4.906093156925678, 'murder': 2.8385643967620844, 'possession': 5.758668074413726, 'ashie': 10.153117229086165, 'man': 1.9772882203715678, 'mythical': 6.2819162181782735, 'jim': 10.011245504545423, 'car': 4.416544931606973, 'whiskey': 7.062074775727848, 'fire': 4.202474676498437, 'confession': 6.302969627376106, 'hungry': 5.240462343350113, 'joe': 4.875002569855647, 'waiting': 4.693531714942005, 'denial': 6.5155310693597785, 'weapon': 5.340932873713747, 'navajo': 6.751919847424009, 'coyote': 7.7552219562877935, 'lieutenant': 5.746397981821912, 'policeman': 6.201873510504737, 'fortune': 4.34497473910572, 'chee': 15.701064272184238, 'devastated': 5.771090594412283, 'tribal': 6.075579785180445, 'slaying': 6.7858213990996905, 'greed': 5.109692112166918, 'good': 2.95868037798583, 'friend': 3.130249143003523, 'strange': 3.5808346863921567, 'death': 2.5862887498778337, 'didn': 4.286649172152868, 'del': 4.2753814473065255, 'prime': 5.1833039295101635, 'refusal': 6.751919847424009, 'believes': 4.615782962067628, 'utter': 6.857280363081835, 'nez—a': 10.153117229086165, 'single': 3.9526080550434743, 'word': 4.253219875503673, 'bullet': 5.994234145726493, 'soaked': 6.934241404217964, 'outrage': 6.489555582956518, 'unravel': 5.43461835779107, 'appears': 4.5809631969083995, 'set': 2.822056923867532}, {'final': 3.9445272029895357, 'climax': 5.547947043098073, 'story': 1.911414069356346, 'instructions': 4.895621857058383, 'transmits': 9.45997004852622, 'consults': 8.207207080030852, 'violent': 4.234223374813018, 'past': 2.77410910145786, 'threads': 6.2819162181782735, 'end': 3.300874660034286, 'unravel': 5.43461835779107, 'powers': 4.124838708855466, 'psychic': 5.270315306499794, 'believer': 7.668210579298164, 'messages': 5.734276621289567, 'gert': 9.45997004852622, 'swayed': 8.361357759858109, 'bomb': 5.904621987036806, 'proceeds': 6.751919847424009, 'boat': 5.480288394624258, 'allowed': 5.60982244681616, 'encounter': 4.573387403099942, 'reaches': 5.065520893853781, 'nell': 33.75959923712004, 'thriller': 4.171703017831684, 'bestselling': 3.2294886009477373, 'guilt': 4.965731423245409, 'great': 2.718859846953029, 'skepticism': 7.208678249919724, '1': 3.885916680544802, 'macdermott': 9.45997004852622, 'clark': 5.783669376619143, 'plan': 4.077771197997481, 'live': 3.382327805177185, 'truth': 6.551642315177472, 'home': 2.558232841869645, 'young': 2.1669523687534373, 'died': 4.289486053488067, 'circumstances': 4.976967496512335, 'business': 3.6518275585457753, 'learns': 12.352907389684223, 'mary': 4.226191203115754, 'accident': 4.3540245746256385, 'devastated': 5.771090594412283, 'message': 4.825241060296583, 'architect': 6.597769167596751, 'cabin': 5.876451110070109, 'receives': 5.3995270379798, 'higgins': 6.489555582956518, 'mysterious': 3.3254879945833125, 'death': 2.5862887498778337, 'run': 3.870850482190158, 'bitter': 4.885259070022836, 'powerful': 3.02702995578704, 'adam': 27.99620168742812, 'wracked': 7.445067027983955, 'channel': 13.031062138719557, 'claiming': 12.255531076702031, 'cauliff': 9.45997004852622, 'husband': 6.400777168922593, 'explosion': 18.029947508083893, 'probing': 6.324475832597069, 'long': 2.6156871924996556, 'woman': 2.2833333265560185, 'associates': 6.626756704470003, 'cruiser': 7.668210579298164, 'time': 1.9337911351800734, 'quarrel': 7.588167871624628, 'congressional': 7.3805285068463835, 'seat': 6.042243364912853, 'medium': 25.661790443211185, 'held': 4.588596821763471, 'aunt': 4.810782977121353, 'grandfather': 5.23313630325804, 'told': 3.809236794959834, 'investigation': 4.1998738947983805}, {'hiding': 5.149170923140705, 'secrets': 3.3233234915737393, 'day': 2.7439807851660363, 'travel': 4.218223033466577, 'disappeared': 4.885259070022836, 'dead': 3.06387407405865, 'dreams': 7.039597591611575, 'foolish': 6.751919847424009, 'young': 2.1669523687534373, 'free': 3.809236794959834, 'wasn': 9.770518140045672, 'loss': 4.258714394821314, 'lovers': 4.33600606912296, 'imagined': 4.764045499269663, 'ways': 3.704227834939307, 'discover': 3.368660166448521, 'lives': 2.6140901732621695, 'terms': 4.562130248575308, 'people': 2.4501095466069285, 'exotic': 5.047171755185584, 'wanted': 12.507542845196923, 'hadn': 5.470986001961945, 'cedar': 7.445067027983955, 'india': 5.308930142627573, 'brought': 3.9226357815076827, 'instant': 5.240462343350113, 'braden': 26.30046860389882, 'south': 4.052798277066101, 'make': 2.489709564192685, 'motorcycle': 6.7858213990996905, 'michael': 12.43291213093071, 'rode': 6.8950206910646825, 'jellie': 37.83988019410488, 'pain': 4.500628048817514, 'found': 2.9017722457139508, 'sight': 4.954620197820339, 'forced': 3.918706503367793, 'fortieth': 7.7552219562877935, 'bend': 6.626756704470003, 'university': 4.787141214064313, 'bones': 5.568149750415593, 'wife': 6.124414814012362, 'world': 3.291140829443465, 'met': 4.14430404364357, 'attraction': 5.218643295955473, 'woman': 2.2833333265560185, 'led': 4.318306492023559, 'iowa': 6.626756704470003, 'whispered': 6.391917113392602, 'man': 5.9318646611147035, 'heard': 5.071712864101702, 'economics': 6.656609667619684, 'voice': 4.035020031044817, 'middle': 3.878355207844226, 'professor': 4.4426902117112945, 'magical': 4.035020031044817, 'aged': 5.6422577225693145, 'ready': 4.3662198477194565, 'year': 5.006849210749301, 'tillman': 26.30046860389882, 'beloved': 3.699492230193473, 'teenage': 4.768622166297075, 'disappear': 5.876451110070109, 'years': 2.0747391254596455, 'introspective': 7.850532136092119, 'mature': 6.302969627376106, 'choices': 5.071712864101702, 'places': 4.300914749311691, 'deep': 3.620782936863815, 'maverick': 6.626756704470003, 'dark': 3.132926520774239, 'haired': 5.365625486304118, 'colleague': 5.835629115549854, 'called': 3.3743323314009874, 'feelings': 4.702078775520464, 'strange': 3.5808346863921567, 'heading': 5.963462487059739, 'wouldn': 5.547947043098073}, {'twentieth': 4.5809631969083995, 'ii': 4.493635013326544, 'world': 1.6455704147217325, 'carnage': 6.934241404217964, 'chaos': 4.710699518564371, 'close': 3.9445272029895357, 'day': 2.7439807851660363, 'year': 2.5034246053746503, 'son': 3.0497951665600525, 'hot': 4.179307617216903, 'english': 3.555971527199513, 'brilliant': 3.443812888827866, 'love': 1.9072079643120718, 'prose': 4.436089527679943, 'briony’s': 9.45997004852622, 'master': 3.6222396013602793, 'summer': 3.9325270589864254, 'change': 3.476033767839029, 'war': 5.5037719293463, 'narrative': 4.226191203115754, 'expect': 5.0968714237378565, 'thirteen': 5.116164626672536, 'ian': 5.876451110070109, 'grasp': 6.058772666864064, 'forgiveness': 5.904621987036806, 'atonement': 8.766822867966274, 'symphonic': 9.054504940418054, 'provocation': 8.543679316652064, 'satisfaction': 6.415447610802796, 'cecilia': 7.850532136092119, 'motives': 5.994234145726493, 'class': 4.073184033990574, 'robbie': 7.7552219562877935, 'mcewan’s': 9.45997004852622, 'childhood': 3.843198950859648, 'guilt': 4.965731423245409, 'briony': 9.45997004852622, 'older': 4.588596821763471, '1935': 7.26274547119, 'tallis': 8.766822867966274, 'witnesses': 5.588769037618328, 'sister': 3.6838669122903918, 'flirtation': 7.0176230131570145, 'lives': 2.6140901732621695, 'adult': 4.965731423245409, 'turner': 5.758668074413726, 'servant': 5.664480859354025, 'incomplete': 7.514059899470906, 'century': 2.9549336519842213, 'precocious': 6.346454739315845, 'crime': 7.101058673793656, 'imagination': 4.1492301619796255, 'bring': 3.676144866196482, 'repercussions': 6.975063398738219}, {'entertaining': 4.231538809442349, 'headlines': 5.588769037618328, 'tomorrow': 5.862657787937773, 'fresh': 4.286649172152868, 'book': 1.8076618009242367, 'match': 4.938181471477179, 'humor': 3.7578556309707154, 'matter': 4.110484395403783, 'subversive': 6.7858213990996905, 'brave': 4.916675266256215, 'lead': 4.052798277066101, 'democracy': 6.324475832597069, 'practice': 4.79182506337674, 'significant': 5.480288394624258, 'set—may': 10.153117229086165, 'attached': 6.751919847424009, 'one—also': 10.153117229086165, 'end': 6.601749320068572, 'power': 2.8573821563368824, 'box': 5.142481934989909, 'mass': 5.17638348666559, 'family': 2.226153684223186, 'forms': 5.13583739227124, 'undermining': 7.955892651749945, 'forces': 3.9050743545777356, 'unseen': 6.110065961251614, 'deep': 3.620782936863815, 'industry': 5.285582778630582, 'market': 9.760235341044835, 'perfect': 3.493823309402527, 'television': 8.93228374549269, 'fourteen': 5.218643295955473, 'king': 3.7412989613762675, 'boom': 6.719130024601018, 'reveals': 3.979331125184228, 'guide': 3.170254477617222, 'collectivism': 10.153117229086165, 'music': 4.272584242685464, 'work': 2.5096343220089636, 'pen': 5.480288394624258, 'wicked': 5.518388240856528, 'encouraged': 7.0176230131570145, 'eye': 4.048323996671179, 'internet': 10.394580342969807, 'finds': 2.8306067950887703, 'investment': 6.042243364912853, 'great': 2.718859846953029, 'trenchant': 7.850532136092119, 'control': 3.9689683381486813, 'dictate': 8.361357759858109, 'stock': 5.7964084023965725, 'professionals': 5.890437352044849, 'weapon': 5.340932873713747, 'economy': 6.075579785180445, 'year': 5.006849210749301, 'silicon': 7.062074775727848, 'valley': 5.0968714237378565, 'predecessors': 7.445067027983955, 'michael': 8.28860808728714, 'midst': 5.2627681008644105, 'olds': 7.208678249919724, 'manipulate': 6.934241404217964, 'priesthoods—lawyers': 10.153117229086165, 'subject': 4.446006964337289, 'children': 2.953438883394992, 'markets': 6.324475832597069, 'status': 5.340932873713747, 'left': 3.2799533948736466, 'knowing': 5.0056227522727115, 'amateur': 5.578406250582781, 'seized': 6.656609667619684, 'history': 2.6932024628450595, 'redefined': 7.445067027983955, 'live': 3.382327805177185, 'guys': 5.9484246096951985, 'american': 2.663146330251364, 'barbarians': 7.7552219562877935, 'greatest': 3.5724780918012153, 'revolutions': 7.3805285068463835, 'world': 3.291140829443465, 'black': 3.431691528295521, 'nineteen': 5.862657787937773, 'bond': 5.077943413852338, 'lewis': 10.586609649448985, 'revolutionaries': 7.0176230131570145, 'turns': 3.4597935608162156, 'hands': 3.985600738197823, 'gurus': 8.207207080030852, 'individual': 4.839911250044377, 'general—are': 10.153117229086165, 'toppling': 9.45997004852622, 'order': 3.9445272029895357, 'things': 3.284102778420458}, {'create': 3.9587118379814923, 'rules': 4.607939784606602, 'gangster': 7.108594791362742, 'savage': 4.885259070022836, 'cherishes': 7.062074775727848, 'greater': 4.885259070022836, 'life': 1.4248530675899866, 'teaching': 4.895621857058383, 'wing': 6.1277655383510155, 'gabe': 7.445067027983955, 'protection': 5.653307558755899, 'century': 2.9549336519842213, 'shadow': 4.689285424060555, 'early': 3.718570710298711, 'family': 2.226153684223186, 'seek': 4.875002569855647, 'york': 3.0063450496335276, 'criminals': 5.919010724488905, 'father': 2.7930132560970127, 'chooses': 6.324475832597069, 'won': 3.8727213901259696, 'flee': 5.746397981821912, 'boss': 5.240462343350113, 'born': 3.8878160163484545, 'midst': 5.2627681008644105, 'raised': 4.588596821763471, 'past': 2.77410910145786, 'shocking': 4.073184033990574, 'angelo': 15.91178530349989, 'vestieri': 20.30623445817233, 'bloody': 5.142481934989909, 'secret': 2.9167778863318206, 'helped': 4.859812404361672, 'tragedy': 4.070898318709719, 'love': 1.9072079643120718, 'mob': 6.075579785180445, 'barbaric': 7.588167871624628, 'betrayals': 6.164133182521891, 'learn': 3.3331008644120343, 'meaning': 4.318306492023559, 'wars': 5.240462343350113, 'twentieth': 4.5809631969083995, 'understand': 3.918706503367793, 'young': 2.1669523687534373, 'encounters': 4.839911250044377, 'loyalty': 5.059367028279402, 'pass': 5.169510607377828, 'abandoned': 4.685057087951034, 'years': 2.0747391254596455, 'don': 3.7545222945509567, 'enemies': 4.483236306105645, 'live': 3.382327805177185, 'rise': 4.664179502929478, 'made': 3.027834137575453, 'winter': 4.697796113728463, 'taking': 4.08007269498576, 'defeated': 6.439545162381857, 'fought': 5.21147480647686, 'meets': 3.87647373974452, 'boy': 6.7946966142038185, 'preside': 8.543679316652064, 'soldier': 5.071712864101702, 'parent': 5.489678134974097}, {'murderer': 4.604041144190945, 'limits': 5.60982244681616, '16': 5.357326683489424, 'killed': 4.1492301619796255, 'test': 4.615782962067628, 'son': 3.0497951665600525, 'man': 1.9772882203715678, 'dunlap': 8.543679316652064, 'ivy': 12.879090324763714, 'criminal': 4.764045499269663, 'years': 2.0747391254596455, 'ago': 3.5836358086718687, 'disappeared': 4.885259070022836, 'dreams': 3.5197987958057877, 'request': 5.994234145726493, 'reawakens': 9.054504940418054, 'chicago': 4.954620197820339, 'police': 3.721786147152686, 'urgent': 5.822383888799833, 'nightmare': 4.446006964337289, 'profiler': 7.588167871624628, 'killer': 3.36301999357226, 'haunted': 4.312475571712766, 'understands': 6.092674218539745, 'instinct': 6.025982844041073}, {'close': 3.9445272029895357, 'vulnerability': 6.7858213990996905, 'preying': 7.850532136092119, 'watching': 5.103261221836627, 'seeking': 4.79182506337674, 'man': 1.9772882203715678, 'regain': 6.346454739315845, 'sanity': 5.771090594412283, 'death': 2.5862887498778337, 'skills': 4.5658685706859155, 'psychic': 5.270315306499794, 'murder': 2.8385643967620844, 'left': 3.2799533948736466, 'present': 3.8504982533412595, 'ago': 3.5836358086718687, 'discovered': 4.0416498895834865, 'harbored': 7.319903885029948, 'member': 4.815579149384846, 'savage': 4.885259070022836, 'family': 2.226153684223186, '—': 8.813828077092023, 'risk': 4.521905447264799, 'town': 3.0875038654884475, 'respected': 5.3824326046205, 'successful': 3.9689683381486813, 'stalking': 5.9484246096951985, 'killer': 3.36301999357226, 'fallen': 5.190272598826257, 'murderer’s': 9.054504940418054, 'years': 2.0747391254596455, 'vengeance': 4.988331255162651, 'coming': 3.9940218405942316, 'ultimate': 4.117635796561408, 'attacks': 5.588769037618328, 'community': 4.061807347008466, 'trust': 4.363157058188911, 'call': 3.9485594665174744, 'move': 4.363157058188911, 'men': 2.960183007870365, 'secret': 2.9167778863318206, 'dead': 3.06387407405865, 'silence': 10.747987471949271, 'victims': 4.728167211604762, 'dark': 6.265853041548478, 'deaths': 5.340932873713747, 'find': 2.3034034714812948, 'punishment': 5.963462487059739, 'she’ll': 7.208678249919724, 'long': 2.6156871924996556, 'secrets': 6.646646983147479, 'sinister': 4.635664332621457, 'night': 3.157351072781314, 'nell': 13.503839694848018, 'gallagher': 7.157384955532174, 'home': 5.11646568373929, 'life': 1.4248530675899866, 'killer’s': 8.543679316652064, 'settle': 5.461769346857021, 'vicious': 5.270315306499794, 'leaving': 4.41332431690693, 'decade': 4.773219875545705, 'answers': 3.991909907391088, 'forced': 3.918706503367793, 'painful': 4.922008612231578, 'duty': 5.255277429135253, 'return': 3.8916255447651222, 'past': 5.54821820291572, 'seeks': 4.875002569855647, 'drove': 6.201873510504737, 'tangle': 6.7858213990996905}, {'secrets': 3.3233234915737393, 'search': 3.506726714238435, 'began': 4.066342502173858, 'heart': 2.630176311013794, 'tightened': 8.766822867966274, 'presentiment': 9.054504940418054, 'loyal': 5.324803491783864, 'danvers': 8.766822867966274, 'sinister': 4.635664332621457, 'past': 2.77410910145786, 'gray': 5.3739937359746355, 'isolated': 5.149170923140705, 'manderley': 18.10900988083611, 'white': 3.5518871103572884, 'arrived': 5.169510607377828, 'fate': 3.926580559798699, 'manse': 8.766822867966274, 'forgotten': 4.79182506337674, 'beeches': 9.45997004852622, 'led': 4.318306492023559, 'eerie': 5.60982244681616, 'husband': 3.2003885844612965, 'rooms': 5.599240337485623, 'naked': 5.653307558755899, 'mrs': 18.72338622165876, 'drive': 4.84484953168496, 'de': 9.035616320207021, 'real': 3.0875038654884475, 'events': 3.6473331689579362, 'dreamt': 8.361357759858109, 'maxim': 7.955892651749945, 'drawn': 3.930540961014796, 'windswept': 7.0176230131570145, 'chilling': 4.419775952188419, 'stone': 4.777838821402, 'touched': 5.44358702777383, 'turning': 4.577168125939848, 'winter': 14.09338834118539, 'dead': 3.06387407405865, 'remembered': 5.994234145726493, 'knew': 3.7010682746489385, 'cornish': 7.208678249919724, 'estate': 4.562130248575308, 'evil': 3.596338872928122, 'coast': 4.639688482921183, 'barely': 5.1559049553220495, 'life': 1.4248530675899866, 'young': 2.1669523687534373, 'bride': 4.79182506337674, 'beautiful': 2.8292866628838476, 'immense': 5.822383888799833, 'worn': 6.2819162181782735, 'inexorably': 6.391917113392602, 'servant': 5.664480859354025, 'rebecca': 12.084486729825706, 'suite': 6.934241404217964, 'ready': 4.3662198477194565, 'night': 3.157351072781314, 'clothes': 5.518388240856528}, {'pride': 5.270315306499794, 'sin': 4.869913500348176, 'struggle': 3.9445272029895357, 'humanity': 4.514762559752419, 'guilt': 4.965731423245409, 'unending': 7.108594791362742, 'classic': 3.0118721067356735, 'universal': 5.065520893853781, 'puritan': 7.514059899470906, 'forge': 5.876451110070109, 'great': 2.718859846953029, 'moral': 4.647785693153802, 'piece': 4.754954527568412, 'set': 2.822056923867532, 'prynne': 8.073675687406329, 'nation': 4.234223374813018, 'reaches': 5.065520893853781, 'letter': 9.876362942954358, 'scarlet': 13.790041382129365, 'heritage': 5.065520893853781, 'hawthorne': 13.195538335193502, 'james': 3.8162914979397238, 'masterful': 5.103261221836627, 'tragedy': 4.070898318709719, 'historical': 3.938509130663973, 'england': 3.786646781354727, 'hester': 7.319903885029948, 'shows': 3.585039317674189, 'members': 4.562130248575308, 'finest': 4.768622166297075, 'put': 3.633969941145769, 'chillingworth': 8.543679316652064, 'hailed': 5.22586354392896, 'community': 4.061807347008466, 'writing': 3.5935019915929223, 'material': 4.693531714942005, 'country': 3.3574114539126505, 'colony': 5.653307558755899, 'terrible': 4.07547498573713, 'henry': 4.419775952188419, 'defiant': 6.221291596361839, 'american': 2.663146330251364, 'early': 3.718570710298711, 'roots': 5.2627681008644105, 'impact': 5.090522196059197, 'single': 3.9526080550434743, 'passionate': 4.098677882816794, 'act': 4.327117121705714, 'vengeful': 6.058772666864064, 'lives': 2.6140901732621695, 'fiery': 5.390943294288409, 'imaginative': 4.960160378195954, 'tortured': 5.876451110070109, 'nathaniel': 6.656609667619684, 'reverend': 6.5155310693597785, 'exploration': 4.702078775520464, 'dimmesdale': 8.543679316652064, 'obsessed': 5.1559049553220495, 'novelist': 4.596289167386627}, {'parenthood': 6.857280363081835, 'stop': 3.786646781354727, 'feet': 5.084213026865933, 'patter': 10.153117229086165, 'amy': 5.758668074413726, 'mad': 5.0968714237378565, 'wedding': 4.611853683927738, 'diary': 5.255277429135253, 'heroine': 4.84484953168496, 'bride': 4.79182506337674, 'yearning': 5.933609523910058, 'survived': 5.084213026865933, 'aplomb': 7.850532136092119, 'quirky': 5.862657787937773, 'find': 2.3034034714812948}, {'swallows': 8.543679316652064, 'magic': 3.5518871103572884, 'evil': 3.596338872928122, 'secret': 2.9167778863318206, 'stepfamily': 18.91994009705244, 'calls': 4.341976236109464, 'youth': 4.773219875545705, 'war': 2.75188596467315, 'real': 3.0875038654884475, 'beauty': 3.543767985918784, 'closet': 6.302969627376106, 'civil': 4.5809631969083995, 'grove': 7.0176230131570145, 'nore': 45.27252470209027, 'sinister': 4.635664332621457, 'sister': 3.6838669122903918, 'meets': 3.87647373974452, 'dad': 5.876451110070109, 'didn': 4.286649172152868, 'roberts': 6.221291596361839, 'lisette': 10.153117229086165, 'shadow': 4.689285424060555, 'past': 2.77410910145786, 'mansion': 5.218643295955473, 'newly': 4.573387403099942, 'stepmother': 13.950126797476438, 'starts': 4.7150379201629695, 'home': 2.558232841869645, 'shocked': 5.316835322134686, 'chills': 7.062074775727848, 'hint': 7.108594791362742, 'feel': 4.189537885467718, 'life': 1.4248530675899866, 'settle': 5.461769346857021, 'hope': 3.6222396013602793, 'friends': 3.0367230849926994, 'realizes': 4.5658685706859155, 'hiding': 5.149170923140705, 'married': 4.08007269498576, 'stepbrother': 7.668210579298164, 'mom': 5.653307558755899, 'dark': 3.132926520774239, 'target': 5.142481934989909, 'plan': 4.077771197997481, 'begins': 3.224579410921499, 'digging': 6.324475832597069, 'deadly': 3.713766857986066, 'skeletons': 6.569598290630054, 'imagined': 4.764045499269663, 'expose': 5.4526368632937485}, {'poison': 6.145784043853694, 'story': 1.911414069356346, 'unsettling': 5.933609523910058, 'tells': 3.3574114539126505, 'kinship': 7.157384955532174, 'mystery': 3.189927243215927, 'crafted': 5.22586354392896, 'stella': 6.857280363081835, 'love': 3.8144159286241437, 'fond': 6.346454739315845, 'honest': 4.906093156925678, 'murdering': 6.058772666864064, 'depiction': 6.241094223658019, 'home': 2.558232841869645, 'people': 2.4501095466069285, 'power': 2.8573821563368824, 'loveless': 6.489555582956518, 'gracious': 7.208678249919724, 'affair': 4.452673655695478, 'marriage': 3.3440779230431854, 'cancer': 5.43461835779107, 'lover': 4.050558634472596, 'works': 3.6458395167011526, 'jenny': 12.18534843707949, 'dignified': 7.514059899470906, 'disturbingly': 7.208678249919724, 'finely': 6.626756704470003, 'woman': 2.2833333265560185, 'dying': 4.511210158148051, 'difference': 5.332835663481128, 'involved': 4.592435598070637, 'secrets': 3.3233234915737393, 'parallel': 6.058772666864064, 'madness': 4.938181471477179, 'husband': 3.2003885844612965}, {'heart': 2.630176311013794, 'court': 4.676653677154654, 'evil': 3.596338872928122, 'perils': 6.221291596361839, 'pit': 6.626756704470003, 'altered': 5.734276621289567, 'radically': 6.820912718910961, 'existence': 4.446006964337289, 'thrust': 5.664480859354025, 'studio': 6.221291596361839, 'cat': 4.333034298733803, 'west': 3.9835064965947087, 'mag': 8.207207080030852, 'raised': 4.588596821763471, 'dread': 6.092674218539745, 'astonishing': 4.5658685706859155, 'calico': 8.766822867966274, 'battle': 3.7528597837773434, 'terror': 4.269794840597886, 'stake': 5.698769932832657, 'strange': 3.5808346863921567, 'sorceress': 6.975063398738219, 'entities': 7.7552219562877935, 'possibly': 5.23313630325804, 'queen': 4.3540245746256385, 'form––human': 10.153117229086165, 'door': 4.394215455208884, 'cat––and': 10.153117229086165, 'charmed': 6.346454739315845, 'roam': 6.489555582956518, 'inhabited': 6.182825315534043, 'people': 2.4501095466069285, 'ruling': 6.346454739315845, 'netherworld––yet': 10.153117229086165, 'elaborate': 6.346454739315845, 'dark': 3.132926520774239, 'artist': 4.220872041638154, 'worlds': 4.347982260169676, 'tragedy': 4.070898318709719, 'imagined': 4.764045499269663, 'discovers': 3.5628161808894783, 'garden': 4.885259070022836, 'hell': 4.518327625916915, 'oldwitch': 10.153117229086165, 'carved': 6.391917113392602, 'braden': 17.53364573593255, 'passageway': 9.054504940418054, 'conflict': 4.732582229813879, 'ruled': 5.518388240856528, 'mystic': 6.489555582956518, 'realm': 10.181044392118395, 'melissa': 13.031062138719557, 'secret': 2.9167778863318206, 'shape–shifting': 10.153117229086165, 'magical': 8.070040062089634, 'destiny': 4.2753814473065255, 'return': 3.8916255447651222, 'guest': 5.758668074413726, 'liberation': 6.302969627376106, 'man': 1.9772882203715678, 'crown': 5.758668074413726, 'wondrous': 5.862657787937773, 'perilous': 5.190272598826257, 'rightfully': 7.157384955532174, 'intrigued': 5.994234145726493, 'girl': 3.1160896143998884, 'beset': 6.5155310693597785, 'catswold': 10.153117229086165, 'painter': 5.783669376619143}, {'tale': 2.9283638233181937, 'ago': 3.5836358086718687, 'smarter': 7.208678249919724, 'back': 2.5378188892603495, 'sending': 6.058772666864064, 'good': 2.95868037798583, 'leaders': 5.255277429135253, 'firekeeper': 18.91994009705244, 'dangerous': 3.4487028741220573, 'vaguely': 7.955892651749945, 'stranger': 4.181855389295702, 'fairy': 4.954620197820339, 'forest': 5.065520893853781, 'years': 2.0747391254596455, 'promised': 5.461769346857021, 'bigger': 5.933609523910058, 'live': 6.76465561035437, 'mother': 2.874488286765482, 'human': 8.507714462178976, 'imagined': 4.764045499269663, 'pack': 17.276004223241177, 'normal': 5.357326683489424, 'royal': 4.869913500348176, 'time': 1.9337911351800734, 'wolves': 12.563832436356547, 'stronger': 5.9484246096951985, 'infighting': 7.955892651749945, 'humans': 9.311898007585926, 'family': 2.226153684223186, 'standard': 10.731250972608237, 'princess': 4.806009698368696, 'ways': 3.704227834939307, 'remembers': 6.025982844041073, 'learning': 4.400544590260531, 'didn': 4.286649172152868, 'heir': 5.270315306499794, 'understands': 6.092674218539745, 'months': 4.315386781920225, 'behave': 6.975063398738219, 'turn': 3.5080262595805207, 'complicated': 5.197290171484903, 'lost': 3.3451822853862385, 'throne': 5.365625486304118, 'found': 2.9017722457139508, 'hasn': 5.60982244681616, 'fine': 4.697796113728463, 'issue': 11.567338753238285}, ... ]>"
            ]
          },
          "metadata": {
            "tags": []
          },
          "execution_count": 155
        }
      ]
    },
    {
      "cell_type": "code",
      "metadata": {
        "id": "-Zo5qLPBQNgf",
        "outputId": "ecfa5f7d-1d9e-4b0e-df78-c87f99cb2b73",
        "colab": {
          "base_uri": "https://localhost:8080/",
          "height": 777
        }
      },
      "source": [
        "books"
      ],
      "execution_count": 151,
      "outputs": [
        {
          "output_type": "execute_result",
          "data": {
            "text/html": [
              "<div style=\"max-height:1000px;max-width:1500px;overflow:auto;\"><table frame=\"box\" rules=\"cols\">\n",
              "    <tr>\n",
              "        <th style=\"padding-left: 1em; padding-right: 1em; text-align: center\">ISBN</th>\n",
              "        <th style=\"padding-left: 1em; padding-right: 1em; text-align: center\">Title</th>\n",
              "        <th style=\"padding-left: 1em; padding-right: 1em; text-align: center\">Author</th>\n",
              "        <th style=\"padding-left: 1em; padding-right: 1em; text-align: center\">Year</th>\n",
              "        <th style=\"padding-left: 1em; padding-right: 1em; text-align: center\">Publisher</th>\n",
              "    </tr>\n",
              "    <tr>\n",
              "        <td style=\"padding-left: 1em; padding-right: 1em; text-align: center; vertical-align: top\">0060973129</td>\n",
              "        <td style=\"padding-left: 1em; padding-right: 1em; text-align: center; vertical-align: top\">Decision in Normandy</td>\n",
              "        <td style=\"padding-left: 1em; padding-right: 1em; text-align: center; vertical-align: top\">Carlo D&#x27;Este</td>\n",
              "        <td style=\"padding-left: 1em; padding-right: 1em; text-align: center; vertical-align: top\">1991</td>\n",
              "        <td style=\"padding-left: 1em; padding-right: 1em; text-align: center; vertical-align: top\">HarperPerennial</td>\n",
              "    </tr>\n",
              "    <tr>\n",
              "        <td style=\"padding-left: 1em; padding-right: 1em; text-align: center; vertical-align: top\">0374157065</td>\n",
              "        <td style=\"padding-left: 1em; padding-right: 1em; text-align: center; vertical-align: top\">Flu: The Story of the<br>Great Influenza Pandemic ...</td>\n",
              "        <td style=\"padding-left: 1em; padding-right: 1em; text-align: center; vertical-align: top\">Gina Bari Kolata</td>\n",
              "        <td style=\"padding-left: 1em; padding-right: 1em; text-align: center; vertical-align: top\">1999</td>\n",
              "        <td style=\"padding-left: 1em; padding-right: 1em; text-align: center; vertical-align: top\">Farrar Straus Giroux</td>\n",
              "    </tr>\n",
              "    <tr>\n",
              "        <td style=\"padding-left: 1em; padding-right: 1em; text-align: center; vertical-align: top\">0399135782</td>\n",
              "        <td style=\"padding-left: 1em; padding-right: 1em; text-align: center; vertical-align: top\">The Kitchen God&#x27;s Wife</td>\n",
              "        <td style=\"padding-left: 1em; padding-right: 1em; text-align: center; vertical-align: top\">Amy Tan</td>\n",
              "        <td style=\"padding-left: 1em; padding-right: 1em; text-align: center; vertical-align: top\">1991</td>\n",
              "        <td style=\"padding-left: 1em; padding-right: 1em; text-align: center; vertical-align: top\">Putnam Pub Group</td>\n",
              "    </tr>\n",
              "    <tr>\n",
              "        <td style=\"padding-left: 1em; padding-right: 1em; text-align: center; vertical-align: top\">0425176428</td>\n",
              "        <td style=\"padding-left: 1em; padding-right: 1em; text-align: center; vertical-align: top\">What If?: The World&#x27;s<br>Foremost Military ...</td>\n",
              "        <td style=\"padding-left: 1em; padding-right: 1em; text-align: center; vertical-align: top\">Robert Cowley</td>\n",
              "        <td style=\"padding-left: 1em; padding-right: 1em; text-align: center; vertical-align: top\">2000</td>\n",
              "        <td style=\"padding-left: 1em; padding-right: 1em; text-align: center; vertical-align: top\">Berkley Publishing Group</td>\n",
              "    </tr>\n",
              "    <tr>\n",
              "        <td style=\"padding-left: 1em; padding-right: 1em; text-align: center; vertical-align: top\">1881320189</td>\n",
              "        <td style=\"padding-left: 1em; padding-right: 1em; text-align: center; vertical-align: top\">Goodbye to the Buttermilk<br>Sky ...</td>\n",
              "        <td style=\"padding-left: 1em; padding-right: 1em; text-align: center; vertical-align: top\">Julia Oliver</td>\n",
              "        <td style=\"padding-left: 1em; padding-right: 1em; text-align: center; vertical-align: top\">1994</td>\n",
              "        <td style=\"padding-left: 1em; padding-right: 1em; text-align: center; vertical-align: top\">River City Pub</td>\n",
              "    </tr>\n",
              "    <tr>\n",
              "        <td style=\"padding-left: 1em; padding-right: 1em; text-align: center; vertical-align: top\">0440234743</td>\n",
              "        <td style=\"padding-left: 1em; padding-right: 1em; text-align: center; vertical-align: top\">The Testament</td>\n",
              "        <td style=\"padding-left: 1em; padding-right: 1em; text-align: center; vertical-align: top\">John Grisham</td>\n",
              "        <td style=\"padding-left: 1em; padding-right: 1em; text-align: center; vertical-align: top\">1999</td>\n",
              "        <td style=\"padding-left: 1em; padding-right: 1em; text-align: center; vertical-align: top\">Dell</td>\n",
              "    </tr>\n",
              "    <tr>\n",
              "        <td style=\"padding-left: 1em; padding-right: 1em; text-align: center; vertical-align: top\">0452264464</td>\n",
              "        <td style=\"padding-left: 1em; padding-right: 1em; text-align: center; vertical-align: top\">Beloved (Plume<br>Contemporary Fiction) ...</td>\n",
              "        <td style=\"padding-left: 1em; padding-right: 1em; text-align: center; vertical-align: top\">Toni Morrison</td>\n",
              "        <td style=\"padding-left: 1em; padding-right: 1em; text-align: center; vertical-align: top\">1994</td>\n",
              "        <td style=\"padding-left: 1em; padding-right: 1em; text-align: center; vertical-align: top\">Plume</td>\n",
              "    </tr>\n",
              "    <tr>\n",
              "        <td style=\"padding-left: 1em; padding-right: 1em; text-align: center; vertical-align: top\">0609804618</td>\n",
              "        <td style=\"padding-left: 1em; padding-right: 1em; text-align: center; vertical-align: top\">Our Dumb Century: The<br>Onion Presents 100 Years ...</td>\n",
              "        <td style=\"padding-left: 1em; padding-right: 1em; text-align: center; vertical-align: top\">The Onion</td>\n",
              "        <td style=\"padding-left: 1em; padding-right: 1em; text-align: center; vertical-align: top\">1999</td>\n",
              "        <td style=\"padding-left: 1em; padding-right: 1em; text-align: center; vertical-align: top\">Three Rivers Press</td>\n",
              "    </tr>\n",
              "    <tr>\n",
              "        <td style=\"padding-left: 1em; padding-right: 1em; text-align: center; vertical-align: top\">1841721522</td>\n",
              "        <td style=\"padding-left: 1em; padding-right: 1em; text-align: center; vertical-align: top\">New Vegetarian: Bold and<br>Beautiful Recipes for ...</td>\n",
              "        <td style=\"padding-left: 1em; padding-right: 1em; text-align: center; vertical-align: top\">Celia Brooks Brown</td>\n",
              "        <td style=\"padding-left: 1em; padding-right: 1em; text-align: center; vertical-align: top\">2001</td>\n",
              "        <td style=\"padding-left: 1em; padding-right: 1em; text-align: center; vertical-align: top\">Ryland Peters &amp;amp; Small<br>Ltd ...</td>\n",
              "    </tr>\n",
              "    <tr>\n",
              "        <td style=\"padding-left: 1em; padding-right: 1em; text-align: center; vertical-align: top\">0439095026</td>\n",
              "        <td style=\"padding-left: 1em; padding-right: 1em; text-align: center; vertical-align: top\">Tell Me This Isn&#x27;t<br>Happening ...</td>\n",
              "        <td style=\"padding-left: 1em; padding-right: 1em; text-align: center; vertical-align: top\">Robynn Clairday</td>\n",
              "        <td style=\"padding-left: 1em; padding-right: 1em; text-align: center; vertical-align: top\">1999</td>\n",
              "        <td style=\"padding-left: 1em; padding-right: 1em; text-align: center; vertical-align: top\">Scholastic</td>\n",
              "    </tr>\n",
              "</table>\n",
              "<table frame=\"box\" rules=\"cols\">\n",
              "    <tr>\n",
              "        <th style=\"padding-left: 1em; padding-right: 1em; text-align: center\">Blurb</th>\n",
              "        <th style=\"padding-left: 1em; padding-right: 1em; text-align: center\">word_count</th>\n",
              "        <th style=\"padding-left: 1em; padding-right: 1em; text-align: center\">tf_idf</th>\n",
              "    </tr>\n",
              "    <tr>\n",
              "        <td style=\"padding-left: 1em; padding-right: 1em; text-align: center; vertical-align: top\">time paperback<br>outstanding military ...</td>\n",
              "        <td style=\"padding-left: 1em; padding-right: 1em; text-align: center; vertical-align: top\">{&#x27;normandy&#x27;: 1.0, &#x27;day&#x27;:<br>1.0, &#x27;began&#x27;: 1.0, ...</td>\n",
              "        <td style=\"padding-left: 1em; padding-right: 1em; text-align: center; vertical-align: top\">{&#x27;normandy&#x27;:<br>7.668210579298164, &#x27;d ...</td>\n",
              "    </tr>\n",
              "    <tr>\n",
              "        <td style=\"padding-left: 1em; padding-right: 1em; text-align: center; vertical-align: top\">fascinating true story<br>world deadliest disease ...</td>\n",
              "        <td style=\"padding-left: 1em; padding-right: 1em; text-align: center; vertical-align: top\">{&#x27;recurring&#x27;: 1.0,<br>&#x27;addresses&#x27;: 1.0, ...</td>\n",
              "        <td style=\"padding-left: 1em; padding-right: 1em; text-align: center; vertical-align: top\">{&#x27;recurring&#x27;:<br>6.975063398738219, ...</td>\n",
              "    </tr>\n",
              "    <tr>\n",
              "        <td style=\"padding-left: 1em; padding-right: 1em; text-align: center; vertical-align: top\">winnie helen worst<br>secrets fifty years ...</td>\n",
              "        <td style=\"padding-left: 1em; padding-right: 1em; text-align: center; vertical-align: top\">{&#x27;led&#x27;: 1.0, &#x27;america&#x27;:<br>1.0, &#x27;desperate&#x27;: 1.0, ...</td>\n",
              "        <td style=\"padding-left: 1em; padding-right: 1em; text-align: center; vertical-align: top\">{&#x27;led&#x27;:<br>4.318306492023559, ...</td>\n",
              "    </tr>\n",
              "    <tr>\n",
              "        <td style=\"padding-left: 1em; padding-right: 1em; text-align: center; vertical-align: top\">historians inquisitive<br>laymen alike love ponder ...</td>\n",
              "        <td style=\"padding-left: 1em; padding-right: 1em; text-align: center; vertical-align: top\">{&#x27;frightening&#x27;: 1.0,<br>&#x27;surprising&#x27;: 1.0, ...</td>\n",
              "        <td style=\"padding-left: 1em; padding-right: 1em; text-align: center; vertical-align: top\">{&#x27;frightening&#x27;:<br>5.129236708239888, ...</td>\n",
              "    </tr>\n",
              "    <tr>\n",
              "        <td style=\"padding-left: 1em; padding-right: 1em; text-align: center; vertical-align: top\">highly praised fiction<br>writer julia oliver s ...</td>\n",
              "        <td style=\"padding-left: 1em; padding-right: 1em; text-align: center; vertical-align: top\">{&#x27;word&#x27;: 1.0,<br>&#x27;captivates&#x27;: 1.0, ...</td>\n",
              "        <td style=\"padding-left: 1em; padding-right: 1em; text-align: center; vertical-align: top\">{&#x27;word&#x27;:<br>4.253219875503673, ...</td>\n",
              "    </tr>\n",
              "    <tr>\n",
              "        <td style=\"padding-left: 1em; padding-right: 1em; text-align: center; vertical-align: top\">plush virginia office<br>rich angry man furiously ...</td>\n",
              "        <td style=\"padding-left: 1em; padding-right: 1em; text-align: center; vertical-align: top\">{&#x27;holds&#x27;: 1.0, &#x27;friends&#x27;:<br>1.0, &#x27;enemies&#x27;: 1.0, ...</td>\n",
              "        <td style=\"padding-left: 1em; padding-right: 1em; text-align: center; vertical-align: top\">{&#x27;holds&#x27;:<br>4.5658685706859155, ...</td>\n",
              "    </tr>\n",
              "    <tr>\n",
              "        <td style=\"padding-left: 1em; padding-right: 1em; text-align: center; vertical-align: top\">troubled years civil war<br>spirit murdered child ...</td>\n",
              "        <td style=\"padding-left: 1em; padding-right: 1em; text-align: center; vertical-align: top\">{&#x27;wilber&#x27;: 1.0,<br>&#x27;measured&#x27;: 1.0, ...</td>\n",
              "        <td style=\"padding-left: 1em; padding-right: 1em; text-align: center; vertical-align: top\">{&#x27;wilber&#x27;:<br>8.543679316652064, ...</td>\n",
              "    </tr>\n",
              "    <tr>\n",
              "        <td style=\"padding-left: 1em; padding-right: 1em; text-align: center; vertical-align: top\">quickly world popular<br>humor publication ...</td>\n",
              "        <td style=\"padding-left: 1em; padding-right: 1em; text-align: center; vertical-align: top\">{&#x27;ve&#x27;: 1.0, &#x27;century&#x27;:<br>1.0, &#x27;twentieth&#x27;: 1.0, ...</td>\n",
              "        <td style=\"padding-left: 1em; padding-right: 1em; text-align: center; vertical-align: top\">{&#x27;ve&#x27;: 4.09633321585754,<br>&#x27;century&#x27;: ...</td>\n",
              "    </tr>\n",
              "    <tr>\n",
              "        <td style=\"padding-left: 1em; padding-right: 1em; text-align: center; vertical-align: top\">filled fresh eclectic<br>recipes celia brooks ...</td>\n",
              "        <td style=\"padding-left: 1em; padding-right: 1em; text-align: center; vertical-align: top\">{&#x27;tempt&#x27;: 1.0,<br>&#x27;enthusiasm&#x27;: 1.0, ...</td>\n",
              "        <td style=\"padding-left: 1em; padding-right: 1em; text-align: center; vertical-align: top\">{&#x27;tempt&#x27;:<br>7.319903885029948, ...</td>\n",
              "    </tr>\n",
              "    <tr>\n",
              "        <td style=\"padding-left: 1em; padding-right: 1em; text-align: center; vertical-align: top\">robynn clairday<br>interviewed kids america ...</td>\n",
              "        <td style=\"padding-left: 1em; padding-right: 1em; text-align: center; vertical-align: top\">{&#x27;embarrassment&#x27;: 1.0,<br>&#x27;dealing&#x27;: 1.0, ...</td>\n",
              "        <td style=\"padding-left: 1em; padding-right: 1em; text-align: center; vertical-align: top\">{&#x27;embarrassment&#x27;:<br>7.26274547119, &#x27;deali ...</td>\n",
              "    </tr>\n",
              "</table>\n",
              "[25671 rows x 8 columns]<br/>Note: Only the head of the SFrame is printed.<br/>You can use print_rows(num_rows=m, num_columns=n) to print more rows and columns.\n",
              "</div>"
            ],
            "text/plain": [
              "Columns:\n",
              "\tISBN\tstr\n",
              "\tTitle\tstr\n",
              "\tAuthor\tstr\n",
              "\tYear\tint\n",
              "\tPublisher\tstr\n",
              "\tBlurb\tstr\n",
              "\tword_count\tdict\n",
              "\ttf_idf\tdict\n",
              "\n",
              "Rows: 25671\n",
              "\n",
              "Data:\n",
              "+------------+-------------------------------+--------------------+------+\n",
              "|    ISBN    |             Title             |       Author       | Year |\n",
              "+------------+-------------------------------+--------------------+------+\n",
              "| 0060973129 |      Decision in Normandy     |    Carlo D'Este    | 1991 |\n",
              "| 0374157065 | Flu: The Story of the Grea... |  Gina Bari Kolata  | 1999 |\n",
              "| 0399135782 |     The Kitchen God's Wife    |      Amy Tan       | 1991 |\n",
              "| 0425176428 | What If?: The World's Fore... |   Robert Cowley    | 2000 |\n",
              "| 1881320189 | Goodbye to the Buttermilk Sky |    Julia Oliver    | 1994 |\n",
              "| 0440234743 |         The Testament         |    John Grisham    | 1999 |\n",
              "| 0452264464 | Beloved (Plume Contemporar... |   Toni Morrison    | 1994 |\n",
              "| 0609804618 | Our Dumb Century: The Onio... |     The Onion      | 1999 |\n",
              "| 1841721522 | New Vegetarian: Bold and B... | Celia Brooks Brown | 2001 |\n",
              "| 0439095026 |  Tell Me This Isn't Happening |  Robynn Clairday   | 1999 |\n",
              "+------------+-------------------------------+--------------------+------+\n",
              "+-------------------------------+-------------------------------+\n",
              "|           Publisher           |             Blurb             |\n",
              "+-------------------------------+-------------------------------+\n",
              "|        HarperPerennial        | time paperback outstanding... |\n",
              "|      Farrar Straus Giroux     | fascinating true story wor... |\n",
              "|        Putnam Pub Group       | winnie helen worst secrets... |\n",
              "|    Berkley Publishing Group   | historians inquisitive lay... |\n",
              "|         River City Pub        | highly praised fiction wri... |\n",
              "|              Dell             | plush virginia office rich... |\n",
              "|             Plume             | troubled years civil war s... |\n",
              "|       Three Rivers Press      | quickly world popular humo... |\n",
              "| Ryland Peters &amp; Small Ltd | filled fresh eclectic reci... |\n",
              "|           Scholastic          | robynn clairday interviewe... |\n",
              "+-------------------------------+-------------------------------+\n",
              "+-------------------------------+-------------------------------+\n",
              "|           word_count          |             tf_idf            |\n",
              "+-------------------------------+-------------------------------+\n",
              "| {'normandy': 1.0, 'day': 1... | {'normandy': 7.66821057929... |\n",
              "| {'recurring': 1.0, 'addres... | {'recurring': 6.9750633987... |\n",
              "| {'led': 1.0, 'america': 1.... | {'led': 4.318306492023559,... |\n",
              "| {'frightening': 1.0, 'surp... | {'frightening': 5.12923670... |\n",
              "| {'word': 1.0, 'captivates'... | {'word': 4.253219875503673... |\n",
              "| {'holds': 1.0, 'friends': ... | {'holds': 4.56586857068591... |\n",
              "| {'wilber': 1.0, 'measured'... | {'wilber': 8.5436793166520... |\n",
              "| {'ve': 1.0, 'century': 1.0... | {'ve': 4.09633321585754, '... |\n",
              "| {'tempt': 1.0, 'enthusiasm... | {'tempt': 7.31990388502994... |\n",
              "| {'embarrassment': 1.0, 'de... | {'embarrassment': 7.262745... |\n",
              "+-------------------------------+-------------------------------+\n",
              "[25671 rows x 8 columns]\n",
              "Note: Only the head of the SFrame is printed.\n",
              "You can use print_rows(num_rows=m, num_columns=n) to print more rows and columns."
            ]
          },
          "metadata": {
            "tags": []
          },
          "execution_count": 151
        }
      ]
    },
    {
      "cell_type": "code",
      "metadata": {
        "colab": {
          "base_uri": "https://localhost:8080/",
          "height": 104
        },
        "id": "i2XjpIig505m",
        "outputId": "c1d41923-4f19-4c78-9f26-98a58ae87f2a"
      },
      "source": [
        "model_wiki_tf_idf = turicreate.nearest_neighbors.create(wiki, label='name', features=['tf_idf'],\n",
        "                                                   method='brute_force', distance='euclidean')"
      ],
      "execution_count": 62,
      "outputs": [
        {
          "output_type": "display_data",
          "data": {
            "text/html": [
              "<pre>Starting brute force nearest neighbors model training.</pre>"
            ],
            "text/plain": [
              "Starting brute force nearest neighbors model training."
            ]
          },
          "metadata": {
            "tags": []
          }
        },
        {
          "output_type": "display_data",
          "data": {
            "text/html": [
              "<pre>Validating distance components.</pre>"
            ],
            "text/plain": [
              "Validating distance components."
            ]
          },
          "metadata": {
            "tags": []
          }
        },
        {
          "output_type": "display_data",
          "data": {
            "text/html": [
              "<pre>Initializing model data.</pre>"
            ],
            "text/plain": [
              "Initializing model data."
            ]
          },
          "metadata": {
            "tags": []
          }
        },
        {
          "output_type": "display_data",
          "data": {
            "text/html": [
              "<pre>Initializing distances.</pre>"
            ],
            "text/plain": [
              "Initializing distances."
            ]
          },
          "metadata": {
            "tags": []
          }
        },
        {
          "output_type": "display_data",
          "data": {
            "text/html": [
              "<pre>Done.</pre>"
            ],
            "text/plain": [
              "Done."
            ]
          },
          "metadata": {
            "tags": []
          }
        }
      ]
    },
    {
      "cell_type": "code",
      "metadata": {
        "id": "hE14LRN9GJ1I",
        "outputId": "934a15aa-827e-4ec9-d415-8a3e28210e61",
        "colab": {
          "base_uri": "https://localhost:8080/",
          "height": 104
        }
      },
      "source": [
        "model_books_tf_idf = turicreate.nearest_neighbors.create(books, label='Title', features=['tf_idf'],\n",
        "                                                   method='brute_force', distance='cosine')"
      ],
      "execution_count": 132,
      "outputs": [
        {
          "output_type": "display_data",
          "data": {
            "text/html": [
              "<pre>Starting brute force nearest neighbors model training.</pre>"
            ],
            "text/plain": [
              "Starting brute force nearest neighbors model training."
            ]
          },
          "metadata": {
            "tags": []
          }
        },
        {
          "output_type": "display_data",
          "data": {
            "text/html": [
              "<pre>Validating distance components.</pre>"
            ],
            "text/plain": [
              "Validating distance components."
            ]
          },
          "metadata": {
            "tags": []
          }
        },
        {
          "output_type": "display_data",
          "data": {
            "text/html": [
              "<pre>Initializing model data.</pre>"
            ],
            "text/plain": [
              "Initializing model data."
            ]
          },
          "metadata": {
            "tags": []
          }
        },
        {
          "output_type": "display_data",
          "data": {
            "text/html": [
              "<pre>Initializing distances.</pre>"
            ],
            "text/plain": [
              "Initializing distances."
            ]
          },
          "metadata": {
            "tags": []
          }
        },
        {
          "output_type": "display_data",
          "data": {
            "text/html": [
              "<pre>Done.</pre>"
            ],
            "text/plain": [
              "Done."
            ]
          },
          "metadata": {
            "tags": []
          }
        }
      ]
    },
    {
      "cell_type": "code",
      "metadata": {
        "id": "15ABzIR_GEBh",
        "outputId": "c62a0526-9037-4948-f9d1-054f1eb8c134",
        "colab": {
          "base_uri": "https://localhost:8080/",
          "height": 363
        }
      },
      "source": [
        "model_wiki_tf_idf.query(wiki[wiki['name'] == 'Barack Obama'], label='name', k=10)"
      ],
      "execution_count": 64,
      "outputs": [
        {
          "output_type": "display_data",
          "data": {
            "text/html": [
              "<pre>Starting pairwise querying.</pre>"
            ],
            "text/plain": [
              "Starting pairwise querying."
            ]
          },
          "metadata": {
            "tags": []
          }
        },
        {
          "output_type": "display_data",
          "data": {
            "text/html": [
              "<pre>+--------------+---------+-------------+--------------+</pre>"
            ],
            "text/plain": [
              "+--------------+---------+-------------+--------------+"
            ]
          },
          "metadata": {
            "tags": []
          }
        },
        {
          "output_type": "display_data",
          "data": {
            "text/html": [
              "<pre>| Query points | # Pairs | % Complete. | Elapsed Time |</pre>"
            ],
            "text/plain": [
              "| Query points | # Pairs | % Complete. | Elapsed Time |"
            ]
          },
          "metadata": {
            "tags": []
          }
        },
        {
          "output_type": "display_data",
          "data": {
            "text/html": [
              "<pre>+--------------+---------+-------------+--------------+</pre>"
            ],
            "text/plain": [
              "+--------------+---------+-------------+--------------+"
            ]
          },
          "metadata": {
            "tags": []
          }
        },
        {
          "output_type": "display_data",
          "data": {
            "text/html": [
              "<pre>| 0            | 1       | 0.00169288  | 14.201ms     |</pre>"
            ],
            "text/plain": [
              "| 0            | 1       | 0.00169288  | 14.201ms     |"
            ]
          },
          "metadata": {
            "tags": []
          }
        },
        {
          "output_type": "display_data",
          "data": {
            "text/html": [
              "<pre>| Done         |         | 100         | 557.228ms    |</pre>"
            ],
            "text/plain": [
              "| Done         |         | 100         | 557.228ms    |"
            ]
          },
          "metadata": {
            "tags": []
          }
        },
        {
          "output_type": "display_data",
          "data": {
            "text/html": [
              "<pre>+--------------+---------+-------------+--------------+</pre>"
            ],
            "text/plain": [
              "+--------------+---------+-------------+--------------+"
            ]
          },
          "metadata": {
            "tags": []
          }
        },
        {
          "output_type": "execute_result",
          "data": {
            "text/html": [
              "<div style=\"max-height:1000px;max-width:1500px;overflow:auto;\"><table frame=\"box\" rules=\"cols\">\n",
              "    <tr>\n",
              "        <th style=\"padding-left: 1em; padding-right: 1em; text-align: center\">query_label</th>\n",
              "        <th style=\"padding-left: 1em; padding-right: 1em; text-align: center\">reference_label</th>\n",
              "        <th style=\"padding-left: 1em; padding-right: 1em; text-align: center\">distance</th>\n",
              "        <th style=\"padding-left: 1em; padding-right: 1em; text-align: center\">rank</th>\n",
              "    </tr>\n",
              "    <tr>\n",
              "        <td style=\"padding-left: 1em; padding-right: 1em; text-align: center; vertical-align: top\">Barack Obama</td>\n",
              "        <td style=\"padding-left: 1em; padding-right: 1em; text-align: center; vertical-align: top\">Barack Obama</td>\n",
              "        <td style=\"padding-left: 1em; padding-right: 1em; text-align: center; vertical-align: top\">0.0</td>\n",
              "        <td style=\"padding-left: 1em; padding-right: 1em; text-align: center; vertical-align: top\">1</td>\n",
              "    </tr>\n",
              "    <tr>\n",
              "        <td style=\"padding-left: 1em; padding-right: 1em; text-align: center; vertical-align: top\">Barack Obama</td>\n",
              "        <td style=\"padding-left: 1em; padding-right: 1em; text-align: center; vertical-align: top\">Phil Schiliro</td>\n",
              "        <td style=\"padding-left: 1em; padding-right: 1em; text-align: center; vertical-align: top\">106.86101369140928</td>\n",
              "        <td style=\"padding-left: 1em; padding-right: 1em; text-align: center; vertical-align: top\">2</td>\n",
              "    </tr>\n",
              "    <tr>\n",
              "        <td style=\"padding-left: 1em; padding-right: 1em; text-align: center; vertical-align: top\">Barack Obama</td>\n",
              "        <td style=\"padding-left: 1em; padding-right: 1em; text-align: center; vertical-align: top\">Jeff Sessions</td>\n",
              "        <td style=\"padding-left: 1em; padding-right: 1em; text-align: center; vertical-align: top\">108.87167421571077</td>\n",
              "        <td style=\"padding-left: 1em; padding-right: 1em; text-align: center; vertical-align: top\">3</td>\n",
              "    </tr>\n",
              "    <tr>\n",
              "        <td style=\"padding-left: 1em; padding-right: 1em; text-align: center; vertical-align: top\">Barack Obama</td>\n",
              "        <td style=\"padding-left: 1em; padding-right: 1em; text-align: center; vertical-align: top\">Jesse Lee (politician)</td>\n",
              "        <td style=\"padding-left: 1em; padding-right: 1em; text-align: center; vertical-align: top\">109.04569790902957</td>\n",
              "        <td style=\"padding-left: 1em; padding-right: 1em; text-align: center; vertical-align: top\">4</td>\n",
              "    </tr>\n",
              "    <tr>\n",
              "        <td style=\"padding-left: 1em; padding-right: 1em; text-align: center; vertical-align: top\">Barack Obama</td>\n",
              "        <td style=\"padding-left: 1em; padding-right: 1em; text-align: center; vertical-align: top\">Samantha Power</td>\n",
              "        <td style=\"padding-left: 1em; padding-right: 1em; text-align: center; vertical-align: top\">109.10810616502708</td>\n",
              "        <td style=\"padding-left: 1em; padding-right: 1em; text-align: center; vertical-align: top\">5</td>\n",
              "    </tr>\n",
              "    <tr>\n",
              "        <td style=\"padding-left: 1em; padding-right: 1em; text-align: center; vertical-align: top\">Barack Obama</td>\n",
              "        <td style=\"padding-left: 1em; padding-right: 1em; text-align: center; vertical-align: top\">Bob Menendez</td>\n",
              "        <td style=\"padding-left: 1em; padding-right: 1em; text-align: center; vertical-align: top\">109.78186710530214</td>\n",
              "        <td style=\"padding-left: 1em; padding-right: 1em; text-align: center; vertical-align: top\">6</td>\n",
              "    </tr>\n",
              "    <tr>\n",
              "        <td style=\"padding-left: 1em; padding-right: 1em; text-align: center; vertical-align: top\">Barack Obama</td>\n",
              "        <td style=\"padding-left: 1em; padding-right: 1em; text-align: center; vertical-align: top\">Eric Stern (politician)</td>\n",
              "        <td style=\"padding-left: 1em; padding-right: 1em; text-align: center; vertical-align: top\">109.9577880796839</td>\n",
              "        <td style=\"padding-left: 1em; padding-right: 1em; text-align: center; vertical-align: top\">7</td>\n",
              "    </tr>\n",
              "    <tr>\n",
              "        <td style=\"padding-left: 1em; padding-right: 1em; text-align: center; vertical-align: top\">Barack Obama</td>\n",
              "        <td style=\"padding-left: 1em; padding-right: 1em; text-align: center; vertical-align: top\">James A. Guest</td>\n",
              "        <td style=\"padding-left: 1em; padding-right: 1em; text-align: center; vertical-align: top\">110.41388871759888</td>\n",
              "        <td style=\"padding-left: 1em; padding-right: 1em; text-align: center; vertical-align: top\">8</td>\n",
              "    </tr>\n",
              "    <tr>\n",
              "        <td style=\"padding-left: 1em; padding-right: 1em; text-align: center; vertical-align: top\">Barack Obama</td>\n",
              "        <td style=\"padding-left: 1em; padding-right: 1em; text-align: center; vertical-align: top\">Roland Grossenbacher</td>\n",
              "        <td style=\"padding-left: 1em; padding-right: 1em; text-align: center; vertical-align: top\">110.47060870018983</td>\n",
              "        <td style=\"padding-left: 1em; padding-right: 1em; text-align: center; vertical-align: top\">9</td>\n",
              "    </tr>\n",
              "    <tr>\n",
              "        <td style=\"padding-left: 1em; padding-right: 1em; text-align: center; vertical-align: top\">Barack Obama</td>\n",
              "        <td style=\"padding-left: 1em; padding-right: 1em; text-align: center; vertical-align: top\">Tulsi Gabbard</td>\n",
              "        <td style=\"padding-left: 1em; padding-right: 1em; text-align: center; vertical-align: top\">110.69699799880009</td>\n",
              "        <td style=\"padding-left: 1em; padding-right: 1em; text-align: center; vertical-align: top\">10</td>\n",
              "    </tr>\n",
              "</table>\n",
              "[10 rows x 4 columns]<br/>\n",
              "</div>"
            ],
            "text/plain": [
              "Columns:\n",
              "\tquery_label\tstr\n",
              "\treference_label\tstr\n",
              "\tdistance\tfloat\n",
              "\trank\tint\n",
              "\n",
              "Rows: 10\n",
              "\n",
              "Data:\n",
              "+--------------+-------------------------+--------------------+------+\n",
              "| query_label  |     reference_label     |      distance      | rank |\n",
              "+--------------+-------------------------+--------------------+------+\n",
              "| Barack Obama |       Barack Obama      |        0.0         |  1   |\n",
              "| Barack Obama |      Phil Schiliro      | 106.86101369140928 |  2   |\n",
              "| Barack Obama |      Jeff Sessions      | 108.87167421571077 |  3   |\n",
              "| Barack Obama |  Jesse Lee (politician) | 109.04569790902957 |  4   |\n",
              "| Barack Obama |      Samantha Power     | 109.10810616502708 |  5   |\n",
              "| Barack Obama |       Bob Menendez      | 109.78186710530214 |  6   |\n",
              "| Barack Obama | Eric Stern (politician) | 109.9577880796839  |  7   |\n",
              "| Barack Obama |      James A. Guest     | 110.41388871759888 |  8   |\n",
              "| Barack Obama |   Roland Grossenbacher  | 110.47060870018983 |  9   |\n",
              "| Barack Obama |      Tulsi Gabbard      | 110.69699799880009 |  10  |\n",
              "+--------------+-------------------------+--------------------+------+\n",
              "[10 rows x 4 columns]"
            ]
          },
          "metadata": {
            "tags": []
          },
          "execution_count": 64
        }
      ]
    },
    {
      "cell_type": "markdown",
      "metadata": {
        "id": "jquX8m4tOYC_"
      },
      "source": [
        "## This query shows that our model works quite well right now:\n",
        "With cosine distance, the found novels are quite near to the original one."
      ]
    },
    {
      "cell_type": "code",
      "metadata": {
        "colab": {
          "base_uri": "https://localhost:8080/",
          "height": 208
        },
        "id": "R0fmMZJt505m",
        "outputId": "22c48130-723f-4de3-eb02-22e83b752bf9"
      },
      "source": [
        "model_books_tf_idf.query(books[books['Title'] == 'The Testament'], label='Title', k=10)[5]"
      ],
      "execution_count": 146,
      "outputs": [
        {
          "output_type": "display_data",
          "data": {
            "text/html": [
              "<pre>Starting pairwise querying.</pre>"
            ],
            "text/plain": [
              "Starting pairwise querying."
            ]
          },
          "metadata": {
            "tags": []
          }
        },
        {
          "output_type": "display_data",
          "data": {
            "text/html": [
              "<pre>+--------------+---------+-------------+--------------+</pre>"
            ],
            "text/plain": [
              "+--------------+---------+-------------+--------------+"
            ]
          },
          "metadata": {
            "tags": []
          }
        },
        {
          "output_type": "display_data",
          "data": {
            "text/html": [
              "<pre>| Query points | # Pairs | % Complete. | Elapsed Time |</pre>"
            ],
            "text/plain": [
              "| Query points | # Pairs | % Complete. | Elapsed Time |"
            ]
          },
          "metadata": {
            "tags": []
          }
        },
        {
          "output_type": "display_data",
          "data": {
            "text/html": [
              "<pre>+--------------+---------+-------------+--------------+</pre>"
            ],
            "text/plain": [
              "+--------------+---------+-------------+--------------+"
            ]
          },
          "metadata": {
            "tags": []
          }
        },
        {
          "output_type": "display_data",
          "data": {
            "text/html": [
              "<pre>| 0            | 1       | 0.00389545  | 22.521ms     |</pre>"
            ],
            "text/plain": [
              "| 0            | 1       | 0.00389545  | 22.521ms     |"
            ]
          },
          "metadata": {
            "tags": []
          }
        },
        {
          "output_type": "display_data",
          "data": {
            "text/html": [
              "<pre>| Done         |         | 100         | 96.922ms     |</pre>"
            ],
            "text/plain": [
              "| Done         |         | 100         | 96.922ms     |"
            ]
          },
          "metadata": {
            "tags": []
          }
        },
        {
          "output_type": "display_data",
          "data": {
            "text/html": [
              "<pre>+--------------+---------+-------------+--------------+</pre>"
            ],
            "text/plain": [
              "+--------------+---------+-------------+--------------+"
            ]
          },
          "metadata": {
            "tags": []
          }
        },
        {
          "output_type": "execute_result",
          "data": {
            "text/plain": [
              "{'distance': 0.8616796313018954,\n",
              " 'query_label': 'The Testament',\n",
              " 'rank': 6,\n",
              " 'reference_label': 'Nate The Great And The Crunchy Christmas (Nate The Great, paper)'}"
            ]
          },
          "metadata": {
            "tags": []
          },
          "execution_count": 146
        }
      ]
    },
    {
      "cell_type": "markdown",
      "metadata": {
        "id": "lVQW80Xo505m"
      },
      "source": [
        "Let's determine whether this list makes sense.\n",
        "* With a notable exception of Roland Grossenbacher, the other 8 are all American politicians who are contemporaries of Barack Obama.\n",
        "* Phil Schiliro, Jesse Lee, Samantha Power, and Eric Stern worked for Obama.\n",
        "\n",
        "Clearly, the results are more plausible with the use of TF-IDF. Let's take a look at the word vector for Obama and Schilirio's pages. Notice that TF-IDF representation assigns a weight to each word. This weight captures relative importance of that word in the document. Let us sort the words in Obama's article by their TF-IDF weights; we do the same for Schiliro's article as well."
      ]
    },
    {
      "cell_type": "code",
      "metadata": {
        "id": "opJ_doG8505m"
      },
      "source": [
        "def top_words_tf_idf(dataset, query_column, query_term):\n",
        "    row = dataset[dataset[query_column] == query_term]\n",
        "    word_count_table = row[['tf_idf']].stack('tf_idf', new_column_name=['word','weight'])\n",
        "    return word_count_table.sort('weight', ascending=False)"
      ],
      "execution_count": 134,
      "outputs": []
    },
    {
      "cell_type": "code",
      "metadata": {
        "colab": {
          "base_uri": "https://localhost:8080/",
          "height": 276
        },
        "id": "e9KA2qk0505m",
        "outputId": "c05975d1-6464-4a81-e750-e2096d334223"
      },
      "source": [
        "thetestament_tf_idf = top_words_tf_idf(books, 'Title', 'The Testament')\n",
        "thetestament_tf_idf"
      ],
      "execution_count": 136,
      "outputs": [
        {
          "output_type": "execute_result",
          "data": {
            "text/html": [
              "<div style=\"max-height:1000px;max-width:1500px;overflow:auto;\"><table frame=\"box\" rules=\"cols\">\n",
              "    <tr>\n",
              "        <th style=\"padding-left: 1em; padding-right: 1em; text-align: center\">word</th>\n",
              "        <th style=\"padding-left: 1em; padding-right: 1em; text-align: center\">weight</th>\n",
              "    </tr>\n",
              "    <tr>\n",
              "        <td style=\"padding-left: 1em; padding-right: 1em; text-align: center; vertical-align: top\">phelan</td>\n",
              "        <td style=\"padding-left: 1em; padding-right: 1em; text-align: center; vertical-align: top\">27.16351482125416</td>\n",
              "    </tr>\n",
              "    <tr>\n",
              "        <td style=\"padding-left: 1em; padding-right: 1em; text-align: center; vertical-align: top\">nate</td>\n",
              "        <td style=\"padding-left: 1em; padding-right: 1em; text-align: center; vertical-align: top\">15.336421158596329</td>\n",
              "    </tr>\n",
              "    <tr>\n",
              "        <td style=\"padding-left: 1em; padding-right: 1em; text-align: center; vertical-align: top\">troy</td>\n",
              "        <td style=\"padding-left: 1em; padding-right: 1em; text-align: center; vertical-align: top\">13.571642798199381</td>\n",
              "    </tr>\n",
              "    <tr>\n",
              "        <td style=\"padding-left: 1em; padding-right: 1em; text-align: center; vertical-align: top\">lane</td>\n",
              "        <td style=\"padding-left: 1em; padding-right: 1em; text-align: center; vertical-align: top\">11.867219047820116</td>\n",
              "    </tr>\n",
              "    <tr>\n",
              "        <td style=\"padding-left: 1em; padding-right: 1em; text-align: center; vertical-align: top\">rachel</td>\n",
              "        <td style=\"padding-left: 1em; padding-right: 1em; text-align: center; vertical-align: top\">11.241035471865818</td>\n",
              "    </tr>\n",
              "    <tr>\n",
              "        <td style=\"padding-left: 1em; padding-right: 1em; text-align: center; vertical-align: top\">message</td>\n",
              "        <td style=\"padding-left: 1em; padding-right: 1em; text-align: center; vertical-align: top\">9.650482120593166</td>\n",
              "    </tr>\n",
              "    <tr>\n",
              "        <td style=\"padding-left: 1em; padding-right: 1em; text-align: center; vertical-align: top\">surprise</td>\n",
              "        <td style=\"padding-left: 1em; padding-right: 1em; text-align: center; vertical-align: top\">9.328359005858957</td>\n",
              "    </tr>\n",
              "    <tr>\n",
              "        <td style=\"padding-left: 1em; padding-right: 1em; text-align: center; vertical-align: top\">rewriting</td>\n",
              "        <td style=\"padding-left: 1em; padding-right: 1em; text-align: center; vertical-align: top\">9.054504940418054</td>\n",
              "    </tr>\n",
              "    <tr>\n",
              "        <td style=\"padding-left: 1em; padding-right: 1em; text-align: center; vertical-align: top\">vultures</td>\n",
              "        <td style=\"padding-left: 1em; padding-right: 1em; text-align: center; vertical-align: top\">8.766822867966274</td>\n",
              "    </tr>\n",
              "    <tr>\n",
              "        <td style=\"padding-left: 1em; padding-right: 1em; text-align: center; vertical-align: top\">misstep</td>\n",
              "        <td style=\"padding-left: 1em; padding-right: 1em; text-align: center; vertical-align: top\">8.543679316652064</td>\n",
              "    </tr>\n",
              "</table>\n",
              "[72 rows x 2 columns]<br/>Note: Only the head of the SFrame is printed.<br/>You can use print_rows(num_rows=m, num_columns=n) to print more rows and columns.\n",
              "</div>"
            ],
            "text/plain": [
              "Columns:\n",
              "\tword\tstr\n",
              "\tweight\tfloat\n",
              "\n",
              "Rows: 72\n",
              "\n",
              "Data:\n",
              "+-----------+--------------------+\n",
              "|    word   |       weight       |\n",
              "+-----------+--------------------+\n",
              "|   phelan  | 27.16351482125416  |\n",
              "|    nate   | 15.336421158596329 |\n",
              "|    troy   | 13.571642798199381 |\n",
              "|    lane   | 11.867219047820116 |\n",
              "|   rachel  | 11.241035471865818 |\n",
              "|  message  | 9.650482120593166  |\n",
              "|  surprise | 9.328359005858957  |\n",
              "| rewriting | 9.054504940418054  |\n",
              "|  vultures | 8.766822867966274  |\n",
              "|  misstep  | 8.543679316652064  |\n",
              "+-----------+--------------------+\n",
              "[72 rows x 2 columns]\n",
              "Note: Only the head of the SFrame is printed.\n",
              "You can use print_rows(num_rows=m, num_columns=n) to print more rows and columns."
            ]
          },
          "metadata": {
            "tags": []
          },
          "execution_count": 136
        }
      ]
    },
    {
      "cell_type": "code",
      "metadata": {
        "colab": {
          "base_uri": "https://localhost:8080/",
          "height": 276
        },
        "id": "EvIj9s5z505n",
        "outputId": "b034e7bb-569a-4254-a427-adc9d93dfaff"
      },
      "source": [
        "friendfromengland_tf_idf = top_words_tf_idf(books, 'Title', 'Nate The Great And The Crunchy Christmas (Nate The Great, paper)')#Friend from England')\n",
        "friendfromengland_tf_idf"
      ],
      "execution_count": 147,
      "outputs": [
        {
          "output_type": "execute_result",
          "data": {
            "text/html": [
              "<div style=\"max-height:1000px;max-width:1500px;overflow:auto;\"><table frame=\"box\" rules=\"cols\">\n",
              "    <tr>\n",
              "        <th style=\"padding-left: 1em; padding-right: 1em; text-align: center\">word</th>\n",
              "        <th style=\"padding-left: 1em; padding-right: 1em; text-align: center\">weight</th>\n",
              "    </tr>\n",
              "    <tr>\n",
              "        <td style=\"padding-left: 1em; padding-right: 1em; text-align: center; vertical-align: top\">nate</td>\n",
              "        <td style=\"padding-left: 1em; padding-right: 1em; text-align: center; vertical-align: top\">38.34105289649082</td>\n",
              "    </tr>\n",
              "    <tr>\n",
              "        <td style=\"padding-left: 1em; padding-right: 1em; text-align: center; vertical-align: top\">fang</td>\n",
              "        <td style=\"padding-left: 1em; padding-right: 1em; text-align: center; vertical-align: top\">33.445431039432435</td>\n",
              "    </tr>\n",
              "    <tr>\n",
              "        <td style=\"padding-left: 1em; padding-right: 1em; text-align: center; vertical-align: top\">sludge</td>\n",
              "        <td style=\"padding-left: 1em; padding-right: 1em; text-align: center; vertical-align: top\">18.10900988083611</td>\n",
              "    </tr>\n",
              "    <tr>\n",
              "        <td style=\"padding-left: 1em; padding-right: 1em; text-align: center; vertical-align: top\">unhappy</td>\n",
              "        <td style=\"padding-left: 1em; padding-right: 1em; text-align: center; vertical-align: top\">17.389225207189718</td>\n",
              "    </tr>\n",
              "    <tr>\n",
              "        <td style=\"padding-left: 1em; padding-right: 1em; text-align: center; vertical-align: top\">christmas</td>\n",
              "        <td style=\"padding-left: 1em; padding-right: 1em; text-align: center; vertical-align: top\">13.754318175975204</td>\n",
              "    </tr>\n",
              "    <tr>\n",
              "        <td style=\"padding-left: 1em; padding-right: 1em; text-align: center; vertical-align: top\">dog</td>\n",
              "        <td style=\"padding-left: 1em; padding-right: 1em; text-align: center; vertical-align: top\">12.999102896201407</td>\n",
              "    </tr>\n",
              "    <tr>\n",
              "        <td style=\"padding-left: 1em; padding-right: 1em; text-align: center; vertical-align: top\">great</td>\n",
              "        <td style=\"padding-left: 1em; padding-right: 1em; text-align: center; vertical-align: top\">10.875439387812117</td>\n",
              "    </tr>\n",
              "    <tr>\n",
              "        <td style=\"padding-left: 1em; padding-right: 1em; text-align: center; vertical-align: top\">mail</td>\n",
              "        <td style=\"padding-left: 1em; padding-right: 1em; text-align: center; vertical-align: top\">10.833837561383339</td>\n",
              "    </tr>\n",
              "    <tr>\n",
              "        <td style=\"padding-left: 1em; padding-right: 1em; text-align: center; vertical-align: top\">munchy</td>\n",
              "        <td style=\"padding-left: 1em; padding-right: 1em; text-align: center; vertical-align: top\">10.153117229086165</td>\n",
              "    </tr>\n",
              "    <tr>\n",
              "        <td style=\"padding-left: 1em; padding-right: 1em; text-align: center; vertical-align: top\">holiday</td>\n",
              "        <td style=\"padding-left: 1em; padding-right: 1em; text-align: center; vertical-align: top\">9.976662510325301</td>\n",
              "    </tr>\n",
              "</table>\n",
              "[41 rows x 2 columns]<br/>Note: Only the head of the SFrame is printed.<br/>You can use print_rows(num_rows=m, num_columns=n) to print more rows and columns.\n",
              "</div>"
            ],
            "text/plain": [
              "Columns:\n",
              "\tword\tstr\n",
              "\tweight\tfloat\n",
              "\n",
              "Rows: 41\n",
              "\n",
              "Data:\n",
              "+-----------+--------------------+\n",
              "|    word   |       weight       |\n",
              "+-----------+--------------------+\n",
              "|    nate   | 38.34105289649082  |\n",
              "|    fang   | 33.445431039432435 |\n",
              "|   sludge  | 18.10900988083611  |\n",
              "|  unhappy  | 17.389225207189718 |\n",
              "| christmas | 13.754318175975204 |\n",
              "|    dog    | 12.999102896201407 |\n",
              "|   great   | 10.875439387812117 |\n",
              "|    mail   | 10.833837561383339 |\n",
              "|   munchy  | 10.153117229086165 |\n",
              "|  holiday  | 9.976662510325301  |\n",
              "+-----------+--------------------+\n",
              "[41 rows x 2 columns]\n",
              "Note: Only the head of the SFrame is printed.\n",
              "You can use print_rows(num_rows=m, num_columns=n) to print more rows and columns."
            ]
          },
          "metadata": {
            "tags": []
          },
          "execution_count": 147
        }
      ]
    },
    {
      "cell_type": "markdown",
      "metadata": {
        "id": "fC_2wLVf505n"
      },
      "source": [
        "Using the **join** operation we learned earlier, try your hands at computing the common words shared by Obama's and Schiliro's articles. Sort the common words by their TF-IDF weights in Obama's document."
      ]
    },
    {
      "cell_type": "code",
      "metadata": {
        "colab": {
          "base_uri": "https://localhost:8080/",
          "height": 276
        },
        "id": "T1qhh3kb505n",
        "outputId": "01458449-00d5-4172-a4a5-905344c7a36a"
      },
      "source": [
        "combined_words = obama_words.join(barrio_words, on='word')\n",
        "combined_words = combined_words.rename({'count':'Obama', 'count.1':'Barrio'})\n",
        "combined_words.sort('Obama', ascending=False)"
      ],
      "execution_count": 82,
      "outputs": [
        {
          "output_type": "execute_result",
          "data": {
            "text/html": [
              "<div style=\"max-height:1000px;max-width:1500px;overflow:auto;\"><table frame=\"box\" rules=\"cols\">\n",
              "    <tr>\n",
              "        <th style=\"padding-left: 1em; padding-right: 1em; text-align: center\">word</th>\n",
              "        <th style=\"padding-left: 1em; padding-right: 1em; text-align: center\">Obama</th>\n",
              "        <th style=\"padding-left: 1em; padding-right: 1em; text-align: center\">Barrio</th>\n",
              "    </tr>\n",
              "    <tr>\n",
              "        <td style=\"padding-left: 1em; padding-right: 1em; text-align: center; vertical-align: top\">the</td>\n",
              "        <td style=\"padding-left: 1em; padding-right: 1em; text-align: center; vertical-align: top\">40.0</td>\n",
              "        <td style=\"padding-left: 1em; padding-right: 1em; text-align: center; vertical-align: top\">36.0</td>\n",
              "    </tr>\n",
              "    <tr>\n",
              "        <td style=\"padding-left: 1em; padding-right: 1em; text-align: center; vertical-align: top\">in</td>\n",
              "        <td style=\"padding-left: 1em; padding-right: 1em; text-align: center; vertical-align: top\">30.0</td>\n",
              "        <td style=\"padding-left: 1em; padding-right: 1em; text-align: center; vertical-align: top\">17.0</td>\n",
              "    </tr>\n",
              "    <tr>\n",
              "        <td style=\"padding-left: 1em; padding-right: 1em; text-align: center; vertical-align: top\">and</td>\n",
              "        <td style=\"padding-left: 1em; padding-right: 1em; text-align: center; vertical-align: top\">21.0</td>\n",
              "        <td style=\"padding-left: 1em; padding-right: 1em; text-align: center; vertical-align: top\">18.0</td>\n",
              "    </tr>\n",
              "    <tr>\n",
              "        <td style=\"padding-left: 1em; padding-right: 1em; text-align: center; vertical-align: top\">of</td>\n",
              "        <td style=\"padding-left: 1em; padding-right: 1em; text-align: center; vertical-align: top\">18.0</td>\n",
              "        <td style=\"padding-left: 1em; padding-right: 1em; text-align: center; vertical-align: top\">24.0</td>\n",
              "    </tr>\n",
              "    <tr>\n",
              "        <td style=\"padding-left: 1em; padding-right: 1em; text-align: center; vertical-align: top\">to</td>\n",
              "        <td style=\"padding-left: 1em; padding-right: 1em; text-align: center; vertical-align: top\">14.0</td>\n",
              "        <td style=\"padding-left: 1em; padding-right: 1em; text-align: center; vertical-align: top\">9.0</td>\n",
              "    </tr>\n",
              "    <tr>\n",
              "        <td style=\"padding-left: 1em; padding-right: 1em; text-align: center; vertical-align: top\">his</td>\n",
              "        <td style=\"padding-left: 1em; padding-right: 1em; text-align: center; vertical-align: top\">11.0</td>\n",
              "        <td style=\"padding-left: 1em; padding-right: 1em; text-align: center; vertical-align: top\">5.0</td>\n",
              "    </tr>\n",
              "    <tr>\n",
              "        <td style=\"padding-left: 1em; padding-right: 1em; text-align: center; vertical-align: top\">a</td>\n",
              "        <td style=\"padding-left: 1em; padding-right: 1em; text-align: center; vertical-align: top\">7.0</td>\n",
              "        <td style=\"padding-left: 1em; padding-right: 1em; text-align: center; vertical-align: top\">6.0</td>\n",
              "    </tr>\n",
              "    <tr>\n",
              "        <td style=\"padding-left: 1em; padding-right: 1em; text-align: center; vertical-align: top\">he</td>\n",
              "        <td style=\"padding-left: 1em; padding-right: 1em; text-align: center; vertical-align: top\">7.0</td>\n",
              "        <td style=\"padding-left: 1em; padding-right: 1em; text-align: center; vertical-align: top\">10.0</td>\n",
              "    </tr>\n",
              "    <tr>\n",
              "        <td style=\"padding-left: 1em; padding-right: 1em; text-align: center; vertical-align: top\">as</td>\n",
              "        <td style=\"padding-left: 1em; padding-right: 1em; text-align: center; vertical-align: top\">6.0</td>\n",
              "        <td style=\"padding-left: 1em; padding-right: 1em; text-align: center; vertical-align: top\">5.0</td>\n",
              "    </tr>\n",
              "    <tr>\n",
              "        <td style=\"padding-left: 1em; padding-right: 1em; text-align: center; vertical-align: top\">was</td>\n",
              "        <td style=\"padding-left: 1em; padding-right: 1em; text-align: center; vertical-align: top\">5.0</td>\n",
              "        <td style=\"padding-left: 1em; padding-right: 1em; text-align: center; vertical-align: top\">4.0</td>\n",
              "    </tr>\n",
              "</table>\n",
              "[56 rows x 3 columns]<br/>Note: Only the head of the SFrame is printed.<br/>You can use print_rows(num_rows=m, num_columns=n) to print more rows and columns.\n",
              "</div>"
            ],
            "text/plain": [
              "Columns:\n",
              "\tword\tstr\n",
              "\tObama\tfloat\n",
              "\tBarrio\tfloat\n",
              "\n",
              "Rows: 56\n",
              "\n",
              "Data:\n",
              "+------+-------+--------+\n",
              "| word | Obama | Barrio |\n",
              "+------+-------+--------+\n",
              "| the  |  40.0 |  36.0  |\n",
              "|  in  |  30.0 |  17.0  |\n",
              "| and  |  21.0 |  18.0  |\n",
              "|  of  |  18.0 |  24.0  |\n",
              "|  to  |  14.0 |  9.0   |\n",
              "| his  |  11.0 |  5.0   |\n",
              "|  a   |  7.0  |  6.0   |\n",
              "|  he  |  7.0  |  10.0  |\n",
              "|  as  |  6.0  |  5.0   |\n",
              "| was  |  5.0  |  4.0   |\n",
              "+------+-------+--------+\n",
              "[56 rows x 3 columns]\n",
              "Note: Only the head of the SFrame is printed.\n",
              "You can use print_rows(num_rows=m, num_columns=n) to print more rows and columns."
            ]
          },
          "metadata": {
            "tags": []
          },
          "execution_count": 82
        }
      ]
    },
    {
      "cell_type": "code",
      "metadata": {
        "id": "lMJ3AxrrLyEY",
        "outputId": "5c0a3d50-f6d6-486a-e66c-248d8fa4b233",
        "colab": {
          "base_uri": "https://localhost:8080/",
          "height": 276
        }
      },
      "source": [
        "combined_words = friendfromengland_tf_idf.join(friendfromengland_tf_idf, on='word')\n",
        "combined_words = combined_words.rename({'weight':'Testament', 'weight.1':'Friend'})\n",
        "combined_words.sort('Testament', ascending=False)"
      ],
      "execution_count": 148,
      "outputs": [
        {
          "output_type": "execute_result",
          "data": {
            "text/html": [
              "<div style=\"max-height:1000px;max-width:1500px;overflow:auto;\"><table frame=\"box\" rules=\"cols\">\n",
              "    <tr>\n",
              "        <th style=\"padding-left: 1em; padding-right: 1em; text-align: center\">word</th>\n",
              "        <th style=\"padding-left: 1em; padding-right: 1em; text-align: center\">Testament</th>\n",
              "        <th style=\"padding-left: 1em; padding-right: 1em; text-align: center\">Friend</th>\n",
              "    </tr>\n",
              "    <tr>\n",
              "        <td style=\"padding-left: 1em; padding-right: 1em; text-align: center; vertical-align: top\">nate</td>\n",
              "        <td style=\"padding-left: 1em; padding-right: 1em; text-align: center; vertical-align: top\">38.34105289649082</td>\n",
              "        <td style=\"padding-left: 1em; padding-right: 1em; text-align: center; vertical-align: top\">38.34105289649082</td>\n",
              "    </tr>\n",
              "    <tr>\n",
              "        <td style=\"padding-left: 1em; padding-right: 1em; text-align: center; vertical-align: top\">fang</td>\n",
              "        <td style=\"padding-left: 1em; padding-right: 1em; text-align: center; vertical-align: top\">33.445431039432435</td>\n",
              "        <td style=\"padding-left: 1em; padding-right: 1em; text-align: center; vertical-align: top\">33.445431039432435</td>\n",
              "    </tr>\n",
              "    <tr>\n",
              "        <td style=\"padding-left: 1em; padding-right: 1em; text-align: center; vertical-align: top\">sludge</td>\n",
              "        <td style=\"padding-left: 1em; padding-right: 1em; text-align: center; vertical-align: top\">18.10900988083611</td>\n",
              "        <td style=\"padding-left: 1em; padding-right: 1em; text-align: center; vertical-align: top\">18.10900988083611</td>\n",
              "    </tr>\n",
              "    <tr>\n",
              "        <td style=\"padding-left: 1em; padding-right: 1em; text-align: center; vertical-align: top\">unhappy</td>\n",
              "        <td style=\"padding-left: 1em; padding-right: 1em; text-align: center; vertical-align: top\">17.389225207189718</td>\n",
              "        <td style=\"padding-left: 1em; padding-right: 1em; text-align: center; vertical-align: top\">17.389225207189718</td>\n",
              "    </tr>\n",
              "    <tr>\n",
              "        <td style=\"padding-left: 1em; padding-right: 1em; text-align: center; vertical-align: top\">christmas</td>\n",
              "        <td style=\"padding-left: 1em; padding-right: 1em; text-align: center; vertical-align: top\">13.754318175975204</td>\n",
              "        <td style=\"padding-left: 1em; padding-right: 1em; text-align: center; vertical-align: top\">13.754318175975204</td>\n",
              "    </tr>\n",
              "    <tr>\n",
              "        <td style=\"padding-left: 1em; padding-right: 1em; text-align: center; vertical-align: top\">dog</td>\n",
              "        <td style=\"padding-left: 1em; padding-right: 1em; text-align: center; vertical-align: top\">12.999102896201407</td>\n",
              "        <td style=\"padding-left: 1em; padding-right: 1em; text-align: center; vertical-align: top\">12.999102896201407</td>\n",
              "    </tr>\n",
              "    <tr>\n",
              "        <td style=\"padding-left: 1em; padding-right: 1em; text-align: center; vertical-align: top\">great</td>\n",
              "        <td style=\"padding-left: 1em; padding-right: 1em; text-align: center; vertical-align: top\">10.875439387812117</td>\n",
              "        <td style=\"padding-left: 1em; padding-right: 1em; text-align: center; vertical-align: top\">10.875439387812117</td>\n",
              "    </tr>\n",
              "    <tr>\n",
              "        <td style=\"padding-left: 1em; padding-right: 1em; text-align: center; vertical-align: top\">mail</td>\n",
              "        <td style=\"padding-left: 1em; padding-right: 1em; text-align: center; vertical-align: top\">10.833837561383339</td>\n",
              "        <td style=\"padding-left: 1em; padding-right: 1em; text-align: center; vertical-align: top\">10.833837561383339</td>\n",
              "    </tr>\n",
              "    <tr>\n",
              "        <td style=\"padding-left: 1em; padding-right: 1em; text-align: center; vertical-align: top\">munchy</td>\n",
              "        <td style=\"padding-left: 1em; padding-right: 1em; text-align: center; vertical-align: top\">10.153117229086165</td>\n",
              "        <td style=\"padding-left: 1em; padding-right: 1em; text-align: center; vertical-align: top\">10.153117229086165</td>\n",
              "    </tr>\n",
              "    <tr>\n",
              "        <td style=\"padding-left: 1em; padding-right: 1em; text-align: center; vertical-align: top\">holiday</td>\n",
              "        <td style=\"padding-left: 1em; padding-right: 1em; text-align: center; vertical-align: top\">9.976662510325301</td>\n",
              "        <td style=\"padding-left: 1em; padding-right: 1em; text-align: center; vertical-align: top\">9.976662510325301</td>\n",
              "    </tr>\n",
              "</table>\n",
              "[41 rows x 3 columns]<br/>Note: Only the head of the SFrame is printed.<br/>You can use print_rows(num_rows=m, num_columns=n) to print more rows and columns.\n",
              "</div>"
            ],
            "text/plain": [
              "Columns:\n",
              "\tword\tstr\n",
              "\tTestament\tfloat\n",
              "\tFriend\tfloat\n",
              "\n",
              "Rows: 41\n",
              "\n",
              "Data:\n",
              "+-----------+--------------------+--------------------+\n",
              "|    word   |     Testament      |       Friend       |\n",
              "+-----------+--------------------+--------------------+\n",
              "|    nate   | 38.34105289649082  | 38.34105289649082  |\n",
              "|    fang   | 33.445431039432435 | 33.445431039432435 |\n",
              "|   sludge  | 18.10900988083611  | 18.10900988083611  |\n",
              "|  unhappy  | 17.389225207189718 | 17.389225207189718 |\n",
              "| christmas | 13.754318175975204 | 13.754318175975204 |\n",
              "|    dog    | 12.999102896201407 | 12.999102896201407 |\n",
              "|   great   | 10.875439387812117 | 10.875439387812117 |\n",
              "|    mail   | 10.833837561383339 | 10.833837561383339 |\n",
              "|   munchy  | 10.153117229086165 | 10.153117229086165 |\n",
              "|  holiday  | 9.976662510325301  | 9.976662510325301  |\n",
              "+-----------+--------------------+--------------------+\n",
              "[41 rows x 3 columns]\n",
              "Note: Only the head of the SFrame is printed.\n",
              "You can use print_rows(num_rows=m, num_columns=n) to print more rows and columns."
            ]
          },
          "metadata": {
            "tags": []
          },
          "execution_count": 148
        }
      ]
    },
    {
      "cell_type": "markdown",
      "metadata": {
        "id": "LLh8PFXj505n"
      },
      "source": [
        "The first 10 words should say: Obama, law, democratic, Senate, presidential, president, policy, states, office, 2011."
      ]
    },
    {
      "cell_type": "markdown",
      "metadata": {
        "id": "9XQr1hye505n"
      },
      "source": [
        "**Quiz Question**. Among the words that appear in both Barack Obama and Phil Schiliro, take the 5 that have largest weights in Obama. How many of the articles in the Wikipedia dataset contain all of those 5 words?"
      ]
    },
    {
      "cell_type": "code",
      "metadata": {
        "id": "RXUa8G-l505n"
      },
      "source": [
        "common_words = ...  # YOUR CODE HERE\n",
        "\n",
        "def has_top_words(word_count_vector):\n",
        "    # extract the keys of word_count_vector and convert it to a set\n",
        "    unique_words = ...   # YOUR CODE HERE\n",
        "    # return True if common_words is a subset of unique_words\n",
        "    # return False otherwise\n",
        "    return ...  # YOUR CODE HERE\n",
        "\n",
        "wiki['has_top_words'] = wiki['word_count'].apply(has_top_words)\n",
        "\n",
        "# use has_top_words column to answer the quiz question\n",
        "...  # YOUR CODE HERE"
      ],
      "execution_count": null,
      "outputs": []
    },
    {
      "cell_type": "markdown",
      "metadata": {
        "id": "-Rqnx62r505n"
      },
      "source": [
        "Notice the huge difference in this calculation using TF-IDF scores instead  of raw word counts. We've eliminated noise arising from extremely common words."
      ]
    },
    {
      "cell_type": "markdown",
      "metadata": {
        "id": "HyQvXKZ1505n"
      },
      "source": [
        "## Choosing metrics"
      ]
    },
    {
      "cell_type": "markdown",
      "metadata": {
        "id": "nLNDu6Z2505o"
      },
      "source": [
        "You may wonder why Joe Biden, Obama's running mate in two presidential elections, is missing from the query results of `model_tf_idf`. Let's find out why. First, compute the distance between TF-IDF features of Obama and Biden."
      ]
    },
    {
      "cell_type": "markdown",
      "metadata": {
        "id": "-x3FA8KX505o"
      },
      "source": [
        "**Quiz Question**. Compute the Euclidean distance between TF-IDF features of Obama and Biden. Recall: When using Boolean filter in SFrame/SArray, take the index 0 to access the first match. (Round your answer to three decimal places.)"
      ]
    },
    {
      "cell_type": "code",
      "metadata": {
        "id": "JaG7yHo9505o"
      },
      "source": [
        ""
      ],
      "execution_count": null,
      "outputs": []
    },
    {
      "cell_type": "markdown",
      "metadata": {
        "id": "ZvbwUyqr505o"
      },
      "source": [
        "The distance is larger than the distances we found for the 10 nearest neighbors, which we repeat here for readability:"
      ]
    },
    {
      "cell_type": "code",
      "metadata": {
        "id": "IbQzvD0-505o"
      },
      "source": [
        "model_tf_idf.query(wiki[wiki['name'] == 'Barack Obama'], label='name', k=10)"
      ],
      "execution_count": null,
      "outputs": []
    },
    {
      "cell_type": "markdown",
      "metadata": {
        "id": "fIde0RFf505o"
      },
      "source": [
        "But one may wonder, is Biden's article that different from Obama's, more so than, say, Schiliro's? It turns out that, when we compute nearest neighbors using the Euclidean distances, we unwittingly favor short articles over long ones. Let us compute the length of each Wikipedia document, and examine the document lengths for the 100 nearest neighbors to Obama's page."
      ]
    },
    {
      "cell_type": "code",
      "metadata": {
        "id": "MZbs-y13505o"
      },
      "source": [
        "def compute_length(row):\n",
        "    return len(row['text'].split(' '))\n",
        "\n",
        "wiki['length'] = wiki.apply(compute_length) "
      ],
      "execution_count": null,
      "outputs": []
    },
    {
      "cell_type": "code",
      "metadata": {
        "id": "lc_DrpuQ505o"
      },
      "source": [
        "nearest_neighbors_euclidean = model_tf_idf.query(wiki[wiki['name'] == 'Barack Obama'], label='name', k=100)\n",
        "nearest_neighbors_euclidean = nearest_neighbors_euclidean.join(wiki[['name', 'length']], on={'reference_label':'name'})"
      ],
      "execution_count": null,
      "outputs": []
    },
    {
      "cell_type": "code",
      "metadata": {
        "id": "ZXqoia4x505o"
      },
      "source": [
        "nearest_neighbors_euclidean.sort('rank')"
      ],
      "execution_count": null,
      "outputs": []
    },
    {
      "cell_type": "markdown",
      "metadata": {
        "id": "bs4UlPwe505o"
      },
      "source": [
        "To see how these document lengths compare to the lengths of other documents in the corpus, let's make a histogram of the document lengths of Obama's 100 nearest neighbors and compare to a histogram of document lengths for all documents."
      ]
    },
    {
      "cell_type": "code",
      "metadata": {
        "id": "qdkOqNN5505p"
      },
      "source": [
        "plt.figure(figsize=(10.5,4.5))\n",
        "plt.hist(wiki['length'], 50, color='k', edgecolor='None', histtype='stepfilled', normed=True,\n",
        "         label='Entire Wikipedia', zorder=3, alpha=0.8)\n",
        "plt.hist(nearest_neighbors_euclidean['length'], 50, color='r', edgecolor='None', histtype='stepfilled', normed=True,\n",
        "         label='100 NNs of Obama (Euclidean)', zorder=10, alpha=0.8)\n",
        "plt.axvline(x=wiki['length'][wiki['name'] == 'Barack Obama'][0], color='k', linestyle='--', linewidth=4,\n",
        "           label='Length of Barack Obama', zorder=2)\n",
        "plt.axvline(x=wiki['length'][wiki['name'] == 'Joe Biden'][0], color='g', linestyle='--', linewidth=4,\n",
        "           label='Length of Joe Biden', zorder=1)\n",
        "plt.axis([0, 1000, 0, 0.04])\n",
        "\n",
        "plt.legend(loc='best', prop={'size':15})\n",
        "plt.title('Distribution of document length')\n",
        "plt.xlabel('# of words')\n",
        "plt.ylabel('Percentage')\n",
        "plt.rcParams.update({'font.size':16})\n",
        "plt.tight_layout()"
      ],
      "execution_count": null,
      "outputs": []
    },
    {
      "cell_type": "markdown",
      "metadata": {
        "id": "60QNuSPX505p"
      },
      "source": [
        "Relative to the rest of Wikipedia, nearest neighbors of Obama are overwhemingly short, most of them being shorter than 300 words. The bias towards short articles is not appropriate in this application as there is really no reason to  favor short articles over long articles (they are all Wikipedia articles, after all). Many of the Wikipedia articles are 300 words or more, and both Obama and Biden are over 300 words long.\n",
        "\n",
        "**Note**: For the interest of computation time, the dataset given here contains _excerpts_ of the articles rather than full text. For instance, the actual Wikipedia article about Obama is around 25000 words. Do not be surprised by the low numbers shown in the histogram."
      ]
    },
    {
      "cell_type": "markdown",
      "metadata": {
        "id": "DurLfjTS505p"
      },
      "source": [
        "**Note:** Both word-count features and TF-IDF are proportional to word frequencies. While TF-IDF penalizes very common words, longer articles tend to have longer TF-IDF vectors simply because they have more words in them."
      ]
    },
    {
      "cell_type": "markdown",
      "metadata": {
        "collapsed": true,
        "id": "GZNdEhVr505p"
      },
      "source": [
        "To remove this bias, we turn to **cosine distances**:\n",
        "$$\n",
        "d(\\mathbf{x},\\mathbf{y}) = 1 - \\frac{\\mathbf{x}^T\\mathbf{y}}{\\|\\mathbf{x}\\| \\|\\mathbf{y}\\|}\n",
        "$$\n",
        "Cosine distances let us compare word distributions of two articles of varying lengths.\n",
        "\n",
        "Let us train a new nearest neighbor model, this time with cosine distances.  We then repeat the search for Obama's 100 nearest neighbors."
      ]
    },
    {
      "cell_type": "code",
      "metadata": {
        "id": "KI3w30kQ505p"
      },
      "source": [
        "model2_tf_idf = turicreate.nearest_neighbors.create(wiki, label='name', features=['tf_idf'],\n",
        "                                                    method='brute_force', distance='cosine')"
      ],
      "execution_count": null,
      "outputs": []
    },
    {
      "cell_type": "code",
      "metadata": {
        "id": "AHs7rVEA505p"
      },
      "source": [
        "nearest_neighbors_cosine = model2_tf_idf.query(wiki[wiki['name'] == 'Barack Obama'], label='name', k=100)\n",
        "nearest_neighbors_cosine = nearest_neighbors_cosine.join(wiki[['name', 'length']], on={'reference_label':'name'})"
      ],
      "execution_count": null,
      "outputs": []
    },
    {
      "cell_type": "code",
      "metadata": {
        "id": "-4vRBXhQ505p"
      },
      "source": [
        "nearest_neighbors_cosine.sort('rank')"
      ],
      "execution_count": null,
      "outputs": []
    },
    {
      "cell_type": "markdown",
      "metadata": {
        "id": "rTsCxDTm505p"
      },
      "source": [
        "From a glance at the above table, things look better.  For example, we now see Joe Biden as Barack Obama's nearest neighbor!  We also see Hillary Clinton on the list.  This list looks even more plausible as nearest neighbors of Barack Obama.\n",
        "\n",
        "Let's make a plot to better visualize the effect of having used cosine distance in place of Euclidean on our TF-IDF vectors."
      ]
    },
    {
      "cell_type": "code",
      "metadata": {
        "id": "p2w-A87M505p"
      },
      "source": [
        "plt.figure(figsize=(10.5,4.5))\n",
        "plt.figure(figsize=(10.5,4.5))\n",
        "plt.hist(wiki['length'], 50, color='k', edgecolor='None', histtype='stepfilled', normed=True,\n",
        "         label='Entire Wikipedia', zorder=3, alpha=0.8)\n",
        "plt.hist(nearest_neighbors_euclidean['length'], 50, color='r', edgecolor='None', histtype='stepfilled', normed=True,\n",
        "         label='100 NNs of Obama (Euclidean)', zorder=10, alpha=0.8)\n",
        "plt.hist(nearest_neighbors_cosine['length'], 50, color='b', edgecolor='None', histtype='stepfilled', normed=True,\n",
        "         label='100 NNs of Obama (cosine)', zorder=11, alpha=0.8)\n",
        "plt.axvline(x=wiki['length'][wiki['name'] == 'Barack Obama'][0], color='k', linestyle='--', linewidth=4,\n",
        "           label='Length of Barack Obama', zorder=2)\n",
        "plt.axvline(x=wiki['length'][wiki['name'] == 'Joe Biden'][0], color='g', linestyle='--', linewidth=4,\n",
        "           label='Length of Joe Biden', zorder=1)\n",
        "plt.axis([0, 1000, 0, 0.04])\n",
        "plt.legend(loc='best', prop={'size':15})\n",
        "plt.title('Distribution of document length')\n",
        "plt.xlabel('# of words')\n",
        "plt.ylabel('Percentage')\n",
        "plt.rcParams.update({'font.size': 16})\n",
        "plt.tight_layout()"
      ],
      "execution_count": null,
      "outputs": []
    },
    {
      "cell_type": "markdown",
      "metadata": {
        "id": "S-WjeSDs505q"
      },
      "source": [
        "Indeed, the 100 nearest neighbors using cosine distance provide a sampling across the range of document lengths, rather than just short articles like Euclidean distance provided."
      ]
    },
    {
      "cell_type": "markdown",
      "metadata": {
        "id": "OMF9EEBC505q"
      },
      "source": [
        "**Moral of the story**: In deciding the features and distance measures, check if they produce results that make sense for your particular application."
      ]
    },
    {
      "cell_type": "markdown",
      "metadata": {
        "id": "J-JvgGAa505q"
      },
      "source": [
        "# Problem with cosine distances: tweets vs. long articles"
      ]
    },
    {
      "cell_type": "markdown",
      "metadata": {
        "id": "RXiD_2n5505q"
      },
      "source": [
        "Happily ever after? Not so fast. Cosine distances ignore all document lengths, which may be great in certain situations but not in others. For instance, consider the following (admittedly contrived) example."
      ]
    },
    {
      "cell_type": "markdown",
      "metadata": {
        "id": "k7D4huE7505q"
      },
      "source": [
        "```\n",
        "+--------------------------------------------------------+\n",
        "|                                             +--------+ |\n",
        "|  One that shall not be named                | Follow | |\n",
        "|  @username                                  +--------+ |\n",
        "|                                                        |\n",
        "|  Democratic governments control law in response to     |\n",
        "|  popular act.                                          |\n",
        "|                                                        |\n",
        "|  8:05 AM - 16 May 2016                                 |\n",
        "|                                                        |\n",
        "|  Reply   Retweet (1,332)   Like (300)                  |\n",
        "|                                                        |\n",
        "+--------------------------------------------------------+\n",
        "```"
      ]
    },
    {
      "cell_type": "markdown",
      "metadata": {
        "id": "eWHcXdiY505q"
      },
      "source": [
        "How similar is this tweet to Barack Obama's Wikipedia article? Let's transform the tweet into TF-IDF features, using an encoder fit to the Wikipedia dataset.  (That is, let's treat this tweet as an article in our Wikipedia dataset and see what happens.)"
      ]
    },
    {
      "cell_type": "code",
      "metadata": {
        "id": "teluOTtw505q"
      },
      "source": [
        "sf = turicreate.SFrame({'text': ['democratic governments control law in response to popular act']})\n",
        "sf['word_count'] = turicreate.text_analytics.count_words(sf['text'])\n",
        "\n",
        "encoder = turicreate.toolkits._feature_engineering.TFIDF(features=['word_count'], output_column_prefix='tf_idf')\n",
        "encoder.fit(wiki)\n",
        "sf = encoder.transform(sf)\n",
        "sf"
      ],
      "execution_count": null,
      "outputs": []
    },
    {
      "cell_type": "markdown",
      "metadata": {
        "id": "ncJEEFlm505q"
      },
      "source": [
        "Let's look at the TF-IDF vectors for this tweet and for Barack Obama's Wikipedia entry, just to visually see their differences."
      ]
    },
    {
      "cell_type": "code",
      "metadata": {
        "id": "PBbf33uA505r"
      },
      "source": [
        "tweet_tf_idf = sf[0]['tf_idf.word_count']\n",
        "tweet_tf_idf"
      ],
      "execution_count": null,
      "outputs": []
    },
    {
      "cell_type": "code",
      "metadata": {
        "id": "UHIMn-Hh505r"
      },
      "source": [
        "obama = wiki[wiki['name'] == 'Barack Obama']\n",
        "obama"
      ],
      "execution_count": null,
      "outputs": []
    },
    {
      "cell_type": "markdown",
      "metadata": {
        "id": "yLZ9Ln0Y505r"
      },
      "source": [
        "Now, compute the cosine distance between the Barack Obama article and this tweet:"
      ]
    },
    {
      "cell_type": "code",
      "metadata": {
        "id": "PSekrC2J505r"
      },
      "source": [
        "obama_tf_idf = obama[0]['tf_idf']\n",
        "turicreate.toolkits.distances.cosine(obama_tf_idf, tweet_tf_idf)"
      ],
      "execution_count": null,
      "outputs": []
    },
    {
      "cell_type": "markdown",
      "metadata": {
        "id": "tOvIU2w4505r"
      },
      "source": [
        "Let's compare this distance to the distance between the Barack Obama article and all of its Wikipedia 10 nearest neighbors:"
      ]
    },
    {
      "cell_type": "code",
      "metadata": {
        "id": "rsqH5YCc505r"
      },
      "source": [
        "model2_tf_idf.query(obama, label='name', k=10)"
      ],
      "execution_count": null,
      "outputs": []
    },
    {
      "cell_type": "markdown",
      "metadata": {
        "id": "IJ3aJvRH505r"
      },
      "source": [
        "With cosine distances, the tweet is \"nearer\" to Barack Obama than everyone else, except for Joe Biden!  This probably is not something we want. If someone is reading the Barack Obama Wikipedia page, would you want to recommend they read this tweet? Ignoring article lengths completely resulted in nonsensical results. In practice, it is common to enforce maximum or minimum document lengths. After all, when someone is reading a long article from _The Atlantic_, you wouldn't recommend him/her a tweet."
      ]
    }
  ]
}