{
  "nbformat": 4,
  "nbformat_minor": 0,
  "metadata": {
    "kernelspec": {
      "display_name": "Python 3",
      "language": "python",
      "name": "python3"
    },
    "language_info": {
      "codemirror_mode": {
        "name": "ipython",
        "version": 3
      },
      "file_extension": ".py",
      "mimetype": "text/x-python",
      "name": "python",
      "nbconvert_exporter": "python",
      "pygments_lexer": "ipython3",
      "version": "3.6.8"
    },
    "colab": {
      "name": "CLU02-NB01.ipynb",
      "provenance": []
    }
  },
  "cells": [
    {
      "cell_type": "markdown",
      "metadata": {
        "id": "OcYxElYy505c"
      },
      "source": [
        "# Nearest Neighbors"
      ]
    },
    {
      "cell_type": "markdown",
      "metadata": {
        "id": "iZn96Rk9505d"
      },
      "source": [
        "When exploring a large set of documents -- such as Wikipedia, news articles, StackOverflow, etc. -- it can be useful to get a list of related material. To find relevant documents we typically\n",
        "* Decide on a notion of similarity\n",
        "* Find the documents that are most similar \n",
        "\n",
        "In this notebook we will\n",
        "* Gain intuition for different notions of similarity and practice finding similar documents. \n",
        "* Explore the tradeoffs with representing documents using raw word counts and TF-IDF\n",
        "* Explore the behavior of different distance metrics by looking at the book recommendations from Joe Dobrow's Dataset [\"57,000 Books with Metadata and 'Blurbs'\"](https://www.kaggle.com/jdobrow/57000-books-with-metadata-and-blurbs) and their complementarity to answers to a \"Big 5 personality traits survey\"."
      ]
    },
    {
      "cell_type": "markdown",
      "metadata": {
        "id": "e6S09D3e505d"
      },
      "source": [
        "**Note to Amazon EC2 users**: To conserve memory, make sure to stop all the other notebooks before running this notebook."
      ]
    },
    {
      "cell_type": "markdown",
      "metadata": {
        "id": "tGDLSjUU6_At"
      },
      "source": [
        "## Download & unzip necessary data"
      ]
    },
    {
      "cell_type": "code",
      "metadata": {
        "colab": {
          "base_uri": "https://localhost:8080/"
        },
        "id": "FVzE3Z_S6qX1",
        "outputId": "ec2ba56c-46b1-40eb-af5d-8906af6a47e1"
      },
      "source": [
        "!wget -O \"people_wiki.sframe.zip\" \"https://d3c33hcgiwev3.cloudfront.net/i5zBDt4bEemhxxJUtZcQoA_7fb43aab245846f09a8c48977883f0b6_people_wiki.sframe.zip?Expires=1617753600&Signature=KKuh1yZT5fslj~6ALSez4KJIhayspaGyJ5~vMXxYsjF28RasYbUw6Hq4aYqObnYQ8J4Hzl1oJ5TY9FO0NIZYMWbaZCkNpjL5DWT01V~ENHhISWSTthQaZGnP7xYANqsnS0X3a4pVOCKHSqo2hzH9cQL0EpRxwA~HUvUbMZDc5ws_&Key-Pair-Id=APKAJLTNE6QMUY6HBC5A\""
      ],
      "execution_count": null,
      "outputs": [
        {
          "output_type": "stream",
          "text": [
            "--2021-04-05 21:23:41--  https://d3c33hcgiwev3.cloudfront.net/i5zBDt4bEemhxxJUtZcQoA_7fb43aab245846f09a8c48977883f0b6_people_wiki.sframe.zip?Expires=1617753600&Signature=KKuh1yZT5fslj~6ALSez4KJIhayspaGyJ5~vMXxYsjF28RasYbUw6Hq4aYqObnYQ8J4Hzl1oJ5TY9FO0NIZYMWbaZCkNpjL5DWT01V~ENHhISWSTthQaZGnP7xYANqsnS0X3a4pVOCKHSqo2hzH9cQL0EpRxwA~HUvUbMZDc5ws_&Key-Pair-Id=APKAJLTNE6QMUY6HBC5A\n",
            "Resolving d3c33hcgiwev3.cloudfront.net (d3c33hcgiwev3.cloudfront.net)... 13.32.80.109, 13.32.80.173, 13.32.80.218, ...\n",
            "Connecting to d3c33hcgiwev3.cloudfront.net (d3c33hcgiwev3.cloudfront.net)|13.32.80.109|:443... connected.\n",
            "HTTP request sent, awaiting response... 200 OK\n",
            "Length: 58971371 (56M) [application/zip]\n",
            "Saving to: ‘people_wiki.sframe.zip’\n",
            "\n",
            "people_wiki.sframe. 100%[===================>]  56.24M  34.6MB/s    in 1.6s    \n",
            "\n",
            "2021-04-05 21:23:43 (34.6 MB/s) - ‘people_wiki.sframe.zip’ saved [58971371/58971371]\n",
            "\n"
          ],
          "name": "stdout"
        }
      ]
    },
    {
      "cell_type": "code",
      "metadata": {
        "colab": {
          "base_uri": "https://localhost:8080/"
        },
        "id": "K-f7tCW38nbE",
        "outputId": "2c1d6071-1440-41e2-c512-b40e976ce32d"
      },
      "source": [
        "!wget -O \"archive.zip\" \"https://github.com/TBrockmeyer/big5-book-recommendation/raw/main/archive.zip\""
      ],
      "execution_count": 1,
      "outputs": [
        {
          "output_type": "stream",
          "text": [
            "--2021-04-10 08:31:56--  https://github.com/TBrockmeyer/big5-book-recommendation/raw/main/archive.zip\n",
            "Resolving github.com (github.com)... 140.82.112.4\n",
            "Connecting to github.com (github.com)|140.82.112.4|:443... connected.\n",
            "HTTP request sent, awaiting response... 302 Found\n",
            "Location: https://raw.githubusercontent.com/TBrockmeyer/big5-book-recommendation/main/archive.zip [following]\n",
            "--2021-04-10 08:31:57--  https://raw.githubusercontent.com/TBrockmeyer/big5-book-recommendation/main/archive.zip\n",
            "Resolving raw.githubusercontent.com (raw.githubusercontent.com)... 185.199.109.133, 185.199.108.133, 185.199.110.133, ...\n",
            "Connecting to raw.githubusercontent.com (raw.githubusercontent.com)|185.199.109.133|:443... connected.\n",
            "HTTP request sent, awaiting response... 200 OK\n",
            "Length: 19256426 (18M) [application/zip]\n",
            "Saving to: ‘archive.zip’\n",
            "\n",
            "archive.zip         100%[===================>]  18.36M  --.-KB/s    in 0.1s    \n",
            "\n",
            "2021-04-10 08:31:57 (136 MB/s) - ‘archive.zip’ saved [19256426/19256426]\n",
            "\n"
          ],
          "name": "stdout"
        }
      ]
    },
    {
      "cell_type": "code",
      "metadata": {
        "colab": {
          "base_uri": "https://localhost:8080/"
        },
        "id": "Pth5kfLD9eAT",
        "outputId": "c4f72473-6169-46a6-950b-82393161d46c"
      },
      "source": [
        "!ls"
      ],
      "execution_count": 2,
      "outputs": [
        {
          "output_type": "stream",
          "text": [
            "archive.zip  sample_data\n"
          ],
          "name": "stdout"
        }
      ]
    },
    {
      "cell_type": "code",
      "metadata": {
        "colab": {
          "base_uri": "https://localhost:8080/"
        },
        "id": "y5USsPEE7zA1",
        "outputId": "a5c6f8af-679a-4314-f480-84d7b779d01a"
      },
      "source": [
        "!unzip people_wiki.sframe.zip"
      ],
      "execution_count": null,
      "outputs": [
        {
          "output_type": "stream",
          "text": [
            "Archive:  people_wiki.sframe.zip\n",
            "   creating: people_wiki.sframe/\n",
            "  inflating: people_wiki.sframe/m_cf05efad0f89a530.frame_idx  \n",
            "   creating: __MACOSX/\n",
            "   creating: __MACOSX/people_wiki.sframe/\n",
            "  inflating: __MACOSX/people_wiki.sframe/._m_cf05efad0f89a530.frame_idx  \n",
            "  inflating: people_wiki.sframe/m_cf05efad0f89a530.0000  \n",
            "  inflating: __MACOSX/people_wiki.sframe/._m_cf05efad0f89a530.0000  \n",
            "  inflating: people_wiki.sframe/dir_archive.ini  \n",
            "  inflating: __MACOSX/people_wiki.sframe/._dir_archive.ini  \n",
            "  inflating: people_wiki.sframe/m_cf05efad0f89a530.sidx  \n",
            "  inflating: __MACOSX/people_wiki.sframe/._m_cf05efad0f89a530.sidx  \n",
            " extracting: people_wiki.sframe/objects.bin  \n",
            "  inflating: __MACOSX/people_wiki.sframe/._objects.bin  \n",
            "  inflating: __MACOSX/._people_wiki.sframe  \n"
          ],
          "name": "stdout"
        }
      ]
    },
    {
      "cell_type": "code",
      "metadata": {
        "colab": {
          "base_uri": "https://localhost:8080/"
        },
        "id": "LvpFc7_h9h25",
        "outputId": "0073b36e-6de3-4d18-e7e1-fc4c3574fda2"
      },
      "source": [
        "!unzip archive.zip"
      ],
      "execution_count": 3,
      "outputs": [
        {
          "output_type": "stream",
          "text": [
            "Archive:  archive.zip\n",
            "  inflating: books_with_blurbs.csv   \n"
          ],
          "name": "stdout"
        }
      ]
    },
    {
      "cell_type": "markdown",
      "metadata": {
        "id": "r2IGaWI26mH_"
      },
      "source": [
        "## Install required packages"
      ]
    },
    {
      "cell_type": "code",
      "metadata": {
        "colab": {
          "base_uri": "https://localhost:8080/"
        },
        "id": "XRXrkphE7GAa",
        "outputId": "4cee719b-8b01-46b2-ade9-53c4971db791"
      },
      "source": [
        "!pip install -U turicreate"
      ],
      "execution_count": 4,
      "outputs": [
        {
          "output_type": "stream",
          "text": [
            "Collecting turicreate\n",
            "\u001b[?25l  Downloading https://files.pythonhosted.org/packages/25/9f/a76acc465d873d217f05eac4846bd73d640b9db6d6f4a3c29ad92650fbbe/turicreate-6.4.1-cp37-cp37m-manylinux1_x86_64.whl (92.0MB)\n",
            "\u001b[K     |████████████████████████████████| 92.0MB 40kB/s \n",
            "\u001b[?25hCollecting coremltools==3.3\n",
            "\u001b[?25l  Downloading https://files.pythonhosted.org/packages/1b/1d/b1a99beca7355b6a026ae61fd8d3d36136e5b36f13e92ec5f81aceffc7f1/coremltools-3.3-cp37-none-manylinux1_x86_64.whl (3.5MB)\n",
            "\u001b[K     |████████████████████████████████| 3.5MB 49.8MB/s \n",
            "\u001b[?25hRequirement already satisfied, skipping upgrade: pillow>=5.2.0 in /usr/local/lib/python3.7/dist-packages (from turicreate) (7.1.2)\n",
            "Collecting tensorflow<2.1.0,>=2.0.0\n",
            "\u001b[?25l  Downloading https://files.pythonhosted.org/packages/3c/b3/3eeae9bc44039ceadceac0c7ba1cc8b1482b172810b3d7624a1cad251437/tensorflow-2.0.4-cp37-cp37m-manylinux2010_x86_64.whl (86.4MB)\n",
            "\u001b[K     |████████████████████████████████| 86.4MB 48kB/s \n",
            "\u001b[?25hRequirement already satisfied, skipping upgrade: pandas>=0.23.2 in /usr/local/lib/python3.7/dist-packages (from turicreate) (1.1.5)\n",
            "Collecting resampy==0.2.1\n",
            "\u001b[?25l  Downloading https://files.pythonhosted.org/packages/14/b6/66a06d85474190b50aee1a6c09cdc95bb405ac47338b27e9b21409da1760/resampy-0.2.1.tar.gz (322kB)\n",
            "\u001b[K     |████████████████████████████████| 327kB 42.3MB/s \n",
            "\u001b[?25hCollecting prettytable==0.7.2\n",
            "  Downloading https://files.pythonhosted.org/packages/ef/30/4b0746848746ed5941f052479e7c23d2b56d174b82f4fd34a25e389831f5/prettytable-0.7.2.tar.bz2\n",
            "Requirement already satisfied, skipping upgrade: six>=1.10.0 in /usr/local/lib/python3.7/dist-packages (from turicreate) (1.15.0)\n",
            "Collecting numba<0.51.0\n",
            "\u001b[?25l  Downloading https://files.pythonhosted.org/packages/04/be/8c88cee3366de2a3a23a9ff1a8be34e79ad1eb1ceb0d0e33aca83655ac3c/numba-0.50.1-cp37-cp37m-manylinux2014_x86_64.whl (3.6MB)\n",
            "\u001b[K     |████████████████████████████████| 3.6MB 40.9MB/s \n",
            "\u001b[?25hRequirement already satisfied, skipping upgrade: scipy>=1.1.0 in /usr/local/lib/python3.7/dist-packages (from turicreate) (1.4.1)\n",
            "Requirement already satisfied, skipping upgrade: numpy in /usr/local/lib/python3.7/dist-packages (from turicreate) (1.19.5)\n",
            "Requirement already satisfied, skipping upgrade: decorator>=4.0.9 in /usr/local/lib/python3.7/dist-packages (from turicreate) (4.4.2)\n",
            "Requirement already satisfied, skipping upgrade: requests>=2.9.1 in /usr/local/lib/python3.7/dist-packages (from turicreate) (2.23.0)\n",
            "Requirement already satisfied, skipping upgrade: protobuf>=3.1.0 in /usr/local/lib/python3.7/dist-packages (from coremltools==3.3->turicreate) (3.12.4)\n",
            "Collecting tensorboard<2.1.0,>=2.0.0\n",
            "\u001b[?25l  Downloading https://files.pythonhosted.org/packages/76/54/99b9d5d52d5cb732f099baaaf7740403e83fe6b0cedde940fabd2b13d75a/tensorboard-2.0.2-py3-none-any.whl (3.8MB)\n",
            "\u001b[K     |████████████████████████████████| 3.8MB 40.7MB/s \n",
            "\u001b[?25hCollecting tensorflow-estimator<2.1.0,>=2.0.0\n",
            "\u001b[?25l  Downloading https://files.pythonhosted.org/packages/fc/08/8b927337b7019c374719145d1dceba21a8bb909b93b1ad6f8fb7d22c1ca1/tensorflow_estimator-2.0.1-py2.py3-none-any.whl (449kB)\n",
            "\u001b[K     |████████████████████████████████| 450kB 20.2MB/s \n",
            "\u001b[?25hRequirement already satisfied, skipping upgrade: termcolor>=1.1.0 in /usr/local/lib/python3.7/dist-packages (from tensorflow<2.1.0,>=2.0.0->turicreate) (1.1.0)\n",
            "Requirement already satisfied, skipping upgrade: opt-einsum>=2.3.2 in /usr/local/lib/python3.7/dist-packages (from tensorflow<2.1.0,>=2.0.0->turicreate) (3.3.0)\n",
            "Requirement already satisfied, skipping upgrade: absl-py>=0.7.0 in /usr/local/lib/python3.7/dist-packages (from tensorflow<2.1.0,>=2.0.0->turicreate) (0.12.0)\n",
            "Collecting gast==0.2.2\n",
            "  Downloading https://files.pythonhosted.org/packages/4e/35/11749bf99b2d4e3cceb4d55ca22590b0d7c2c62b9de38ac4a4a7f4687421/gast-0.2.2.tar.gz\n",
            "Requirement already satisfied, skipping upgrade: wrapt>=1.11.1 in /usr/local/lib/python3.7/dist-packages (from tensorflow<2.1.0,>=2.0.0->turicreate) (1.12.1)\n",
            "Requirement already satisfied, skipping upgrade: grpcio>=1.8.6 in /usr/local/lib/python3.7/dist-packages (from tensorflow<2.1.0,>=2.0.0->turicreate) (1.32.0)\n",
            "Requirement already satisfied, skipping upgrade: keras-preprocessing>=1.0.5 in /usr/local/lib/python3.7/dist-packages (from tensorflow<2.1.0,>=2.0.0->turicreate) (1.1.2)\n",
            "Requirement already satisfied, skipping upgrade: wheel>=0.26; python_version >= \"3\" in /usr/local/lib/python3.7/dist-packages (from tensorflow<2.1.0,>=2.0.0->turicreate) (0.36.2)\n",
            "Requirement already satisfied, skipping upgrade: google-pasta>=0.1.6 in /usr/local/lib/python3.7/dist-packages (from tensorflow<2.1.0,>=2.0.0->turicreate) (0.2.0)\n",
            "Requirement already satisfied, skipping upgrade: astor>=0.6.0 in /usr/local/lib/python3.7/dist-packages (from tensorflow<2.1.0,>=2.0.0->turicreate) (0.8.1)\n",
            "Collecting keras-applications>=1.0.8\n",
            "\u001b[?25l  Downloading https://files.pythonhosted.org/packages/71/e3/19762fdfc62877ae9102edf6342d71b28fbfd9dea3d2f96a882ce099b03f/Keras_Applications-1.0.8-py3-none-any.whl (50kB)\n",
            "\u001b[K     |████████████████████████████████| 51kB 6.0MB/s \n",
            "\u001b[?25hRequirement already satisfied, skipping upgrade: h5py<=2.10.0 in /usr/local/lib/python3.7/dist-packages (from tensorflow<2.1.0,>=2.0.0->turicreate) (2.10.0)\n",
            "Requirement already satisfied, skipping upgrade: python-dateutil>=2.7.3 in /usr/local/lib/python3.7/dist-packages (from pandas>=0.23.2->turicreate) (2.8.1)\n",
            "Requirement already satisfied, skipping upgrade: pytz>=2017.2 in /usr/local/lib/python3.7/dist-packages (from pandas>=0.23.2->turicreate) (2018.9)\n",
            "Collecting llvmlite<0.34,>=0.33.0.dev0\n",
            "\u001b[?25l  Downloading https://files.pythonhosted.org/packages/0a/28/0a35b3c2685bf2ea327cef5577bdf91f387f0f4594417a2a05a1d42fb7c2/llvmlite-0.33.0-cp37-cp37m-manylinux1_x86_64.whl (18.3MB)\n",
            "\u001b[K     |████████████████████████████████| 18.3MB 122kB/s \n",
            "\u001b[?25hRequirement already satisfied, skipping upgrade: setuptools in /usr/local/lib/python3.7/dist-packages (from numba<0.51.0->turicreate) (54.2.0)\n",
            "Requirement already satisfied, skipping upgrade: certifi>=2017.4.17 in /usr/local/lib/python3.7/dist-packages (from requests>=2.9.1->turicreate) (2020.12.5)\n",
            "Requirement already satisfied, skipping upgrade: idna<3,>=2.5 in /usr/local/lib/python3.7/dist-packages (from requests>=2.9.1->turicreate) (2.10)\n",
            "Requirement already satisfied, skipping upgrade: urllib3!=1.25.0,!=1.25.1,<1.26,>=1.21.1 in /usr/local/lib/python3.7/dist-packages (from requests>=2.9.1->turicreate) (1.24.3)\n",
            "Requirement already satisfied, skipping upgrade: chardet<4,>=3.0.2 in /usr/local/lib/python3.7/dist-packages (from requests>=2.9.1->turicreate) (3.0.4)\n",
            "Requirement already satisfied, skipping upgrade: google-auth-oauthlib<0.5,>=0.4.1 in /usr/local/lib/python3.7/dist-packages (from tensorboard<2.1.0,>=2.0.0->tensorflow<2.1.0,>=2.0.0->turicreate) (0.4.3)\n",
            "Requirement already satisfied, skipping upgrade: markdown>=2.6.8 in /usr/local/lib/python3.7/dist-packages (from tensorboard<2.1.0,>=2.0.0->tensorflow<2.1.0,>=2.0.0->turicreate) (3.3.4)\n",
            "Requirement already satisfied, skipping upgrade: google-auth<2,>=1.6.3 in /usr/local/lib/python3.7/dist-packages (from tensorboard<2.1.0,>=2.0.0->tensorflow<2.1.0,>=2.0.0->turicreate) (1.28.0)\n",
            "Requirement already satisfied, skipping upgrade: werkzeug>=0.11.15 in /usr/local/lib/python3.7/dist-packages (from tensorboard<2.1.0,>=2.0.0->tensorflow<2.1.0,>=2.0.0->turicreate) (1.0.1)\n",
            "Requirement already satisfied, skipping upgrade: requests-oauthlib>=0.7.0 in /usr/local/lib/python3.7/dist-packages (from google-auth-oauthlib<0.5,>=0.4.1->tensorboard<2.1.0,>=2.0.0->tensorflow<2.1.0,>=2.0.0->turicreate) (1.3.0)\n",
            "Requirement already satisfied, skipping upgrade: importlib-metadata; python_version < \"3.8\" in /usr/local/lib/python3.7/dist-packages (from markdown>=2.6.8->tensorboard<2.1.0,>=2.0.0->tensorflow<2.1.0,>=2.0.0->turicreate) (3.8.1)\n",
            "Requirement already satisfied, skipping upgrade: rsa<5,>=3.1.4; python_version >= \"3.6\" in /usr/local/lib/python3.7/dist-packages (from google-auth<2,>=1.6.3->tensorboard<2.1.0,>=2.0.0->tensorflow<2.1.0,>=2.0.0->turicreate) (4.7.2)\n",
            "Requirement already satisfied, skipping upgrade: pyasn1-modules>=0.2.1 in /usr/local/lib/python3.7/dist-packages (from google-auth<2,>=1.6.3->tensorboard<2.1.0,>=2.0.0->tensorflow<2.1.0,>=2.0.0->turicreate) (0.2.8)\n",
            "Requirement already satisfied, skipping upgrade: cachetools<5.0,>=2.0.0 in /usr/local/lib/python3.7/dist-packages (from google-auth<2,>=1.6.3->tensorboard<2.1.0,>=2.0.0->tensorflow<2.1.0,>=2.0.0->turicreate) (4.2.1)\n",
            "Requirement already satisfied, skipping upgrade: oauthlib>=3.0.0 in /usr/local/lib/python3.7/dist-packages (from requests-oauthlib>=0.7.0->google-auth-oauthlib<0.5,>=0.4.1->tensorboard<2.1.0,>=2.0.0->tensorflow<2.1.0,>=2.0.0->turicreate) (3.1.0)\n",
            "Requirement already satisfied, skipping upgrade: zipp>=0.5 in /usr/local/lib/python3.7/dist-packages (from importlib-metadata; python_version < \"3.8\"->markdown>=2.6.8->tensorboard<2.1.0,>=2.0.0->tensorflow<2.1.0,>=2.0.0->turicreate) (3.4.1)\n",
            "Requirement already satisfied, skipping upgrade: typing-extensions>=3.6.4; python_version < \"3.8\" in /usr/local/lib/python3.7/dist-packages (from importlib-metadata; python_version < \"3.8\"->markdown>=2.6.8->tensorboard<2.1.0,>=2.0.0->tensorflow<2.1.0,>=2.0.0->turicreate) (3.7.4.3)\n",
            "Requirement already satisfied, skipping upgrade: pyasn1>=0.1.3 in /usr/local/lib/python3.7/dist-packages (from rsa<5,>=3.1.4; python_version >= \"3.6\"->google-auth<2,>=1.6.3->tensorboard<2.1.0,>=2.0.0->tensorflow<2.1.0,>=2.0.0->turicreate) (0.4.8)\n",
            "Building wheels for collected packages: resampy, prettytable, gast\n",
            "  Building wheel for resampy (setup.py) ... \u001b[?25l\u001b[?25hdone\n",
            "  Created wheel for resampy: filename=resampy-0.2.1-cp37-none-any.whl size=320845 sha256=050f42acf12e6e9dbe94f0a87c956bd48cc54e4f59f0cc14290403c9ef040f4e\n",
            "  Stored in directory: /root/.cache/pip/wheels/ff/4f/ed/2e6c676c23efe5394bb40ade50662e90eb46e29b48324c5f9b\n",
            "  Building wheel for prettytable (setup.py) ... \u001b[?25l\u001b[?25hdone\n",
            "  Created wheel for prettytable: filename=prettytable-0.7.2-cp37-none-any.whl size=13700 sha256=f0153cb4a1de3a4354707702a3a32d9099214ca1b3fb52e340a30fb5b9a08a91\n",
            "  Stored in directory: /root/.cache/pip/wheels/80/34/1c/3967380d9676d162cb59513bd9dc862d0584e045a162095606\n",
            "  Building wheel for gast (setup.py) ... \u001b[?25l\u001b[?25hdone\n",
            "  Created wheel for gast: filename=gast-0.2.2-cp37-none-any.whl size=7540 sha256=6f86187077aae1603e73631d77a71d0dd666af05f731ae4f93bbf50b677be19a\n",
            "  Stored in directory: /root/.cache/pip/wheels/5c/2e/7e/a1d4d4fcebe6c381f378ce7743a3ced3699feb89bcfbdadadd\n",
            "Successfully built resampy prettytable gast\n",
            "\u001b[31mERROR: tensorflow 2.0.4 has requirement numpy<1.19.0,>=1.16.0, but you'll have numpy 1.19.5 which is incompatible.\u001b[0m\n",
            "\u001b[31mERROR: tensorflow-probability 0.12.1 has requirement gast>=0.3.2, but you'll have gast 0.2.2 which is incompatible.\u001b[0m\n",
            "\u001b[31mERROR: librosa 0.8.0 has requirement resampy>=0.2.2, but you'll have resampy 0.2.1 which is incompatible.\u001b[0m\n",
            "Installing collected packages: coremltools, tensorboard, tensorflow-estimator, gast, keras-applications, tensorflow, llvmlite, numba, resampy, prettytable, turicreate\n",
            "  Found existing installation: tensorboard 2.4.1\n",
            "    Uninstalling tensorboard-2.4.1:\n",
            "      Successfully uninstalled tensorboard-2.4.1\n",
            "  Found existing installation: tensorflow-estimator 2.4.0\n",
            "    Uninstalling tensorflow-estimator-2.4.0:\n",
            "      Successfully uninstalled tensorflow-estimator-2.4.0\n",
            "  Found existing installation: gast 0.3.3\n",
            "    Uninstalling gast-0.3.3:\n",
            "      Successfully uninstalled gast-0.3.3\n",
            "  Found existing installation: tensorflow 2.4.1\n",
            "    Uninstalling tensorflow-2.4.1:\n",
            "      Successfully uninstalled tensorflow-2.4.1\n",
            "  Found existing installation: llvmlite 0.34.0\n",
            "    Uninstalling llvmlite-0.34.0:\n",
            "      Successfully uninstalled llvmlite-0.34.0\n",
            "  Found existing installation: numba 0.51.2\n",
            "    Uninstalling numba-0.51.2:\n",
            "      Successfully uninstalled numba-0.51.2\n",
            "  Found existing installation: resampy 0.2.2\n",
            "    Uninstalling resampy-0.2.2:\n",
            "      Successfully uninstalled resampy-0.2.2\n",
            "  Found existing installation: prettytable 2.1.0\n",
            "    Uninstalling prettytable-2.1.0:\n",
            "      Successfully uninstalled prettytable-2.1.0\n",
            "Successfully installed coremltools-3.3 gast-0.2.2 keras-applications-1.0.8 llvmlite-0.33.0 numba-0.50.1 prettytable-0.7.2 resampy-0.2.1 tensorboard-2.0.2 tensorflow-2.0.4 tensorflow-estimator-2.0.1 turicreate-6.4.1\n"
          ],
          "name": "stdout"
        }
      ]
    },
    {
      "cell_type": "markdown",
      "metadata": {
        "id": "7GHf6Ok7505e"
      },
      "source": [
        "## Import necessary packages"
      ]
    },
    {
      "cell_type": "markdown",
      "metadata": {
        "id": "QpWTDMzP505e"
      },
      "source": [
        "As usual we need to first import the Python packages that we will need."
      ]
    },
    {
      "cell_type": "code",
      "metadata": {
        "id": "1PMhOByS505f"
      },
      "source": [
        "from __future__ import print_function # to conform python 2.x print to python 3.x\n",
        "import turicreate\n",
        "import matplotlib.pyplot as plt\n",
        "import numpy as np\n",
        "%matplotlib inline"
      ],
      "execution_count": 5,
      "outputs": []
    },
    {
      "cell_type": "markdown",
      "metadata": {
        "id": "8DeleSXO505f"
      },
      "source": [
        "## Load Books dataset"
      ]
    },
    {
      "cell_type": "markdown",
      "metadata": {
        "id": "3adWk9Xd505f"
      },
      "source": [
        "We will be using the same dataset of Wikipedia pages that we used in the Machine Learning Foundations course (Course 1). Each element of the dataset consists of a link to the wikipedia article, the name of the person, and the text of the article (in lowercase).  "
      ]
    },
    {
      "cell_type": "code",
      "metadata": {
        "id": "XN428Ka8505f"
      },
      "source": [
        "wiki = turicreate.SFrame('people_wiki.sframe')"
      ],
      "execution_count": null,
      "outputs": []
    },
    {
      "cell_type": "code",
      "metadata": {
        "colab": {
          "base_uri": "https://localhost:8080/",
          "height": 1000
        },
        "id": "dI_tCXAk9nbQ",
        "outputId": "6c7a7e50-f67e-4164-92c0-044b966b781f"
      },
      "source": [
        "books = turicreate.SFrame('books_with_blurbs.csv')"
      ],
      "execution_count": 121,
      "outputs": [
        {
          "output_type": "display_data",
          "data": {
            "text/html": [
              "<pre>Unexpected characters after last column. \"The World's Stupidest Signs\"\n",
              "Parse failed at token ending at: \n",
              "\tf his own strength.\"\n",
              "1854795554,The World's Stupidest Signs,\u001b[1;31m^\u001b[0mMichael O'Mara,2000,Michael O'Mara Books,\"A biza\n",
              "Successfully parsed 6 tokens: \n",
              "\t0: 140292918\n",
              "\t1: Of Mice an ... ssentials\"\n",
              "\t2: John Steinbeck\n",
              "\t3: 2001\n",
              "\t4: Penguin Books Ltd\n",
              "\t5: As drifter ...  strength.</pre>"
            ],
            "text/plain": [
              "Unexpected characters after last column. \"The World's Stupidest Signs\"\n",
              "Parse failed at token ending at: \n",
              "\tf his own strength.\"\n",
              "1854795554,The World's Stupidest Signs,\u001b[1;31m^\u001b[0mMichael O'Mara,2000,Michael O'Mara Books,\"A biza\n",
              "Successfully parsed 6 tokens: \n",
              "\t0: 140292918\n",
              "\t1: Of Mice an ... ssentials\"\n",
              "\t2: John Steinbeck\n",
              "\t3: 2001\n",
              "\t4: Penguin Books Ltd\n",
              "\t5: As drifter ...  strength."
            ]
          },
          "metadata": {
            "tags": []
          }
        },
        {
          "output_type": "display_data",
          "data": {
            "text/html": [
              "<pre>Unexpected characters after last column. \"\"\n",
              "Parse failed at token ending at: \n",
              "\t revisits the territory covered in his young adult novel, ,,\u001b[1;31m^\u001b[0m which was likewise set in the hardscrabble worl\n",
              "Successfully parsed 6 tokens: \n",
              "\t0: \n",
              "\t1: Much of\n",
              "\t2: -- winner  ... ng novella\n",
              "\t3: \n",
              "\t4: \n",
              "\t5:</pre>"
            ],
            "text/plain": [
              "Unexpected characters after last column. \"\"\n",
              "Parse failed at token ending at: \n",
              "\t revisits the territory covered in his young adult novel, ,,\u001b[1;31m^\u001b[0m which was likewise set in the hardscrabble worl\n",
              "Successfully parsed 6 tokens: \n",
              "\t0: \n",
              "\t1: Much of\n",
              "\t2: -- winner  ... ng novella\n",
              "\t3: \n",
              "\t4: \n",
              "\t5:"
            ]
          },
          "metadata": {
            "tags": []
          }
        },
        {
          "output_type": "display_data",
          "data": {
            "text/html": [
              "<pre>Unexpected characters after last column. \"Kushiel's Avatar (Kushiel's Legacy)\"\n",
              "Parse failed at token ending at: \n",
              "\tman nature.\"\n",
              "0765347539,Kushiel's Avatar (Kushiel's Legacy),\u001b[1;31m^\u001b[0mJacqueline Carey,2004,Tor Fantasy,\"The land of T\n",
              "Successfully parsed 6 tokens: \n",
              "\t0: 449003787\n",
              "\t1: \\O\"\n",
              "\t2: SUE GRAFTON\n",
              "\t3: 2001\n",
              "\t4: Ballantine Books\n",
              "\t5: Through fo ... an nature.</pre>"
            ],
            "text/plain": [
              "Unexpected characters after last column. \"Kushiel's Avatar (Kushiel's Legacy)\"\n",
              "Parse failed at token ending at: \n",
              "\tman nature.\"\n",
              "0765347539,Kushiel's Avatar (Kushiel's Legacy),\u001b[1;31m^\u001b[0mJacqueline Carey,2004,Tor Fantasy,\"The land of T\n",
              "Successfully parsed 6 tokens: \n",
              "\t0: 449003787\n",
              "\t1: \\O\"\n",
              "\t2: SUE GRAFTON\n",
              "\t3: 2001\n",
              "\t4: Ballantine Books\n",
              "\t5: Through fo ... an nature."
            ]
          },
          "metadata": {
            "tags": []
          }
        },
        {
          "output_type": "display_data",
          "data": {
            "text/html": [
              "<pre>Unexpected characters after last column. \"The Strong-Willed Child: Birth Through Adolescence\"\n",
              "Parse failed at token ending at: \n",
              "\t4236661X,The Strong-Willed Child: Birth Through Adolescence,\u001b[1;31m^\u001b[0mJames Dobson,1985,Tyndale House Publishers,\"Dr D\n",
              "Successfully parsed 6 tokens: \n",
              "\t0: 1558743669\n",
              "\t1: A Child Called \\It\"\n",
              "\t2: Dave Pelzer\n",
              "\t3: 1995\n",
              "\t4: Health Communications\n",
              "\t5:  ,This boo ... their son.</pre>"
            ],
            "text/plain": [
              "Unexpected characters after last column. \"The Strong-Willed Child: Birth Through Adolescence\"\n",
              "Parse failed at token ending at: \n",
              "\t4236661X,The Strong-Willed Child: Birth Through Adolescence,\u001b[1;31m^\u001b[0mJames Dobson,1985,Tyndale House Publishers,\"Dr D\n",
              "Successfully parsed 6 tokens: \n",
              "\t0: 1558743669\n",
              "\t1: A Child Called \\It\"\n",
              "\t2: Dave Pelzer\n",
              "\t3: 1995\n",
              "\t4: Health Communications\n",
              "\t5:  ,This boo ... their son."
            ]
          },
          "metadata": {
            "tags": []
          }
        },
        {
          "output_type": "display_data",
          "data": {
            "text/html": [
              "<pre>Unexpected characters after last column. \"and tapes of the complete plays.  \"\n",
              "Parse failed at token ending at: \n",
              "\tideotapes (VHS), records, and tapes of the complete plays.  \n",
              "Successfully parsed 6 tokens: \n",
              "\t0: Background ... dramaturgy\n",
              "\t1: C. W. Hodg ...  Playhouse\n",
              "\t2: a brief ac ...  his works\n",
              "\t3: and a bibliography\n",
              "\t4: lists of v ... apes (VHS)\n",
              "\t5: records</pre>"
            ],
            "text/plain": [
              "Unexpected characters after last column. \"and tapes of the complete plays.  \"\n",
              "Parse failed at token ending at: \n",
              "\tideotapes (VHS), records, and tapes of the complete plays.  \n",
              "Successfully parsed 6 tokens: \n",
              "\t0: Background ... dramaturgy\n",
              "\t1: C. W. Hodg ...  Playhouse\n",
              "\t2: a brief ac ...  his works\n",
              "\t3: and a bibliography\n",
              "\t4: lists of v ... apes (VHS)\n",
              "\t5: records"
            ]
          },
          "metadata": {
            "tags": []
          }
        },
        {
          "output_type": "display_data",
          "data": {
            "text/html": [
              "<pre>Successfully parsed 2 tokens: \n",
              "\t0: Students w ...  a theatre\n",
              "\t1: but rather ... uggesting.</pre>"
            ],
            "text/plain": [
              "Successfully parsed 2 tokens: \n",
              "\t0: Students w ...  a theatre\n",
              "\t1: but rather ... uggesting."
            ]
          },
          "metadata": {
            "tags": []
          }
        },
        {
          "output_type": "display_data",
          "data": {
            "text/html": [
              "<pre>Successfully parsed 2 tokens: \n",
              "\t0: Students c ... gh helpful\n",
              "\t1: detailed q ... er papers.</pre>"
            ],
            "text/plain": [
              "Successfully parsed 2 tokens: \n",
              "\t0: Students c ... gh helpful\n",
              "\t1: detailed q ... er papers."
            ]
          },
          "metadata": {
            "tags": []
          }
        },
        {
          "output_type": "display_data",
          "data": {
            "text/html": [
              "<pre>Unexpected characters after last column. \"began to order them from a small store in London\"\n",
              "Parse failed at token ending at: \n",
              "\tcommended, began to order them from a small store in London,\u001b[1;31m^\u001b[0m at 84, Charing Cross Road. Thus began a corresp\n",
              "Successfully parsed 6 tokens: \n",
              "\t0: \n",
              "014008936 ... uin Books,\n",
              "\t1: \n",
              "\t2: and of all ... bridge don\n",
              "\t3: Sir Arthur ... Q’s book\n",
              "\t4: and\n",
              "\t5: wanting to ... ecommended</pre>"
            ],
            "text/plain": [
              "Unexpected characters after last column. \"began to order them from a small store in London\"\n",
              "Parse failed at token ending at: \n",
              "\tcommended, began to order them from a small store in London,\u001b[1;31m^\u001b[0m at 84, Charing Cross Road. Thus began a corresp\n",
              "Successfully parsed 6 tokens: \n",
              "\t0: \n",
              "014008936 ... uin Books,\n",
              "\t1: \n",
              "\t2: and of all ... bridge don\n",
              "\t3: Sir Arthur ... Q’s book\n",
              "\t4: and\n",
              "\t5: wanting to ... ecommended"
            ]
          },
          "metadata": {
            "tags": []
          }
        },
        {
          "output_type": "display_data",
          "data": {
            "text/html": [
              "<pre>Successfully parsed 1 tokens: \n",
              "\t0: Format: Hardcover</pre>"
            ],
            "text/plain": [
              "Successfully parsed 1 tokens: \n",
              "\t0: Format: Hardcover"
            ]
          },
          "metadata": {
            "tags": []
          }
        },
        {
          "output_type": "display_data",
          "data": {
            "text/html": [
              "<pre>Successfully parsed 1 tokens: \n",
              "\t0: Publicatio ...  3/12/1957</pre>"
            ],
            "text/plain": [
              "Successfully parsed 1 tokens: \n",
              "\t0: Publicatio ...  3/12/1957"
            ]
          },
          "metadata": {
            "tags": []
          }
        },
        {
          "output_type": "display_data",
          "data": {
            "text/html": [
              "<pre>326 lines failed to parse correctly</pre>"
            ],
            "text/plain": [
              "326 lines failed to parse correctly"
            ]
          },
          "metadata": {
            "tags": []
          }
        },
        {
          "output_type": "display_data",
          "data": {
            "text/html": [
              "<pre>Finished parsing file /content/books_with_blurbs.csv</pre>"
            ],
            "text/plain": [
              "Finished parsing file /content/books_with_blurbs.csv"
            ]
          },
          "metadata": {
            "tags": []
          }
        },
        {
          "output_type": "display_data",
          "data": {
            "text/html": [
              "<pre>Parsing completed. Parsed 100 lines in 0.706494 secs.</pre>"
            ],
            "text/plain": [
              "Parsing completed. Parsed 100 lines in 0.706494 secs."
            ]
          },
          "metadata": {
            "tags": []
          }
        },
        {
          "output_type": "stream",
          "text": [
            "------------------------------------------------------\n",
            "Inferred types from first 100 line(s) of file as \n",
            "column_type_hints=[str,str,str,int,str,str]\n",
            "If parsing fails due to incorrect types, you can correct\n",
            "the inferred type list above and pass it to read_csv in\n",
            "the column_type_hints argument\n",
            "------------------------------------------------------\n"
          ],
          "name": "stdout"
        },
        {
          "output_type": "display_data",
          "data": {
            "text/html": [
              "<pre>Unexpected characters after last column. \"The World's Stupidest Signs\"\n",
              "Parse failed at token ending at: \n",
              "\tf his own strength.\"\n",
              "1854795554,The World's Stupidest Signs,\u001b[1;31m^\u001b[0mMichael O'Mara,2000,Michael O'Mara Books,\"A biza\n",
              "Successfully parsed 6 tokens: \n",
              "\t0: 0140292918\n",
              "\t1: Of Mice an ... ntials\"\")\"\n",
              "\t2: John Steinbeck\n",
              "\t3: 2001\n",
              "\t4: Penguin Books Ltd\n",
              "\t5: \"As drifte ... 1854795554</pre>"
            ],
            "text/plain": [
              "Unexpected characters after last column. \"The World's Stupidest Signs\"\n",
              "Parse failed at token ending at: \n",
              "\tf his own strength.\"\n",
              "1854795554,The World's Stupidest Signs,\u001b[1;31m^\u001b[0mMichael O'Mara,2000,Michael O'Mara Books,\"A biza\n",
              "Successfully parsed 6 tokens: \n",
              "\t0: 0140292918\n",
              "\t1: Of Mice an ... ntials\"\")\"\n",
              "\t2: John Steinbeck\n",
              "\t3: 2001\n",
              "\t4: Penguin Books Ltd\n",
              "\t5: \"As drifte ... 1854795554"
            ]
          },
          "metadata": {
            "tags": []
          }
        },
        {
          "output_type": "display_data",
          "data": {
            "text/html": [
              "<pre>Unable to interpret \"\"\"Mad Dog Summer\" as a integer\n",
              "Parse failed at token ending at: \n",
              "\tectly on his Stoker Award-winning novella, \"\"Mad Dog Summer,\u001b[1;31m^\u001b[0m\"\" and it revisits the territory covered in his \n",
              "Successfully parsed 3 tokens: \n",
              "\t0: \n",
              "\t1: Much of\n",
              "\t2: -- winner  ... ng novella</pre>"
            ],
            "text/plain": [
              "Unable to interpret \"\"\"Mad Dog Summer\" as a integer\n",
              "Parse failed at token ending at: \n",
              "\tectly on his Stoker Award-winning novella, \"\"Mad Dog Summer,\u001b[1;31m^\u001b[0m\"\" and it revisits the territory covered in his \n",
              "Successfully parsed 3 tokens: \n",
              "\t0: \n",
              "\t1: Much of\n",
              "\t2: -- winner  ... ng novella"
            ]
          },
          "metadata": {
            "tags": []
          }
        },
        {
          "output_type": "display_data",
          "data": {
            "text/html": [
              "<pre>Unexpected characters after last column. \"Kushiel's Avatar (Kushiel's Legacy)\"\n",
              "Parse failed at token ending at: \n",
              "\tman nature.\"\n",
              "0765347539,Kushiel's Avatar (Kushiel's Legacy),\u001b[1;31m^\u001b[0mJacqueline Carey,2004,Tor Fantasy,\"The land of T\n",
              "Successfully parsed 6 tokens: \n",
              "\t0: 0449003787\n",
              "\t1: \\O\"\" Is for Outlaw\"\n",
              "\t2: SUE GRAFTON\n",
              "\t3: 2001\n",
              "\t4: Ballantine Books\n",
              "\t5: \"Through f ... 0765347539</pre>"
            ],
            "text/plain": [
              "Unexpected characters after last column. \"Kushiel's Avatar (Kushiel's Legacy)\"\n",
              "Parse failed at token ending at: \n",
              "\tman nature.\"\n",
              "0765347539,Kushiel's Avatar (Kushiel's Legacy),\u001b[1;31m^\u001b[0mJacqueline Carey,2004,Tor Fantasy,\"The land of T\n",
              "Successfully parsed 6 tokens: \n",
              "\t0: 0449003787\n",
              "\t1: \\O\"\" Is for Outlaw\"\n",
              "\t2: SUE GRAFTON\n",
              "\t3: 2001\n",
              "\t4: Ballantine Books\n",
              "\t5: \"Through f ... 0765347539"
            ]
          },
          "metadata": {
            "tags": []
          }
        },
        {
          "output_type": "display_data",
          "data": {
            "text/html": [
              "<pre>Unexpected characters after last column. \"The Strong-Willed Child: Birth Through Adolescence\"\n",
              "Parse failed at token ending at: \n",
              "\t4236661X,The Strong-Willed Child: Birth Through Adolescence,\u001b[1;31m^\u001b[0mJames Dobson,1985,Tyndale House Publishers,\"Dr D\n",
              "Successfully parsed 6 tokens: \n",
              "\t0: 1558743669\n",
              "\t1: A Child Ca ... o Survive\"\n",
              "\t2: Dave Pelzer\n",
              "\t3: 1995\n",
              "\t4: Health Communications\n",
              "\t5: \" ,This bo ... 084236661X</pre>"
            ],
            "text/plain": [
              "Unexpected characters after last column. \"The Strong-Willed Child: Birth Through Adolescence\"\n",
              "Parse failed at token ending at: \n",
              "\t4236661X,The Strong-Willed Child: Birth Through Adolescence,\u001b[1;31m^\u001b[0mJames Dobson,1985,Tyndale House Publishers,\"Dr D\n",
              "Successfully parsed 6 tokens: \n",
              "\t0: 1558743669\n",
              "\t1: A Child Ca ... o Survive\"\n",
              "\t2: Dave Pelzer\n",
              "\t3: 1995\n",
              "\t4: Health Communications\n",
              "\t5: \" ,This bo ... 084236661X"
            ]
          },
          "metadata": {
            "tags": []
          }
        },
        {
          "output_type": "display_data",
          "data": {
            "text/html": [
              "<pre>Unable to interpret \"and a bibliography\" as a integer\n",
              "Parse failed at token ending at: \n",
              "\tnd a chronological listing of his works, and a bibliography,\u001b[1;31m^\u001b[0m lists of videotapes (VHS), records, and tapes o\n",
              "Successfully parsed 3 tokens: \n",
              "\t0: Background ... dramaturgy\n",
              "\t1: C. W. Hodg ...  Playhouse\n",
              "\t2: a brief ac ...  his works</pre>"
            ],
            "text/plain": [
              "Unable to interpret \"and a bibliography\" as a integer\n",
              "Parse failed at token ending at: \n",
              "\tnd a chronological listing of his works, and a bibliography,\u001b[1;31m^\u001b[0m lists of videotapes (VHS), records, and tapes o\n",
              "Successfully parsed 3 tokens: \n",
              "\t0: Background ... dramaturgy\n",
              "\t1: C. W. Hodg ...  Playhouse\n",
              "\t2: a brief ac ...  his works"
            ]
          },
          "metadata": {
            "tags": []
          }
        },
        {
          "output_type": "display_data",
          "data": {
            "text/html": [
              "<pre>Successfully parsed 2 tokens: \n",
              "\t0: Students w ...  a theatre\n",
              "\t1: but rather ... uggesting.</pre>"
            ],
            "text/plain": [
              "Successfully parsed 2 tokens: \n",
              "\t0: Students w ...  a theatre\n",
              "\t1: but rather ... uggesting."
            ]
          },
          "metadata": {
            "tags": []
          }
        },
        {
          "output_type": "display_data",
          "data": {
            "text/html": [
              "<pre>Successfully parsed 2 tokens: \n",
              "\t0: Students c ... gh helpful\n",
              "\t1: detailed q ... er papers.</pre>"
            ],
            "text/plain": [
              "Successfully parsed 2 tokens: \n",
              "\t0: Students c ... gh helpful\n",
              "\t1: detailed q ... er papers."
            ]
          },
          "metadata": {
            "tags": []
          }
        },
        {
          "output_type": "display_data",
          "data": {
            "text/html": [
              "<pre>Unable to interpret \"Sir Arthur Quiller-Couch. She devoured Q’s book\" as a integer\n",
              "Parse failed at token ending at: \n",
              "\tidge don, Sir Arthur Quiller-Couch. She devoured Q’s book,\u001b[1;31m^\u001b[0m and, wanting to read all the books he recommend\n",
              "Successfully parsed 3 tokens: \n",
              "\t0: \"\n",
              "01400893 ... e to write\n",
              "\t1: \n",
              "\t2: and of all ... bridge don</pre>"
            ],
            "text/plain": [
              "Unable to interpret \"Sir Arthur Quiller-Couch. She devoured Q’s book\" as a integer\n",
              "Parse failed at token ending at: \n",
              "\tidge don, Sir Arthur Quiller-Couch. She devoured Q’s book,\u001b[1;31m^\u001b[0m and, wanting to read all the books he recommend\n",
              "Successfully parsed 3 tokens: \n",
              "\t0: \"\n",
              "01400893 ... e to write\n",
              "\t1: \n",
              "\t2: and of all ... bridge don"
            ]
          },
          "metadata": {
            "tags": []
          }
        },
        {
          "output_type": "display_data",
          "data": {
            "text/html": [
              "<pre>Successfully parsed 1 tokens: \n",
              "\t0: Format: Hardcover</pre>"
            ],
            "text/plain": [
              "Successfully parsed 1 tokens: \n",
              "\t0: Format: Hardcover"
            ]
          },
          "metadata": {
            "tags": []
          }
        },
        {
          "output_type": "display_data",
          "data": {
            "text/html": [
              "<pre>Successfully parsed 1 tokens: \n",
              "\t0: Publicatio ...  3/12/1957</pre>"
            ],
            "text/plain": [
              "Successfully parsed 1 tokens: \n",
              "\t0: Publicatio ...  3/12/1957"
            ]
          },
          "metadata": {
            "tags": []
          }
        },
        {
          "output_type": "display_data",
          "data": {
            "text/html": [
              "<pre>327 lines failed to parse correctly</pre>"
            ],
            "text/plain": [
              "327 lines failed to parse correctly"
            ]
          },
          "metadata": {
            "tags": []
          }
        },
        {
          "output_type": "display_data",
          "data": {
            "text/html": [
              "<pre>Finished parsing file /content/books_with_blurbs.csv</pre>"
            ],
            "text/plain": [
              "Finished parsing file /content/books_with_blurbs.csv"
            ]
          },
          "metadata": {
            "tags": []
          }
        },
        {
          "output_type": "display_data",
          "data": {
            "text/html": [
              "<pre>Parsing completed. Parsed 25671 lines in 0.612788 secs.</pre>"
            ],
            "text/plain": [
              "Parsing completed. Parsed 25671 lines in 0.612788 secs."
            ]
          },
          "metadata": {
            "tags": []
          }
        }
      ]
    },
    {
      "cell_type": "code",
      "metadata": {
        "colab": {
          "base_uri": "https://localhost:8080/",
          "height": 163
        },
        "id": "JCOy4Ucn9tgs",
        "outputId": "e1fb2ea1-e4f7-41e7-805d-22ce319ad8c7"
      },
      "source": [
        "books[:3]"
      ],
      "execution_count": 122,
      "outputs": [
        {
          "output_type": "execute_result",
          "data": {
            "text/html": [
              "<div style=\"max-height:1000px;max-width:1500px;overflow:auto;\"><table frame=\"box\" rules=\"cols\">\n",
              "    <tr>\n",
              "        <th style=\"padding-left: 1em; padding-right: 1em; text-align: center\">ISBN</th>\n",
              "        <th style=\"padding-left: 1em; padding-right: 1em; text-align: center\">Title</th>\n",
              "        <th style=\"padding-left: 1em; padding-right: 1em; text-align: center\">Author</th>\n",
              "        <th style=\"padding-left: 1em; padding-right: 1em; text-align: center\">Year</th>\n",
              "        <th style=\"padding-left: 1em; padding-right: 1em; text-align: center\">Publisher</th>\n",
              "        <th style=\"padding-left: 1em; padding-right: 1em; text-align: center\">Blurb</th>\n",
              "    </tr>\n",
              "    <tr>\n",
              "        <td style=\"padding-left: 1em; padding-right: 1em; text-align: center; vertical-align: top\">0060973129</td>\n",
              "        <td style=\"padding-left: 1em; padding-right: 1em; text-align: center; vertical-align: top\">Decision in Normandy</td>\n",
              "        <td style=\"padding-left: 1em; padding-right: 1em; text-align: center; vertical-align: top\">Carlo D&#x27;Este</td>\n",
              "        <td style=\"padding-left: 1em; padding-right: 1em; text-align: center; vertical-align: top\">1991</td>\n",
              "        <td style=\"padding-left: 1em; padding-right: 1em; text-align: center; vertical-align: top\">HarperPerennial</td>\n",
              "        <td style=\"padding-left: 1em; padding-right: 1em; text-align: center; vertical-align: top\">Here, for the first time<br>in paperback, is an ...</td>\n",
              "    </tr>\n",
              "    <tr>\n",
              "        <td style=\"padding-left: 1em; padding-right: 1em; text-align: center; vertical-align: top\">0374157065</td>\n",
              "        <td style=\"padding-left: 1em; padding-right: 1em; text-align: center; vertical-align: top\">Flu: The Story of the<br>Great Influenza Pandemic ...</td>\n",
              "        <td style=\"padding-left: 1em; padding-right: 1em; text-align: center; vertical-align: top\">Gina Bari Kolata</td>\n",
              "        <td style=\"padding-left: 1em; padding-right: 1em; text-align: center; vertical-align: top\">1999</td>\n",
              "        <td style=\"padding-left: 1em; padding-right: 1em; text-align: center; vertical-align: top\">Farrar Straus Giroux</td>\n",
              "        <td style=\"padding-left: 1em; padding-right: 1em; text-align: center; vertical-align: top\">The fascinating, true<br>story of the world&#x27;s ...</td>\n",
              "    </tr>\n",
              "    <tr>\n",
              "        <td style=\"padding-left: 1em; padding-right: 1em; text-align: center; vertical-align: top\">0399135782</td>\n",
              "        <td style=\"padding-left: 1em; padding-right: 1em; text-align: center; vertical-align: top\">The Kitchen God&#x27;s Wife</td>\n",
              "        <td style=\"padding-left: 1em; padding-right: 1em; text-align: center; vertical-align: top\">Amy Tan</td>\n",
              "        <td style=\"padding-left: 1em; padding-right: 1em; text-align: center; vertical-align: top\">1991</td>\n",
              "        <td style=\"padding-left: 1em; padding-right: 1em; text-align: center; vertical-align: top\">Putnam Pub Group</td>\n",
              "        <td style=\"padding-left: 1em; padding-right: 1em; text-align: center; vertical-align: top\">Winnie and Helen have<br>kept each others worst ...</td>\n",
              "    </tr>\n",
              "</table>\n",
              "[3 rows x 6 columns]<br/>\n",
              "</div>"
            ],
            "text/plain": [
              "Columns:\n",
              "\tISBN\tstr\n",
              "\tTitle\tstr\n",
              "\tAuthor\tstr\n",
              "\tYear\tint\n",
              "\tPublisher\tstr\n",
              "\tBlurb\tstr\n",
              "\n",
              "Rows: 3\n",
              "\n",
              "Data:\n",
              "+------------+-------------------------------+------------------+------+\n",
              "|    ISBN    |             Title             |      Author      | Year |\n",
              "+------------+-------------------------------+------------------+------+\n",
              "| 0060973129 |      Decision in Normandy     |   Carlo D'Este   | 1991 |\n",
              "| 0374157065 | Flu: The Story of the Grea... | Gina Bari Kolata | 1999 |\n",
              "| 0399135782 |     The Kitchen God's Wife    |     Amy Tan      | 1991 |\n",
              "+------------+-------------------------------+------------------+------+\n",
              "+----------------------+-------------------------------+\n",
              "|      Publisher       |             Blurb             |\n",
              "+----------------------+-------------------------------+\n",
              "|   HarperPerennial    | Here, for the first time i... |\n",
              "| Farrar Straus Giroux | The fascinating, true stor... |\n",
              "|   Putnam Pub Group   | Winnie and Helen have kept... |\n",
              "+----------------------+-------------------------------+\n",
              "[3 rows x 6 columns]"
            ]
          },
          "metadata": {
            "tags": []
          },
          "execution_count": 122
        }
      ]
    },
    {
      "cell_type": "markdown",
      "metadata": {
        "id": "oA8TUM_AA695"
      },
      "source": [
        "Remove stopwords, empty rows and duplicates (keeping the newest edition):"
      ]
    },
    {
      "cell_type": "code",
      "metadata": {
        "id": "NjrjcVnVBZm9"
      },
      "source": [
        "books['Blurb'] = turicreate.text_analytics.drop_words(books['Blurb'], threshold=1, to_lower=True, delimiters=['\\r', '\\x0b', '\\n', '\\x0c', '\\t', ' ', '!', '#', '$', '%', '&', \"'\", '\"', '(', ')', '*', '+', ',', '-', '.', '/', ':', ';', '<', '=', '>', '?', '@', '[', '\\\\', ']', '^', '_', '`', '{', '|', '}', '~'], stop_words=turicreate.text_analytics.stop_words())"
      ],
      "execution_count": 123,
      "outputs": []
    },
    {
      "cell_type": "code",
      "metadata": {
        "id": "emvBGK5eBhvM",
        "colab": {
          "base_uri": "https://localhost:8080/"
        },
        "outputId": "3b57d84d-d17e-48de-a1f3-d56b9ef84fc5"
      },
      "source": [
        "print(len(books))\n",
        "books = books.sort(['ISBN']).sort(['Year'], ascending=False).drop_duplicates(subset=['Author','Title'])\n",
        "print(len(books))"
      ],
      "execution_count": 124,
      "outputs": [
        {
          "output_type": "stream",
          "text": [
            "25671\n",
            "24792\n"
          ],
          "name": "stdout"
        }
      ]
    },
    {
      "cell_type": "markdown",
      "metadata": {
        "id": "NsZBFdM2505g"
      },
      "source": [
        "## Extract word count vectors"
      ]
    },
    {
      "cell_type": "markdown",
      "metadata": {
        "id": "hoJFa9nG505g"
      },
      "source": [
        "As we have seen in Course 1, we can extract word count vectors using a Turi Create utility function.  We add this as a column in `wiki` and in `books`."
      ]
    },
    {
      "cell_type": "code",
      "metadata": {
        "id": "qFH3On5s505g"
      },
      "source": [
        "wiki['word_count'] = turicreate.text_analytics.count_words(wiki['text'])"
      ],
      "execution_count": null,
      "outputs": []
    },
    {
      "cell_type": "code",
      "metadata": {
        "id": "Mvd3Bkon93ut"
      },
      "source": [
        "books['word_count'] = turicreate.text_analytics.count_words(books['Blurb'])"
      ],
      "execution_count": 126,
      "outputs": []
    },
    {
      "cell_type": "code",
      "metadata": {
        "colab": {
          "base_uri": "https://localhost:8080/",
          "height": 449
        },
        "id": "e6-xdax6505g",
        "outputId": "dce3fc32-7cfb-44c5-82a7-01c72b2d8ef6"
      },
      "source": [
        "wiki"
      ],
      "execution_count": null,
      "outputs": [
        {
          "output_type": "execute_result",
          "data": {
            "text/html": [
              "<div style=\"max-height:1000px;max-width:1500px;overflow:auto;\"><table frame=\"box\" rules=\"cols\">\n",
              "    <tr>\n",
              "        <th style=\"padding-left: 1em; padding-right: 1em; text-align: center\">URI</th>\n",
              "        <th style=\"padding-left: 1em; padding-right: 1em; text-align: center\">name</th>\n",
              "        <th style=\"padding-left: 1em; padding-right: 1em; text-align: center\">text</th>\n",
              "        <th style=\"padding-left: 1em; padding-right: 1em; text-align: center\">word_count</th>\n",
              "    </tr>\n",
              "    <tr>\n",
              "        <td style=\"padding-left: 1em; padding-right: 1em; text-align: center; vertical-align: top\">&lt;http://dbpedia.org/resou<br>rce/Digby_Morrell&gt; ...</td>\n",
              "        <td style=\"padding-left: 1em; padding-right: 1em; text-align: center; vertical-align: top\">Digby Morrell</td>\n",
              "        <td style=\"padding-left: 1em; padding-right: 1em; text-align: center; vertical-align: top\">digby morrell born 10<br>october 1979 is a former ...</td>\n",
              "        <td style=\"padding-left: 1em; padding-right: 1em; text-align: center; vertical-align: top\">{&#x27;melbourne&#x27;: 1.0,<br>&#x27;parade&#x27;: 1.0, ...</td>\n",
              "    </tr>\n",
              "    <tr>\n",
              "        <td style=\"padding-left: 1em; padding-right: 1em; text-align: center; vertical-align: top\">&lt;http://dbpedia.org/resou<br>rce/Alfred_J._Lewy&gt; ...</td>\n",
              "        <td style=\"padding-left: 1em; padding-right: 1em; text-align: center; vertical-align: top\">Alfred J. Lewy</td>\n",
              "        <td style=\"padding-left: 1em; padding-right: 1em; text-align: center; vertical-align: top\">alfred j lewy aka sandy<br>lewy graduated from ...</td>\n",
              "        <td style=\"padding-left: 1em; padding-right: 1em; text-align: center; vertical-align: top\">{&#x27;time&#x27;: 1.0, &#x27;each&#x27;:<br>1.0, &#x27;hour&#x27;: 1.0, ...</td>\n",
              "    </tr>\n",
              "    <tr>\n",
              "        <td style=\"padding-left: 1em; padding-right: 1em; text-align: center; vertical-align: top\">&lt;http://dbpedia.org/resou<br>rce/Harpdog_Brown&gt; ...</td>\n",
              "        <td style=\"padding-left: 1em; padding-right: 1em; text-align: center; vertical-align: top\">Harpdog Brown</td>\n",
              "        <td style=\"padding-left: 1em; padding-right: 1em; text-align: center; vertical-align: top\">harpdog brown is a singer<br>and harmonica player who ...</td>\n",
              "        <td style=\"padding-left: 1em; padding-right: 1em; text-align: center; vertical-align: top\">{&#x27;society&#x27;: 1.0,<br>&#x27;hamilton&#x27;: 1.0, &#x27;to&#x27;: ...</td>\n",
              "    </tr>\n",
              "    <tr>\n",
              "        <td style=\"padding-left: 1em; padding-right: 1em; text-align: center; vertical-align: top\">&lt;http://dbpedia.org/resou<br>rce/Franz_Rottensteiner&gt; ...</td>\n",
              "        <td style=\"padding-left: 1em; padding-right: 1em; text-align: center; vertical-align: top\">Franz Rottensteiner</td>\n",
              "        <td style=\"padding-left: 1em; padding-right: 1em; text-align: center; vertical-align: top\">franz rottensteiner born<br>in waidmannsfeld lower ...</td>\n",
              "        <td style=\"padding-left: 1em; padding-right: 1em; text-align: center; vertical-align: top\">{&#x27;kurdlawitzpreis&#x27;: 1.0,<br>&#x27;awarded&#x27;: 1.0, &#x27;2004&#x27;: ...</td>\n",
              "    </tr>\n",
              "    <tr>\n",
              "        <td style=\"padding-left: 1em; padding-right: 1em; text-align: center; vertical-align: top\">&lt;http://dbpedia.org/resou<br>rce/G-Enka&gt; ...</td>\n",
              "        <td style=\"padding-left: 1em; padding-right: 1em; text-align: center; vertical-align: top\">G-Enka</td>\n",
              "        <td style=\"padding-left: 1em; padding-right: 1em; text-align: center; vertical-align: top\">henry krvits born 30<br>december 1974 in tallinn ...</td>\n",
              "        <td style=\"padding-left: 1em; padding-right: 1em; text-align: center; vertical-align: top\">{&#x27;curtis&#x27;: 1.0, &#x27;2007&#x27;:<br>1.0, &#x27;cent&#x27;: 1.0, ...</td>\n",
              "    </tr>\n",
              "    <tr>\n",
              "        <td style=\"padding-left: 1em; padding-right: 1em; text-align: center; vertical-align: top\">&lt;http://dbpedia.org/resou<br>rce/Sam_Henderson&gt; ...</td>\n",
              "        <td style=\"padding-left: 1em; padding-right: 1em; text-align: center; vertical-align: top\">Sam Henderson</td>\n",
              "        <td style=\"padding-left: 1em; padding-right: 1em; text-align: center; vertical-align: top\">sam henderson born<br>october 18 1969 is an ...</td>\n",
              "        <td style=\"padding-left: 1em; padding-right: 1em; text-align: center; vertical-align: top\">{&#x27;asses&#x27;: 1.0, &#x27;sic&#x27;:<br>1.0, &#x27;toilets&#x27;: 1.0, ...</td>\n",
              "    </tr>\n",
              "    <tr>\n",
              "        <td style=\"padding-left: 1em; padding-right: 1em; text-align: center; vertical-align: top\">&lt;http://dbpedia.org/resou<br>rce/Aaron_LaCrate&gt; ...</td>\n",
              "        <td style=\"padding-left: 1em; padding-right: 1em; text-align: center; vertical-align: top\">Aaron LaCrate</td>\n",
              "        <td style=\"padding-left: 1em; padding-right: 1em; text-align: center; vertical-align: top\">aaron lacrate is an<br>american music producer ...</td>\n",
              "        <td style=\"padding-left: 1em; padding-right: 1em; text-align: center; vertical-align: top\">{&#x27;streamz&#x27;: 1.0,<br>&#x27;including&#x27;: 1.0, ...</td>\n",
              "    </tr>\n",
              "    <tr>\n",
              "        <td style=\"padding-left: 1em; padding-right: 1em; text-align: center; vertical-align: top\">&lt;http://dbpedia.org/resou<br>rce/Trevor_Ferguson&gt; ...</td>\n",
              "        <td style=\"padding-left: 1em; padding-right: 1em; text-align: center; vertical-align: top\">Trevor Ferguson</td>\n",
              "        <td style=\"padding-left: 1em; padding-right: 1em; text-align: center; vertical-align: top\">trevor ferguson aka john<br>farrow born 11 november ...</td>\n",
              "        <td style=\"padding-left: 1em; padding-right: 1em; text-align: center; vertical-align: top\">{&#x27;concordia&#x27;: 1.0,<br>&#x27;creative&#x27;: 1.0, ...</td>\n",
              "    </tr>\n",
              "    <tr>\n",
              "        <td style=\"padding-left: 1em; padding-right: 1em; text-align: center; vertical-align: top\">&lt;http://dbpedia.org/resou<br>rce/Grant_Nelson&gt; ...</td>\n",
              "        <td style=\"padding-left: 1em; padding-right: 1em; text-align: center; vertical-align: top\">Grant Nelson</td>\n",
              "        <td style=\"padding-left: 1em; padding-right: 1em; text-align: center; vertical-align: top\">grant nelson born 27<br>april 1971 in london  ...</td>\n",
              "        <td style=\"padding-left: 1em; padding-right: 1em; text-align: center; vertical-align: top\">{&#x27;heavies&#x27;: 1.0, &#x27;new&#x27;:<br>1.0, &#x27;brand&#x27;: 1.0, ...</td>\n",
              "    </tr>\n",
              "    <tr>\n",
              "        <td style=\"padding-left: 1em; padding-right: 1em; text-align: center; vertical-align: top\">&lt;http://dbpedia.org/resou<br>rce/Cathy_Caruth&gt; ...</td>\n",
              "        <td style=\"padding-left: 1em; padding-right: 1em; text-align: center; vertical-align: top\">Cathy Caruth</td>\n",
              "        <td style=\"padding-left: 1em; padding-right: 1em; text-align: center; vertical-align: top\">cathy caruth born 1955 is<br>frank h t rhodes ...</td>\n",
              "        <td style=\"padding-left: 1em; padding-right: 1em; text-align: center; vertical-align: top\">{&#x27;2002&#x27;: 1.0, &#x27;harvard&#x27;:<br>1.0, &#x27;twentieth&#x27;: 1.0, ...</td>\n",
              "    </tr>\n",
              "</table>\n",
              "[59071 rows x 4 columns]<br/>Note: Only the head of the SFrame is printed.<br/>You can use print_rows(num_rows=m, num_columns=n) to print more rows and columns.\n",
              "</div>"
            ],
            "text/plain": [
              "Columns:\n",
              "\tURI\tstr\n",
              "\tname\tstr\n",
              "\ttext\tstr\n",
              "\tword_count\tdict\n",
              "\n",
              "Rows: 59071\n",
              "\n",
              "Data:\n",
              "+-------------------------------+---------------------+\n",
              "|              URI              |         name        |\n",
              "+-------------------------------+---------------------+\n",
              "| <http://dbpedia.org/resour... |    Digby Morrell    |\n",
              "| <http://dbpedia.org/resour... |    Alfred J. Lewy   |\n",
              "| <http://dbpedia.org/resour... |    Harpdog Brown    |\n",
              "| <http://dbpedia.org/resour... | Franz Rottensteiner |\n",
              "| <http://dbpedia.org/resour... |        G-Enka       |\n",
              "| <http://dbpedia.org/resour... |    Sam Henderson    |\n",
              "| <http://dbpedia.org/resour... |    Aaron LaCrate    |\n",
              "| <http://dbpedia.org/resour... |   Trevor Ferguson   |\n",
              "| <http://dbpedia.org/resour... |     Grant Nelson    |\n",
              "| <http://dbpedia.org/resour... |     Cathy Caruth    |\n",
              "+-------------------------------+---------------------+\n",
              "+-------------------------------+-------------------------------+\n",
              "|              text             |           word_count          |\n",
              "+-------------------------------+-------------------------------+\n",
              "| digby morrell born 10 octo... | {'melbourne': 1.0, 'parade... |\n",
              "| alfred j lewy aka sandy le... | {'time': 1.0, 'each': 1.0,... |\n",
              "| harpdog brown is a singer ... | {'society': 1.0, 'hamilton... |\n",
              "| franz rottensteiner born i... | {'kurdlawitzpreis': 1.0, '... |\n",
              "| henry krvits born 30 decem... | {'curtis': 1.0, '2007': 1.... |\n",
              "| sam henderson born october... | {'asses': 1.0, 'sic': 1.0,... |\n",
              "| aaron lacrate is an americ... | {'streamz': 1.0, 'includin... |\n",
              "| trevor ferguson aka john f... | {'concordia': 1.0, 'creati... |\n",
              "| grant nelson born 27 april... | {'heavies': 1.0, 'new': 1.... |\n",
              "| cathy caruth born 1955 is ... | {'2002': 1.0, 'harvard': 1... |\n",
              "+-------------------------------+-------------------------------+\n",
              "[59071 rows x 4 columns]\n",
              "Note: Only the head of the SFrame is printed.\n",
              "You can use print_rows(num_rows=m, num_columns=n) to print more rows and columns."
            ]
          },
          "metadata": {
            "tags": []
          },
          "execution_count": 16
        }
      ]
    },
    {
      "cell_type": "code",
      "metadata": {
        "colab": {
          "base_uri": "https://localhost:8080/",
          "height": 777
        },
        "id": "yEDLCLHT-Cb_",
        "outputId": "2995515c-e936-42b1-d31c-009f95995393"
      },
      "source": [
        "books"
      ],
      "execution_count": 17,
      "outputs": [
        {
          "output_type": "execute_result",
          "data": {
            "text/html": [
              "<div style=\"max-height:1000px;max-width:1500px;overflow:auto;\"><table frame=\"box\" rules=\"cols\">\n",
              "    <tr>\n",
              "        <th style=\"padding-left: 1em; padding-right: 1em; text-align: center\">ISBN</th>\n",
              "        <th style=\"padding-left: 1em; padding-right: 1em; text-align: center\">Title</th>\n",
              "        <th style=\"padding-left: 1em; padding-right: 1em; text-align: center\">Author</th>\n",
              "        <th style=\"padding-left: 1em; padding-right: 1em; text-align: center\">Year</th>\n",
              "        <th style=\"padding-left: 1em; padding-right: 1em; text-align: center\">Publisher</th>\n",
              "    </tr>\n",
              "    <tr>\n",
              "        <td style=\"padding-left: 1em; padding-right: 1em; text-align: center; vertical-align: top\">0060973129</td>\n",
              "        <td style=\"padding-left: 1em; padding-right: 1em; text-align: center; vertical-align: top\">Decision in Normandy</td>\n",
              "        <td style=\"padding-left: 1em; padding-right: 1em; text-align: center; vertical-align: top\">Carlo D&#x27;Este</td>\n",
              "        <td style=\"padding-left: 1em; padding-right: 1em; text-align: center; vertical-align: top\">1991</td>\n",
              "        <td style=\"padding-left: 1em; padding-right: 1em; text-align: center; vertical-align: top\">HarperPerennial</td>\n",
              "    </tr>\n",
              "    <tr>\n",
              "        <td style=\"padding-left: 1em; padding-right: 1em; text-align: center; vertical-align: top\">0374157065</td>\n",
              "        <td style=\"padding-left: 1em; padding-right: 1em; text-align: center; vertical-align: top\">Flu: The Story of the<br>Great Influenza Pandemic ...</td>\n",
              "        <td style=\"padding-left: 1em; padding-right: 1em; text-align: center; vertical-align: top\">Gina Bari Kolata</td>\n",
              "        <td style=\"padding-left: 1em; padding-right: 1em; text-align: center; vertical-align: top\">1999</td>\n",
              "        <td style=\"padding-left: 1em; padding-right: 1em; text-align: center; vertical-align: top\">Farrar Straus Giroux</td>\n",
              "    </tr>\n",
              "    <tr>\n",
              "        <td style=\"padding-left: 1em; padding-right: 1em; text-align: center; vertical-align: top\">0399135782</td>\n",
              "        <td style=\"padding-left: 1em; padding-right: 1em; text-align: center; vertical-align: top\">The Kitchen God&#x27;s Wife</td>\n",
              "        <td style=\"padding-left: 1em; padding-right: 1em; text-align: center; vertical-align: top\">Amy Tan</td>\n",
              "        <td style=\"padding-left: 1em; padding-right: 1em; text-align: center; vertical-align: top\">1991</td>\n",
              "        <td style=\"padding-left: 1em; padding-right: 1em; text-align: center; vertical-align: top\">Putnam Pub Group</td>\n",
              "    </tr>\n",
              "    <tr>\n",
              "        <td style=\"padding-left: 1em; padding-right: 1em; text-align: center; vertical-align: top\">0425176428</td>\n",
              "        <td style=\"padding-left: 1em; padding-right: 1em; text-align: center; vertical-align: top\">What If?: The World&#x27;s<br>Foremost Military ...</td>\n",
              "        <td style=\"padding-left: 1em; padding-right: 1em; text-align: center; vertical-align: top\">Robert Cowley</td>\n",
              "        <td style=\"padding-left: 1em; padding-right: 1em; text-align: center; vertical-align: top\">2000</td>\n",
              "        <td style=\"padding-left: 1em; padding-right: 1em; text-align: center; vertical-align: top\">Berkley Publishing Group</td>\n",
              "    </tr>\n",
              "    <tr>\n",
              "        <td style=\"padding-left: 1em; padding-right: 1em; text-align: center; vertical-align: top\">1881320189</td>\n",
              "        <td style=\"padding-left: 1em; padding-right: 1em; text-align: center; vertical-align: top\">Goodbye to the Buttermilk<br>Sky ...</td>\n",
              "        <td style=\"padding-left: 1em; padding-right: 1em; text-align: center; vertical-align: top\">Julia Oliver</td>\n",
              "        <td style=\"padding-left: 1em; padding-right: 1em; text-align: center; vertical-align: top\">1994</td>\n",
              "        <td style=\"padding-left: 1em; padding-right: 1em; text-align: center; vertical-align: top\">River City Pub</td>\n",
              "    </tr>\n",
              "    <tr>\n",
              "        <td style=\"padding-left: 1em; padding-right: 1em; text-align: center; vertical-align: top\">0440234743</td>\n",
              "        <td style=\"padding-left: 1em; padding-right: 1em; text-align: center; vertical-align: top\">The Testament</td>\n",
              "        <td style=\"padding-left: 1em; padding-right: 1em; text-align: center; vertical-align: top\">John Grisham</td>\n",
              "        <td style=\"padding-left: 1em; padding-right: 1em; text-align: center; vertical-align: top\">1999</td>\n",
              "        <td style=\"padding-left: 1em; padding-right: 1em; text-align: center; vertical-align: top\">Dell</td>\n",
              "    </tr>\n",
              "    <tr>\n",
              "        <td style=\"padding-left: 1em; padding-right: 1em; text-align: center; vertical-align: top\">0452264464</td>\n",
              "        <td style=\"padding-left: 1em; padding-right: 1em; text-align: center; vertical-align: top\">Beloved (Plume<br>Contemporary Fiction) ...</td>\n",
              "        <td style=\"padding-left: 1em; padding-right: 1em; text-align: center; vertical-align: top\">Toni Morrison</td>\n",
              "        <td style=\"padding-left: 1em; padding-right: 1em; text-align: center; vertical-align: top\">1994</td>\n",
              "        <td style=\"padding-left: 1em; padding-right: 1em; text-align: center; vertical-align: top\">Plume</td>\n",
              "    </tr>\n",
              "    <tr>\n",
              "        <td style=\"padding-left: 1em; padding-right: 1em; text-align: center; vertical-align: top\">0609804618</td>\n",
              "        <td style=\"padding-left: 1em; padding-right: 1em; text-align: center; vertical-align: top\">Our Dumb Century: The<br>Onion Presents 100 Years ...</td>\n",
              "        <td style=\"padding-left: 1em; padding-right: 1em; text-align: center; vertical-align: top\">The Onion</td>\n",
              "        <td style=\"padding-left: 1em; padding-right: 1em; text-align: center; vertical-align: top\">1999</td>\n",
              "        <td style=\"padding-left: 1em; padding-right: 1em; text-align: center; vertical-align: top\">Three Rivers Press</td>\n",
              "    </tr>\n",
              "    <tr>\n",
              "        <td style=\"padding-left: 1em; padding-right: 1em; text-align: center; vertical-align: top\">1841721522</td>\n",
              "        <td style=\"padding-left: 1em; padding-right: 1em; text-align: center; vertical-align: top\">New Vegetarian: Bold and<br>Beautiful Recipes for ...</td>\n",
              "        <td style=\"padding-left: 1em; padding-right: 1em; text-align: center; vertical-align: top\">Celia Brooks Brown</td>\n",
              "        <td style=\"padding-left: 1em; padding-right: 1em; text-align: center; vertical-align: top\">2001</td>\n",
              "        <td style=\"padding-left: 1em; padding-right: 1em; text-align: center; vertical-align: top\">Ryland Peters &amp;amp; Small<br>Ltd ...</td>\n",
              "    </tr>\n",
              "    <tr>\n",
              "        <td style=\"padding-left: 1em; padding-right: 1em; text-align: center; vertical-align: top\">0439095026</td>\n",
              "        <td style=\"padding-left: 1em; padding-right: 1em; text-align: center; vertical-align: top\">Tell Me This Isn&#x27;t<br>Happening ...</td>\n",
              "        <td style=\"padding-left: 1em; padding-right: 1em; text-align: center; vertical-align: top\">Robynn Clairday</td>\n",
              "        <td style=\"padding-left: 1em; padding-right: 1em; text-align: center; vertical-align: top\">1999</td>\n",
              "        <td style=\"padding-left: 1em; padding-right: 1em; text-align: center; vertical-align: top\">Scholastic</td>\n",
              "    </tr>\n",
              "</table>\n",
              "<table frame=\"box\" rules=\"cols\">\n",
              "    <tr>\n",
              "        <th style=\"padding-left: 1em; padding-right: 1em; text-align: center\">Blurb</th>\n",
              "        <th style=\"padding-left: 1em; padding-right: 1em; text-align: center\">word_count</th>\n",
              "        <th style=\"padding-left: 1em; padding-right: 1em; text-align: center\">tf_idf</th>\n",
              "    </tr>\n",
              "    <tr>\n",
              "        <td style=\"padding-left: 1em; padding-right: 1em; text-align: center; vertical-align: top\">time paperback<br>outstanding military ...</td>\n",
              "        <td style=\"padding-left: 1em; padding-right: 1em; text-align: center; vertical-align: top\">{&#x27;normandy&#x27;: 1.0, &#x27;day&#x27;:<br>1.0, &#x27;began&#x27;: 1.0, ...</td>\n",
              "        <td style=\"padding-left: 1em; padding-right: 1em; text-align: center; vertical-align: top\">{&#x27;normandy&#x27;:<br>7.668210579298164, &#x27;d ...</td>\n",
              "    </tr>\n",
              "    <tr>\n",
              "        <td style=\"padding-left: 1em; padding-right: 1em; text-align: center; vertical-align: top\">fascinating true story<br>world deadliest disease ...</td>\n",
              "        <td style=\"padding-left: 1em; padding-right: 1em; text-align: center; vertical-align: top\">{&#x27;recurring&#x27;: 1.0,<br>&#x27;addresses&#x27;: 1.0, ...</td>\n",
              "        <td style=\"padding-left: 1em; padding-right: 1em; text-align: center; vertical-align: top\">{&#x27;recurring&#x27;:<br>6.975063398738219, ...</td>\n",
              "    </tr>\n",
              "    <tr>\n",
              "        <td style=\"padding-left: 1em; padding-right: 1em; text-align: center; vertical-align: top\">winnie helen worst<br>secrets fifty years ...</td>\n",
              "        <td style=\"padding-left: 1em; padding-right: 1em; text-align: center; vertical-align: top\">{&#x27;led&#x27;: 1.0, &#x27;america&#x27;:<br>1.0, &#x27;desperate&#x27;: 1.0, ...</td>\n",
              "        <td style=\"padding-left: 1em; padding-right: 1em; text-align: center; vertical-align: top\">{&#x27;led&#x27;:<br>4.318306492023559, ...</td>\n",
              "    </tr>\n",
              "    <tr>\n",
              "        <td style=\"padding-left: 1em; padding-right: 1em; text-align: center; vertical-align: top\">historians inquisitive<br>laymen alike love ponder ...</td>\n",
              "        <td style=\"padding-left: 1em; padding-right: 1em; text-align: center; vertical-align: top\">{&#x27;frightening&#x27;: 1.0,<br>&#x27;surprising&#x27;: 1.0, ...</td>\n",
              "        <td style=\"padding-left: 1em; padding-right: 1em; text-align: center; vertical-align: top\">{&#x27;frightening&#x27;:<br>5.129236708239888, ...</td>\n",
              "    </tr>\n",
              "    <tr>\n",
              "        <td style=\"padding-left: 1em; padding-right: 1em; text-align: center; vertical-align: top\">highly praised fiction<br>writer julia oliver s ...</td>\n",
              "        <td style=\"padding-left: 1em; padding-right: 1em; text-align: center; vertical-align: top\">{&#x27;word&#x27;: 1.0,<br>&#x27;captivates&#x27;: 1.0, ...</td>\n",
              "        <td style=\"padding-left: 1em; padding-right: 1em; text-align: center; vertical-align: top\">{&#x27;word&#x27;:<br>4.253219875503673, ...</td>\n",
              "    </tr>\n",
              "    <tr>\n",
              "        <td style=\"padding-left: 1em; padding-right: 1em; text-align: center; vertical-align: top\">plush virginia office<br>rich angry man furiously ...</td>\n",
              "        <td style=\"padding-left: 1em; padding-right: 1em; text-align: center; vertical-align: top\">{&#x27;holds&#x27;: 1.0, &#x27;friends&#x27;:<br>1.0, &#x27;enemies&#x27;: 1.0, ...</td>\n",
              "        <td style=\"padding-left: 1em; padding-right: 1em; text-align: center; vertical-align: top\">{&#x27;holds&#x27;:<br>4.5658685706859155, ...</td>\n",
              "    </tr>\n",
              "    <tr>\n",
              "        <td style=\"padding-left: 1em; padding-right: 1em; text-align: center; vertical-align: top\">troubled years civil war<br>spirit murdered child ...</td>\n",
              "        <td style=\"padding-left: 1em; padding-right: 1em; text-align: center; vertical-align: top\">{&#x27;wilber&#x27;: 1.0,<br>&#x27;measured&#x27;: 1.0, ...</td>\n",
              "        <td style=\"padding-left: 1em; padding-right: 1em; text-align: center; vertical-align: top\">{&#x27;wilber&#x27;:<br>8.543679316652064, ...</td>\n",
              "    </tr>\n",
              "    <tr>\n",
              "        <td style=\"padding-left: 1em; padding-right: 1em; text-align: center; vertical-align: top\">quickly world popular<br>humor publication ...</td>\n",
              "        <td style=\"padding-left: 1em; padding-right: 1em; text-align: center; vertical-align: top\">{&#x27;ve&#x27;: 1.0, &#x27;century&#x27;:<br>1.0, &#x27;twentieth&#x27;: 1.0, ...</td>\n",
              "        <td style=\"padding-left: 1em; padding-right: 1em; text-align: center; vertical-align: top\">{&#x27;ve&#x27;: 4.09633321585754,<br>&#x27;century&#x27;: ...</td>\n",
              "    </tr>\n",
              "    <tr>\n",
              "        <td style=\"padding-left: 1em; padding-right: 1em; text-align: center; vertical-align: top\">filled fresh eclectic<br>recipes celia brooks ...</td>\n",
              "        <td style=\"padding-left: 1em; padding-right: 1em; text-align: center; vertical-align: top\">{&#x27;tempt&#x27;: 1.0,<br>&#x27;enthusiasm&#x27;: 1.0, ...</td>\n",
              "        <td style=\"padding-left: 1em; padding-right: 1em; text-align: center; vertical-align: top\">{&#x27;tempt&#x27;:<br>7.319903885029948, ...</td>\n",
              "    </tr>\n",
              "    <tr>\n",
              "        <td style=\"padding-left: 1em; padding-right: 1em; text-align: center; vertical-align: top\">robynn clairday<br>interviewed kids america ...</td>\n",
              "        <td style=\"padding-left: 1em; padding-right: 1em; text-align: center; vertical-align: top\">{&#x27;embarrassment&#x27;: 1.0,<br>&#x27;dealing&#x27;: 1.0, ...</td>\n",
              "        <td style=\"padding-left: 1em; padding-right: 1em; text-align: center; vertical-align: top\">{&#x27;embarrassment&#x27;:<br>7.26274547119, &#x27;deali ...</td>\n",
              "    </tr>\n",
              "</table>\n",
              "[25671 rows x 8 columns]<br/>Note: Only the head of the SFrame is printed.<br/>You can use print_rows(num_rows=m, num_columns=n) to print more rows and columns.\n",
              "</div>"
            ],
            "text/plain": [
              "Columns:\n",
              "\tISBN\tstr\n",
              "\tTitle\tstr\n",
              "\tAuthor\tstr\n",
              "\tYear\tint\n",
              "\tPublisher\tstr\n",
              "\tBlurb\tstr\n",
              "\tword_count\tdict\n",
              "\ttf_idf\tdict\n",
              "\n",
              "Rows: 25671\n",
              "\n",
              "Data:\n",
              "+------------+-------------------------------+--------------------+------+\n",
              "|    ISBN    |             Title             |       Author       | Year |\n",
              "+------------+-------------------------------+--------------------+------+\n",
              "| 0060973129 |      Decision in Normandy     |    Carlo D'Este    | 1991 |\n",
              "| 0374157065 | Flu: The Story of the Grea... |  Gina Bari Kolata  | 1999 |\n",
              "| 0399135782 |     The Kitchen God's Wife    |      Amy Tan       | 1991 |\n",
              "| 0425176428 | What If?: The World's Fore... |   Robert Cowley    | 2000 |\n",
              "| 1881320189 | Goodbye to the Buttermilk Sky |    Julia Oliver    | 1994 |\n",
              "| 0440234743 |         The Testament         |    John Grisham    | 1999 |\n",
              "| 0452264464 | Beloved (Plume Contemporar... |   Toni Morrison    | 1994 |\n",
              "| 0609804618 | Our Dumb Century: The Onio... |     The Onion      | 1999 |\n",
              "| 1841721522 | New Vegetarian: Bold and B... | Celia Brooks Brown | 2001 |\n",
              "| 0439095026 |  Tell Me This Isn't Happening |  Robynn Clairday   | 1999 |\n",
              "+------------+-------------------------------+--------------------+------+\n",
              "+-------------------------------+-------------------------------+\n",
              "|           Publisher           |             Blurb             |\n",
              "+-------------------------------+-------------------------------+\n",
              "|        HarperPerennial        | time paperback outstanding... |\n",
              "|      Farrar Straus Giroux     | fascinating true story wor... |\n",
              "|        Putnam Pub Group       | winnie helen worst secrets... |\n",
              "|    Berkley Publishing Group   | historians inquisitive lay... |\n",
              "|         River City Pub        | highly praised fiction wri... |\n",
              "|              Dell             | plush virginia office rich... |\n",
              "|             Plume             | troubled years civil war s... |\n",
              "|       Three Rivers Press      | quickly world popular humo... |\n",
              "| Ryland Peters &amp; Small Ltd | filled fresh eclectic reci... |\n",
              "|           Scholastic          | robynn clairday interviewe... |\n",
              "+-------------------------------+-------------------------------+\n",
              "+-------------------------------+-------------------------------+\n",
              "|           word_count          |             tf_idf            |\n",
              "+-------------------------------+-------------------------------+\n",
              "| {'normandy': 1.0, 'day': 1... | {'normandy': 7.66821057929... |\n",
              "| {'recurring': 1.0, 'addres... | {'recurring': 6.9750633987... |\n",
              "| {'led': 1.0, 'america': 1.... | {'led': 4.318306492023559,... |\n",
              "| {'frightening': 1.0, 'surp... | {'frightening': 5.12923670... |\n",
              "| {'word': 1.0, 'captivates'... | {'word': 4.253219875503673... |\n",
              "| {'holds': 1.0, 'friends': ... | {'holds': 4.56586857068591... |\n",
              "| {'wilber': 1.0, 'measured'... | {'wilber': 8.5436793166520... |\n",
              "| {'ve': 1.0, 'century': 1.0... | {'ve': 4.09633321585754, '... |\n",
              "| {'tempt': 1.0, 'enthusiasm... | {'tempt': 7.31990388502994... |\n",
              "| {'embarrassment': 1.0, 'de... | {'embarrassment': 7.262745... |\n",
              "+-------------------------------+-------------------------------+\n",
              "[25671 rows x 8 columns]\n",
              "Note: Only the head of the SFrame is printed.\n",
              "You can use print_rows(num_rows=m, num_columns=n) to print more rows and columns."
            ]
          },
          "metadata": {
            "tags": []
          },
          "execution_count": 17
        }
      ]
    },
    {
      "cell_type": "markdown",
      "metadata": {
        "id": "SzWAZBBc505g"
      },
      "source": [
        "## Find nearest neighbors"
      ]
    },
    {
      "cell_type": "markdown",
      "metadata": {
        "id": "2B1NDQHY505g"
      },
      "source": [
        "Let's start by\n",
        "- finding the nearest neighbors of the Barack Obama page using the word count vectors to represent the articles and Euclidean distance to measure distance.\n",
        "- finding the nearest neighbors for a certain combination of \"Big 5\" personality traits, using the word count vectors to represent the book blurbs and Euclidean distance to measure distance.\n",
        "\n",
        "For this, again will we use a Turi Create implementation of nearest neighbor search."
      ]
    },
    {
      "cell_type": "code",
      "metadata": {
        "colab": {
          "base_uri": "https://localhost:8080/",
          "height": 104
        },
        "id": "zGeVKcfl505h",
        "outputId": "29db5fe4-6b1c-4464-ddcd-3ded57e0383a"
      },
      "source": [
        "model_wiki = turicreate.nearest_neighbors.create(wiki, label='name', features=['word_count'],\n",
        "                                            method='brute_force', distance='euclidean')"
      ],
      "execution_count": null,
      "outputs": [
        {
          "output_type": "display_data",
          "data": {
            "text/html": [
              "<pre>Starting brute force nearest neighbors model training.</pre>"
            ],
            "text/plain": [
              "Starting brute force nearest neighbors model training."
            ]
          },
          "metadata": {
            "tags": []
          }
        },
        {
          "output_type": "display_data",
          "data": {
            "text/html": [
              "<pre>Validating distance components.</pre>"
            ],
            "text/plain": [
              "Validating distance components."
            ]
          },
          "metadata": {
            "tags": []
          }
        },
        {
          "output_type": "display_data",
          "data": {
            "text/html": [
              "<pre>Initializing model data.</pre>"
            ],
            "text/plain": [
              "Initializing model data."
            ]
          },
          "metadata": {
            "tags": []
          }
        },
        {
          "output_type": "display_data",
          "data": {
            "text/html": [
              "<pre>Initializing distances.</pre>"
            ],
            "text/plain": [
              "Initializing distances."
            ]
          },
          "metadata": {
            "tags": []
          }
        },
        {
          "output_type": "display_data",
          "data": {
            "text/html": [
              "<pre>Done.</pre>"
            ],
            "text/plain": [
              "Done."
            ]
          },
          "metadata": {
            "tags": []
          }
        }
      ]
    },
    {
      "cell_type": "code",
      "metadata": {
        "colab": {
          "base_uri": "https://localhost:8080/",
          "height": 104
        },
        "id": "50wd5-de-a-g",
        "outputId": "39c5c45c-0c5e-45b4-80ee-1c6a872a8105"
      },
      "source": [
        "model_books = turicreate.nearest_neighbors.create(books, label='Title', features=['word_count'],\n",
        "                                            method='brute_force', distance='cosine')"
      ],
      "execution_count": null,
      "outputs": [
        {
          "output_type": "display_data",
          "data": {
            "text/html": [
              "<pre>Starting brute force nearest neighbors model training.</pre>"
            ],
            "text/plain": [
              "Starting brute force nearest neighbors model training."
            ]
          },
          "metadata": {
            "tags": []
          }
        },
        {
          "output_type": "display_data",
          "data": {
            "text/html": [
              "<pre>Validating distance components.</pre>"
            ],
            "text/plain": [
              "Validating distance components."
            ]
          },
          "metadata": {
            "tags": []
          }
        },
        {
          "output_type": "display_data",
          "data": {
            "text/html": [
              "<pre>Initializing model data.</pre>"
            ],
            "text/plain": [
              "Initializing model data."
            ]
          },
          "metadata": {
            "tags": []
          }
        },
        {
          "output_type": "display_data",
          "data": {
            "text/html": [
              "<pre>Initializing distances.</pre>"
            ],
            "text/plain": [
              "Initializing distances."
            ]
          },
          "metadata": {
            "tags": []
          }
        },
        {
          "output_type": "display_data",
          "data": {
            "text/html": [
              "<pre>Done.</pre>"
            ],
            "text/plain": [
              "Done."
            ]
          },
          "metadata": {
            "tags": []
          }
        }
      ]
    },
    {
      "cell_type": "markdown",
      "metadata": {
        "id": "7YG5E4Ce505h"
      },
      "source": [
        "Let's look at the top 10 nearest neighbors by performing the following query:"
      ]
    },
    {
      "cell_type": "code",
      "metadata": {
        "scrolled": false,
        "colab": {
          "base_uri": "https://localhost:8080/",
          "height": 380
        },
        "id": "zs228MbL505h",
        "outputId": "b01e6c39-ddd0-4f8f-bb94-aa5d938987da"
      },
      "source": [
        "model_wiki.query(wiki[wiki['name']=='Barack Obama'], label='name', k=10)"
      ],
      "execution_count": null,
      "outputs": [
        {
          "output_type": "display_data",
          "data": {
            "text/html": [
              "<pre>Starting pairwise querying.</pre>"
            ],
            "text/plain": [
              "Starting pairwise querying."
            ]
          },
          "metadata": {
            "tags": []
          }
        },
        {
          "output_type": "display_data",
          "data": {
            "text/html": [
              "<pre>+--------------+---------+-------------+--------------+</pre>"
            ],
            "text/plain": [
              "+--------------+---------+-------------+--------------+"
            ]
          },
          "metadata": {
            "tags": []
          }
        },
        {
          "output_type": "display_data",
          "data": {
            "text/html": [
              "<pre>| Query points | # Pairs | % Complete. | Elapsed Time |</pre>"
            ],
            "text/plain": [
              "| Query points | # Pairs | % Complete. | Elapsed Time |"
            ]
          },
          "metadata": {
            "tags": []
          }
        },
        {
          "output_type": "display_data",
          "data": {
            "text/html": [
              "<pre>+--------------+---------+-------------+--------------+</pre>"
            ],
            "text/plain": [
              "+--------------+---------+-------------+--------------+"
            ]
          },
          "metadata": {
            "tags": []
          }
        },
        {
          "output_type": "display_data",
          "data": {
            "text/html": [
              "<pre>| 0            | 1       | 0.00169288  | 7.735ms      |</pre>"
            ],
            "text/plain": [
              "| 0            | 1       | 0.00169288  | 7.735ms      |"
            ]
          },
          "metadata": {
            "tags": []
          }
        },
        {
          "output_type": "display_data",
          "data": {
            "text/html": [
              "<pre>| Done         |         | 100         | 478.357ms    |</pre>"
            ],
            "text/plain": [
              "| Done         |         | 100         | 478.357ms    |"
            ]
          },
          "metadata": {
            "tags": []
          }
        },
        {
          "output_type": "display_data",
          "data": {
            "text/html": [
              "<pre>+--------------+---------+-------------+--------------+</pre>"
            ],
            "text/plain": [
              "+--------------+---------+-------------+--------------+"
            ]
          },
          "metadata": {
            "tags": []
          }
        },
        {
          "output_type": "execute_result",
          "data": {
            "text/html": [
              "<div style=\"max-height:1000px;max-width:1500px;overflow:auto;\"><table frame=\"box\" rules=\"cols\">\n",
              "    <tr>\n",
              "        <th style=\"padding-left: 1em; padding-right: 1em; text-align: center\">query_label</th>\n",
              "        <th style=\"padding-left: 1em; padding-right: 1em; text-align: center\">reference_label</th>\n",
              "        <th style=\"padding-left: 1em; padding-right: 1em; text-align: center\">distance</th>\n",
              "        <th style=\"padding-left: 1em; padding-right: 1em; text-align: center\">rank</th>\n",
              "    </tr>\n",
              "    <tr>\n",
              "        <td style=\"padding-left: 1em; padding-right: 1em; text-align: center; vertical-align: top\">Barack Obama</td>\n",
              "        <td style=\"padding-left: 1em; padding-right: 1em; text-align: center; vertical-align: top\">Barack Obama</td>\n",
              "        <td style=\"padding-left: 1em; padding-right: 1em; text-align: center; vertical-align: top\">0.0</td>\n",
              "        <td style=\"padding-left: 1em; padding-right: 1em; text-align: center; vertical-align: top\">1</td>\n",
              "    </tr>\n",
              "    <tr>\n",
              "        <td style=\"padding-left: 1em; padding-right: 1em; text-align: center; vertical-align: top\">Barack Obama</td>\n",
              "        <td style=\"padding-left: 1em; padding-right: 1em; text-align: center; vertical-align: top\">Joe Biden</td>\n",
              "        <td style=\"padding-left: 1em; padding-right: 1em; text-align: center; vertical-align: top\">33.075670817082454</td>\n",
              "        <td style=\"padding-left: 1em; padding-right: 1em; text-align: center; vertical-align: top\">2</td>\n",
              "    </tr>\n",
              "    <tr>\n",
              "        <td style=\"padding-left: 1em; padding-right: 1em; text-align: center; vertical-align: top\">Barack Obama</td>\n",
              "        <td style=\"padding-left: 1em; padding-right: 1em; text-align: center; vertical-align: top\">George W. Bush</td>\n",
              "        <td style=\"padding-left: 1em; padding-right: 1em; text-align: center; vertical-align: top\">34.39476704383968</td>\n",
              "        <td style=\"padding-left: 1em; padding-right: 1em; text-align: center; vertical-align: top\">3</td>\n",
              "    </tr>\n",
              "    <tr>\n",
              "        <td style=\"padding-left: 1em; padding-right: 1em; text-align: center; vertical-align: top\">Barack Obama</td>\n",
              "        <td style=\"padding-left: 1em; padding-right: 1em; text-align: center; vertical-align: top\">Lawrence Summers</td>\n",
              "        <td style=\"padding-left: 1em; padding-right: 1em; text-align: center; vertical-align: top\">36.15245496505044</td>\n",
              "        <td style=\"padding-left: 1em; padding-right: 1em; text-align: center; vertical-align: top\">4</td>\n",
              "    </tr>\n",
              "    <tr>\n",
              "        <td style=\"padding-left: 1em; padding-right: 1em; text-align: center; vertical-align: top\">Barack Obama</td>\n",
              "        <td style=\"padding-left: 1em; padding-right: 1em; text-align: center; vertical-align: top\">Mitt Romney</td>\n",
              "        <td style=\"padding-left: 1em; padding-right: 1em; text-align: center; vertical-align: top\">36.16628264005025</td>\n",
              "        <td style=\"padding-left: 1em; padding-right: 1em; text-align: center; vertical-align: top\">5</td>\n",
              "    </tr>\n",
              "    <tr>\n",
              "        <td style=\"padding-left: 1em; padding-right: 1em; text-align: center; vertical-align: top\">Barack Obama</td>\n",
              "        <td style=\"padding-left: 1em; padding-right: 1em; text-align: center; vertical-align: top\">Francisco Barrio</td>\n",
              "        <td style=\"padding-left: 1em; padding-right: 1em; text-align: center; vertical-align: top\">36.3318042491699</td>\n",
              "        <td style=\"padding-left: 1em; padding-right: 1em; text-align: center; vertical-align: top\">6</td>\n",
              "    </tr>\n",
              "    <tr>\n",
              "        <td style=\"padding-left: 1em; padding-right: 1em; text-align: center; vertical-align: top\">Barack Obama</td>\n",
              "        <td style=\"padding-left: 1em; padding-right: 1em; text-align: center; vertical-align: top\">Walter Mondale</td>\n",
              "        <td style=\"padding-left: 1em; padding-right: 1em; text-align: center; vertical-align: top\">36.40054944640259</td>\n",
              "        <td style=\"padding-left: 1em; padding-right: 1em; text-align: center; vertical-align: top\">7</td>\n",
              "    </tr>\n",
              "    <tr>\n",
              "        <td style=\"padding-left: 1em; padding-right: 1em; text-align: center; vertical-align: top\">Barack Obama</td>\n",
              "        <td style=\"padding-left: 1em; padding-right: 1em; text-align: center; vertical-align: top\">Wynn Normington Hugh-<br>Jones ...</td>\n",
              "        <td style=\"padding-left: 1em; padding-right: 1em; text-align: center; vertical-align: top\">36.49657518178932</td>\n",
              "        <td style=\"padding-left: 1em; padding-right: 1em; text-align: center; vertical-align: top\">8</td>\n",
              "    </tr>\n",
              "    <tr>\n",
              "        <td style=\"padding-left: 1em; padding-right: 1em; text-align: center; vertical-align: top\">Barack Obama</td>\n",
              "        <td style=\"padding-left: 1em; padding-right: 1em; text-align: center; vertical-align: top\">Don Bonker</td>\n",
              "        <td style=\"padding-left: 1em; padding-right: 1em; text-align: center; vertical-align: top\">36.6333181680284</td>\n",
              "        <td style=\"padding-left: 1em; padding-right: 1em; text-align: center; vertical-align: top\">9</td>\n",
              "    </tr>\n",
              "    <tr>\n",
              "        <td style=\"padding-left: 1em; padding-right: 1em; text-align: center; vertical-align: top\">Barack Obama</td>\n",
              "        <td style=\"padding-left: 1em; padding-right: 1em; text-align: center; vertical-align: top\">Andy Anstett</td>\n",
              "        <td style=\"padding-left: 1em; padding-right: 1em; text-align: center; vertical-align: top\">36.959437225152655</td>\n",
              "        <td style=\"padding-left: 1em; padding-right: 1em; text-align: center; vertical-align: top\">10</td>\n",
              "    </tr>\n",
              "</table>\n",
              "[10 rows x 4 columns]<br/>\n",
              "</div>"
            ],
            "text/plain": [
              "Columns:\n",
              "\tquery_label\tstr\n",
              "\treference_label\tstr\n",
              "\tdistance\tfloat\n",
              "\trank\tint\n",
              "\n",
              "Rows: 10\n",
              "\n",
              "Data:\n",
              "+--------------+----------------------------+--------------------+------+\n",
              "| query_label  |      reference_label       |      distance      | rank |\n",
              "+--------------+----------------------------+--------------------+------+\n",
              "| Barack Obama |        Barack Obama        |        0.0         |  1   |\n",
              "| Barack Obama |         Joe Biden          | 33.075670817082454 |  2   |\n",
              "| Barack Obama |       George W. Bush       | 34.39476704383968  |  3   |\n",
              "| Barack Obama |      Lawrence Summers      | 36.15245496505044  |  4   |\n",
              "| Barack Obama |        Mitt Romney         | 36.16628264005025  |  5   |\n",
              "| Barack Obama |      Francisco Barrio      |  36.3318042491699  |  6   |\n",
              "| Barack Obama |       Walter Mondale       | 36.40054944640259  |  7   |\n",
              "| Barack Obama | Wynn Normington Hugh-Jones | 36.49657518178932  |  8   |\n",
              "| Barack Obama |         Don Bonker         |  36.6333181680284  |  9   |\n",
              "| Barack Obama |        Andy Anstett        | 36.959437225152655 |  10  |\n",
              "+--------------+----------------------------+--------------------+------+\n",
              "[10 rows x 4 columns]"
            ]
          },
          "metadata": {
            "tags": []
          },
          "execution_count": 19
        }
      ]
    },
    {
      "cell_type": "code",
      "metadata": {
        "id": "8ad-ZErvJKm5",
        "colab": {
          "base_uri": "https://localhost:8080/",
          "height": 181
        },
        "outputId": "115495b0-26f8-49ad-ee98-0e7265bf755e"
      },
      "source": [
        "books[books['Title']=='The Testament']"
      ],
      "execution_count": null,
      "outputs": [
        {
          "output_type": "execute_result",
          "data": {
            "text/html": [
              "<div style=\"max-height:1000px;max-width:1500px;overflow:auto;\"><table frame=\"box\" rules=\"cols\">\n",
              "    <tr>\n",
              "        <th style=\"padding-left: 1em; padding-right: 1em; text-align: center\">ISBN</th>\n",
              "        <th style=\"padding-left: 1em; padding-right: 1em; text-align: center\">Title</th>\n",
              "        <th style=\"padding-left: 1em; padding-right: 1em; text-align: center\">Author</th>\n",
              "        <th style=\"padding-left: 1em; padding-right: 1em; text-align: center\">Year</th>\n",
              "        <th style=\"padding-left: 1em; padding-right: 1em; text-align: center\">Publisher</th>\n",
              "        <th style=\"padding-left: 1em; padding-right: 1em; text-align: center\">Blurb</th>\n",
              "    </tr>\n",
              "    <tr>\n",
              "        <td style=\"padding-left: 1em; padding-right: 1em; text-align: center; vertical-align: top\">0440234743</td>\n",
              "        <td style=\"padding-left: 1em; padding-right: 1em; text-align: center; vertical-align: top\">The Testament</td>\n",
              "        <td style=\"padding-left: 1em; padding-right: 1em; text-align: center; vertical-align: top\">John Grisham</td>\n",
              "        <td style=\"padding-left: 1em; padding-right: 1em; text-align: center; vertical-align: top\">1999</td>\n",
              "        <td style=\"padding-left: 1em; padding-right: 1em; text-align: center; vertical-align: top\">Dell</td>\n",
              "        <td style=\"padding-left: 1em; padding-right: 1em; text-align: center; vertical-align: top\">plush virginia office<br>rich angry man furiously ...</td>\n",
              "    </tr>\n",
              "</table>\n",
              "<table frame=\"box\" rules=\"cols\">\n",
              "    <tr>\n",
              "        <th style=\"padding-left: 1em; padding-right: 1em; text-align: center\">word_count</th>\n",
              "    </tr>\n",
              "    <tr>\n",
              "        <td style=\"padding-left: 1em; padding-right: 1em; text-align: center; vertical-align: top\">{&#x27;holds&#x27;: 1.0, &#x27;friends&#x27;:<br>1.0, &#x27;enemies&#x27;: 1.0, ...</td>\n",
              "    </tr>\n",
              "</table>\n",
              "[? rows x 7 columns]<br/>Note: Only the head of the SFrame is printed. This SFrame is lazily evaluated.<br/>You can use sf.materialize() to force materialization.\n",
              "</div>"
            ],
            "text/plain": [
              "Columns:\n",
              "\tISBN\tstr\n",
              "\tTitle\tstr\n",
              "\tAuthor\tstr\n",
              "\tYear\tint\n",
              "\tPublisher\tstr\n",
              "\tBlurb\tstr\n",
              "\tword_count\tdict\n",
              "\n",
              "Rows: Unknown\n",
              "\n",
              "Data:\n",
              "+------------+---------------+--------------+------+-----------+\n",
              "|    ISBN    |     Title     |    Author    | Year | Publisher |\n",
              "+------------+---------------+--------------+------+-----------+\n",
              "| 0440234743 | The Testament | John Grisham | 1999 |    Dell   |\n",
              "+------------+---------------+--------------+------+-----------+\n",
              "+-------------------------------+-------------------------------+\n",
              "|             Blurb             |           word_count          |\n",
              "+-------------------------------+-------------------------------+\n",
              "| plush virginia office rich... | {'holds': 1.0, 'friends': ... |\n",
              "+-------------------------------+-------------------------------+\n",
              "[? rows x 7 columns]\n",
              "Note: Only the head of the SFrame is printed. This SFrame is lazily evaluated.\n",
              "You can use sf.materialize() to force materialization."
            ]
          },
          "metadata": {
            "tags": []
          },
          "execution_count": 110
        }
      ]
    },
    {
      "cell_type": "code",
      "metadata": {
        "colab": {
          "base_uri": "https://localhost:8080/",
          "height": 415
        },
        "id": "OJXqE5PJ-uz2",
        "outputId": "dba384cf-ab73-4eb0-8566-19d3721b15fc"
      },
      "source": [
        "model_books.query(books[books['Title']=='The Testament'], label='Title', k=10)"
      ],
      "execution_count": null,
      "outputs": [
        {
          "output_type": "display_data",
          "data": {
            "text/html": [
              "<pre>Starting pairwise querying.</pre>"
            ],
            "text/plain": [
              "Starting pairwise querying."
            ]
          },
          "metadata": {
            "tags": []
          }
        },
        {
          "output_type": "display_data",
          "data": {
            "text/html": [
              "<pre>+--------------+---------+-------------+--------------+</pre>"
            ],
            "text/plain": [
              "+--------------+---------+-------------+--------------+"
            ]
          },
          "metadata": {
            "tags": []
          }
        },
        {
          "output_type": "display_data",
          "data": {
            "text/html": [
              "<pre>| Query points | # Pairs | % Complete. | Elapsed Time |</pre>"
            ],
            "text/plain": [
              "| Query points | # Pairs | % Complete. | Elapsed Time |"
            ]
          },
          "metadata": {
            "tags": []
          }
        },
        {
          "output_type": "display_data",
          "data": {
            "text/html": [
              "<pre>+--------------+---------+-------------+--------------+</pre>"
            ],
            "text/plain": [
              "+--------------+---------+-------------+--------------+"
            ]
          },
          "metadata": {
            "tags": []
          }
        },
        {
          "output_type": "display_data",
          "data": {
            "text/html": [
              "<pre>| 0            | 1       | 0.00389545  | 17.162ms     |</pre>"
            ],
            "text/plain": [
              "| 0            | 1       | 0.00389545  | 17.162ms     |"
            ]
          },
          "metadata": {
            "tags": []
          }
        },
        {
          "output_type": "display_data",
          "data": {
            "text/html": [
              "<pre>| Done         |         | 100         | 86.422ms     |</pre>"
            ],
            "text/plain": [
              "| Done         |         | 100         | 86.422ms     |"
            ]
          },
          "metadata": {
            "tags": []
          }
        },
        {
          "output_type": "display_data",
          "data": {
            "text/html": [
              "<pre>+--------------+---------+-------------+--------------+</pre>"
            ],
            "text/plain": [
              "+--------------+---------+-------------+--------------+"
            ]
          },
          "metadata": {
            "tags": []
          }
        },
        {
          "output_type": "execute_result",
          "data": {
            "text/html": [
              "<div style=\"max-height:1000px;max-width:1500px;overflow:auto;\"><table frame=\"box\" rules=\"cols\">\n",
              "    <tr>\n",
              "        <th style=\"padding-left: 1em; padding-right: 1em; text-align: center\">query_label</th>\n",
              "        <th style=\"padding-left: 1em; padding-right: 1em; text-align: center\">reference_label</th>\n",
              "        <th style=\"padding-left: 1em; padding-right: 1em; text-align: center\">distance</th>\n",
              "        <th style=\"padding-left: 1em; padding-right: 1em; text-align: center\">rank</th>\n",
              "    </tr>\n",
              "    <tr>\n",
              "        <td style=\"padding-left: 1em; padding-right: 1em; text-align: center; vertical-align: top\">The Testament</td>\n",
              "        <td style=\"padding-left: 1em; padding-right: 1em; text-align: center; vertical-align: top\">The Testament</td>\n",
              "        <td style=\"padding-left: 1em; padding-right: 1em; text-align: center; vertical-align: top\">-2.220446049250313e-16</td>\n",
              "        <td style=\"padding-left: 1em; padding-right: 1em; text-align: center; vertical-align: top\">1</td>\n",
              "    </tr>\n",
              "    <tr>\n",
              "        <td style=\"padding-left: 1em; padding-right: 1em; text-align: center; vertical-align: top\">The Testament</td>\n",
              "        <td style=\"padding-left: 1em; padding-right: 1em; text-align: center; vertical-align: top\">Writ of Execution</td>\n",
              "        <td style=\"padding-left: 1em; padding-right: 1em; text-align: center; vertical-align: top\">0.8229279382562928</td>\n",
              "        <td style=\"padding-left: 1em; padding-right: 1em; text-align: center; vertical-align: top\">2</td>\n",
              "    </tr>\n",
              "    <tr>\n",
              "        <td style=\"padding-left: 1em; padding-right: 1em; text-align: center; vertical-align: top\">The Testament</td>\n",
              "        <td style=\"padding-left: 1em; padding-right: 1em; text-align: center; vertical-align: top\">Looking for Rachel<br>Wallace ...</td>\n",
              "        <td style=\"padding-left: 1em; padding-right: 1em; text-align: center; vertical-align: top\">0.832284205186034</td>\n",
              "        <td style=\"padding-left: 1em; padding-right: 1em; text-align: center; vertical-align: top\">3</td>\n",
              "    </tr>\n",
              "    <tr>\n",
              "        <td style=\"padding-left: 1em; padding-right: 1em; text-align: center; vertical-align: top\">The Testament</td>\n",
              "        <td style=\"padding-left: 1em; padding-right: 1em; text-align: center; vertical-align: top\">GIFT OF STONES</td>\n",
              "        <td style=\"padding-left: 1em; padding-right: 1em; text-align: center; vertical-align: top\">0.8573045517536517</td>\n",
              "        <td style=\"padding-left: 1em; padding-right: 1em; text-align: center; vertical-align: top\">4</td>\n",
              "    </tr>\n",
              "    <tr>\n",
              "        <td style=\"padding-left: 1em; padding-right: 1em; text-align: center; vertical-align: top\">The Testament</td>\n",
              "        <td style=\"padding-left: 1em; padding-right: 1em; text-align: center; vertical-align: top\">Here&#x27;s to You, Rachel<br>Robinson ...</td>\n",
              "        <td style=\"padding-left: 1em; padding-right: 1em; text-align: center; vertical-align: top\">0.8582281565926204</td>\n",
              "        <td style=\"padding-left: 1em; padding-right: 1em; text-align: center; vertical-align: top\">5</td>\n",
              "    </tr>\n",
              "    <tr>\n",
              "        <td style=\"padding-left: 1em; padding-right: 1em; text-align: center; vertical-align: top\">The Testament</td>\n",
              "        <td style=\"padding-left: 1em; padding-right: 1em; text-align: center; vertical-align: top\">On a Pale Horse<br>(Incarnations of ...</td>\n",
              "        <td style=\"padding-left: 1em; padding-right: 1em; text-align: center; vertical-align: top\">0.8586832840702012</td>\n",
              "        <td style=\"padding-left: 1em; padding-right: 1em; text-align: center; vertical-align: top\">6</td>\n",
              "    </tr>\n",
              "    <tr>\n",
              "        <td style=\"padding-left: 1em; padding-right: 1em; text-align: center; vertical-align: top\">The Testament</td>\n",
              "        <td style=\"padding-left: 1em; padding-right: 1em; text-align: center; vertical-align: top\">Astrology: Woman to Woman</td>\n",
              "        <td style=\"padding-left: 1em; padding-right: 1em; text-align: center; vertical-align: top\">0.860846924537976</td>\n",
              "        <td style=\"padding-left: 1em; padding-right: 1em; text-align: center; vertical-align: top\">7</td>\n",
              "    </tr>\n",
              "    <tr>\n",
              "        <td style=\"padding-left: 1em; padding-right: 1em; text-align: center; vertical-align: top\">The Testament</td>\n",
              "        <td style=\"padding-left: 1em; padding-right: 1em; text-align: center; vertical-align: top\">DANIELS BRIDE</td>\n",
              "        <td style=\"padding-left: 1em; padding-right: 1em; text-align: center; vertical-align: top\">0.8613249509436927</td>\n",
              "        <td style=\"padding-left: 1em; padding-right: 1em; text-align: center; vertical-align: top\">8</td>\n",
              "    </tr>\n",
              "    <tr>\n",
              "        <td style=\"padding-left: 1em; padding-right: 1em; text-align: center; vertical-align: top\">The Testament</td>\n",
              "        <td style=\"padding-left: 1em; padding-right: 1em; text-align: center; vertical-align: top\">Atlas Shrugged</td>\n",
              "        <td style=\"padding-left: 1em; padding-right: 1em; text-align: center; vertical-align: top\">0.8627187054032712</td>\n",
              "        <td style=\"padding-left: 1em; padding-right: 1em; text-align: center; vertical-align: top\">9</td>\n",
              "    </tr>\n",
              "    <tr>\n",
              "        <td style=\"padding-left: 1em; padding-right: 1em; text-align: center; vertical-align: top\">The Testament</td>\n",
              "        <td style=\"padding-left: 1em; padding-right: 1em; text-align: center; vertical-align: top\">Time to Die</td>\n",
              "        <td style=\"padding-left: 1em; padding-right: 1em; text-align: center; vertical-align: top\">0.8650236188002458</td>\n",
              "        <td style=\"padding-left: 1em; padding-right: 1em; text-align: center; vertical-align: top\">10</td>\n",
              "    </tr>\n",
              "</table>\n",
              "[10 rows x 4 columns]<br/>\n",
              "</div>"
            ],
            "text/plain": [
              "Columns:\n",
              "\tquery_label\tstr\n",
              "\treference_label\tstr\n",
              "\tdistance\tfloat\n",
              "\trank\tint\n",
              "\n",
              "Rows: 10\n",
              "\n",
              "Data:\n",
              "+---------------+--------------------------------+------------------------+------+\n",
              "|  query_label  |        reference_label         |        distance        | rank |\n",
              "+---------------+--------------------------------+------------------------+------+\n",
              "| The Testament |         The Testament          | -2.220446049250313e-16 |  1   |\n",
              "| The Testament |       Writ of Execution        |   0.8229279382562928   |  2   |\n",
              "| The Testament |   Looking for Rachel Wallace   |   0.832284205186034    |  3   |\n",
              "| The Testament |         GIFT OF STONES         |   0.8573045517536517   |  4   |\n",
              "| The Testament | Here's to You, Rachel Robinson |   0.8582281565926204   |  5   |\n",
              "| The Testament | On a Pale Horse (Incarnati...  |   0.8586832840702012   |  6   |\n",
              "| The Testament |   Astrology: Woman to Woman    |   0.860846924537976    |  7   |\n",
              "| The Testament |         DANIELS BRIDE          |   0.8613249509436927   |  8   |\n",
              "| The Testament |         Atlas Shrugged         |   0.8627187054032712   |  9   |\n",
              "| The Testament |          Time to Die           |   0.8650236188002458   |  10  |\n",
              "+---------------+--------------------------------+------------------------+------+\n",
              "[10 rows x 4 columns]"
            ]
          },
          "metadata": {
            "tags": []
          },
          "execution_count": 113
        }
      ]
    },
    {
      "cell_type": "markdown",
      "metadata": {
        "id": "QCObYTH8505h"
      },
      "source": [
        "All of the 10 people are politicians, but about half of them have rather tenuous connections with Obama, other than the fact that they are politicians.\n",
        "\n",
        "* Francisco Barrio is a Mexican politician, and a former governor of Chihuahua.\n",
        "* Walter Mondale and Don Bonker are Democrats who made their career in late 1970s.\n",
        "* Wynn Normington Hugh-Jones is a former British diplomat and Liberal Party official.\n",
        "* Andy Anstett is a former politician in Manitoba, Canada.\n",
        "\n",
        "But none of the top 10 books are crime or legal novels.\n",
        "\n",
        "Nearest neighbors with raw word counts got some things right, showing all politicians in the query result, but missed similarity for the books.\n",
        "\n",
        "For instance, let's find out why Francisco Barrio was considered a close neighbor of Obama; and why \"Teach Yourself Russian\" was considered near to \"The Testament\". To do this, let's look at the most frequently used words in each:"
      ]
    },
    {
      "cell_type": "code",
      "metadata": {
        "id": "3yV63PoZ505h"
      },
      "source": [
        "def top_words(dataset, query_column, query_term):\n",
        "    \"\"\"\n",
        "    Get a table of the most frequent words in the given person's wikipedia page.\n",
        "    \"\"\"\n",
        "    row = dataset[dataset[query_column] == query_term]\n",
        "    print(row)\n",
        "    word_count_table = row[['word_count']].stack('word_count', new_column_name=['word','count'])\n",
        "    return word_count_table.sort('count', ascending=False)"
      ],
      "execution_count": null,
      "outputs": []
    },
    {
      "cell_type": "code",
      "metadata": {
        "colab": {
          "base_uri": "https://localhost:8080/",
          "height": 276
        },
        "id": "yOXj3YBR505i",
        "outputId": "db496423-61d2-4a8d-b98c-c1d54dbfaae0"
      },
      "source": [
        "obama_words = top_words(wiki, 'name', 'Barack Obama')\n",
        "obama_words"
      ],
      "execution_count": null,
      "outputs": [
        {
          "output_type": "execute_result",
          "data": {
            "text/html": [
              "<div style=\"max-height:1000px;max-width:1500px;overflow:auto;\"><table frame=\"box\" rules=\"cols\">\n",
              "    <tr>\n",
              "        <th style=\"padding-left: 1em; padding-right: 1em; text-align: center\">word</th>\n",
              "        <th style=\"padding-left: 1em; padding-right: 1em; text-align: center\">count</th>\n",
              "    </tr>\n",
              "    <tr>\n",
              "        <td style=\"padding-left: 1em; padding-right: 1em; text-align: center; vertical-align: top\">the</td>\n",
              "        <td style=\"padding-left: 1em; padding-right: 1em; text-align: center; vertical-align: top\">40.0</td>\n",
              "    </tr>\n",
              "    <tr>\n",
              "        <td style=\"padding-left: 1em; padding-right: 1em; text-align: center; vertical-align: top\">in</td>\n",
              "        <td style=\"padding-left: 1em; padding-right: 1em; text-align: center; vertical-align: top\">30.0</td>\n",
              "    </tr>\n",
              "    <tr>\n",
              "        <td style=\"padding-left: 1em; padding-right: 1em; text-align: center; vertical-align: top\">and</td>\n",
              "        <td style=\"padding-left: 1em; padding-right: 1em; text-align: center; vertical-align: top\">21.0</td>\n",
              "    </tr>\n",
              "    <tr>\n",
              "        <td style=\"padding-left: 1em; padding-right: 1em; text-align: center; vertical-align: top\">of</td>\n",
              "        <td style=\"padding-left: 1em; padding-right: 1em; text-align: center; vertical-align: top\">18.0</td>\n",
              "    </tr>\n",
              "    <tr>\n",
              "        <td style=\"padding-left: 1em; padding-right: 1em; text-align: center; vertical-align: top\">to</td>\n",
              "        <td style=\"padding-left: 1em; padding-right: 1em; text-align: center; vertical-align: top\">14.0</td>\n",
              "    </tr>\n",
              "    <tr>\n",
              "        <td style=\"padding-left: 1em; padding-right: 1em; text-align: center; vertical-align: top\">his</td>\n",
              "        <td style=\"padding-left: 1em; padding-right: 1em; text-align: center; vertical-align: top\">11.0</td>\n",
              "    </tr>\n",
              "    <tr>\n",
              "        <td style=\"padding-left: 1em; padding-right: 1em; text-align: center; vertical-align: top\">obama</td>\n",
              "        <td style=\"padding-left: 1em; padding-right: 1em; text-align: center; vertical-align: top\">9.0</td>\n",
              "    </tr>\n",
              "    <tr>\n",
              "        <td style=\"padding-left: 1em; padding-right: 1em; text-align: center; vertical-align: top\">act</td>\n",
              "        <td style=\"padding-left: 1em; padding-right: 1em; text-align: center; vertical-align: top\">8.0</td>\n",
              "    </tr>\n",
              "    <tr>\n",
              "        <td style=\"padding-left: 1em; padding-right: 1em; text-align: center; vertical-align: top\">a</td>\n",
              "        <td style=\"padding-left: 1em; padding-right: 1em; text-align: center; vertical-align: top\">7.0</td>\n",
              "    </tr>\n",
              "    <tr>\n",
              "        <td style=\"padding-left: 1em; padding-right: 1em; text-align: center; vertical-align: top\">he</td>\n",
              "        <td style=\"padding-left: 1em; padding-right: 1em; text-align: center; vertical-align: top\">7.0</td>\n",
              "    </tr>\n",
              "</table>\n",
              "[273 rows x 2 columns]<br/>Note: Only the head of the SFrame is printed.<br/>You can use print_rows(num_rows=m, num_columns=n) to print more rows and columns.\n",
              "</div>"
            ],
            "text/plain": [
              "Columns:\n",
              "\tword\tstr\n",
              "\tcount\tfloat\n",
              "\n",
              "Rows: 273\n",
              "\n",
              "Data:\n",
              "+-------+-------+\n",
              "|  word | count |\n",
              "+-------+-------+\n",
              "|  the  |  40.0 |\n",
              "|   in  |  30.0 |\n",
              "|  and  |  21.0 |\n",
              "|   of  |  18.0 |\n",
              "|   to  |  14.0 |\n",
              "|  his  |  11.0 |\n",
              "| obama |  9.0  |\n",
              "|  act  |  8.0  |\n",
              "|   a   |  7.0  |\n",
              "|   he  |  7.0  |\n",
              "+-------+-------+\n",
              "[273 rows x 2 columns]\n",
              "Note: Only the head of the SFrame is printed.\n",
              "You can use print_rows(num_rows=m, num_columns=n) to print more rows and columns."
            ]
          },
          "metadata": {
            "tags": []
          },
          "execution_count": 26
        }
      ]
    },
    {
      "cell_type": "code",
      "metadata": {
        "colab": {
          "base_uri": "https://localhost:8080/",
          "height": 276
        },
        "id": "bVV7o7Hq505i",
        "outputId": "28a348aa-b25c-4274-9855-c87974b98c50"
      },
      "source": [
        "barrio_words = top_words(wiki, 'name', 'Francisco Barrio')\n",
        "barrio_words"
      ],
      "execution_count": null,
      "outputs": [
        {
          "output_type": "execute_result",
          "data": {
            "text/html": [
              "<div style=\"max-height:1000px;max-width:1500px;overflow:auto;\"><table frame=\"box\" rules=\"cols\">\n",
              "    <tr>\n",
              "        <th style=\"padding-left: 1em; padding-right: 1em; text-align: center\">word</th>\n",
              "        <th style=\"padding-left: 1em; padding-right: 1em; text-align: center\">count</th>\n",
              "    </tr>\n",
              "    <tr>\n",
              "        <td style=\"padding-left: 1em; padding-right: 1em; text-align: center; vertical-align: top\">the</td>\n",
              "        <td style=\"padding-left: 1em; padding-right: 1em; text-align: center; vertical-align: top\">36.0</td>\n",
              "    </tr>\n",
              "    <tr>\n",
              "        <td style=\"padding-left: 1em; padding-right: 1em; text-align: center; vertical-align: top\">of</td>\n",
              "        <td style=\"padding-left: 1em; padding-right: 1em; text-align: center; vertical-align: top\">24.0</td>\n",
              "    </tr>\n",
              "    <tr>\n",
              "        <td style=\"padding-left: 1em; padding-right: 1em; text-align: center; vertical-align: top\">and</td>\n",
              "        <td style=\"padding-left: 1em; padding-right: 1em; text-align: center; vertical-align: top\">18.0</td>\n",
              "    </tr>\n",
              "    <tr>\n",
              "        <td style=\"padding-left: 1em; padding-right: 1em; text-align: center; vertical-align: top\">in</td>\n",
              "        <td style=\"padding-left: 1em; padding-right: 1em; text-align: center; vertical-align: top\">17.0</td>\n",
              "    </tr>\n",
              "    <tr>\n",
              "        <td style=\"padding-left: 1em; padding-right: 1em; text-align: center; vertical-align: top\">he</td>\n",
              "        <td style=\"padding-left: 1em; padding-right: 1em; text-align: center; vertical-align: top\">10.0</td>\n",
              "    </tr>\n",
              "    <tr>\n",
              "        <td style=\"padding-left: 1em; padding-right: 1em; text-align: center; vertical-align: top\">to</td>\n",
              "        <td style=\"padding-left: 1em; padding-right: 1em; text-align: center; vertical-align: top\">9.0</td>\n",
              "    </tr>\n",
              "    <tr>\n",
              "        <td style=\"padding-left: 1em; padding-right: 1em; text-align: center; vertical-align: top\">chihuahua</td>\n",
              "        <td style=\"padding-left: 1em; padding-right: 1em; text-align: center; vertical-align: top\">7.0</td>\n",
              "    </tr>\n",
              "    <tr>\n",
              "        <td style=\"padding-left: 1em; padding-right: 1em; text-align: center; vertical-align: top\">a</td>\n",
              "        <td style=\"padding-left: 1em; padding-right: 1em; text-align: center; vertical-align: top\">6.0</td>\n",
              "    </tr>\n",
              "    <tr>\n",
              "        <td style=\"padding-left: 1em; padding-right: 1em; text-align: center; vertical-align: top\">governor</td>\n",
              "        <td style=\"padding-left: 1em; padding-right: 1em; text-align: center; vertical-align: top\">6.0</td>\n",
              "    </tr>\n",
              "    <tr>\n",
              "        <td style=\"padding-left: 1em; padding-right: 1em; text-align: center; vertical-align: top\">his</td>\n",
              "        <td style=\"padding-left: 1em; padding-right: 1em; text-align: center; vertical-align: top\">5.0</td>\n",
              "    </tr>\n",
              "</table>\n",
              "[225 rows x 2 columns]<br/>Note: Only the head of the SFrame is printed.<br/>You can use print_rows(num_rows=m, num_columns=n) to print more rows and columns.\n",
              "</div>"
            ],
            "text/plain": [
              "Columns:\n",
              "\tword\tstr\n",
              "\tcount\tfloat\n",
              "\n",
              "Rows: 225\n",
              "\n",
              "Data:\n",
              "+-----------+-------+\n",
              "|    word   | count |\n",
              "+-----------+-------+\n",
              "|    the    |  36.0 |\n",
              "|     of    |  24.0 |\n",
              "|    and    |  18.0 |\n",
              "|     in    |  17.0 |\n",
              "|     he    |  10.0 |\n",
              "|     to    |  9.0  |\n",
              "| chihuahua |  7.0  |\n",
              "|     a     |  6.0  |\n",
              "|  governor |  6.0  |\n",
              "|    his    |  5.0  |\n",
              "+-----------+-------+\n",
              "[225 rows x 2 columns]\n",
              "Note: Only the head of the SFrame is printed.\n",
              "You can use print_rows(num_rows=m, num_columns=n) to print more rows and columns."
            ]
          },
          "metadata": {
            "tags": []
          },
          "execution_count": 27
        }
      ]
    },
    {
      "cell_type": "code",
      "metadata": {
        "colab": {
          "base_uri": "https://localhost:8080/",
          "height": 501
        },
        "id": "VZ4n_CPeAi1L",
        "outputId": "21e8103b-99e6-4955-e9b9-55850823d551"
      },
      "source": [
        "thetestament_words = top_words(books, 'Title', 'The Testament')\n",
        "thetestament_words"
      ],
      "execution_count": null,
      "outputs": [
        {
          "output_type": "stream",
          "text": [
            "+------------+---------------+--------------+------+-----------+\n",
            "|    ISBN    |     Title     |    Author    | Year | Publisher |\n",
            "+------------+---------------+--------------+------+-----------+\n",
            "| 0440234743 | The Testament | John Grisham | 1999 |    Dell   |\n",
            "+------------+---------------+--------------+------+-----------+\n",
            "+-------------------------------+-------------------------------+\n",
            "|             Blurb             |           word_count          |\n",
            "+-------------------------------+-------------------------------+\n",
            "| plush virginia office rich... | {'holds': 1.0, 'friends': ... |\n",
            "+-------------------------------+-------------------------------+\n",
            "[? rows x 7 columns]\n",
            "Note: Only the head of the SFrame is printed. This SFrame is lazily evaluated.\n",
            "You can use sf.materialize() to force materialization.\n"
          ],
          "name": "stdout"
        },
        {
          "output_type": "execute_result",
          "data": {
            "text/html": [
              "<div style=\"max-height:1000px;max-width:1500px;overflow:auto;\"><table frame=\"box\" rules=\"cols\">\n",
              "    <tr>\n",
              "        <th style=\"padding-left: 1em; padding-right: 1em; text-align: center\">word</th>\n",
              "        <th style=\"padding-left: 1em; padding-right: 1em; text-align: center\">count</th>\n",
              "    </tr>\n",
              "    <tr>\n",
              "        <td style=\"padding-left: 1em; padding-right: 1em; text-align: center; vertical-align: top\">phelan</td>\n",
              "        <td style=\"padding-left: 1em; padding-right: 1em; text-align: center; vertical-align: top\">3.0</td>\n",
              "    </tr>\n",
              "    <tr>\n",
              "        <td style=\"padding-left: 1em; padding-right: 1em; text-align: center; vertical-align: top\">nate</td>\n",
              "        <td style=\"padding-left: 1em; padding-right: 1em; text-align: center; vertical-align: top\">2.0</td>\n",
              "    </tr>\n",
              "    <tr>\n",
              "        <td style=\"padding-left: 1em; padding-right: 1em; text-align: center; vertical-align: top\">surprise</td>\n",
              "        <td style=\"padding-left: 1em; padding-right: 1em; text-align: center; vertical-align: top\">2.0</td>\n",
              "    </tr>\n",
              "    <tr>\n",
              "        <td style=\"padding-left: 1em; padding-right: 1em; text-align: center; vertical-align: top\">death</td>\n",
              "        <td style=\"padding-left: 1em; padding-right: 1em; text-align: center; vertical-align: top\">2.0</td>\n",
              "    </tr>\n",
              "    <tr>\n",
              "        <td style=\"padding-left: 1em; padding-right: 1em; text-align: center; vertical-align: top\">message</td>\n",
              "        <td style=\"padding-left: 1em; padding-right: 1em; text-align: center; vertical-align: top\">2.0</td>\n",
              "    </tr>\n",
              "    <tr>\n",
              "        <td style=\"padding-left: 1em; padding-right: 1em; text-align: center; vertical-align: top\">rachel</td>\n",
              "        <td style=\"padding-left: 1em; padding-right: 1em; text-align: center; vertical-align: top\">2.0</td>\n",
              "    </tr>\n",
              "    <tr>\n",
              "        <td style=\"padding-left: 1em; padding-right: 1em; text-align: center; vertical-align: top\">lane</td>\n",
              "        <td style=\"padding-left: 1em; padding-right: 1em; text-align: center; vertical-align: top\">2.0</td>\n",
              "    </tr>\n",
              "    <tr>\n",
              "        <td style=\"padding-left: 1em; padding-right: 1em; text-align: center; vertical-align: top\">troy</td>\n",
              "        <td style=\"padding-left: 1em; padding-right: 1em; text-align: center; vertical-align: top\">2.0</td>\n",
              "    </tr>\n",
              "    <tr>\n",
              "        <td style=\"padding-left: 1em; padding-right: 1em; text-align: center; vertical-align: top\">woman</td>\n",
              "        <td style=\"padding-left: 1em; padding-right: 1em; text-align: center; vertical-align: top\">2.0</td>\n",
              "    </tr>\n",
              "    <tr>\n",
              "        <td style=\"padding-left: 1em; padding-right: 1em; text-align: center; vertical-align: top\">man</td>\n",
              "        <td style=\"padding-left: 1em; padding-right: 1em; text-align: center; vertical-align: top\">1.0</td>\n",
              "    </tr>\n",
              "</table>\n",
              "[72 rows x 2 columns]<br/>Note: Only the head of the SFrame is printed.<br/>You can use print_rows(num_rows=m, num_columns=n) to print more rows and columns.\n",
              "</div>"
            ],
            "text/plain": [
              "Columns:\n",
              "\tword\tstr\n",
              "\tcount\tfloat\n",
              "\n",
              "Rows: 72\n",
              "\n",
              "Data:\n",
              "+----------+-------+\n",
              "|   word   | count |\n",
              "+----------+-------+\n",
              "|  phelan  |  3.0  |\n",
              "|   nate   |  2.0  |\n",
              "| surprise |  2.0  |\n",
              "|  death   |  2.0  |\n",
              "| message  |  2.0  |\n",
              "|  rachel  |  2.0  |\n",
              "|   lane   |  2.0  |\n",
              "|   troy   |  2.0  |\n",
              "|  woman   |  2.0  |\n",
              "|   man    |  1.0  |\n",
              "+----------+-------+\n",
              "[72 rows x 2 columns]\n",
              "Note: Only the head of the SFrame is printed.\n",
              "You can use print_rows(num_rows=m, num_columns=n) to print more rows and columns."
            ]
          },
          "metadata": {
            "tags": []
          },
          "execution_count": 115
        }
      ]
    },
    {
      "cell_type": "code",
      "metadata": {
        "colab": {
          "base_uri": "https://localhost:8080/",
          "height": 536
        },
        "id": "FPavMmQoAqph",
        "outputId": "3d269fff-4169-4a29-fa88-047d5f7e2219"
      },
      "source": [
        "atlasshrugged_words = top_words(books, 'Title', 'Atlas Shrugged')\n",
        "atlasshrugged_words"
      ],
      "execution_count": null,
      "outputs": [
        {
          "output_type": "stream",
          "text": [
            "+------------+----------------+----------+------+-------------+\n",
            "|    ISBN    |     Title      |  Author  | Year |  Publisher  |\n",
            "+------------+----------------+----------+------+-------------+\n",
            "| 0451191145 | Atlas Shrugged | Ayn Rand | 1996 | Signet Book |\n",
            "| 0452011876 | Atlas Shrugged | Ayn Rand | 1999 | Plume Books |\n",
            "+------------+----------------+----------+------+-------------+\n",
            "+-------------------------------+-------------------------------+\n",
            "|             Blurb             |           word_count          |\n",
            "+-------------------------------+-------------------------------+\n",
            "| story man stop motor world... | {'rebirth': 1.0, 'body': 1... |\n",
            "| fight battle enemies neede... | {'impossible': 1.0, 'ruthl... |\n",
            "+-------------------------------+-------------------------------+\n",
            "[? rows x 7 columns]\n",
            "Note: Only the head of the SFrame is printed. This SFrame is lazily evaluated.\n",
            "You can use sf.materialize() to force materialization.\n"
          ],
          "name": "stdout"
        },
        {
          "output_type": "execute_result",
          "data": {
            "text/html": [
              "<div style=\"max-height:1000px;max-width:1500px;overflow:auto;\"><table frame=\"box\" rules=\"cols\">\n",
              "    <tr>\n",
              "        <th style=\"padding-left: 1em; padding-right: 1em; text-align: center\">word</th>\n",
              "        <th style=\"padding-left: 1em; padding-right: 1em; text-align: center\">count</th>\n",
              "    </tr>\n",
              "    <tr>\n",
              "        <td style=\"padding-left: 1em; padding-right: 1em; text-align: center; vertical-align: top\">—</td>\n",
              "        <td style=\"padding-left: 1em; padding-right: 1em; text-align: center; vertical-align: top\">9.0</td>\n",
              "    </tr>\n",
              "    <tr>\n",
              "        <td style=\"padding-left: 1em; padding-right: 1em; text-align: center; vertical-align: top\">man</td>\n",
              "        <td style=\"padding-left: 1em; padding-right: 1em; text-align: center; vertical-align: top\">4.0</td>\n",
              "    </tr>\n",
              "    <tr>\n",
              "        <td style=\"padding-left: 1em; padding-right: 1em; text-align: center; vertical-align: top\">story</td>\n",
              "        <td style=\"padding-left: 1em; padding-right: 1em; text-align: center; vertical-align: top\">3.0</td>\n",
              "    </tr>\n",
              "    <tr>\n",
              "        <td style=\"padding-left: 1em; padding-right: 1em; text-align: center; vertical-align: top\">world</td>\n",
              "        <td style=\"padding-left: 1em; padding-right: 1em; text-align: center; vertical-align: top\">2.0</td>\n",
              "    </tr>\n",
              "    <tr>\n",
              "        <td style=\"padding-left: 1em; padding-right: 1em; text-align: center; vertical-align: top\">story</td>\n",
              "        <td style=\"padding-left: 1em; padding-right: 1em; text-align: center; vertical-align: top\">2.0</td>\n",
              "    </tr>\n",
              "    <tr>\n",
              "        <td style=\"padding-left: 1em; padding-right: 1em; text-align: center; vertical-align: top\">motor</td>\n",
              "        <td style=\"padding-left: 1em; padding-right: 1em; text-align: center; vertical-align: top\">2.0</td>\n",
              "    </tr>\n",
              "    <tr>\n",
              "        <td style=\"padding-left: 1em; padding-right: 1em; text-align: center; vertical-align: top\">woman</td>\n",
              "        <td style=\"padding-left: 1em; padding-right: 1em; text-align: center; vertical-align: top\">2.0</td>\n",
              "    </tr>\n",
              "    <tr>\n",
              "        <td style=\"padding-left: 1em; padding-right: 1em; text-align: center; vertical-align: top\">battle</td>\n",
              "        <td style=\"padding-left: 1em; padding-right: 1em; text-align: center; vertical-align: top\">2.0</td>\n",
              "    </tr>\n",
              "    <tr>\n",
              "        <td style=\"padding-left: 1em; padding-right: 1em; text-align: center; vertical-align: top\">events</td>\n",
              "        <td style=\"padding-left: 1em; padding-right: 1em; text-align: center; vertical-align: top\">2.0</td>\n",
              "    </tr>\n",
              "    <tr>\n",
              "        <td style=\"padding-left: 1em; padding-right: 1em; text-align: center; vertical-align: top\">battle</td>\n",
              "        <td style=\"padding-left: 1em; padding-right: 1em; text-align: center; vertical-align: top\">2.0</td>\n",
              "    </tr>\n",
              "</table>\n",
              "[137 rows x 2 columns]<br/>Note: Only the head of the SFrame is printed.<br/>You can use print_rows(num_rows=m, num_columns=n) to print more rows and columns.\n",
              "</div>"
            ],
            "text/plain": [
              "Columns:\n",
              "\tword\tstr\n",
              "\tcount\tfloat\n",
              "\n",
              "Rows: 137\n",
              "\n",
              "Data:\n",
              "+--------+-------+\n",
              "|  word  | count |\n",
              "+--------+-------+\n",
              "|   —    |  9.0  |\n",
              "|  man   |  4.0  |\n",
              "| story  |  3.0  |\n",
              "| world  |  2.0  |\n",
              "| story  |  2.0  |\n",
              "| motor  |  2.0  |\n",
              "| woman  |  2.0  |\n",
              "| battle |  2.0  |\n",
              "| events |  2.0  |\n",
              "| battle |  2.0  |\n",
              "+--------+-------+\n",
              "[137 rows x 2 columns]\n",
              "Note: Only the head of the SFrame is printed.\n",
              "You can use print_rows(num_rows=m, num_columns=n) to print more rows and columns."
            ]
          },
          "metadata": {
            "tags": []
          },
          "execution_count": 116
        }
      ]
    },
    {
      "cell_type": "markdown",
      "metadata": {
        "id": "jdQJoPl-505i"
      },
      "source": [
        "Let's extract the list of most frequent words that appear in both Obama's and Barrio's documents. We've so far sorted all words from Obama and Barrio's articles by their word frequencies. We will now use a dataframe operation known as **join**. The **join** operation is very useful when it comes to playing around with data: it lets you combine the content of two tables using a shared column (in this case, the word column). See [the documentation](https://dato.com/products/create/docs/generated/graphlab.SFrame.join.html) for more details.\n",
        "\n",
        "For instance, running\n",
        "```\n",
        "obama_words.join(barrio_words, on='word')\n",
        "```\n",
        "will extract the rows from both tables that correspond to the common words."
      ]
    },
    {
      "cell_type": "code",
      "metadata": {
        "id": "05S1JWG2505i"
      },
      "source": [
        "combined_words = obama_words.join(barrio_words, on='word')\n",
        "combined_words"
      ],
      "execution_count": null,
      "outputs": []
    },
    {
      "cell_type": "markdown",
      "metadata": {
        "id": "cf9mRWgP505i"
      },
      "source": [
        "Since both tables contained the column named `count`, SFrame automatically renamed one of them to prevent confusion. Let's rename the columns to tell which one is for which. By inspection, we see that the first column (`count`) is for Obama and the second (`count.1`) for Barrio."
      ]
    },
    {
      "cell_type": "code",
      "metadata": {
        "id": "blBOSToq505i"
      },
      "source": [
        "combined_words = combined_words.rename({'count':'Obama', 'count.1':'Barrio'})\n",
        "combined_words"
      ],
      "execution_count": null,
      "outputs": []
    },
    {
      "cell_type": "markdown",
      "metadata": {
        "id": "wmyAd4eF505i"
      },
      "source": [
        "**Note**. The **join** operation does not enforce any particular ordering on the shared column. So to obtain, say, the five common words that appear most often in Obama's article, sort the combined table by the Obama column. Don't forget `ascending=False` to display largest counts first."
      ]
    },
    {
      "cell_type": "code",
      "metadata": {
        "id": "Oc8vD-eN505j"
      },
      "source": [
        "combined_words.sort('Obama', ascending=False)"
      ],
      "execution_count": null,
      "outputs": []
    },
    {
      "cell_type": "markdown",
      "metadata": {
        "id": "rYLQLsFg505j"
      },
      "source": [
        "**Quiz Question**. Among the words that appear in both Barack Obama and Francisco Barrio, take the 5 that appear most frequently in Obama. How many of the articles in the Wikipedia dataset contain all of those 5 words?\n",
        "\n",
        "Hint:\n",
        "* Refer to the previous paragraph for finding the words that appear in both articles. Sort the common words by their frequencies in Obama's article and take the largest five.\n",
        "* Each word count vector is a Python dictionary. For each word count vector in SFrame, you'd have to check if the set of the 5 common words is a subset of the keys of the word count vector. Complete the function `has_top_words` to accomplish the task.\n",
        "  - Convert the list of top 5 words into set using the syntax\n",
        "```\n",
        "set(common_words)\n",
        "```\n",
        "    where `common_words` is a Python list. See [this link](https://docs.python.org/2/library/stdtypes.html#set) if you're curious about Python sets.\n",
        "  - Extract the list of keys of the word count dictionary by calling the [`keys()` method](https://docs.python.org/2/library/stdtypes.html#dict.keys).\n",
        "  - Convert the list of keys into a set as well.\n",
        "  - Use [`issubset()` method](https://docs.python.org/2/library/stdtypes.html#set) to check if all 5 words are among the keys.\n",
        "* Now apply the `has_top_words` function on every row of the SFrame.\n",
        "* Compute the sum of the result column to obtain the number of articles containing all the 5 top words."
      ]
    },
    {
      "cell_type": "code",
      "metadata": {
        "id": "qUGoCGqr505j"
      },
      "source": [
        "common_words = ... # YOUR CODE HERE\n",
        "\n",
        "def has_top_words(word_count_vector):\n",
        "    # extract the keys of word_count_vector and convert it to a set\n",
        "    unique_words = ...   # YOUR CODE HERE\n",
        "    # return True if common_words is a subset of unique_words\n",
        "    # return False otherwise\n",
        "    return ...  # YOUR CODE HERE\n",
        "\n",
        "wiki['has_top_words'] = wiki['word_count'].apply(has_top_words)\n",
        "\n",
        "# use has_top_words column to answer the quiz question\n",
        "... # YOUR CODE HERE"
      ],
      "execution_count": null,
      "outputs": []
    },
    {
      "cell_type": "markdown",
      "metadata": {
        "id": "h_F-isZf505k"
      },
      "source": [
        "**Checkpoint**. Check your `has_top_words` function on two random articles:"
      ]
    },
    {
      "cell_type": "code",
      "metadata": {
        "id": "9N-6n9Bl505k"
      },
      "source": [
        "print('Output from your function:', has_top_words(wiki[32]['word_count']))\n",
        "print('Correct output: True')\n",
        "print('Also check the length of unique_words. It should be 167')\n",
        "print(len(wiki[32]['word_count']))"
      ],
      "execution_count": null,
      "outputs": []
    },
    {
      "cell_type": "code",
      "metadata": {
        "id": "RFV1LhiS505k"
      },
      "source": [
        "print('Output from your function:', has_top_words(wiki[33]['word_count']))\n",
        "print('Correct output: False')\n",
        "print('Also check the length of unique_words. It should be 188')\n",
        "print(len(wiki[33]['word_count']))"
      ],
      "execution_count": null,
      "outputs": []
    },
    {
      "cell_type": "markdown",
      "metadata": {
        "id": "uD6g71ot505k"
      },
      "source": [
        "**Quiz Question**. Measure the pairwise distance between the Wikipedia pages of Barack Obama, George W. Bush, and Joe Biden. Which of the three pairs has the smallest distance?\n",
        "\n",
        "Hints: \n",
        "* To compute the Euclidean distance between two dictionaries, use `turicreate.toolkits.distances.euclidean`. Refer to [this link](https://apple.github.io/turicreate/docs/api/generated/turicreate.toolkits.distances.euclidean.html) for usage.\n",
        "* When using Boolean filter in SFrame/SArray, take the index 0 to access the first match. (Round your answer to three decimal places.)"
      ]
    },
    {
      "cell_type": "code",
      "metadata": {
        "id": "XbrM0e3C505k"
      },
      "source": [
        ""
      ],
      "execution_count": null,
      "outputs": []
    },
    {
      "cell_type": "markdown",
      "metadata": {
        "id": "iv5Kz6FP505k"
      },
      "source": [
        "**Quiz Question**. Collect all words that appear both in Barack Obama and George W. Bush pages.  Out of those words, find the 10 words that show up most often in Obama's page."
      ]
    },
    {
      "cell_type": "code",
      "metadata": {
        "id": "GVndImYq505l"
      },
      "source": [
        ""
      ],
      "execution_count": null,
      "outputs": []
    },
    {
      "cell_type": "markdown",
      "metadata": {
        "id": "e9gOtV17505l"
      },
      "source": [
        "**Note.** Even though common words are swamping out important subtle differences, commonalities in rarer political words still matter on the margin. This is why politicians are being listed in the query result instead of musicians, for example. In the next subsection, we will introduce a different metric that will place greater emphasis on those rarer words."
      ]
    },
    {
      "cell_type": "markdown",
      "metadata": {
        "id": "iQ1UKm9m505l"
      },
      "source": [
        "## TF-IDF to the rescue"
      ]
    },
    {
      "cell_type": "markdown",
      "metadata": {
        "id": "-4QYkxNn505l"
      },
      "source": [
        "Much of the perceived commonalities between Obama and Barrio were due to occurrences of extremely frequent words, such as \"the\", \"and\", and \"his\". So nearest neighbors is recommending plausible results sometimes for the wrong reasons. \n",
        "\n",
        "To retrieve articles that are more relevant, we should focus more on rare words that don't happen in every article. **TF-IDF** (term frequency–inverse document frequency) is a feature representation that penalizes words that are too common.  Let's use Turi Create's implementation of TF-IDF and repeat the search for the 10 nearest neighbors of Barack Obama:"
      ]
    },
    {
      "cell_type": "code",
      "metadata": {
        "id": "d75YQ7q8505m"
      },
      "source": [
        "wiki['tf_idf'] = turicreate.text_analytics.tf_idf(wiki['word_count'])"
      ],
      "execution_count": null,
      "outputs": []
    },
    {
      "cell_type": "code",
      "metadata": {
        "id": "TPDD13B1F_J2"
      },
      "source": [
        "books['tf_idf'] = turicreate.text_analytics.tf_idf(books['word_count'])"
      ],
      "execution_count": 127,
      "outputs": []
    },
    {
      "cell_type": "code",
      "metadata": {
        "colab": {
          "base_uri": "https://localhost:8080/",
          "height": 104
        },
        "id": "i2XjpIig505m",
        "outputId": "c1d41923-4f19-4c78-9f26-98a58ae87f2a"
      },
      "source": [
        "model_wiki_tf_idf = turicreate.nearest_neighbors.create(wiki, label='name', features=['tf_idf'],\n",
        "                                                   method='brute_force', distance='euclidean')"
      ],
      "execution_count": null,
      "outputs": [
        {
          "output_type": "display_data",
          "data": {
            "text/html": [
              "<pre>Starting brute force nearest neighbors model training.</pre>"
            ],
            "text/plain": [
              "Starting brute force nearest neighbors model training."
            ]
          },
          "metadata": {
            "tags": []
          }
        },
        {
          "output_type": "display_data",
          "data": {
            "text/html": [
              "<pre>Validating distance components.</pre>"
            ],
            "text/plain": [
              "Validating distance components."
            ]
          },
          "metadata": {
            "tags": []
          }
        },
        {
          "output_type": "display_data",
          "data": {
            "text/html": [
              "<pre>Initializing model data.</pre>"
            ],
            "text/plain": [
              "Initializing model data."
            ]
          },
          "metadata": {
            "tags": []
          }
        },
        {
          "output_type": "display_data",
          "data": {
            "text/html": [
              "<pre>Initializing distances.</pre>"
            ],
            "text/plain": [
              "Initializing distances."
            ]
          },
          "metadata": {
            "tags": []
          }
        },
        {
          "output_type": "display_data",
          "data": {
            "text/html": [
              "<pre>Done.</pre>"
            ],
            "text/plain": [
              "Done."
            ]
          },
          "metadata": {
            "tags": []
          }
        }
      ]
    },
    {
      "cell_type": "code",
      "metadata": {
        "id": "hE14LRN9GJ1I",
        "colab": {
          "base_uri": "https://localhost:8080/",
          "height": 104
        },
        "outputId": "4aed22e0-9c53-4c7e-f7a3-dddd8e486890"
      },
      "source": [
        "model_books_tf_idf = turicreate.nearest_neighbors.create(books, label='Title', features=['tf_idf'],\n",
        "                                                   method='brute_force', distance='cosine')"
      ],
      "execution_count": 128,
      "outputs": [
        {
          "output_type": "display_data",
          "data": {
            "text/html": [
              "<pre>Starting brute force nearest neighbors model training.</pre>"
            ],
            "text/plain": [
              "Starting brute force nearest neighbors model training."
            ]
          },
          "metadata": {
            "tags": []
          }
        },
        {
          "output_type": "display_data",
          "data": {
            "text/html": [
              "<pre>Validating distance components.</pre>"
            ],
            "text/plain": [
              "Validating distance components."
            ]
          },
          "metadata": {
            "tags": []
          }
        },
        {
          "output_type": "display_data",
          "data": {
            "text/html": [
              "<pre>Initializing model data.</pre>"
            ],
            "text/plain": [
              "Initializing model data."
            ]
          },
          "metadata": {
            "tags": []
          }
        },
        {
          "output_type": "display_data",
          "data": {
            "text/html": [
              "<pre>Initializing distances.</pre>"
            ],
            "text/plain": [
              "Initializing distances."
            ]
          },
          "metadata": {
            "tags": []
          }
        },
        {
          "output_type": "display_data",
          "data": {
            "text/html": [
              "<pre>Done.</pre>"
            ],
            "text/plain": [
              "Done."
            ]
          },
          "metadata": {
            "tags": []
          }
        }
      ]
    },
    {
      "cell_type": "code",
      "metadata": {
        "id": "15ABzIR_GEBh",
        "colab": {
          "base_uri": "https://localhost:8080/",
          "height": 363
        },
        "outputId": "c62a0526-9037-4948-f9d1-054f1eb8c134"
      },
      "source": [
        "model_wiki_tf_idf.query(wiki[wiki['name'] == 'Barack Obama'], label='name', k=10)"
      ],
      "execution_count": null,
      "outputs": [
        {
          "output_type": "display_data",
          "data": {
            "text/html": [
              "<pre>Starting pairwise querying.</pre>"
            ],
            "text/plain": [
              "Starting pairwise querying."
            ]
          },
          "metadata": {
            "tags": []
          }
        },
        {
          "output_type": "display_data",
          "data": {
            "text/html": [
              "<pre>+--------------+---------+-------------+--------------+</pre>"
            ],
            "text/plain": [
              "+--------------+---------+-------------+--------------+"
            ]
          },
          "metadata": {
            "tags": []
          }
        },
        {
          "output_type": "display_data",
          "data": {
            "text/html": [
              "<pre>| Query points | # Pairs | % Complete. | Elapsed Time |</pre>"
            ],
            "text/plain": [
              "| Query points | # Pairs | % Complete. | Elapsed Time |"
            ]
          },
          "metadata": {
            "tags": []
          }
        },
        {
          "output_type": "display_data",
          "data": {
            "text/html": [
              "<pre>+--------------+---------+-------------+--------------+</pre>"
            ],
            "text/plain": [
              "+--------------+---------+-------------+--------------+"
            ]
          },
          "metadata": {
            "tags": []
          }
        },
        {
          "output_type": "display_data",
          "data": {
            "text/html": [
              "<pre>| 0            | 1       | 0.00169288  | 14.201ms     |</pre>"
            ],
            "text/plain": [
              "| 0            | 1       | 0.00169288  | 14.201ms     |"
            ]
          },
          "metadata": {
            "tags": []
          }
        },
        {
          "output_type": "display_data",
          "data": {
            "text/html": [
              "<pre>| Done         |         | 100         | 557.228ms    |</pre>"
            ],
            "text/plain": [
              "| Done         |         | 100         | 557.228ms    |"
            ]
          },
          "metadata": {
            "tags": []
          }
        },
        {
          "output_type": "display_data",
          "data": {
            "text/html": [
              "<pre>+--------------+---------+-------------+--------------+</pre>"
            ],
            "text/plain": [
              "+--------------+---------+-------------+--------------+"
            ]
          },
          "metadata": {
            "tags": []
          }
        },
        {
          "output_type": "execute_result",
          "data": {
            "text/html": [
              "<div style=\"max-height:1000px;max-width:1500px;overflow:auto;\"><table frame=\"box\" rules=\"cols\">\n",
              "    <tr>\n",
              "        <th style=\"padding-left: 1em; padding-right: 1em; text-align: center\">query_label</th>\n",
              "        <th style=\"padding-left: 1em; padding-right: 1em; text-align: center\">reference_label</th>\n",
              "        <th style=\"padding-left: 1em; padding-right: 1em; text-align: center\">distance</th>\n",
              "        <th style=\"padding-left: 1em; padding-right: 1em; text-align: center\">rank</th>\n",
              "    </tr>\n",
              "    <tr>\n",
              "        <td style=\"padding-left: 1em; padding-right: 1em; text-align: center; vertical-align: top\">Barack Obama</td>\n",
              "        <td style=\"padding-left: 1em; padding-right: 1em; text-align: center; vertical-align: top\">Barack Obama</td>\n",
              "        <td style=\"padding-left: 1em; padding-right: 1em; text-align: center; vertical-align: top\">0.0</td>\n",
              "        <td style=\"padding-left: 1em; padding-right: 1em; text-align: center; vertical-align: top\">1</td>\n",
              "    </tr>\n",
              "    <tr>\n",
              "        <td style=\"padding-left: 1em; padding-right: 1em; text-align: center; vertical-align: top\">Barack Obama</td>\n",
              "        <td style=\"padding-left: 1em; padding-right: 1em; text-align: center; vertical-align: top\">Phil Schiliro</td>\n",
              "        <td style=\"padding-left: 1em; padding-right: 1em; text-align: center; vertical-align: top\">106.86101369140928</td>\n",
              "        <td style=\"padding-left: 1em; padding-right: 1em; text-align: center; vertical-align: top\">2</td>\n",
              "    </tr>\n",
              "    <tr>\n",
              "        <td style=\"padding-left: 1em; padding-right: 1em; text-align: center; vertical-align: top\">Barack Obama</td>\n",
              "        <td style=\"padding-left: 1em; padding-right: 1em; text-align: center; vertical-align: top\">Jeff Sessions</td>\n",
              "        <td style=\"padding-left: 1em; padding-right: 1em; text-align: center; vertical-align: top\">108.87167421571077</td>\n",
              "        <td style=\"padding-left: 1em; padding-right: 1em; text-align: center; vertical-align: top\">3</td>\n",
              "    </tr>\n",
              "    <tr>\n",
              "        <td style=\"padding-left: 1em; padding-right: 1em; text-align: center; vertical-align: top\">Barack Obama</td>\n",
              "        <td style=\"padding-left: 1em; padding-right: 1em; text-align: center; vertical-align: top\">Jesse Lee (politician)</td>\n",
              "        <td style=\"padding-left: 1em; padding-right: 1em; text-align: center; vertical-align: top\">109.04569790902957</td>\n",
              "        <td style=\"padding-left: 1em; padding-right: 1em; text-align: center; vertical-align: top\">4</td>\n",
              "    </tr>\n",
              "    <tr>\n",
              "        <td style=\"padding-left: 1em; padding-right: 1em; text-align: center; vertical-align: top\">Barack Obama</td>\n",
              "        <td style=\"padding-left: 1em; padding-right: 1em; text-align: center; vertical-align: top\">Samantha Power</td>\n",
              "        <td style=\"padding-left: 1em; padding-right: 1em; text-align: center; vertical-align: top\">109.10810616502708</td>\n",
              "        <td style=\"padding-left: 1em; padding-right: 1em; text-align: center; vertical-align: top\">5</td>\n",
              "    </tr>\n",
              "    <tr>\n",
              "        <td style=\"padding-left: 1em; padding-right: 1em; text-align: center; vertical-align: top\">Barack Obama</td>\n",
              "        <td style=\"padding-left: 1em; padding-right: 1em; text-align: center; vertical-align: top\">Bob Menendez</td>\n",
              "        <td style=\"padding-left: 1em; padding-right: 1em; text-align: center; vertical-align: top\">109.78186710530214</td>\n",
              "        <td style=\"padding-left: 1em; padding-right: 1em; text-align: center; vertical-align: top\">6</td>\n",
              "    </tr>\n",
              "    <tr>\n",
              "        <td style=\"padding-left: 1em; padding-right: 1em; text-align: center; vertical-align: top\">Barack Obama</td>\n",
              "        <td style=\"padding-left: 1em; padding-right: 1em; text-align: center; vertical-align: top\">Eric Stern (politician)</td>\n",
              "        <td style=\"padding-left: 1em; padding-right: 1em; text-align: center; vertical-align: top\">109.9577880796839</td>\n",
              "        <td style=\"padding-left: 1em; padding-right: 1em; text-align: center; vertical-align: top\">7</td>\n",
              "    </tr>\n",
              "    <tr>\n",
              "        <td style=\"padding-left: 1em; padding-right: 1em; text-align: center; vertical-align: top\">Barack Obama</td>\n",
              "        <td style=\"padding-left: 1em; padding-right: 1em; text-align: center; vertical-align: top\">James A. Guest</td>\n",
              "        <td style=\"padding-left: 1em; padding-right: 1em; text-align: center; vertical-align: top\">110.41388871759888</td>\n",
              "        <td style=\"padding-left: 1em; padding-right: 1em; text-align: center; vertical-align: top\">8</td>\n",
              "    </tr>\n",
              "    <tr>\n",
              "        <td style=\"padding-left: 1em; padding-right: 1em; text-align: center; vertical-align: top\">Barack Obama</td>\n",
              "        <td style=\"padding-left: 1em; padding-right: 1em; text-align: center; vertical-align: top\">Roland Grossenbacher</td>\n",
              "        <td style=\"padding-left: 1em; padding-right: 1em; text-align: center; vertical-align: top\">110.47060870018983</td>\n",
              "        <td style=\"padding-left: 1em; padding-right: 1em; text-align: center; vertical-align: top\">9</td>\n",
              "    </tr>\n",
              "    <tr>\n",
              "        <td style=\"padding-left: 1em; padding-right: 1em; text-align: center; vertical-align: top\">Barack Obama</td>\n",
              "        <td style=\"padding-left: 1em; padding-right: 1em; text-align: center; vertical-align: top\">Tulsi Gabbard</td>\n",
              "        <td style=\"padding-left: 1em; padding-right: 1em; text-align: center; vertical-align: top\">110.69699799880009</td>\n",
              "        <td style=\"padding-left: 1em; padding-right: 1em; text-align: center; vertical-align: top\">10</td>\n",
              "    </tr>\n",
              "</table>\n",
              "[10 rows x 4 columns]<br/>\n",
              "</div>"
            ],
            "text/plain": [
              "Columns:\n",
              "\tquery_label\tstr\n",
              "\treference_label\tstr\n",
              "\tdistance\tfloat\n",
              "\trank\tint\n",
              "\n",
              "Rows: 10\n",
              "\n",
              "Data:\n",
              "+--------------+-------------------------+--------------------+------+\n",
              "| query_label  |     reference_label     |      distance      | rank |\n",
              "+--------------+-------------------------+--------------------+------+\n",
              "| Barack Obama |       Barack Obama      |        0.0         |  1   |\n",
              "| Barack Obama |      Phil Schiliro      | 106.86101369140928 |  2   |\n",
              "| Barack Obama |      Jeff Sessions      | 108.87167421571077 |  3   |\n",
              "| Barack Obama |  Jesse Lee (politician) | 109.04569790902957 |  4   |\n",
              "| Barack Obama |      Samantha Power     | 109.10810616502708 |  5   |\n",
              "| Barack Obama |       Bob Menendez      | 109.78186710530214 |  6   |\n",
              "| Barack Obama | Eric Stern (politician) | 109.9577880796839  |  7   |\n",
              "| Barack Obama |      James A. Guest     | 110.41388871759888 |  8   |\n",
              "| Barack Obama |   Roland Grossenbacher  | 110.47060870018983 |  9   |\n",
              "| Barack Obama |      Tulsi Gabbard      | 110.69699799880009 |  10  |\n",
              "+--------------+-------------------------+--------------------+------+\n",
              "[10 rows x 4 columns]"
            ]
          },
          "metadata": {
            "tags": []
          },
          "execution_count": 64
        }
      ]
    },
    {
      "cell_type": "markdown",
      "metadata": {
        "id": "jquX8m4tOYC_"
      },
      "source": [
        "## This query shows that our model works quite well right now:\n",
        "With cosine distance, the found novels are quite near to the original one."
      ]
    },
    {
      "cell_type": "markdown",
      "metadata": {
        "id": "bZUkN7Q_H8T0"
      },
      "source": [
        "Add a searchterm to the dataset, and calculate its tf_idf scores within the whole of the documents"
      ]
    },
    {
      "cell_type": "code",
      "metadata": {
        "id": "BVSkDUcOA7tA"
      },
      "source": [
        "searchterm_title = \"Searchterm 001\"\n",
        "\n",
        "searchterm_blurb = \"Introverted, Calm, Aloof, Modest\"\n",
        "\n",
        "searchterm_dict = {\n",
        "    'ISBN': [\"0000000000\"],\n",
        "    'Title': [searchterm_title],\n",
        "    'Author': [\"Admin Admin\"],\n",
        "    'Year': [2021],\n",
        "    'Publisher': [\"None\"],\n",
        "    'Blurb': [searchterm_blurb]\n",
        "}\n",
        "\n",
        "searchterm_sf = turicreate.SFrame(searchterm_dict, format='dict')\n",
        "\n",
        "searchterm_sf['word_count'] = turicreate.text_analytics.count_words(searchterm_sf['Blurb'])\n",
        "searchterm_sf['tf_idf'] = turicreate.text_analytics.tf_idf(searchterm_sf['word_count'])\n",
        "\n",
        "books_2 = books.append(searchterm_sf)\n",
        "\n",
        "books_2['tf_idf'] = turicreate.text_analytics.tf_idf(books_2['word_count'])"
      ],
      "execution_count": 129,
      "outputs": []
    },
    {
      "cell_type": "markdown",
      "metadata": {
        "id": "mjrhzrrfISDn"
      },
      "source": [
        "Search for books that correspond to the searchterm blurb."
      ]
    },
    {
      "cell_type": "code",
      "metadata": {
        "colab": {
          "base_uri": "https://localhost:8080/",
          "height": 847
        },
        "id": "R0fmMZJt505m",
        "outputId": "e7155a1d-0d82-4715-e25c-b1c224b7aa2e"
      },
      "source": [
        "result = model_books_tf_idf.query(books_2[books_2['Title'] == searchterm_title], label='Title', k=10)\n",
        "\n",
        "result_merged = result.rename({'reference_label': 'Title'}).join(books['ISBN','Title','Author','Year','Publisher','Blurb'], how=\"left\", on=\"Title\")\n",
        "\n",
        "result_merged = result_merged.sort('rank')\n",
        "result_merged"
      ],
      "execution_count": 138,
      "outputs": [
        {
          "output_type": "display_data",
          "data": {
            "text/html": [
              "<pre>Starting pairwise querying.</pre>"
            ],
            "text/plain": [
              "Starting pairwise querying."
            ]
          },
          "metadata": {
            "tags": []
          }
        },
        {
          "output_type": "display_data",
          "data": {
            "text/html": [
              "<pre>+--------------+---------+-------------+--------------+</pre>"
            ],
            "text/plain": [
              "+--------------+---------+-------------+--------------+"
            ]
          },
          "metadata": {
            "tags": []
          }
        },
        {
          "output_type": "display_data",
          "data": {
            "text/html": [
              "<pre>| Query points | # Pairs | % Complete. | Elapsed Time |</pre>"
            ],
            "text/plain": [
              "| Query points | # Pairs | % Complete. | Elapsed Time |"
            ]
          },
          "metadata": {
            "tags": []
          }
        },
        {
          "output_type": "display_data",
          "data": {
            "text/html": [
              "<pre>+--------------+---------+-------------+--------------+</pre>"
            ],
            "text/plain": [
              "+--------------+---------+-------------+--------------+"
            ]
          },
          "metadata": {
            "tags": []
          }
        },
        {
          "output_type": "display_data",
          "data": {
            "text/html": [
              "<pre>| 0            | 1       | 0.00403356  | 21.787ms     |</pre>"
            ],
            "text/plain": [
              "| 0            | 1       | 0.00403356  | 21.787ms     |"
            ]
          },
          "metadata": {
            "tags": []
          }
        },
        {
          "output_type": "display_data",
          "data": {
            "text/html": [
              "<pre>| Done         |         | 100         | 82.69ms      |</pre>"
            ],
            "text/plain": [
              "| Done         |         | 100         | 82.69ms      |"
            ]
          },
          "metadata": {
            "tags": []
          }
        },
        {
          "output_type": "display_data",
          "data": {
            "text/html": [
              "<pre>+--------------+---------+-------------+--------------+</pre>"
            ],
            "text/plain": [
              "+--------------+---------+-------------+--------------+"
            ]
          },
          "metadata": {
            "tags": []
          }
        },
        {
          "output_type": "execute_result",
          "data": {
            "text/html": [
              "<div style=\"max-height:1000px;max-width:1500px;overflow:auto;\"><table frame=\"box\" rules=\"cols\">\n",
              "    <tr>\n",
              "        <th style=\"padding-left: 1em; padding-right: 1em; text-align: center\">query_label</th>\n",
              "        <th style=\"padding-left: 1em; padding-right: 1em; text-align: center\">Title</th>\n",
              "        <th style=\"padding-left: 1em; padding-right: 1em; text-align: center\">distance</th>\n",
              "        <th style=\"padding-left: 1em; padding-right: 1em; text-align: center\">rank</th>\n",
              "        <th style=\"padding-left: 1em; padding-right: 1em; text-align: center\">ISBN</th>\n",
              "        <th style=\"padding-left: 1em; padding-right: 1em; text-align: center\">Author</th>\n",
              "        <th style=\"padding-left: 1em; padding-right: 1em; text-align: center\">Year</th>\n",
              "    </tr>\n",
              "    <tr>\n",
              "        <td style=\"padding-left: 1em; padding-right: 1em; text-align: center; vertical-align: top\">Searchterm 001</td>\n",
              "        <td style=\"padding-left: 1em; padding-right: 1em; text-align: center; vertical-align: top\">A Separate Peace</td>\n",
              "        <td style=\"padding-left: 1em; padding-right: 1em; text-align: center; vertical-align: top\">0.7651588075872895</td>\n",
              "        <td style=\"padding-left: 1em; padding-right: 1em; text-align: center; vertical-align: top\">1</td>\n",
              "        <td style=\"padding-left: 1em; padding-right: 1em; text-align: center; vertical-align: top\">055323224X</td>\n",
              "        <td style=\"padding-left: 1em; padding-right: 1em; text-align: center; vertical-align: top\">John Knowles</td>\n",
              "        <td style=\"padding-left: 1em; padding-right: 1em; text-align: center; vertical-align: top\">1975</td>\n",
              "    </tr>\n",
              "    <tr>\n",
              "        <td style=\"padding-left: 1em; padding-right: 1em; text-align: center; vertical-align: top\">Searchterm 001</td>\n",
              "        <td style=\"padding-left: 1em; padding-right: 1em; text-align: center; vertical-align: top\">Lord of Ice</td>\n",
              "        <td style=\"padding-left: 1em; padding-right: 1em; text-align: center; vertical-align: top\">0.8749229724343938</td>\n",
              "        <td style=\"padding-left: 1em; padding-right: 1em; text-align: center; vertical-align: top\">2</td>\n",
              "        <td style=\"padding-left: 1em; padding-right: 1em; text-align: center; vertical-align: top\">0804119732</td>\n",
              "        <td style=\"padding-left: 1em; padding-right: 1em; text-align: center; vertical-align: top\">Gaelen Foley</td>\n",
              "        <td style=\"padding-left: 1em; padding-right: 1em; text-align: center; vertical-align: top\">2002</td>\n",
              "    </tr>\n",
              "    <tr>\n",
              "        <td style=\"padding-left: 1em; padding-right: 1em; text-align: center; vertical-align: top\">Searchterm 001</td>\n",
              "        <td style=\"padding-left: 1em; padding-right: 1em; text-align: center; vertical-align: top\">Inner Peace: How to Be<br>Calmly Active and ...</td>\n",
              "        <td style=\"padding-left: 1em; padding-right: 1em; text-align: center; vertical-align: top\">0.8828790667171713</td>\n",
              "        <td style=\"padding-left: 1em; padding-right: 1em; text-align: center; vertical-align: top\">3</td>\n",
              "        <td style=\"padding-left: 1em; padding-right: 1em; text-align: center; vertical-align: top\">0876120109</td>\n",
              "        <td style=\"padding-left: 1em; padding-right: 1em; text-align: center; vertical-align: top\">Yogananda</td>\n",
              "        <td style=\"padding-left: 1em; padding-right: 1em; text-align: center; vertical-align: top\">1999</td>\n",
              "    </tr>\n",
              "    <tr>\n",
              "        <td style=\"padding-left: 1em; padding-right: 1em; text-align: center; vertical-align: top\">Searchterm 001</td>\n",
              "        <td style=\"padding-left: 1em; padding-right: 1em; text-align: center; vertical-align: top\">Far from the Madding<br>Crowd (Wordsworth ...</td>\n",
              "        <td style=\"padding-left: 1em; padding-right: 1em; text-align: center; vertical-align: top\">0.886167724766866</td>\n",
              "        <td style=\"padding-left: 1em; padding-right: 1em; text-align: center; vertical-align: top\">4</td>\n",
              "        <td style=\"padding-left: 1em; padding-right: 1em; text-align: center; vertical-align: top\">1853260673</td>\n",
              "        <td style=\"padding-left: 1em; padding-right: 1em; text-align: center; vertical-align: top\">Thomas Hardy</td>\n",
              "        <td style=\"padding-left: 1em; padding-right: 1em; text-align: center; vertical-align: top\">1997</td>\n",
              "    </tr>\n",
              "    <tr>\n",
              "        <td style=\"padding-left: 1em; padding-right: 1em; text-align: center; vertical-align: top\">Searchterm 001</td>\n",
              "        <td style=\"padding-left: 1em; padding-right: 1em; text-align: center; vertical-align: top\">Don&#x27;t Sweat the Small<br>Stuff and It&#x27;s All Small ...</td>\n",
              "        <td style=\"padding-left: 1em; padding-right: 1em; text-align: center; vertical-align: top\">0.8976688090397072</td>\n",
              "        <td style=\"padding-left: 1em; padding-right: 1em; text-align: center; vertical-align: top\">5</td>\n",
              "        <td style=\"padding-left: 1em; padding-right: 1em; text-align: center; vertical-align: top\">0786881852</td>\n",
              "        <td style=\"padding-left: 1em; padding-right: 1em; text-align: center; vertical-align: top\">Richard Carlson</td>\n",
              "        <td style=\"padding-left: 1em; padding-right: 1em; text-align: center; vertical-align: top\">1997</td>\n",
              "    </tr>\n",
              "    <tr>\n",
              "        <td style=\"padding-left: 1em; padding-right: 1em; text-align: center; vertical-align: top\">Searchterm 001</td>\n",
              "        <td style=\"padding-left: 1em; padding-right: 1em; text-align: center; vertical-align: top\">Don&#x27;t Sweat the Small<br>Stuff... and It&#x27;s All ...</td>\n",
              "        <td style=\"padding-left: 1em; padding-right: 1em; text-align: center; vertical-align: top\">0.8976688090397072</td>\n",
              "        <td style=\"padding-left: 1em; padding-right: 1em; text-align: center; vertical-align: top\">6</td>\n",
              "        <td style=\"padding-left: 1em; padding-right: 1em; text-align: center; vertical-align: top\">0786864249</td>\n",
              "        <td style=\"padding-left: 1em; padding-right: 1em; text-align: center; vertical-align: top\">Richard Carlson</td>\n",
              "        <td style=\"padding-left: 1em; padding-right: 1em; text-align: center; vertical-align: top\">1997</td>\n",
              "    </tr>\n",
              "    <tr>\n",
              "        <td style=\"padding-left: 1em; padding-right: 1em; text-align: center; vertical-align: top\">Searchterm 001</td>\n",
              "        <td style=\"padding-left: 1em; padding-right: 1em; text-align: center; vertical-align: top\">Cure for a Charlatan</td>\n",
              "        <td style=\"padding-left: 1em; padding-right: 1em; text-align: center; vertical-align: top\">0.9049756761713669</td>\n",
              "        <td style=\"padding-left: 1em; padding-right: 1em; text-align: center; vertical-align: top\">7</td>\n",
              "        <td style=\"padding-left: 1em; padding-right: 1em; text-align: center; vertical-align: top\">0425167348</td>\n",
              "        <td style=\"padding-left: 1em; padding-right: 1em; text-align: center; vertical-align: top\">Caroline Roe</td>\n",
              "        <td style=\"padding-left: 1em; padding-right: 1em; text-align: center; vertical-align: top\">1999</td>\n",
              "    </tr>\n",
              "    <tr>\n",
              "        <td style=\"padding-left: 1em; padding-right: 1em; text-align: center; vertical-align: top\">Searchterm 001</td>\n",
              "        <td style=\"padding-left: 1em; padding-right: 1em; text-align: center; vertical-align: top\">Jane Eyre (Miramax Books)</td>\n",
              "        <td style=\"padding-left: 1em; padding-right: 1em; text-align: center; vertical-align: top\">0.9088444101454728</td>\n",
              "        <td style=\"padding-left: 1em; padding-right: 1em; text-align: center; vertical-align: top\">8</td>\n",
              "        <td style=\"padding-left: 1em; padding-right: 1em; text-align: center; vertical-align: top\">0786881186</td>\n",
              "        <td style=\"padding-left: 1em; padding-right: 1em; text-align: center; vertical-align: top\">Charlotte Bronte</td>\n",
              "        <td style=\"padding-left: 1em; padding-right: 1em; text-align: center; vertical-align: top\">1996</td>\n",
              "    </tr>\n",
              "    <tr>\n",
              "        <td style=\"padding-left: 1em; padding-right: 1em; text-align: center; vertical-align: top\">Searchterm 001</td>\n",
              "        <td style=\"padding-left: 1em; padding-right: 1em; text-align: center; vertical-align: top\">The Horse Whisperer</td>\n",
              "        <td style=\"padding-left: 1em; padding-right: 1em; text-align: center; vertical-align: top\">0.9104827331625444</td>\n",
              "        <td style=\"padding-left: 1em; padding-right: 1em; text-align: center; vertical-align: top\">9</td>\n",
              "        <td style=\"padding-left: 1em; padding-right: 1em; text-align: center; vertical-align: top\">0385315236</td>\n",
              "        <td style=\"padding-left: 1em; padding-right: 1em; text-align: center; vertical-align: top\">Nicholas Evans</td>\n",
              "        <td style=\"padding-left: 1em; padding-right: 1em; text-align: center; vertical-align: top\">1995</td>\n",
              "    </tr>\n",
              "    <tr>\n",
              "        <td style=\"padding-left: 1em; padding-right: 1em; text-align: center; vertical-align: top\">Searchterm 001</td>\n",
              "        <td style=\"padding-left: 1em; padding-right: 1em; text-align: center; vertical-align: top\">The Homecoming</td>\n",
              "        <td style=\"padding-left: 1em; padding-right: 1em; text-align: center; vertical-align: top\">0.9110489728037301</td>\n",
              "        <td style=\"padding-left: 1em; padding-right: 1em; text-align: center; vertical-align: top\">10</td>\n",
              "        <td style=\"padding-left: 1em; padding-right: 1em; text-align: center; vertical-align: top\">0843943521</td>\n",
              "        <td style=\"padding-left: 1em; padding-right: 1em; text-align: center; vertical-align: top\">Kimberly Rangel</td>\n",
              "        <td style=\"padding-left: 1em; padding-right: 1em; text-align: center; vertical-align: top\">1998</td>\n",
              "    </tr>\n",
              "</table>\n",
              "<table frame=\"box\" rules=\"cols\">\n",
              "    <tr>\n",
              "        <th style=\"padding-left: 1em; padding-right: 1em; text-align: center\">Publisher</th>\n",
              "        <th style=\"padding-left: 1em; padding-right: 1em; text-align: center\">Blurb</th>\n",
              "    </tr>\n",
              "    <tr>\n",
              "        <td style=\"padding-left: 1em; padding-right: 1em; text-align: center; vertical-align: top\">Bantam Pr Ltd</td>\n",
              "        <td style=\"padding-left: 1em; padding-right: 1em; text-align: center; vertical-align: top\">gener lonely introverted<br>intellectual phineas ...</td>\n",
              "    </tr>\n",
              "    <tr>\n",
              "        <td style=\"padding-left: 1em; padding-right: 1em; text-align: center; vertical-align: top\">Ivy Books</td>\n",
              "        <td style=\"padding-left: 1em; padding-right: 1em; text-align: center; vertical-align: top\">damien knight earl<br>winterley proud aloof ...</td>\n",
              "    </tr>\n",
              "    <tr>\n",
              "        <td style=\"padding-left: 1em; padding-right: 1em; text-align: center; vertical-align: top\">Self-Realization<br>Fellowship Publishers ...</td>\n",
              "        <td style=\"padding-left: 1em; padding-right: 1em; text-align: center; vertical-align: top\">peace buy learn find<br>guide demonstrates ...</td>\n",
              "    </tr>\n",
              "    <tr>\n",
              "        <td style=\"padding-left: 1em; padding-right: 1em; text-align: center; vertical-align: top\">NTC/Contemporary<br>Publishing Company ...</td>\n",
              "        <td style=\"padding-left: 1em; padding-right: 1em; text-align: center; vertical-align: top\">introduction notes norman<br>vance professor english ...</td>\n",
              "    </tr>\n",
              "    <tr>\n",
              "        <td style=\"padding-left: 1em; padding-right: 1em; text-align: center; vertical-align: top\">Hyperion</td>\n",
              "        <td style=\"padding-left: 1em; padding-right: 1em; text-align: center; vertical-align: top\">don sweat small stuff<br>small stuff book shows ...</td>\n",
              "    </tr>\n",
              "    <tr>\n",
              "        <td style=\"padding-left: 1em; padding-right: 1em; text-align: center; vertical-align: top\">Hyperion Books</td>\n",
              "        <td style=\"padding-left: 1em; padding-right: 1em; text-align: center; vertical-align: top\">don sweat small stuff<br>small stuff book shows ...</td>\n",
              "    </tr>\n",
              "    <tr>\n",
              "        <td style=\"padding-left: 1em; padding-right: 1em; text-align: center; vertical-align: top\">Berkley Publishing Group</td>\n",
              "        <td style=\"padding-left: 1em; padding-right: 1em; text-align: center; vertical-align: top\">young men die strange<br>illness signaled ...</td>\n",
              "    </tr>\n",
              "    <tr>\n",
              "        <td style=\"padding-left: 1em; padding-right: 1em; text-align: center; vertical-align: top\">Hyperion Books</td>\n",
              "        <td style=\"padding-left: 1em; padding-right: 1em; text-align: center; vertical-align: top\">molly hanner husband<br>longer loves begins ...</td>\n",
              "    </tr>\n",
              "    <tr>\n",
              "        <td style=\"padding-left: 1em; padding-right: 1em; text-align: center; vertical-align: top\">Delacorte Press</td>\n",
              "        <td style=\"padding-left: 1em; padding-right: 1em; text-align: center; vertical-align: top\">stuff legend voice calm<br>wild horses touch heal ...</td>\n",
              "    </tr>\n",
              "    <tr>\n",
              "        <td style=\"padding-left: 1em; padding-right: 1em; text-align: center; vertical-align: top\">Leisure Books</td>\n",
              "        <td style=\"padding-left: 1em; padding-right: 1em; text-align: center; vertical-align: top\">darby jayson girl<br>horrible night night ...</td>\n",
              "    </tr>\n",
              "</table>\n",
              "[11 rows x 9 columns]<br/>Note: Only the head of the SFrame is printed.<br/>You can use print_rows(num_rows=m, num_columns=n) to print more rows and columns.\n",
              "</div>"
            ],
            "text/plain": [
              "Columns:\n",
              "\tquery_label\tstr\n",
              "\tTitle\tstr\n",
              "\tdistance\tfloat\n",
              "\trank\tint\n",
              "\tISBN\tstr\n",
              "\tAuthor\tstr\n",
              "\tYear\tint\n",
              "\tPublisher\tstr\n",
              "\tBlurb\tstr\n",
              "\n",
              "Rows: 11\n",
              "\n",
              "Data:\n",
              "+----------------+-------------------------------+--------------------+------+\n",
              "|  query_label   |             Title             |      distance      | rank |\n",
              "+----------------+-------------------------------+--------------------+------+\n",
              "| Searchterm 001 |        A Separate Peace       | 0.7651588075872895 |  1   |\n",
              "| Searchterm 001 |          Lord of Ice          | 0.8749229724343938 |  2   |\n",
              "| Searchterm 001 | Inner Peace: How to Be Cal... | 0.8828790667171713 |  3   |\n",
              "| Searchterm 001 | Far from the Madding Crowd... | 0.886167724766866  |  4   |\n",
              "| Searchterm 001 | Don't Sweat the Small Stuf... | 0.8976688090397072 |  5   |\n",
              "| Searchterm 001 | Don't Sweat the Small Stuf... | 0.8976688090397072 |  6   |\n",
              "| Searchterm 001 |      Cure for a Charlatan     | 0.9049756761713669 |  7   |\n",
              "| Searchterm 001 |   Jane Eyre (Miramax Books)   | 0.9088444101454728 |  8   |\n",
              "| Searchterm 001 |      The Horse Whisperer      | 0.9104827331625444 |  9   |\n",
              "| Searchterm 001 |         The Homecoming        | 0.9110489728037301 |  10  |\n",
              "+----------------+-------------------------------+--------------------+------+\n",
              "+------------+------------------+------+-------------------------------+\n",
              "|    ISBN    |      Author      | Year |           Publisher           |\n",
              "+------------+------------------+------+-------------------------------+\n",
              "| 055323224X |   John Knowles   | 1975 |         Bantam Pr Ltd         |\n",
              "| 0804119732 |   Gaelen Foley   | 2002 |           Ivy Books           |\n",
              "| 0876120109 |    Yogananda     | 1999 | Self-Realization Fellowshi... |\n",
              "| 1853260673 |   Thomas Hardy   | 1997 | NTC/Contemporary Publishin... |\n",
              "| 0786881852 | Richard Carlson  | 1997 |            Hyperion           |\n",
              "| 0786864249 | Richard Carlson  | 1997 |         Hyperion Books        |\n",
              "| 0425167348 |   Caroline Roe   | 1999 |    Berkley Publishing Group   |\n",
              "| 0786881186 | Charlotte Bronte | 1996 |         Hyperion Books        |\n",
              "| 0385315236 |  Nicholas Evans  | 1995 |        Delacorte Press        |\n",
              "| 0843943521 | Kimberly Rangel  | 1998 |         Leisure Books         |\n",
              "+------------+------------------+------+-------------------------------+\n",
              "+-------------------------------+\n",
              "|             Blurb             |\n",
              "+-------------------------------+\n",
              "| gener lonely introverted i... |\n",
              "| damien knight earl winterl... |\n",
              "| peace buy learn find guide... |\n",
              "| introduction notes norman ... |\n",
              "| don sweat small stuff smal... |\n",
              "| don sweat small stuff smal... |\n",
              "| young men die strange illn... |\n",
              "| molly hanner husband longe... |\n",
              "| stuff legend voice calm wi... |\n",
              "| darby jayson girl horrible... |\n",
              "+-------------------------------+\n",
              "[11 rows x 9 columns]\n",
              "Note: Only the head of the SFrame is printed.\n",
              "You can use print_rows(num_rows=m, num_columns=n) to print more rows and columns."
            ]
          },
          "metadata": {
            "tags": []
          },
          "execution_count": 138
        }
      ]
    },
    {
      "cell_type": "markdown",
      "metadata": {
        "id": "lVQW80Xo505m"
      },
      "source": [
        "Let's determine whether this list makes sense.\n",
        "* With a notable exception of Roland Grossenbacher, the other 8 are all American politicians who are contemporaries of Barack Obama.\n",
        "* Phil Schiliro, Jesse Lee, Samantha Power, and Eric Stern worked for Obama.\n",
        "\n",
        "Clearly, the results are more plausible with the use of TF-IDF. Let's take a look at the word vector for Obama and Schilirio's pages. Notice that TF-IDF representation assigns a weight to each word. This weight captures relative importance of that word in the document. Let us sort the words in Obama's article by their TF-IDF weights; we do the same for Schiliro's article as well."
      ]
    },
    {
      "cell_type": "code",
      "metadata": {
        "id": "opJ_doG8505m"
      },
      "source": [
        "def top_words_tf_idf(dataset, query_column, query_term):\n",
        "    row = dataset[dataset[query_column] == query_term]\n",
        "    word_count_table = row[['tf_idf']].stack('tf_idf', new_column_name=['word','weight'])\n",
        "    return word_count_table.sort('weight', ascending=False)"
      ],
      "execution_count": 131,
      "outputs": []
    },
    {
      "cell_type": "code",
      "metadata": {
        "id": "tjwGwJS_OqSe",
        "outputId": "12fb6dae-ec9e-4de7-a5c9-d67c7377dac0",
        "colab": {
          "base_uri": "https://localhost:8080/",
          "height": 129
        }
      },
      "source": [
        "searchterm_tf_idf = top_words_tf_idf(books_2, 'Title', searchterm_title)\n",
        "searchterm_tf_idf"
      ],
      "execution_count": 139,
      "outputs": [
        {
          "output_type": "execute_result",
          "data": {
            "text/html": [
              "<div style=\"max-height:1000px;max-width:1500px;overflow:auto;\"><table frame=\"box\" rules=\"cols\">\n",
              "    <tr>\n",
              "        <th style=\"padding-left: 1em; padding-right: 1em; text-align: center\">word</th>\n",
              "        <th style=\"padding-left: 1em; padding-right: 1em; text-align: center\">weight</th>\n",
              "    </tr>\n",
              "    <tr>\n",
              "        <td style=\"padding-left: 1em; padding-right: 1em; text-align: center; vertical-align: top\">introverted</td>\n",
              "        <td style=\"padding-left: 1em; padding-right: 1em; text-align: center; vertical-align: top\">9.019704345578143</td>\n",
              "    </tr>\n",
              "    <tr>\n",
              "        <td style=\"padding-left: 1em; padding-right: 1em; text-align: center; vertical-align: top\">aloof</td>\n",
              "        <td style=\"padding-left: 1em; padding-right: 1em; text-align: center; vertical-align: top\">7.345727912006471</td>\n",
              "    </tr>\n",
              "    <tr>\n",
              "        <td style=\"padding-left: 1em; padding-right: 1em; text-align: center; vertical-align: top\">modest</td>\n",
              "        <td style=\"padding-left: 1em; padding-right: 1em; text-align: center; vertical-align: top\">6.454754988116606</td>\n",
              "    </tr>\n",
              "    <tr>\n",
              "        <td style=\"padding-left: 1em; padding-right: 1em; text-align: center; vertical-align: top\">calm</td>\n",
              "        <td style=\"padding-left: 1em; padding-right: 1em; text-align: center; vertical-align: top\">6.2062936288181065</td>\n",
              "    </tr>\n",
              "</table>\n",
              "[4 rows x 2 columns]<br/>\n",
              "</div>"
            ],
            "text/plain": [
              "Columns:\n",
              "\tword\tstr\n",
              "\tweight\tfloat\n",
              "\n",
              "Rows: 4\n",
              "\n",
              "Data:\n",
              "+-------------+--------------------+\n",
              "|     word    |       weight       |\n",
              "+-------------+--------------------+\n",
              "| introverted | 9.019704345578143  |\n",
              "|    aloof    | 7.345727912006471  |\n",
              "|    modest   | 6.454754988116606  |\n",
              "|     calm    | 6.2062936288181065 |\n",
              "+-------------+--------------------+\n",
              "[4 rows x 2 columns]"
            ]
          },
          "metadata": {
            "tags": []
          },
          "execution_count": 139
        }
      ]
    },
    {
      "cell_type": "markdown",
      "metadata": {
        "id": "fC_2wLVf505n"
      },
      "source": [
        "Using the **join** operation we learned earlier, try your hands at computing the common words shared by Obama's and Schiliro's articles. Sort the common words by their TF-IDF weights in Obama's document."
      ]
    },
    {
      "cell_type": "code",
      "metadata": {
        "colab": {
          "base_uri": "https://localhost:8080/",
          "height": 371
        },
        "id": "T1qhh3kb505n",
        "outputId": "3754d91e-4de0-4118-e830-f6c56594057e"
      },
      "source": [
        "searchterm_tf_idf = top_words_tf_idf(books_2, 'Title', searchterm_title)\n",
        "searchterm_tf_idf\n",
        "\n",
        "resultterm_tf_idf = top_words_tf_idf(books_2, 'Title', result_merged['Title'][0])\n",
        "resultterm_tf_idf\n",
        "\n",
        "searchterm_tf_idf = searchterm_tf_idf.join(resultterm_tf_idf, how=\"left\", on='word')\n",
        "author_title = result_merged['Author'][0] + \": \" + result_merged['Title'][0]\n",
        "searchterm_tf_idf = searchterm_tf_idf.rename({'weight':searchterm_blurb, 'weight.1':author_title})\n",
        "\n",
        "for i in range (1, len(result_merged)):\n",
        "  resultterm_tf_idf = top_words_tf_idf(books_2, 'Title', result_merged['Title'][i])\n",
        "  resultterm_tf_idf\n",
        "  searchterm_tf_idf = searchterm_tf_idf.join(resultterm_tf_idf, how=\"left\", on='word')\n",
        "  author_title = result_merged['Author'][i] + \": \" + result_merged['Title'][i]\n",
        "  searchterm_tf_idf = searchterm_tf_idf.rename({'weight':author_title})\n",
        "searchterm_tf_idf"
      ],
      "execution_count": 142,
      "outputs": [
        {
          "output_type": "execute_result",
          "data": {
            "text/html": [
              "<div style=\"max-height:1000px;max-width:1500px;overflow:auto;\"><table frame=\"box\" rules=\"cols\">\n",
              "    <tr>\n",
              "        <th style=\"padding-left: 1em; padding-right: 1em; text-align: center\">word</th>\n",
              "        <th style=\"padding-left: 1em; padding-right: 1em; text-align: center\">Introverted, Calm, Aloof,<br>Modest ...</th>\n",
              "        <th style=\"padding-left: 1em; padding-right: 1em; text-align: center\">John Knowles: A Separate<br>Peace ...</th>\n",
              "        <th style=\"padding-left: 1em; padding-right: 1em; text-align: center\">Gaelen Foley: Lord of Ice</th>\n",
              "        <th style=\"padding-left: 1em; padding-right: 1em; text-align: center\">Yogananda: Inner Peace:<br>How to Be Calmly Active ...</th>\n",
              "    </tr>\n",
              "    <tr>\n",
              "        <td style=\"padding-left: 1em; padding-right: 1em; text-align: center; vertical-align: top\">aloof</td>\n",
              "        <td style=\"padding-left: 1em; padding-right: 1em; text-align: center; vertical-align: top\">7.345727912006471</td>\n",
              "        <td style=\"padding-left: 1em; padding-right: 1em; text-align: center; vertical-align: top\">None</td>\n",
              "        <td style=\"padding-left: 1em; padding-right: 1em; text-align: center; vertical-align: top\">14.691455824012943</td>\n",
              "        <td style=\"padding-left: 1em; padding-right: 1em; text-align: center; vertical-align: top\">None</td>\n",
              "    </tr>\n",
              "    <tr>\n",
              "        <td style=\"padding-left: 1em; padding-right: 1em; text-align: center; vertical-align: top\">modest</td>\n",
              "        <td style=\"padding-left: 1em; padding-right: 1em; text-align: center; vertical-align: top\">6.454754988116606</td>\n",
              "        <td style=\"padding-left: 1em; padding-right: 1em; text-align: center; vertical-align: top\">None</td>\n",
              "        <td style=\"padding-left: 1em; padding-right: 1em; text-align: center; vertical-align: top\">None</td>\n",
              "        <td style=\"padding-left: 1em; padding-right: 1em; text-align: center; vertical-align: top\">None</td>\n",
              "    </tr>\n",
              "    <tr>\n",
              "        <td style=\"padding-left: 1em; padding-right: 1em; text-align: center; vertical-align: top\">introverted</td>\n",
              "        <td style=\"padding-left: 1em; padding-right: 1em; text-align: center; vertical-align: top\">9.019704345578143</td>\n",
              "        <td style=\"padding-left: 1em; padding-right: 1em; text-align: center; vertical-align: top\">9.019704345578143</td>\n",
              "        <td style=\"padding-left: 1em; padding-right: 1em; text-align: center; vertical-align: top\">None</td>\n",
              "        <td style=\"padding-left: 1em; padding-right: 1em; text-align: center; vertical-align: top\">None</td>\n",
              "    </tr>\n",
              "    <tr>\n",
              "        <td style=\"padding-left: 1em; padding-right: 1em; text-align: center; vertical-align: top\">calm</td>\n",
              "        <td style=\"padding-left: 1em; padding-right: 1em; text-align: center; vertical-align: top\">6.2062936288181065</td>\n",
              "        <td style=\"padding-left: 1em; padding-right: 1em; text-align: center; vertical-align: top\">None</td>\n",
              "        <td style=\"padding-left: 1em; padding-right: 1em; text-align: center; vertical-align: top\">None</td>\n",
              "        <td style=\"padding-left: 1em; padding-right: 1em; text-align: center; vertical-align: top\">6.2062936288181065</td>\n",
              "    </tr>\n",
              "</table>\n",
              "<table frame=\"box\" rules=\"cols\">\n",
              "    <tr>\n",
              "        <th style=\"padding-left: 1em; padding-right: 1em; text-align: center\">Thomas Hardy: Far from<br>the Madding Crowd ...</th>\n",
              "        <th style=\"padding-left: 1em; padding-right: 1em; text-align: center\">Richard Carlson: Don&#x27;t<br>Sweat the Small Stuff ...</th>\n",
              "        <th style=\"padding-left: 1em; padding-right: 1em; text-align: center\">Richard Carlson: Don&#x27;t<br>Sweat the Small Stuff... ...</th>\n",
              "        <th style=\"padding-left: 1em; padding-right: 1em; text-align: center\">Caroline Roe: Cure for a<br>Charlatan ...</th>\n",
              "    </tr>\n",
              "    <tr>\n",
              "        <td style=\"padding-left: 1em; padding-right: 1em; text-align: center; vertical-align: top\">None</td>\n",
              "        <td style=\"padding-left: 1em; padding-right: 1em; text-align: center; vertical-align: top\">None</td>\n",
              "        <td style=\"padding-left: 1em; padding-right: 1em; text-align: center; vertical-align: top\">None</td>\n",
              "        <td style=\"padding-left: 1em; padding-right: 1em; text-align: center; vertical-align: top\">None</td>\n",
              "    </tr>\n",
              "    <tr>\n",
              "        <td style=\"padding-left: 1em; padding-right: 1em; text-align: center; vertical-align: top\">None</td>\n",
              "        <td style=\"padding-left: 1em; padding-right: 1em; text-align: center; vertical-align: top\">None</td>\n",
              "        <td style=\"padding-left: 1em; padding-right: 1em; text-align: center; vertical-align: top\">None</td>\n",
              "        <td style=\"padding-left: 1em; padding-right: 1em; text-align: center; vertical-align: top\">None</td>\n",
              "    </tr>\n",
              "    <tr>\n",
              "        <td style=\"padding-left: 1em; padding-right: 1em; text-align: center; vertical-align: top\">9.019704345578143</td>\n",
              "        <td style=\"padding-left: 1em; padding-right: 1em; text-align: center; vertical-align: top\">None</td>\n",
              "        <td style=\"padding-left: 1em; padding-right: 1em; text-align: center; vertical-align: top\">None</td>\n",
              "        <td style=\"padding-left: 1em; padding-right: 1em; text-align: center; vertical-align: top\">None</td>\n",
              "    </tr>\n",
              "    <tr>\n",
              "        <td style=\"padding-left: 1em; padding-right: 1em; text-align: center; vertical-align: top\">None</td>\n",
              "        <td style=\"padding-left: 1em; padding-right: 1em; text-align: center; vertical-align: top\">12.412587257636213</td>\n",
              "        <td style=\"padding-left: 1em; padding-right: 1em; text-align: center; vertical-align: top\">12.412587257636213</td>\n",
              "        <td style=\"padding-left: 1em; padding-right: 1em; text-align: center; vertical-align: top\">6.2062936288181065</td>\n",
              "    </tr>\n",
              "</table>\n",
              "<table frame=\"box\" rules=\"cols\">\n",
              "    <tr>\n",
              "        <th style=\"padding-left: 1em; padding-right: 1em; text-align: center\">Charlotte Bronte: Jane<br>Eyre (Miramax Books) ...</th>\n",
              "        <th style=\"padding-left: 1em; padding-right: 1em; text-align: center\">Nicholas Evans: The Horse<br>Whisperer ...</th>\n",
              "        <th style=\"padding-left: 1em; padding-right: 1em; text-align: center\">Kimberly Rangel: The<br>Homecoming ...</th>\n",
              "        <th style=\"padding-left: 1em; padding-right: 1em; text-align: center\">Harold Pinter: The<br>Homecoming ...</th>\n",
              "    </tr>\n",
              "    <tr>\n",
              "        <td style=\"padding-left: 1em; padding-right: 1em; text-align: center; vertical-align: top\">None</td>\n",
              "        <td style=\"padding-left: 1em; padding-right: 1em; text-align: center; vertical-align: top\">None</td>\n",
              "        <td style=\"padding-left: 1em; padding-right: 1em; text-align: center; vertical-align: top\">7.345727912006471</td>\n",
              "        <td style=\"padding-left: 1em; padding-right: 1em; text-align: center; vertical-align: top\">7.345727912006471</td>\n",
              "    </tr>\n",
              "    <tr>\n",
              "        <td style=\"padding-left: 1em; padding-right: 1em; text-align: center; vertical-align: top\">None</td>\n",
              "        <td style=\"padding-left: 1em; padding-right: 1em; text-align: center; vertical-align: top\">None</td>\n",
              "        <td style=\"padding-left: 1em; padding-right: 1em; text-align: center; vertical-align: top\">None</td>\n",
              "        <td style=\"padding-left: 1em; padding-right: 1em; text-align: center; vertical-align: top\">None</td>\n",
              "    </tr>\n",
              "    <tr>\n",
              "        <td style=\"padding-left: 1em; padding-right: 1em; text-align: center; vertical-align: top\">None</td>\n",
              "        <td style=\"padding-left: 1em; padding-right: 1em; text-align: center; vertical-align: top\">None</td>\n",
              "        <td style=\"padding-left: 1em; padding-right: 1em; text-align: center; vertical-align: top\">None</td>\n",
              "        <td style=\"padding-left: 1em; padding-right: 1em; text-align: center; vertical-align: top\">None</td>\n",
              "    </tr>\n",
              "    <tr>\n",
              "        <td style=\"padding-left: 1em; padding-right: 1em; text-align: center; vertical-align: top\">6.2062936288181065</td>\n",
              "        <td style=\"padding-left: 1em; padding-right: 1em; text-align: center; vertical-align: top\">6.2062936288181065</td>\n",
              "        <td style=\"padding-left: 1em; padding-right: 1em; text-align: center; vertical-align: top\">None</td>\n",
              "        <td style=\"padding-left: 1em; padding-right: 1em; text-align: center; vertical-align: top\">None</td>\n",
              "    </tr>\n",
              "</table>\n",
              "[4 rows x 13 columns]<br/>\n",
              "</div>"
            ],
            "text/plain": [
              "Columns:\n",
              "\tword\tstr\n",
              "\tIntroverted, Calm, Aloof, Modest\tfloat\n",
              "\tJohn Knowles: A Separate Peace\tfloat\n",
              "\tGaelen Foley: Lord of Ice\tfloat\n",
              "\tYogananda: Inner Peace: How to Be Calmly Active and Actively Calm\tfloat\n",
              "\tThomas Hardy: Far from the Madding Crowd (Wordsworth Classics)\tfloat\n",
              "\tRichard Carlson: Don't Sweat the Small Stuff and It's All Small Stuff : Simple Ways to Keep the Little Things from Taking Over Your Life (Don't Sweat the Small Stuff Series)\tfloat\n",
              "\tRichard Carlson: Don't Sweat the Small Stuff... and It's All Small Stuff: Simple Ways to Keep the Little Things from Taking Over Your Life\tfloat\n",
              "\tCaroline Roe: Cure for a Charlatan\tfloat\n",
              "\tCharlotte Bronte: Jane Eyre (Miramax Books)\tfloat\n",
              "\tNicholas Evans: The Horse Whisperer\tfloat\n",
              "\tKimberly Rangel: The Homecoming\tfloat\n",
              "\tHarold Pinter: The Homecoming\tfloat\n",
              "\n",
              "Rows: 4\n",
              "\n",
              "Data:\n",
              "+-------------+-------------------------------+--------------------------------+\n",
              "|     word    | Introverted, Calm, Aloof, ... | John Knowles: A Separate Peace |\n",
              "+-------------+-------------------------------+--------------------------------+\n",
              "|    aloof    |       7.345727912006471       |              None              |\n",
              "|    modest   |       6.454754988116606       |              None              |\n",
              "| introverted |       9.019704345578143       |       9.019704345578143        |\n",
              "|     calm    |       6.2062936288181065      |              None              |\n",
              "+-------------+-------------------------------+--------------------------------+\n",
              "+---------------------------+-------------------------------+-------------------------------+\n",
              "| Gaelen Foley: Lord of Ice | Yogananda: Inner Peace: Ho... | Thomas Hardy: Far from the... |\n",
              "+---------------------------+-------------------------------+-------------------------------+\n",
              "|     14.691455824012943    |              None             |              None             |\n",
              "|            None           |              None             |              None             |\n",
              "|            None           |              None             |       9.019704345578143       |\n",
              "|            None           |       6.2062936288181065      |              None             |\n",
              "+---------------------------+-------------------------------+-------------------------------+\n",
              "+-------------------------------+-------------------------------+\n",
              "| Richard Carlson: Don't Swe... | Richard Carlson: Don't Swe... |\n",
              "+-------------------------------+-------------------------------+\n",
              "|              None             |              None             |\n",
              "|              None             |              None             |\n",
              "|              None             |              None             |\n",
              "|       12.412587257636213      |       12.412587257636213      |\n",
              "+-------------------------------+-------------------------------+\n",
              "+-------------------------------+-------------------------------+\n",
              "| Caroline Roe: Cure for a C... | Charlotte Bronte: Jane Eyr... |\n",
              "+-------------------------------+-------------------------------+\n",
              "|              None             |              None             |\n",
              "|              None             |              None             |\n",
              "|              None             |              None             |\n",
              "|       6.2062936288181065      |       6.2062936288181065      |\n",
              "+-------------------------------+-------------------------------+\n",
              "+-------------------------------+-------------------------------+\n",
              "| Nicholas Evans: The Horse ... | Kimberly Rangel: The Homec... |\n",
              "+-------------------------------+-------------------------------+\n",
              "|              None             |       7.345727912006471       |\n",
              "|              None             |              None             |\n",
              "|              None             |              None             |\n",
              "|       6.2062936288181065      |              None             |\n",
              "+-------------------------------+-------------------------------+\n",
              "+-------------------------------+\n",
              "| Harold Pinter: The Homecoming |\n",
              "+-------------------------------+\n",
              "|       7.345727912006471       |\n",
              "|              None             |\n",
              "|              None             |\n",
              "|              None             |\n",
              "+-------------------------------+\n",
              "[4 rows x 13 columns]"
            ]
          },
          "metadata": {
            "tags": []
          },
          "execution_count": 142
        }
      ]
    },
    {
      "cell_type": "markdown",
      "metadata": {
        "id": "LLh8PFXj505n"
      },
      "source": [
        "The first 10 words should say: Obama, law, democratic, Senate, presidential, president, policy, states, office, 2011."
      ]
    },
    {
      "cell_type": "markdown",
      "metadata": {
        "id": "9XQr1hye505n"
      },
      "source": [
        "**Quiz Question**. Among the words that appear in both Barack Obama and Phil Schiliro, take the 5 that have largest weights in Obama. How many of the articles in the Wikipedia dataset contain all of those 5 words?"
      ]
    },
    {
      "cell_type": "code",
      "metadata": {
        "id": "RXUa8G-l505n"
      },
      "source": [
        "common_words = ...  # YOUR CODE HERE\n",
        "\n",
        "def has_top_words(word_count_vector):\n",
        "    # extract the keys of word_count_vector and convert it to a set\n",
        "    unique_words = ...   # YOUR CODE HERE\n",
        "    # return True if common_words is a subset of unique_words\n",
        "    # return False otherwise\n",
        "    return ...  # YOUR CODE HERE\n",
        "\n",
        "wiki['has_top_words'] = wiki['word_count'].apply(has_top_words)\n",
        "\n",
        "# use has_top_words column to answer the quiz question\n",
        "...  # YOUR CODE HERE"
      ],
      "execution_count": null,
      "outputs": []
    },
    {
      "cell_type": "markdown",
      "metadata": {
        "id": "-Rqnx62r505n"
      },
      "source": [
        "Notice the huge difference in this calculation using TF-IDF scores instead  of raw word counts. We've eliminated noise arising from extremely common words."
      ]
    },
    {
      "cell_type": "markdown",
      "metadata": {
        "id": "HyQvXKZ1505n"
      },
      "source": [
        "## Choosing metrics"
      ]
    },
    {
      "cell_type": "markdown",
      "metadata": {
        "id": "nLNDu6Z2505o"
      },
      "source": [
        "You may wonder why Joe Biden, Obama's running mate in two presidential elections, is missing from the query results of `model_tf_idf`. Let's find out why. First, compute the distance between TF-IDF features of Obama and Biden."
      ]
    },
    {
      "cell_type": "markdown",
      "metadata": {
        "id": "-x3FA8KX505o"
      },
      "source": [
        "**Quiz Question**. Compute the Euclidean distance between TF-IDF features of Obama and Biden. Recall: When using Boolean filter in SFrame/SArray, take the index 0 to access the first match. (Round your answer to three decimal places.)"
      ]
    },
    {
      "cell_type": "code",
      "metadata": {
        "id": "JaG7yHo9505o"
      },
      "source": [
        ""
      ],
      "execution_count": null,
      "outputs": []
    },
    {
      "cell_type": "markdown",
      "metadata": {
        "id": "ZvbwUyqr505o"
      },
      "source": [
        "The distance is larger than the distances we found for the 10 nearest neighbors, which we repeat here for readability:"
      ]
    },
    {
      "cell_type": "code",
      "metadata": {
        "id": "IbQzvD0-505o"
      },
      "source": [
        "model_tf_idf.query(wiki[wiki['name'] == 'Barack Obama'], label='name', k=10)"
      ],
      "execution_count": null,
      "outputs": []
    },
    {
      "cell_type": "markdown",
      "metadata": {
        "id": "fIde0RFf505o"
      },
      "source": [
        "But one may wonder, is Biden's article that different from Obama's, more so than, say, Schiliro's? It turns out that, when we compute nearest neighbors using the Euclidean distances, we unwittingly favor short articles over long ones. Let us compute the length of each Wikipedia document, and examine the document lengths for the 100 nearest neighbors to Obama's page."
      ]
    },
    {
      "cell_type": "code",
      "metadata": {
        "id": "MZbs-y13505o"
      },
      "source": [
        "def compute_length(row):\n",
        "    return len(row['text'].split(' '))\n",
        "\n",
        "wiki['length'] = wiki.apply(compute_length) "
      ],
      "execution_count": null,
      "outputs": []
    },
    {
      "cell_type": "code",
      "metadata": {
        "id": "lc_DrpuQ505o"
      },
      "source": [
        "nearest_neighbors_euclidean = model_tf_idf.query(wiki[wiki['name'] == 'Barack Obama'], label='name', k=100)\n",
        "nearest_neighbors_euclidean = nearest_neighbors_euclidean.join(wiki[['name', 'length']], on={'reference_label':'name'})"
      ],
      "execution_count": null,
      "outputs": []
    },
    {
      "cell_type": "code",
      "metadata": {
        "id": "ZXqoia4x505o"
      },
      "source": [
        "nearest_neighbors_euclidean.sort('rank')"
      ],
      "execution_count": null,
      "outputs": []
    },
    {
      "cell_type": "markdown",
      "metadata": {
        "id": "bs4UlPwe505o"
      },
      "source": [
        "To see how these document lengths compare to the lengths of other documents in the corpus, let's make a histogram of the document lengths of Obama's 100 nearest neighbors and compare to a histogram of document lengths for all documents."
      ]
    },
    {
      "cell_type": "code",
      "metadata": {
        "id": "qdkOqNN5505p"
      },
      "source": [
        "plt.figure(figsize=(10.5,4.5))\n",
        "plt.hist(wiki['length'], 50, color='k', edgecolor='None', histtype='stepfilled', normed=True,\n",
        "         label='Entire Wikipedia', zorder=3, alpha=0.8)\n",
        "plt.hist(nearest_neighbors_euclidean['length'], 50, color='r', edgecolor='None', histtype='stepfilled', normed=True,\n",
        "         label='100 NNs of Obama (Euclidean)', zorder=10, alpha=0.8)\n",
        "plt.axvline(x=wiki['length'][wiki['name'] == 'Barack Obama'][0], color='k', linestyle='--', linewidth=4,\n",
        "           label='Length of Barack Obama', zorder=2)\n",
        "plt.axvline(x=wiki['length'][wiki['name'] == 'Joe Biden'][0], color='g', linestyle='--', linewidth=4,\n",
        "           label='Length of Joe Biden', zorder=1)\n",
        "plt.axis([0, 1000, 0, 0.04])\n",
        "\n",
        "plt.legend(loc='best', prop={'size':15})\n",
        "plt.title('Distribution of document length')\n",
        "plt.xlabel('# of words')\n",
        "plt.ylabel('Percentage')\n",
        "plt.rcParams.update({'font.size':16})\n",
        "plt.tight_layout()"
      ],
      "execution_count": null,
      "outputs": []
    },
    {
      "cell_type": "markdown",
      "metadata": {
        "id": "60QNuSPX505p"
      },
      "source": [
        "Relative to the rest of Wikipedia, nearest neighbors of Obama are overwhemingly short, most of them being shorter than 300 words. The bias towards short articles is not appropriate in this application as there is really no reason to  favor short articles over long articles (they are all Wikipedia articles, after all). Many of the Wikipedia articles are 300 words or more, and both Obama and Biden are over 300 words long.\n",
        "\n",
        "**Note**: For the interest of computation time, the dataset given here contains _excerpts_ of the articles rather than full text. For instance, the actual Wikipedia article about Obama is around 25000 words. Do not be surprised by the low numbers shown in the histogram."
      ]
    },
    {
      "cell_type": "markdown",
      "metadata": {
        "id": "DurLfjTS505p"
      },
      "source": [
        "**Note:** Both word-count features and TF-IDF are proportional to word frequencies. While TF-IDF penalizes very common words, longer articles tend to have longer TF-IDF vectors simply because they have more words in them."
      ]
    },
    {
      "cell_type": "markdown",
      "metadata": {
        "collapsed": true,
        "id": "GZNdEhVr505p"
      },
      "source": [
        "To remove this bias, we turn to **cosine distances**:\n",
        "$$\n",
        "d(\\mathbf{x},\\mathbf{y}) = 1 - \\frac{\\mathbf{x}^T\\mathbf{y}}{\\|\\mathbf{x}\\| \\|\\mathbf{y}\\|}\n",
        "$$\n",
        "Cosine distances let us compare word distributions of two articles of varying lengths.\n",
        "\n",
        "Let us train a new nearest neighbor model, this time with cosine distances.  We then repeat the search for Obama's 100 nearest neighbors."
      ]
    },
    {
      "cell_type": "code",
      "metadata": {
        "id": "KI3w30kQ505p"
      },
      "source": [
        "model2_tf_idf = turicreate.nearest_neighbors.create(wiki, label='name', features=['tf_idf'],\n",
        "                                                    method='brute_force', distance='cosine')"
      ],
      "execution_count": null,
      "outputs": []
    },
    {
      "cell_type": "code",
      "metadata": {
        "id": "AHs7rVEA505p"
      },
      "source": [
        "nearest_neighbors_cosine = model2_tf_idf.query(wiki[wiki['name'] == 'Barack Obama'], label='name', k=100)\n",
        "nearest_neighbors_cosine = nearest_neighbors_cosine.join(wiki[['name', 'length']], on={'reference_label':'name'})"
      ],
      "execution_count": null,
      "outputs": []
    },
    {
      "cell_type": "code",
      "metadata": {
        "id": "-4vRBXhQ505p"
      },
      "source": [
        "nearest_neighbors_cosine.sort('rank')"
      ],
      "execution_count": null,
      "outputs": []
    },
    {
      "cell_type": "markdown",
      "metadata": {
        "id": "rTsCxDTm505p"
      },
      "source": [
        "From a glance at the above table, things look better.  For example, we now see Joe Biden as Barack Obama's nearest neighbor!  We also see Hillary Clinton on the list.  This list looks even more plausible as nearest neighbors of Barack Obama.\n",
        "\n",
        "Let's make a plot to better visualize the effect of having used cosine distance in place of Euclidean on our TF-IDF vectors."
      ]
    },
    {
      "cell_type": "code",
      "metadata": {
        "id": "p2w-A87M505p"
      },
      "source": [
        "plt.figure(figsize=(10.5,4.5))\n",
        "plt.figure(figsize=(10.5,4.5))\n",
        "plt.hist(wiki['length'], 50, color='k', edgecolor='None', histtype='stepfilled', normed=True,\n",
        "         label='Entire Wikipedia', zorder=3, alpha=0.8)\n",
        "plt.hist(nearest_neighbors_euclidean['length'], 50, color='r', edgecolor='None', histtype='stepfilled', normed=True,\n",
        "         label='100 NNs of Obama (Euclidean)', zorder=10, alpha=0.8)\n",
        "plt.hist(nearest_neighbors_cosine['length'], 50, color='b', edgecolor='None', histtype='stepfilled', normed=True,\n",
        "         label='100 NNs of Obama (cosine)', zorder=11, alpha=0.8)\n",
        "plt.axvline(x=wiki['length'][wiki['name'] == 'Barack Obama'][0], color='k', linestyle='--', linewidth=4,\n",
        "           label='Length of Barack Obama', zorder=2)\n",
        "plt.axvline(x=wiki['length'][wiki['name'] == 'Joe Biden'][0], color='g', linestyle='--', linewidth=4,\n",
        "           label='Length of Joe Biden', zorder=1)\n",
        "plt.axis([0, 1000, 0, 0.04])\n",
        "plt.legend(loc='best', prop={'size':15})\n",
        "plt.title('Distribution of document length')\n",
        "plt.xlabel('# of words')\n",
        "plt.ylabel('Percentage')\n",
        "plt.rcParams.update({'font.size': 16})\n",
        "plt.tight_layout()"
      ],
      "execution_count": null,
      "outputs": []
    },
    {
      "cell_type": "markdown",
      "metadata": {
        "id": "S-WjeSDs505q"
      },
      "source": [
        "Indeed, the 100 nearest neighbors using cosine distance provide a sampling across the range of document lengths, rather than just short articles like Euclidean distance provided."
      ]
    },
    {
      "cell_type": "markdown",
      "metadata": {
        "id": "OMF9EEBC505q"
      },
      "source": [
        "**Moral of the story**: In deciding the features and distance measures, check if they produce results that make sense for your particular application."
      ]
    },
    {
      "cell_type": "markdown",
      "metadata": {
        "id": "J-JvgGAa505q"
      },
      "source": [
        "# Problem with cosine distances: tweets vs. long articles"
      ]
    },
    {
      "cell_type": "markdown",
      "metadata": {
        "id": "RXiD_2n5505q"
      },
      "source": [
        "Happily ever after? Not so fast. Cosine distances ignore all document lengths, which may be great in certain situations but not in others. For instance, consider the following (admittedly contrived) example."
      ]
    },
    {
      "cell_type": "markdown",
      "metadata": {
        "id": "k7D4huE7505q"
      },
      "source": [
        "```\n",
        "+--------------------------------------------------------+\n",
        "|                                             +--------+ |\n",
        "|  One that shall not be named                | Follow | |\n",
        "|  @username                                  +--------+ |\n",
        "|                                                        |\n",
        "|  Democratic governments control law in response to     |\n",
        "|  popular act.                                          |\n",
        "|                                                        |\n",
        "|  8:05 AM - 16 May 2016                                 |\n",
        "|                                                        |\n",
        "|  Reply   Retweet (1,332)   Like (300)                  |\n",
        "|                                                        |\n",
        "+--------------------------------------------------------+\n",
        "```"
      ]
    },
    {
      "cell_type": "markdown",
      "metadata": {
        "id": "eWHcXdiY505q"
      },
      "source": [
        "How similar is this tweet to Barack Obama's Wikipedia article? Let's transform the tweet into TF-IDF features, using an encoder fit to the Wikipedia dataset.  (That is, let's treat this tweet as an article in our Wikipedia dataset and see what happens.)"
      ]
    },
    {
      "cell_type": "code",
      "metadata": {
        "id": "teluOTtw505q"
      },
      "source": [
        "sf = turicreate.SFrame({'text': ['democratic governments control law in response to popular act']})\n",
        "sf['word_count'] = turicreate.text_analytics.count_words(sf['text'])\n",
        "\n",
        "encoder = turicreate.toolkits._feature_engineering.TFIDF(features=['word_count'], output_column_prefix='tf_idf')\n",
        "encoder.fit(wiki)\n",
        "sf = encoder.transform(sf)\n",
        "sf"
      ],
      "execution_count": null,
      "outputs": []
    },
    {
      "cell_type": "markdown",
      "metadata": {
        "id": "ncJEEFlm505q"
      },
      "source": [
        "Let's look at the TF-IDF vectors for this tweet and for Barack Obama's Wikipedia entry, just to visually see their differences."
      ]
    },
    {
      "cell_type": "code",
      "metadata": {
        "id": "PBbf33uA505r"
      },
      "source": [
        "tweet_tf_idf = sf[0]['tf_idf.word_count']\n",
        "tweet_tf_idf"
      ],
      "execution_count": null,
      "outputs": []
    },
    {
      "cell_type": "code",
      "metadata": {
        "id": "UHIMn-Hh505r"
      },
      "source": [
        "obama = wiki[wiki['name'] == 'Barack Obama']\n",
        "obama"
      ],
      "execution_count": null,
      "outputs": []
    },
    {
      "cell_type": "markdown",
      "metadata": {
        "id": "yLZ9Ln0Y505r"
      },
      "source": [
        "Now, compute the cosine distance between the Barack Obama article and this tweet:"
      ]
    },
    {
      "cell_type": "code",
      "metadata": {
        "id": "PSekrC2J505r"
      },
      "source": [
        "obama_tf_idf = obama[0]['tf_idf']\n",
        "turicreate.toolkits.distances.cosine(obama_tf_idf, tweet_tf_idf)"
      ],
      "execution_count": null,
      "outputs": []
    },
    {
      "cell_type": "markdown",
      "metadata": {
        "id": "tOvIU2w4505r"
      },
      "source": [
        "Let's compare this distance to the distance between the Barack Obama article and all of its Wikipedia 10 nearest neighbors:"
      ]
    },
    {
      "cell_type": "code",
      "metadata": {
        "id": "rsqH5YCc505r"
      },
      "source": [
        "model2_tf_idf.query(obama, label='name', k=10)"
      ],
      "execution_count": null,
      "outputs": []
    },
    {
      "cell_type": "markdown",
      "metadata": {
        "id": "IJ3aJvRH505r"
      },
      "source": [
        "With cosine distances, the tweet is \"nearer\" to Barack Obama than everyone else, except for Joe Biden!  This probably is not something we want. If someone is reading the Barack Obama Wikipedia page, would you want to recommend they read this tweet? Ignoring article lengths completely resulted in nonsensical results. In practice, it is common to enforce maximum or minimum document lengths. After all, when someone is reading a long article from _The Atlantic_, you wouldn't recommend him/her a tweet."
      ]
    }
  ]
}